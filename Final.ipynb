{
 "cells": [
  {
   "cell_type": "markdown",
   "metadata": {},
   "source": [
    "<h1>Greeting</h1>"
   ]
  },
  {
   "cell_type": "code",
   "execution_count": null,
   "metadata": {},
   "outputs": [],
   "source": []
  },
  {
   "cell_type": "markdown",
   "metadata": {},
   "source": [
    "This is the main IPython notebbok which contains the major part of our approach."
   ]
  },
  {
   "cell_type": "code",
   "execution_count": 2,
   "metadata": {},
   "outputs": [],
   "source": [
    "import pandas as pd\n",
    "import numpy as np"
   ]
  },
  {
   "cell_type": "markdown",
   "metadata": {},
   "source": [
    "<h2>2010</h2>"
   ]
  },
  {
   "cell_type": "code",
   "execution_count": 652,
   "metadata": {},
   "outputs": [],
   "source": [
    "two_010=pd.read_csv(\"C:/Users/samde/Desktop/Data Science/Datasets/IPL/IPL(2010-19).csv\")"
   ]
  },
  {
   "cell_type": "code",
   "execution_count": 653,
   "metadata": {},
   "outputs": [],
   "source": [
    "bat10=two_010[two_010['Type']=='BAT']\n",
    "ball10=two_010[two_010['Type']=='Bowl']\n",
    "AR10=two_010[two_010['Type']=='AR']\n",
    "wk10=two_010[two_010['Type']=='WK']"
   ]
  },
  {
   "cell_type": "code",
   "execution_count": 654,
   "metadata": {},
   "outputs": [
    {
     "data": {
      "text/html": [
       "<div>\n",
       "<style scoped>\n",
       "    .dataframe tbody tr th:only-of-type {\n",
       "        vertical-align: middle;\n",
       "    }\n",
       "\n",
       "    .dataframe tbody tr th {\n",
       "        vertical-align: top;\n",
       "    }\n",
       "\n",
       "    .dataframe thead th {\n",
       "        text-align: right;\n",
       "    }\n",
       "</style>\n",
       "<table border=\"1\" class=\"dataframe\">\n",
       "  <thead>\n",
       "    <tr style=\"text-align: right;\">\n",
       "      <th></th>\n",
       "      <th>Player's Name</th>\n",
       "      <th>Sl no</th>\n",
       "      <th>Team</th>\n",
       "      <th>From</th>\n",
       "      <th>Runs</th>\n",
       "      <th>Balls</th>\n",
       "      <th>Four</th>\n",
       "      <th>Six</th>\n",
       "      <th>Highest Run Scored</th>\n",
       "      <th>Strike Rate</th>\n",
       "      <th>Balls Bowled</th>\n",
       "      <th>Runs Conceded</th>\n",
       "      <th>Economy</th>\n",
       "      <th>Wickets</th>\n",
       "      <th>ct_st</th>\n",
       "      <th>Run Outs</th>\n",
       "      <th>Matches Played</th>\n",
       "      <th>Age</th>\n",
       "      <th>Type</th>\n",
       "    </tr>\n",
       "  </thead>\n",
       "  <tbody>\n",
       "    <tr>\n",
       "      <th>1</th>\n",
       "      <td>Suresh Raina</td>\n",
       "      <td>175</td>\n",
       "      <td>CSK</td>\n",
       "      <td>IND</td>\n",
       "      <td>524</td>\n",
       "      <td>365</td>\n",
       "      <td>46</td>\n",
       "      <td>22</td>\n",
       "      <td>83</td>\n",
       "      <td>143.561644</td>\n",
       "      <td>143</td>\n",
       "      <td>178</td>\n",
       "      <td>7.468531</td>\n",
       "      <td>6</td>\n",
       "      <td>10</td>\n",
       "      <td>2.0</td>\n",
       "      <td>16</td>\n",
       "      <td>23.0</td>\n",
       "      <td>BAT</td>\n",
       "    </tr>\n",
       "    <tr>\n",
       "      <th>4</th>\n",
       "      <td>Kedar Jadhav</td>\n",
       "      <td>90</td>\n",
       "      <td>DD</td>\n",
       "      <td>IND</td>\n",
       "      <td>76</td>\n",
       "      <td>56</td>\n",
       "      <td>7</td>\n",
       "      <td>2</td>\n",
       "      <td>50</td>\n",
       "      <td>135.714286</td>\n",
       "      <td>0</td>\n",
       "      <td>0</td>\n",
       "      <td>NaN</td>\n",
       "      <td>0</td>\n",
       "      <td>0</td>\n",
       "      <td>0.5</td>\n",
       "      <td>5</td>\n",
       "      <td>25.0</td>\n",
       "      <td>BAT</td>\n",
       "    </tr>\n",
       "    <tr>\n",
       "      <th>5</th>\n",
       "      <td>Ambati Rayudu</td>\n",
       "      <td>17</td>\n",
       "      <td>MI</td>\n",
       "      <td>IND</td>\n",
       "      <td>356</td>\n",
       "      <td>246</td>\n",
       "      <td>34</td>\n",
       "      <td>13</td>\n",
       "      <td>55</td>\n",
       "      <td>144.715447</td>\n",
       "      <td>0</td>\n",
       "      <td>0</td>\n",
       "      <td>NaN</td>\n",
       "      <td>0</td>\n",
       "      <td>7</td>\n",
       "      <td>3.5</td>\n",
       "      <td>14</td>\n",
       "      <td>24.0</td>\n",
       "      <td>BAT</td>\n",
       "    </tr>\n",
       "    <tr>\n",
       "      <th>7</th>\n",
       "      <td>Rohit Sharma</td>\n",
       "      <td>145</td>\n",
       "      <td>DC</td>\n",
       "      <td>IND</td>\n",
       "      <td>404</td>\n",
       "      <td>302</td>\n",
       "      <td>36</td>\n",
       "      <td>14</td>\n",
       "      <td>73</td>\n",
       "      <td>133.774834</td>\n",
       "      <td>114</td>\n",
       "      <td>153</td>\n",
       "      <td>8.052632</td>\n",
       "      <td>2</td>\n",
       "      <td>9</td>\n",
       "      <td>0.5</td>\n",
       "      <td>16</td>\n",
       "      <td>23.0</td>\n",
       "      <td>BAT</td>\n",
       "    </tr>\n",
       "    <tr>\n",
       "      <th>16</th>\n",
       "      <td>Shikhar Dhawan</td>\n",
       "      <td>164</td>\n",
       "      <td>MI</td>\n",
       "      <td>IND</td>\n",
       "      <td>191</td>\n",
       "      <td>170</td>\n",
       "      <td>23</td>\n",
       "      <td>3</td>\n",
       "      <td>56</td>\n",
       "      <td>112.352941</td>\n",
       "      <td>0</td>\n",
       "      <td>0</td>\n",
       "      <td>NaN</td>\n",
       "      <td>0</td>\n",
       "      <td>5</td>\n",
       "      <td>0.0</td>\n",
       "      <td>10</td>\n",
       "      <td>24.0</td>\n",
       "      <td>BAT</td>\n",
       "    </tr>\n",
       "  </tbody>\n",
       "</table>\n",
       "</div>"
      ],
      "text/plain": [
       "     Player's Name  Sl no Team From  Runs  Balls  Four  Six  \\\n",
       "1     Suresh Raina    175  CSK  IND   524    365    46   22   \n",
       "4     Kedar Jadhav     90   DD  IND    76     56     7    2   \n",
       "5    Ambati Rayudu     17   MI  IND   356    246    34   13   \n",
       "7     Rohit Sharma    145   DC  IND   404    302    36   14   \n",
       "16  Shikhar Dhawan    164   MI  IND   191    170    23    3   \n",
       "\n",
       "    Highest Run Scored  Strike Rate  Balls Bowled  Runs Conceded   Economy  \\\n",
       "1                   83   143.561644           143            178  7.468531   \n",
       "4                   50   135.714286             0              0       NaN   \n",
       "5                   55   144.715447             0              0       NaN   \n",
       "7                   73   133.774834           114            153  8.052632   \n",
       "16                  56   112.352941             0              0       NaN   \n",
       "\n",
       "    Wickets  ct_st  Run Outs  Matches Played   Age Type  \n",
       "1         6     10       2.0              16  23.0  BAT  \n",
       "4         0      0       0.5               5  25.0  BAT  \n",
       "5         0      7       3.5              14  24.0  BAT  \n",
       "7         2      9       0.5              16  23.0  BAT  \n",
       "16        0      5       0.0              10  24.0  BAT  "
      ]
     },
     "execution_count": 654,
     "metadata": {},
     "output_type": "execute_result"
    }
   ],
   "source": [
    "bat10.head()"
   ]
  },
  {
   "cell_type": "code",
   "execution_count": 655,
   "metadata": {},
   "outputs": [
    {
     "name": "stderr",
     "output_type": "stream",
     "text": [
      "C:\\Users\\samde\\Miniconda3\\envs\\AI\\lib\\site-packages\\pandas\\core\\frame.py:3697: SettingWithCopyWarning: \n",
      "A value is trying to be set on a copy of a slice from a DataFrame\n",
      "\n",
      "See the caveats in the documentation: http://pandas.pydata.org/pandas-docs/stable/indexing.html#indexing-view-versus-copy\n",
      "  errors=errors)\n"
     ]
    }
   ],
   "source": [
    "bat10.drop(['Age','Balls Bowled','Economy','Wickets','Runs Conceded',\"Sl no\"],axis=1,inplace=True)"
   ]
  },
  {
   "cell_type": "code",
   "execution_count": 656,
   "metadata": {},
   "outputs": [
    {
     "name": "stderr",
     "output_type": "stream",
     "text": [
      "C:\\Users\\samde\\Miniconda3\\envs\\AI\\lib\\site-packages\\ipykernel_launcher.py:1: SettingWithCopyWarning: \n",
      "A value is trying to be set on a copy of a slice from a DataFrame.\n",
      "Try using .loc[row_indexer,col_indexer] = value instead\n",
      "\n",
      "See the caveats in the documentation: http://pandas.pydata.org/pandas-docs/stable/indexing.html#indexing-view-versus-copy\n",
      "  \"\"\"Entry point for launching an IPython kernel.\n",
      "C:\\Users\\samde\\Miniconda3\\envs\\AI\\lib\\site-packages\\ipykernel_launcher.py:2: SettingWithCopyWarning: \n",
      "A value is trying to be set on a copy of a slice from a DataFrame.\n",
      "Try using .loc[row_indexer,col_indexer] = value instead\n",
      "\n",
      "See the caveats in the documentation: http://pandas.pydata.org/pandas-docs/stable/indexing.html#indexing-view-versus-copy\n",
      "  \n",
      "C:\\Users\\samde\\Miniconda3\\envs\\AI\\lib\\site-packages\\ipykernel_launcher.py:3: SettingWithCopyWarning: \n",
      "A value is trying to be set on a copy of a slice from a DataFrame.\n",
      "Try using .loc[row_indexer,col_indexer] = value instead\n",
      "\n",
      "See the caveats in the documentation: http://pandas.pydata.org/pandas-docs/stable/indexing.html#indexing-view-versus-copy\n",
      "  This is separate from the ipykernel package so we can avoid doing imports until\n"
     ]
    }
   ],
   "source": [
    "bat10[\"HardHitting2010\"]=(4*bat10[\"Four\"]+6*bat10[\"Six\"])/bat10[\"Balls\"]\n",
    "bat10[\"FastScoring2010\"]=bat10[\"Runs\"]/bat10[\"Balls\"]\n",
    "bat10[\"Running2010\"]=(bat10[\"Runs\"]-(4*bat10[\"Four\"]+6*bat10[\"Six\"]))/(bat10[\"Balls\"]-(bat10[\"Four\"]+bat10[\"Six\"]))"
   ]
  },
  {
   "cell_type": "code",
   "execution_count": 657,
   "metadata": {},
   "outputs": [
    {
     "data": {
      "text/html": [
       "<div>\n",
       "<style scoped>\n",
       "    .dataframe tbody tr th:only-of-type {\n",
       "        vertical-align: middle;\n",
       "    }\n",
       "\n",
       "    .dataframe tbody tr th {\n",
       "        vertical-align: top;\n",
       "    }\n",
       "\n",
       "    .dataframe thead th {\n",
       "        text-align: right;\n",
       "    }\n",
       "</style>\n",
       "<table border=\"1\" class=\"dataframe\">\n",
       "  <thead>\n",
       "    <tr style=\"text-align: right;\">\n",
       "      <th></th>\n",
       "      <th>Player's Name</th>\n",
       "      <th>Sl no</th>\n",
       "      <th>Team</th>\n",
       "      <th>From</th>\n",
       "      <th>Runs</th>\n",
       "      <th>Balls</th>\n",
       "      <th>Four</th>\n",
       "      <th>Six</th>\n",
       "      <th>Highest Run Scored</th>\n",
       "      <th>Strike Rate</th>\n",
       "      <th>Balls Bowled</th>\n",
       "      <th>Runs Conceded</th>\n",
       "      <th>Economy</th>\n",
       "      <th>Wickets</th>\n",
       "      <th>ct_st</th>\n",
       "      <th>Run Outs</th>\n",
       "      <th>Matches Played</th>\n",
       "      <th>Age</th>\n",
       "      <th>Type</th>\n",
       "    </tr>\n",
       "  </thead>\n",
       "  <tbody>\n",
       "    <tr>\n",
       "      <th>6</th>\n",
       "      <td>Harbhajan Singh</td>\n",
       "      <td>69</td>\n",
       "      <td>MI</td>\n",
       "      <td>IND</td>\n",
       "      <td>105</td>\n",
       "      <td>63</td>\n",
       "      <td>12</td>\n",
       "      <td>5</td>\n",
       "      <td>49</td>\n",
       "      <td>166.666667</td>\n",
       "      <td>321</td>\n",
       "      <td>377</td>\n",
       "      <td>7.046729</td>\n",
       "      <td>17</td>\n",
       "      <td>6</td>\n",
       "      <td>0.5</td>\n",
       "      <td>15</td>\n",
       "      <td>29.0</td>\n",
       "      <td>Bowl</td>\n",
       "    </tr>\n",
       "    <tr>\n",
       "      <th>10</th>\n",
       "      <td>Lasith Malinga</td>\n",
       "      <td>97</td>\n",
       "      <td>MI</td>\n",
       "      <td>SL</td>\n",
       "      <td>1</td>\n",
       "      <td>1</td>\n",
       "      <td>0</td>\n",
       "      <td>0</td>\n",
       "      <td>1</td>\n",
       "      <td>100.000000</td>\n",
       "      <td>294</td>\n",
       "      <td>344</td>\n",
       "      <td>7.020408</td>\n",
       "      <td>15</td>\n",
       "      <td>2</td>\n",
       "      <td>1.5</td>\n",
       "      <td>13</td>\n",
       "      <td>26.0</td>\n",
       "      <td>Bowl</td>\n",
       "    </tr>\n",
       "    <tr>\n",
       "      <th>14</th>\n",
       "      <td>Piyush Chawla</td>\n",
       "      <td>129</td>\n",
       "      <td>KXI</td>\n",
       "      <td>IND</td>\n",
       "      <td>62</td>\n",
       "      <td>60</td>\n",
       "      <td>7</td>\n",
       "      <td>0</td>\n",
       "      <td>22</td>\n",
       "      <td>103.333333</td>\n",
       "      <td>294</td>\n",
       "      <td>367</td>\n",
       "      <td>7.489796</td>\n",
       "      <td>12</td>\n",
       "      <td>3</td>\n",
       "      <td>2.0</td>\n",
       "      <td>14</td>\n",
       "      <td>21.0</td>\n",
       "      <td>Bowl</td>\n",
       "    </tr>\n",
       "    <tr>\n",
       "      <th>15</th>\n",
       "      <td>Amit Mishra</td>\n",
       "      <td>18</td>\n",
       "      <td>DD</td>\n",
       "      <td>IND</td>\n",
       "      <td>39</td>\n",
       "      <td>51</td>\n",
       "      <td>1</td>\n",
       "      <td>0</td>\n",
       "      <td>12</td>\n",
       "      <td>76.470588</td>\n",
       "      <td>318</td>\n",
       "      <td>363</td>\n",
       "      <td>6.849057</td>\n",
       "      <td>17</td>\n",
       "      <td>4</td>\n",
       "      <td>2.5</td>\n",
       "      <td>14</td>\n",
       "      <td>27.0</td>\n",
       "      <td>Bowl</td>\n",
       "    </tr>\n",
       "    <tr>\n",
       "      <th>17</th>\n",
       "      <td>Ishant Sharma</td>\n",
       "      <td>77</td>\n",
       "      <td>KKR</td>\n",
       "      <td>IND</td>\n",
       "      <td>6</td>\n",
       "      <td>17</td>\n",
       "      <td>0</td>\n",
       "      <td>0</td>\n",
       "      <td>6</td>\n",
       "      <td>35.294118</td>\n",
       "      <td>150</td>\n",
       "      <td>236</td>\n",
       "      <td>9.440000</td>\n",
       "      <td>7</td>\n",
       "      <td>1</td>\n",
       "      <td>0.0</td>\n",
       "      <td>7</td>\n",
       "      <td>21.0</td>\n",
       "      <td>Bowl</td>\n",
       "    </tr>\n",
       "  </tbody>\n",
       "</table>\n",
       "</div>"
      ],
      "text/plain": [
       "      Player's Name  Sl no Team From  Runs  Balls  Four  Six  \\\n",
       "6   Harbhajan Singh     69   MI  IND   105     63    12    5   \n",
       "10   Lasith Malinga     97   MI   SL     1      1     0    0   \n",
       "14    Piyush Chawla    129  KXI  IND    62     60     7    0   \n",
       "15      Amit Mishra     18   DD  IND    39     51     1    0   \n",
       "17    Ishant Sharma     77  KKR  IND     6     17     0    0   \n",
       "\n",
       "    Highest Run Scored  Strike Rate  Balls Bowled  Runs Conceded   Economy  \\\n",
       "6                   49   166.666667           321            377  7.046729   \n",
       "10                   1   100.000000           294            344  7.020408   \n",
       "14                  22   103.333333           294            367  7.489796   \n",
       "15                  12    76.470588           318            363  6.849057   \n",
       "17                   6    35.294118           150            236  9.440000   \n",
       "\n",
       "    Wickets  ct_st  Run Outs  Matches Played   Age  Type  \n",
       "6        17      6       0.5              15  29.0  Bowl  \n",
       "10       15      2       1.5              13  26.0  Bowl  \n",
       "14       12      3       2.0              14  21.0  Bowl  \n",
       "15       17      4       2.5              14  27.0  Bowl  \n",
       "17        7      1       0.0               7  21.0  Bowl  "
      ]
     },
     "execution_count": 657,
     "metadata": {},
     "output_type": "execute_result"
    }
   ],
   "source": [
    "ball10.head()"
   ]
  },
  {
   "cell_type": "code",
   "execution_count": 559,
   "metadata": {},
   "outputs": [
    {
     "name": "stderr",
     "output_type": "stream",
     "text": [
      "C:\\Users\\samde\\Miniconda3\\envs\\AI\\lib\\site-packages\\pandas\\core\\frame.py:3697: SettingWithCopyWarning: \n",
      "A value is trying to be set on a copy of a slice from a DataFrame\n",
      "\n",
      "See the caveats in the documentation: http://pandas.pydata.org/pandas-docs/stable/indexing.html#indexing-view-versus-copy\n",
      "  errors=errors)\n"
     ]
    }
   ],
   "source": [
    "ball10.drop([\"Sl no\"],axis=1,inplace=True)\n",
    "#ball10.drop([\"Runs\",\"Balls\",\"Strike Rate\",\"Four\",\"Six\",\"Highest Run Scored\",\"Run Outs\"],axis=1,inplace=True)"
   ]
  },
  {
   "cell_type": "code",
   "execution_count": 560,
   "metadata": {},
   "outputs": [
    {
     "name": "stderr",
     "output_type": "stream",
     "text": [
      "C:\\Users\\samde\\Miniconda3\\envs\\AI\\lib\\site-packages\\ipykernel_launcher.py:1: SettingWithCopyWarning: \n",
      "A value is trying to be set on a copy of a slice from a DataFrame.\n",
      "Try using .loc[row_indexer,col_indexer] = value instead\n",
      "\n",
      "See the caveats in the documentation: http://pandas.pydata.org/pandas-docs/stable/indexing.html#indexing-view-versus-copy\n",
      "  \"\"\"Entry point for launching an IPython kernel.\n",
      "C:\\Users\\samde\\Miniconda3\\envs\\AI\\lib\\site-packages\\ipykernel_launcher.py:2: SettingWithCopyWarning: \n",
      "A value is trying to be set on a copy of a slice from a DataFrame.\n",
      "Try using .loc[row_indexer,col_indexer] = value instead\n",
      "\n",
      "See the caveats in the documentation: http://pandas.pydata.org/pandas-docs/stable/indexing.html#indexing-view-versus-copy\n",
      "  \n"
     ]
    }
   ],
   "source": [
    "ball10[\"consistency2010\"]=ball10[\"Runs Conceded\"]/ball10[\"Wickets\"]\n",
    "ball10[\"wickettaking2010\"]=ball10[\"Balls Bowled\"]/ball10[\"Wickets\"]"
   ]
  },
  {
   "cell_type": "code",
   "execution_count": 564,
   "metadata": {},
   "outputs": [
    {
     "name": "stderr",
     "output_type": "stream",
     "text": [
      "C:\\Users\\samde\\Miniconda3\\envs\\AI\\lib\\site-packages\\pandas\\core\\frame.py:3697: SettingWithCopyWarning: \n",
      "A value is trying to be set on a copy of a slice from a DataFrame\n",
      "\n",
      "See the caveats in the documentation: http://pandas.pydata.org/pandas-docs/stable/indexing.html#indexing-view-versus-copy\n",
      "  errors=errors)\n"
     ]
    }
   ],
   "source": [
    "ball10.drop(['Team','ct_st'],axis=1,inplace=True)"
   ]
  },
  {
   "cell_type": "code",
   "execution_count": 581,
   "metadata": {},
   "outputs": [
    {
     "data": {
      "text/html": [
       "<div>\n",
       "<style scoped>\n",
       "    .dataframe tbody tr th:only-of-type {\n",
       "        vertical-align: middle;\n",
       "    }\n",
       "\n",
       "    .dataframe tbody tr th {\n",
       "        vertical-align: top;\n",
       "    }\n",
       "\n",
       "    .dataframe thead th {\n",
       "        text-align: right;\n",
       "    }\n",
       "</style>\n",
       "<table border=\"1\" class=\"dataframe\">\n",
       "  <thead>\n",
       "    <tr style=\"text-align: right;\">\n",
       "      <th></th>\n",
       "      <th>Player's Name</th>\n",
       "      <th>Runs</th>\n",
       "      <th>Balls</th>\n",
       "      <th>Four</th>\n",
       "      <th>Six</th>\n",
       "      <th>Highest Run Scored</th>\n",
       "      <th>Strike Rate</th>\n",
       "      <th>Balls Bowled</th>\n",
       "      <th>Runs Conceded</th>\n",
       "      <th>Economy</th>\n",
       "      <th>...</th>\n",
       "      <th>ct_st</th>\n",
       "      <th>Run Outs</th>\n",
       "      <th>Matches Played</th>\n",
       "      <th>Age</th>\n",
       "      <th>Type</th>\n",
       "      <th>HardHitting2010</th>\n",
       "      <th>FastScoring2010</th>\n",
       "      <th>Running2010</th>\n",
       "      <th>consistency2010</th>\n",
       "      <th>wickettaking2010</th>\n",
       "    </tr>\n",
       "  </thead>\n",
       "  <tbody>\n",
       "    <tr>\n",
       "      <th>2</th>\n",
       "      <td>Dwayne Bravo</td>\n",
       "      <td>64</td>\n",
       "      <td>53</td>\n",
       "      <td>4</td>\n",
       "      <td>4</td>\n",
       "      <td>23</td>\n",
       "      <td>120.754717</td>\n",
       "      <td>157</td>\n",
       "      <td>228</td>\n",
       "      <td>8.713376</td>\n",
       "      <td>...</td>\n",
       "      <td>4</td>\n",
       "      <td>1.0</td>\n",
       "      <td>10</td>\n",
       "      <td>26.0</td>\n",
       "      <td>AR</td>\n",
       "      <td>0.754717</td>\n",
       "      <td>1.207547</td>\n",
       "      <td>0.533333</td>\n",
       "      <td>57.000000</td>\n",
       "      <td>39.25</td>\n",
       "    </tr>\n",
       "    <tr>\n",
       "      <th>3</th>\n",
       "      <td>Shane Watson</td>\n",
       "      <td>185</td>\n",
       "      <td>114</td>\n",
       "      <td>18</td>\n",
       "      <td>9</td>\n",
       "      <td>60</td>\n",
       "      <td>162.280702</td>\n",
       "      <td>132</td>\n",
       "      <td>184</td>\n",
       "      <td>8.363636</td>\n",
       "      <td>...</td>\n",
       "      <td>3</td>\n",
       "      <td>0.0</td>\n",
       "      <td>6</td>\n",
       "      <td>28.0</td>\n",
       "      <td>AR</td>\n",
       "      <td>1.105263</td>\n",
       "      <td>1.622807</td>\n",
       "      <td>0.678161</td>\n",
       "      <td>30.666667</td>\n",
       "      <td>22.00</td>\n",
       "    </tr>\n",
       "    <tr>\n",
       "      <th>9</th>\n",
       "      <td>Kieron Pollard</td>\n",
       "      <td>273</td>\n",
       "      <td>147</td>\n",
       "      <td>23</td>\n",
       "      <td>17</td>\n",
       "      <td>45</td>\n",
       "      <td>185.714286</td>\n",
       "      <td>222</td>\n",
       "      <td>274</td>\n",
       "      <td>7.405405</td>\n",
       "      <td>...</td>\n",
       "      <td>6</td>\n",
       "      <td>3.5</td>\n",
       "      <td>14</td>\n",
       "      <td>23.0</td>\n",
       "      <td>AR</td>\n",
       "      <td>1.319728</td>\n",
       "      <td>1.857143</td>\n",
       "      <td>0.738318</td>\n",
       "      <td>18.266667</td>\n",
       "      <td>14.80</td>\n",
       "    </tr>\n",
       "    <tr>\n",
       "      <th>11</th>\n",
       "      <td>Yuvraj Singh</td>\n",
       "      <td>255</td>\n",
       "      <td>199</td>\n",
       "      <td>20</td>\n",
       "      <td>14</td>\n",
       "      <td>43</td>\n",
       "      <td>128.140704</td>\n",
       "      <td>138</td>\n",
       "      <td>152</td>\n",
       "      <td>6.608696</td>\n",
       "      <td>...</td>\n",
       "      <td>2</td>\n",
       "      <td>0.0</td>\n",
       "      <td>14</td>\n",
       "      <td>28.0</td>\n",
       "      <td>AR</td>\n",
       "      <td>0.824121</td>\n",
       "      <td>1.281407</td>\n",
       "      <td>0.551515</td>\n",
       "      <td>30.400000</td>\n",
       "      <td>27.60</td>\n",
       "    </tr>\n",
       "    <tr>\n",
       "      <th>20</th>\n",
       "      <td>Yusuf Pathan</td>\n",
       "      <td>333</td>\n",
       "      <td>201</td>\n",
       "      <td>22</td>\n",
       "      <td>24</td>\n",
       "      <td>100</td>\n",
       "      <td>165.671642</td>\n",
       "      <td>204</td>\n",
       "      <td>246</td>\n",
       "      <td>7.235294</td>\n",
       "      <td>...</td>\n",
       "      <td>9</td>\n",
       "      <td>1.0</td>\n",
       "      <td>14</td>\n",
       "      <td>27.0</td>\n",
       "      <td>AR</td>\n",
       "      <td>1.154229</td>\n",
       "      <td>1.656716</td>\n",
       "      <td>0.651613</td>\n",
       "      <td>49.200000</td>\n",
       "      <td>40.80</td>\n",
       "    </tr>\n",
       "  </tbody>\n",
       "</table>\n",
       "<p>5 rows × 21 columns</p>\n",
       "</div>"
      ],
      "text/plain": [
       "     Player's Name  Runs  Balls  Four  Six  Highest Run Scored  Strike Rate  \\\n",
       "2     Dwayne Bravo    64     53     4    4                  23   120.754717   \n",
       "3     Shane Watson   185    114    18    9                  60   162.280702   \n",
       "9   Kieron Pollard   273    147    23   17                  45   185.714286   \n",
       "11    Yuvraj Singh   255    199    20   14                  43   128.140704   \n",
       "20    Yusuf Pathan   333    201    22   24                 100   165.671642   \n",
       "\n",
       "    Balls Bowled  Runs Conceded   Economy        ...         ct_st  Run Outs  \\\n",
       "2            157            228  8.713376        ...             4       1.0   \n",
       "3            132            184  8.363636        ...             3       0.0   \n",
       "9            222            274  7.405405        ...             6       3.5   \n",
       "11           138            152  6.608696        ...             2       0.0   \n",
       "20           204            246  7.235294        ...             9       1.0   \n",
       "\n",
       "    Matches Played   Age  Type HardHitting2010  FastScoring2010  Running2010  \\\n",
       "2               10  26.0    AR        0.754717         1.207547     0.533333   \n",
       "3                6  28.0    AR        1.105263         1.622807     0.678161   \n",
       "9               14  23.0    AR        1.319728         1.857143     0.738318   \n",
       "11              14  28.0    AR        0.824121         1.281407     0.551515   \n",
       "20              14  27.0    AR        1.154229         1.656716     0.651613   \n",
       "\n",
       "    consistency2010  wickettaking2010  \n",
       "2         57.000000             39.25  \n",
       "3         30.666667             22.00  \n",
       "9         18.266667             14.80  \n",
       "11        30.400000             27.60  \n",
       "20        49.200000             40.80  \n",
       "\n",
       "[5 rows x 21 columns]"
      ]
     },
     "execution_count": 581,
     "metadata": {},
     "output_type": "execute_result"
    }
   ],
   "source": [
    "AR10.head()"
   ]
  },
  {
   "cell_type": "code",
   "execution_count": 580,
   "metadata": {},
   "outputs": [
    {
     "name": "stderr",
     "output_type": "stream",
     "text": [
      "C:\\Users\\samde\\Miniconda3\\envs\\AI\\lib\\site-packages\\ipykernel_launcher.py:2: SettingWithCopyWarning: \n",
      "A value is trying to be set on a copy of a slice from a DataFrame.\n",
      "Try using .loc[row_indexer,col_indexer] = value instead\n",
      "\n",
      "See the caveats in the documentation: http://pandas.pydata.org/pandas-docs/stable/indexing.html#indexing-view-versus-copy\n",
      "  \n",
      "C:\\Users\\samde\\Miniconda3\\envs\\AI\\lib\\site-packages\\ipykernel_launcher.py:3: SettingWithCopyWarning: \n",
      "A value is trying to be set on a copy of a slice from a DataFrame.\n",
      "Try using .loc[row_indexer,col_indexer] = value instead\n",
      "\n",
      "See the caveats in the documentation: http://pandas.pydata.org/pandas-docs/stable/indexing.html#indexing-view-versus-copy\n",
      "  This is separate from the ipykernel package so we can avoid doing imports until\n",
      "C:\\Users\\samde\\Miniconda3\\envs\\AI\\lib\\site-packages\\ipykernel_launcher.py:4: SettingWithCopyWarning: \n",
      "A value is trying to be set on a copy of a slice from a DataFrame.\n",
      "Try using .loc[row_indexer,col_indexer] = value instead\n",
      "\n",
      "See the caveats in the documentation: http://pandas.pydata.org/pandas-docs/stable/indexing.html#indexing-view-versus-copy\n",
      "  after removing the cwd from sys.path.\n",
      "C:\\Users\\samde\\Miniconda3\\envs\\AI\\lib\\site-packages\\ipykernel_launcher.py:5: SettingWithCopyWarning: \n",
      "A value is trying to be set on a copy of a slice from a DataFrame.\n",
      "Try using .loc[row_indexer,col_indexer] = value instead\n",
      "\n",
      "See the caveats in the documentation: http://pandas.pydata.org/pandas-docs/stable/indexing.html#indexing-view-versus-copy\n",
      "  \"\"\"\n",
      "C:\\Users\\samde\\Miniconda3\\envs\\AI\\lib\\site-packages\\ipykernel_launcher.py:6: SettingWithCopyWarning: \n",
      "A value is trying to be set on a copy of a slice from a DataFrame.\n",
      "Try using .loc[row_indexer,col_indexer] = value instead\n",
      "\n",
      "See the caveats in the documentation: http://pandas.pydata.org/pandas-docs/stable/indexing.html#indexing-view-versus-copy\n",
      "  \n"
     ]
    }
   ],
   "source": [
    "#AR10.drop(['Team','Sl no','From'],axis=1,inplace=True)\n",
    "AR10[\"HardHitting2010\"]=(4*AR10[\"Four\"]+6*AR10[\"Six\"])/AR10[\"Balls\"]\n",
    "AR10[\"FastScoring2010\"]=AR10[\"Runs\"]/AR10[\"Balls\"]\n",
    "AR10[\"Running2010\"]=(AR10[\"Runs\"]-(4*AR10[\"Four\"]+6*AR10[\"Six\"]))/(AR10[\"Balls\"]-(AR10[\"Four\"]+AR10[\"Six\"]))\n",
    "AR10[\"consistency2010\"]=AR10[\"Runs Conceded\"]/AR10[\"Wickets\"]\n",
    "AR10[\"wickettaking2010\"]=AR10[\"Balls Bowled\"]/AR10[\"Wickets\"]"
   ]
  },
  {
   "cell_type": "markdown",
   "metadata": {},
   "source": [
    "<h2>2011</h2>"
   ]
  },
  {
   "cell_type": "code",
   "execution_count": 143,
   "metadata": {},
   "outputs": [],
   "source": [
    "two_011=pd.read_csv(\"C:/Users/samde/Desktop/Data Science/Datasets/IPL/IPL(2011-19).csv\")"
   ]
  },
  {
   "cell_type": "code",
   "execution_count": 153,
   "metadata": {},
   "outputs": [],
   "source": [
    "bat11=two_011[two_011['Type']=='BAT']\n",
    "ball11=two_011[two_011['Type']=='Bowl']\n",
    "AR11=two_011[two_011['Type']=='AR']\n",
    "wk11=two_011[two_011['Type']=='WK']"
   ]
  },
  {
   "cell_type": "code",
   "execution_count": 175,
   "metadata": {},
   "outputs": [
    {
     "data": {
      "text/html": [
       "<div>\n",
       "<style scoped>\n",
       "    .dataframe tbody tr th:only-of-type {\n",
       "        vertical-align: middle;\n",
       "    }\n",
       "\n",
       "    .dataframe tbody tr th {\n",
       "        vertical-align: top;\n",
       "    }\n",
       "\n",
       "    .dataframe thead th {\n",
       "        text-align: right;\n",
       "    }\n",
       "</style>\n",
       "<table border=\"1\" class=\"dataframe\">\n",
       "  <thead>\n",
       "    <tr style=\"text-align: right;\">\n",
       "      <th></th>\n",
       "      <th>Player's Name</th>\n",
       "      <th>Team</th>\n",
       "      <th>From</th>\n",
       "      <th>Balls Bowled</th>\n",
       "      <th>Runs Conceded</th>\n",
       "      <th>Wicket</th>\n",
       "      <th>Economy</th>\n",
       "      <th>ct_st</th>\n",
       "      <th>Matches Played</th>\n",
       "      <th>Age</th>\n",
       "      <th>Type</th>\n",
       "    </tr>\n",
       "  </thead>\n",
       "  <tbody>\n",
       "    <tr>\n",
       "      <th>6</th>\n",
       "      <td>Harbhajan Singh</td>\n",
       "      <td>MI</td>\n",
       "      <td>IND</td>\n",
       "      <td>321</td>\n",
       "      <td>377</td>\n",
       "      <td>17</td>\n",
       "      <td>7.046729</td>\n",
       "      <td>6</td>\n",
       "      <td>15</td>\n",
       "      <td>29</td>\n",
       "      <td>Bowl</td>\n",
       "    </tr>\n",
       "    <tr>\n",
       "      <th>10</th>\n",
       "      <td>Lasith Malinga</td>\n",
       "      <td>MI</td>\n",
       "      <td>SL</td>\n",
       "      <td>294</td>\n",
       "      <td>344</td>\n",
       "      <td>15</td>\n",
       "      <td>7.020408</td>\n",
       "      <td>2</td>\n",
       "      <td>13</td>\n",
       "      <td>26</td>\n",
       "      <td>Bowl</td>\n",
       "    </tr>\n",
       "    <tr>\n",
       "      <th>13</th>\n",
       "      <td>Piyush Chawla</td>\n",
       "      <td>KXI</td>\n",
       "      <td>IND</td>\n",
       "      <td>294</td>\n",
       "      <td>367</td>\n",
       "      <td>12</td>\n",
       "      <td>7.489796</td>\n",
       "      <td>3</td>\n",
       "      <td>14</td>\n",
       "      <td>21</td>\n",
       "      <td>Bowl</td>\n",
       "    </tr>\n",
       "    <tr>\n",
       "      <th>14</th>\n",
       "      <td>Amit Mishra</td>\n",
       "      <td>DD</td>\n",
       "      <td>IND</td>\n",
       "      <td>318</td>\n",
       "      <td>363</td>\n",
       "      <td>17</td>\n",
       "      <td>6.849057</td>\n",
       "      <td>4</td>\n",
       "      <td>14</td>\n",
       "      <td>27</td>\n",
       "      <td>Bowl</td>\n",
       "    </tr>\n",
       "    <tr>\n",
       "      <th>16</th>\n",
       "      <td>Ishant Sharma</td>\n",
       "      <td>KKR</td>\n",
       "      <td>IND</td>\n",
       "      <td>150</td>\n",
       "      <td>236</td>\n",
       "      <td>7</td>\n",
       "      <td>9.440000</td>\n",
       "      <td>1</td>\n",
       "      <td>7</td>\n",
       "      <td>21</td>\n",
       "      <td>Bowl</td>\n",
       "    </tr>\n",
       "  </tbody>\n",
       "</table>\n",
       "</div>"
      ],
      "text/plain": [
       "      Player's Name Team From  Balls Bowled  Runs Conceded  Wicket   Economy  \\\n",
       "6   Harbhajan Singh   MI  IND           321            377      17  7.046729   \n",
       "10   Lasith Malinga   MI   SL           294            344      15  7.020408   \n",
       "13    Piyush Chawla  KXI  IND           294            367      12  7.489796   \n",
       "14      Amit Mishra   DD  IND           318            363      17  6.849057   \n",
       "16    Ishant Sharma  KKR  IND           150            236       7  9.440000   \n",
       "\n",
       "    ct_st  Matches Played  Age  Type  \n",
       "6       6              15   29  Bowl  \n",
       "10      2              13   26  Bowl  \n",
       "13      3              14   21  Bowl  \n",
       "14      4              14   27  Bowl  \n",
       "16      1               7   21  Bowl  "
      ]
     },
     "execution_count": 175,
     "metadata": {},
     "output_type": "execute_result"
    }
   ],
   "source": [
    "ball11.head()"
   ]
  },
  {
   "cell_type": "code",
   "execution_count": 168,
   "metadata": {},
   "outputs": [
    {
     "name": "stderr",
     "output_type": "stream",
     "text": [
      "C:\\Users\\samde\\Miniconda3\\envs\\AI\\lib\\site-packages\\pandas\\core\\frame.py:3697: SettingWithCopyWarning: \n",
      "A value is trying to be set on a copy of a slice from a DataFrame\n",
      "\n",
      "See the caveats in the documentation: http://pandas.pydata.org/pandas-docs/stable/indexing.html#indexing-view-versus-copy\n",
      "  errors=errors)\n"
     ]
    }
   ],
   "source": [
    "ball11.drop([\"Runs\",\"Balls \",\"Strike Rate\",'Highest Runs Scored',\"Four\",\"Six\",\"Run Outs\",'Sl No'],axis=1,inplace=True)"
   ]
  },
  {
   "cell_type": "code",
   "execution_count": 178,
   "metadata": {},
   "outputs": [
    {
     "data": {
      "text/html": [
       "<div>\n",
       "<style scoped>\n",
       "    .dataframe tbody tr th:only-of-type {\n",
       "        vertical-align: middle;\n",
       "    }\n",
       "\n",
       "    .dataframe tbody tr th {\n",
       "        vertical-align: top;\n",
       "    }\n",
       "\n",
       "    .dataframe thead th {\n",
       "        text-align: right;\n",
       "    }\n",
       "</style>\n",
       "<table border=\"1\" class=\"dataframe\">\n",
       "  <thead>\n",
       "    <tr style=\"text-align: right;\">\n",
       "      <th></th>\n",
       "      <th>Player's Name</th>\n",
       "      <th>Team</th>\n",
       "      <th>From</th>\n",
       "      <th>Runs</th>\n",
       "      <th>Balls</th>\n",
       "      <th>Strike Rate</th>\n",
       "      <th>Four</th>\n",
       "      <th>Six</th>\n",
       "      <th>Highest Runs Scored</th>\n",
       "      <th>ct_st</th>\n",
       "      <th>Run Outs</th>\n",
       "      <th>Matches Played</th>\n",
       "      <th>Age</th>\n",
       "      <th>Type</th>\n",
       "    </tr>\n",
       "  </thead>\n",
       "  <tbody>\n",
       "    <tr>\n",
       "      <th>1</th>\n",
       "      <td>Suresh Raina</td>\n",
       "      <td>CSK</td>\n",
       "      <td>IND</td>\n",
       "      <td>524</td>\n",
       "      <td>365</td>\n",
       "      <td>143.561644</td>\n",
       "      <td>46</td>\n",
       "      <td>22</td>\n",
       "      <td>83</td>\n",
       "      <td>10</td>\n",
       "      <td>2.0</td>\n",
       "      <td>16</td>\n",
       "      <td>23</td>\n",
       "      <td>BAT</td>\n",
       "    </tr>\n",
       "    <tr>\n",
       "      <th>4</th>\n",
       "      <td>Kedar Jadhav</td>\n",
       "      <td>DD</td>\n",
       "      <td>IND</td>\n",
       "      <td>76</td>\n",
       "      <td>56</td>\n",
       "      <td>135.714286</td>\n",
       "      <td>7</td>\n",
       "      <td>2</td>\n",
       "      <td>50</td>\n",
       "      <td>0</td>\n",
       "      <td>0.5</td>\n",
       "      <td>5</td>\n",
       "      <td>25</td>\n",
       "      <td>BAT</td>\n",
       "    </tr>\n",
       "    <tr>\n",
       "      <th>5</th>\n",
       "      <td>Ambati Rayudu</td>\n",
       "      <td>MI</td>\n",
       "      <td>IND</td>\n",
       "      <td>356</td>\n",
       "      <td>246</td>\n",
       "      <td>144.715447</td>\n",
       "      <td>34</td>\n",
       "      <td>13</td>\n",
       "      <td>55</td>\n",
       "      <td>7</td>\n",
       "      <td>3.5</td>\n",
       "      <td>14</td>\n",
       "      <td>24</td>\n",
       "      <td>BAT</td>\n",
       "    </tr>\n",
       "    <tr>\n",
       "      <th>7</th>\n",
       "      <td>Rohit Sharma</td>\n",
       "      <td>DC</td>\n",
       "      <td>IND</td>\n",
       "      <td>404</td>\n",
       "      <td>302</td>\n",
       "      <td>133.774834</td>\n",
       "      <td>36</td>\n",
       "      <td>14</td>\n",
       "      <td>73</td>\n",
       "      <td>9</td>\n",
       "      <td>0.5</td>\n",
       "      <td>16</td>\n",
       "      <td>23</td>\n",
       "      <td>BAT</td>\n",
       "    </tr>\n",
       "    <tr>\n",
       "      <th>15</th>\n",
       "      <td>Shikhar Dhawan</td>\n",
       "      <td>MI</td>\n",
       "      <td>IND</td>\n",
       "      <td>191</td>\n",
       "      <td>170</td>\n",
       "      <td>112.352941</td>\n",
       "      <td>23</td>\n",
       "      <td>3</td>\n",
       "      <td>56</td>\n",
       "      <td>5</td>\n",
       "      <td>0.0</td>\n",
       "      <td>10</td>\n",
       "      <td>24</td>\n",
       "      <td>BAT</td>\n",
       "    </tr>\n",
       "  </tbody>\n",
       "</table>\n",
       "</div>"
      ],
      "text/plain": [
       "     Player's Name Team From  Runs  Balls   Strike Rate  Four  Six  \\\n",
       "1     Suresh Raina  CSK  IND   524     365   143.561644    46   22   \n",
       "4     Kedar Jadhav   DD  IND    76      56   135.714286     7    2   \n",
       "5    Ambati Rayudu   MI  IND   356     246   144.715447    34   13   \n",
       "7     Rohit Sharma   DC  IND   404     302   133.774834    36   14   \n",
       "15  Shikhar Dhawan   MI  IND   191     170   112.352941    23    3   \n",
       "\n",
       "    Highest Runs Scored  ct_st  Run Outs  Matches Played  Age Type  \n",
       "1                    83     10       2.0              16   23  BAT  \n",
       "4                    50      0       0.5               5   25  BAT  \n",
       "5                    55      7       3.5              14   24  BAT  \n",
       "7                    73      9       0.5              16   23  BAT  \n",
       "15                   56      5       0.0              10   24  BAT  "
      ]
     },
     "execution_count": 178,
     "metadata": {},
     "output_type": "execute_result"
    }
   ],
   "source": [
    "bat11.head()"
   ]
  },
  {
   "cell_type": "code",
   "execution_count": 172,
   "metadata": {},
   "outputs": [
    {
     "name": "stderr",
     "output_type": "stream",
     "text": [
      "C:\\Users\\samde\\Miniconda3\\envs\\AI\\lib\\site-packages\\pandas\\core\\frame.py:3697: SettingWithCopyWarning: \n",
      "A value is trying to be set on a copy of a slice from a DataFrame\n",
      "\n",
      "See the caveats in the documentation: http://pandas.pydata.org/pandas-docs/stable/indexing.html#indexing-view-versus-copy\n",
      "  errors=errors)\n"
     ]
    }
   ],
   "source": [
    "bat11.drop(['Balls Bowled','Economy','Wickets','Runs Concede',\"Sl No\"],axis=1,inplace=True)"
   ]
  },
  {
   "cell_type": "code",
   "execution_count": 179,
   "metadata": {},
   "outputs": [
    {
     "name": "stderr",
     "output_type": "stream",
     "text": [
      "C:\\Users\\samde\\Miniconda3\\envs\\AI\\lib\\site-packages\\ipykernel_launcher.py:1: SettingWithCopyWarning: \n",
      "A value is trying to be set on a copy of a slice from a DataFrame.\n",
      "Try using .loc[row_indexer,col_indexer] = value instead\n",
      "\n",
      "See the caveats in the documentation: http://pandas.pydata.org/pandas-docs/stable/indexing.html#indexing-view-versus-copy\n",
      "  \"\"\"Entry point for launching an IPython kernel.\n"
     ]
    }
   ],
   "source": [
    "bat11[\"HardHitting2011\"]=(4*bat11[\"Four\"]+6*bat11[\"Six\"])/bat11[\"Balls \"]"
   ]
  },
  {
   "cell_type": "code",
   "execution_count": 182,
   "metadata": {},
   "outputs": [
    {
     "name": "stderr",
     "output_type": "stream",
     "text": [
      "C:\\Users\\samde\\Miniconda3\\envs\\AI\\lib\\site-packages\\ipykernel_launcher.py:1: SettingWithCopyWarning: \n",
      "A value is trying to be set on a copy of a slice from a DataFrame.\n",
      "Try using .loc[row_indexer,col_indexer] = value instead\n",
      "\n",
      "See the caveats in the documentation: http://pandas.pydata.org/pandas-docs/stable/indexing.html#indexing-view-versus-copy\n",
      "  \"\"\"Entry point for launching an IPython kernel.\n"
     ]
    }
   ],
   "source": [
    "bat11[\"FastScoring2011\"]=bat11[\"Runs\"]/bat11[\"Balls \"]"
   ]
  },
  {
   "cell_type": "code",
   "execution_count": 183,
   "metadata": {},
   "outputs": [
    {
     "name": "stderr",
     "output_type": "stream",
     "text": [
      "C:\\Users\\samde\\Miniconda3\\envs\\AI\\lib\\site-packages\\ipykernel_launcher.py:1: SettingWithCopyWarning: \n",
      "A value is trying to be set on a copy of a slice from a DataFrame.\n",
      "Try using .loc[row_indexer,col_indexer] = value instead\n",
      "\n",
      "See the caveats in the documentation: http://pandas.pydata.org/pandas-docs/stable/indexing.html#indexing-view-versus-copy\n",
      "  \"\"\"Entry point for launching an IPython kernel.\n"
     ]
    }
   ],
   "source": [
    "bat11[\"Running2012\"]=(bat11[\"Runs\"]-(4*bat11[\"Four\"]+6*bat11[\"Six\"]))/(bat11[\"Balls \"]-(bat11[\"Four\"]+bat11[\"Six\"]))"
   ]
  },
  {
   "cell_type": "code",
   "execution_count": 574,
   "metadata": {},
   "outputs": [
    {
     "data": {
      "text/html": [
       "<div>\n",
       "<style scoped>\n",
       "    .dataframe tbody tr th:only-of-type {\n",
       "        vertical-align: middle;\n",
       "    }\n",
       "\n",
       "    .dataframe tbody tr th {\n",
       "        vertical-align: top;\n",
       "    }\n",
       "\n",
       "    .dataframe thead th {\n",
       "        text-align: right;\n",
       "    }\n",
       "</style>\n",
       "<table border=\"1\" class=\"dataframe\">\n",
       "  <thead>\n",
       "    <tr style=\"text-align: right;\">\n",
       "      <th></th>\n",
       "      <th>Player's Name</th>\n",
       "      <th>Balls Bowled</th>\n",
       "      <th>Runs Conceded</th>\n",
       "      <th>Wicket</th>\n",
       "      <th>Economy</th>\n",
       "      <th>ct_st</th>\n",
       "      <th>Matches Played</th>\n",
       "      <th>Age</th>\n",
       "      <th>Type</th>\n",
       "      <th>consistency2011</th>\n",
       "      <th>wickettaking2011</th>\n",
       "    </tr>\n",
       "  </thead>\n",
       "  <tbody>\n",
       "    <tr>\n",
       "      <th>6</th>\n",
       "      <td>Harbhajan Singh</td>\n",
       "      <td>321</td>\n",
       "      <td>377</td>\n",
       "      <td>17</td>\n",
       "      <td>7.046729</td>\n",
       "      <td>6</td>\n",
       "      <td>15</td>\n",
       "      <td>29</td>\n",
       "      <td>Bowl</td>\n",
       "      <td>22.176471</td>\n",
       "      <td>18.882353</td>\n",
       "    </tr>\n",
       "    <tr>\n",
       "      <th>10</th>\n",
       "      <td>Lasith Malinga</td>\n",
       "      <td>294</td>\n",
       "      <td>344</td>\n",
       "      <td>15</td>\n",
       "      <td>7.020408</td>\n",
       "      <td>2</td>\n",
       "      <td>13</td>\n",
       "      <td>26</td>\n",
       "      <td>Bowl</td>\n",
       "      <td>22.933333</td>\n",
       "      <td>19.600000</td>\n",
       "    </tr>\n",
       "    <tr>\n",
       "      <th>13</th>\n",
       "      <td>Piyush Chawla</td>\n",
       "      <td>294</td>\n",
       "      <td>367</td>\n",
       "      <td>12</td>\n",
       "      <td>7.489796</td>\n",
       "      <td>3</td>\n",
       "      <td>14</td>\n",
       "      <td>21</td>\n",
       "      <td>Bowl</td>\n",
       "      <td>30.583333</td>\n",
       "      <td>24.500000</td>\n",
       "    </tr>\n",
       "    <tr>\n",
       "      <th>14</th>\n",
       "      <td>Amit Mishra</td>\n",
       "      <td>318</td>\n",
       "      <td>363</td>\n",
       "      <td>17</td>\n",
       "      <td>6.849057</td>\n",
       "      <td>4</td>\n",
       "      <td>14</td>\n",
       "      <td>27</td>\n",
       "      <td>Bowl</td>\n",
       "      <td>21.352941</td>\n",
       "      <td>18.705882</td>\n",
       "    </tr>\n",
       "    <tr>\n",
       "      <th>16</th>\n",
       "      <td>Ishant Sharma</td>\n",
       "      <td>150</td>\n",
       "      <td>236</td>\n",
       "      <td>7</td>\n",
       "      <td>9.440000</td>\n",
       "      <td>1</td>\n",
       "      <td>7</td>\n",
       "      <td>21</td>\n",
       "      <td>Bowl</td>\n",
       "      <td>33.714286</td>\n",
       "      <td>21.428571</td>\n",
       "    </tr>\n",
       "  </tbody>\n",
       "</table>\n",
       "</div>"
      ],
      "text/plain": [
       "      Player's Name  Balls Bowled  Runs Conceded  Wicket   Economy  ct_st  \\\n",
       "6   Harbhajan Singh           321            377      17  7.046729      6   \n",
       "10   Lasith Malinga           294            344      15  7.020408      2   \n",
       "13    Piyush Chawla           294            367      12  7.489796      3   \n",
       "14      Amit Mishra           318            363      17  6.849057      4   \n",
       "16    Ishant Sharma           150            236       7  9.440000      1   \n",
       "\n",
       "    Matches Played  Age  Type  consistency2011  wickettaking2011  \n",
       "6               15   29  Bowl        22.176471         18.882353  \n",
       "10              13   26  Bowl        22.933333         19.600000  \n",
       "13              14   21  Bowl        30.583333         24.500000  \n",
       "14              14   27  Bowl        21.352941         18.705882  \n",
       "16               7   21  Bowl        33.714286         21.428571  "
      ]
     },
     "execution_count": 574,
     "metadata": {},
     "output_type": "execute_result"
    }
   ],
   "source": [
    "ball11.head()"
   ]
  },
  {
   "cell_type": "code",
   "execution_count": 573,
   "metadata": {},
   "outputs": [
    {
     "name": "stderr",
     "output_type": "stream",
     "text": [
      "C:\\Users\\samde\\Miniconda3\\envs\\AI\\lib\\site-packages\\ipykernel_launcher.py:2: SettingWithCopyWarning: \n",
      "A value is trying to be set on a copy of a slice from a DataFrame.\n",
      "Try using .loc[row_indexer,col_indexer] = value instead\n",
      "\n",
      "See the caveats in the documentation: http://pandas.pydata.org/pandas-docs/stable/indexing.html#indexing-view-versus-copy\n",
      "  \n",
      "C:\\Users\\samde\\Miniconda3\\envs\\AI\\lib\\site-packages\\ipykernel_launcher.py:3: SettingWithCopyWarning: \n",
      "A value is trying to be set on a copy of a slice from a DataFrame.\n",
      "Try using .loc[row_indexer,col_indexer] = value instead\n",
      "\n",
      "See the caveats in the documentation: http://pandas.pydata.org/pandas-docs/stable/indexing.html#indexing-view-versus-copy\n",
      "  This is separate from the ipykernel package so we can avoid doing imports until\n"
     ]
    }
   ],
   "source": [
    "#ball11.drop(['Team','From'],axis=1,inplace=True)\n",
    "ball11[\"consistency2011\"]=ball11[\"Runs Conceded\"]/ball11[\"Wicket\"]\n",
    "ball11[\"wickettaking2011\"]=ball11[\"Balls Bowled\"]/ball11[\"Wicket\"]"
   ]
  },
  {
   "cell_type": "code",
   "execution_count": 614,
   "metadata": {},
   "outputs": [
    {
     "data": {
      "text/html": [
       "<div>\n",
       "<style scoped>\n",
       "    .dataframe tbody tr th:only-of-type {\n",
       "        vertical-align: middle;\n",
       "    }\n",
       "\n",
       "    .dataframe tbody tr th {\n",
       "        vertical-align: top;\n",
       "    }\n",
       "\n",
       "    .dataframe thead th {\n",
       "        text-align: right;\n",
       "    }\n",
       "</style>\n",
       "<table border=\"1\" class=\"dataframe\">\n",
       "  <thead>\n",
       "    <tr style=\"text-align: right;\">\n",
       "      <th></th>\n",
       "      <th>Player's Name</th>\n",
       "      <th>Runs</th>\n",
       "      <th>Balls</th>\n",
       "      <th>Strike Rate</th>\n",
       "      <th>Four</th>\n",
       "      <th>Six</th>\n",
       "      <th>Highest Runs Scored</th>\n",
       "      <th>Balls Bowled</th>\n",
       "      <th>Runs Conceded</th>\n",
       "      <th>Wicket</th>\n",
       "      <th>...</th>\n",
       "      <th>ct_st</th>\n",
       "      <th>Run Outs</th>\n",
       "      <th>Matches Played</th>\n",
       "      <th>Age</th>\n",
       "      <th>Type</th>\n",
       "      <th>HardHitting2011</th>\n",
       "      <th>FastScoring2011</th>\n",
       "      <th>Running2011</th>\n",
       "      <th>consistency2011</th>\n",
       "      <th>wickettaking2011</th>\n",
       "    </tr>\n",
       "  </thead>\n",
       "  <tbody>\n",
       "    <tr>\n",
       "      <th>2</th>\n",
       "      <td>Dwayne Bravo</td>\n",
       "      <td>64</td>\n",
       "      <td>53</td>\n",
       "      <td>120.754717</td>\n",
       "      <td>4</td>\n",
       "      <td>4</td>\n",
       "      <td>23</td>\n",
       "      <td>157</td>\n",
       "      <td>228</td>\n",
       "      <td>4</td>\n",
       "      <td>...</td>\n",
       "      <td>4</td>\n",
       "      <td>1.0</td>\n",
       "      <td>10</td>\n",
       "      <td>26</td>\n",
       "      <td>AR</td>\n",
       "      <td>0.754717</td>\n",
       "      <td>1.207547</td>\n",
       "      <td>0.533333</td>\n",
       "      <td>57.000000</td>\n",
       "      <td>39.250000</td>\n",
       "    </tr>\n",
       "    <tr>\n",
       "      <th>3</th>\n",
       "      <td>Shane Watson</td>\n",
       "      <td>185</td>\n",
       "      <td>114</td>\n",
       "      <td>162.280702</td>\n",
       "      <td>18</td>\n",
       "      <td>9</td>\n",
       "      <td>60</td>\n",
       "      <td>132</td>\n",
       "      <td>184</td>\n",
       "      <td>6</td>\n",
       "      <td>...</td>\n",
       "      <td>3</td>\n",
       "      <td>0.0</td>\n",
       "      <td>6</td>\n",
       "      <td>28</td>\n",
       "      <td>AR</td>\n",
       "      <td>1.105263</td>\n",
       "      <td>1.622807</td>\n",
       "      <td>0.678161</td>\n",
       "      <td>30.666667</td>\n",
       "      <td>22.000000</td>\n",
       "    </tr>\n",
       "    <tr>\n",
       "      <th>9</th>\n",
       "      <td>Kieron Pollard</td>\n",
       "      <td>273</td>\n",
       "      <td>147</td>\n",
       "      <td>185.714286</td>\n",
       "      <td>23</td>\n",
       "      <td>17</td>\n",
       "      <td>45</td>\n",
       "      <td>222</td>\n",
       "      <td>274</td>\n",
       "      <td>15</td>\n",
       "      <td>...</td>\n",
       "      <td>6</td>\n",
       "      <td>3.5</td>\n",
       "      <td>14</td>\n",
       "      <td>23</td>\n",
       "      <td>AR</td>\n",
       "      <td>1.319728</td>\n",
       "      <td>1.857143</td>\n",
       "      <td>0.738318</td>\n",
       "      <td>18.266667</td>\n",
       "      <td>14.800000</td>\n",
       "    </tr>\n",
       "    <tr>\n",
       "      <th>19</th>\n",
       "      <td>Yusuf Pathan</td>\n",
       "      <td>333</td>\n",
       "      <td>201</td>\n",
       "      <td>165.671642</td>\n",
       "      <td>22</td>\n",
       "      <td>24</td>\n",
       "      <td>100</td>\n",
       "      <td>204</td>\n",
       "      <td>246</td>\n",
       "      <td>5</td>\n",
       "      <td>...</td>\n",
       "      <td>9</td>\n",
       "      <td>1.0</td>\n",
       "      <td>14</td>\n",
       "      <td>27</td>\n",
       "      <td>AR</td>\n",
       "      <td>1.154229</td>\n",
       "      <td>1.656716</td>\n",
       "      <td>0.651613</td>\n",
       "      <td>49.200000</td>\n",
       "      <td>40.800000</td>\n",
       "    </tr>\n",
       "    <tr>\n",
       "      <th>22</th>\n",
       "      <td>Stuart Binny</td>\n",
       "      <td>8</td>\n",
       "      <td>5</td>\n",
       "      <td>160.000000</td>\n",
       "      <td>1</td>\n",
       "      <td>0</td>\n",
       "      <td>8</td>\n",
       "      <td>6</td>\n",
       "      <td>9</td>\n",
       "      <td>0</td>\n",
       "      <td>...</td>\n",
       "      <td>0</td>\n",
       "      <td>0.0</td>\n",
       "      <td>1</td>\n",
       "      <td>27</td>\n",
       "      <td>AR</td>\n",
       "      <td>0.800000</td>\n",
       "      <td>1.600000</td>\n",
       "      <td>1.000000</td>\n",
       "      <td>inf</td>\n",
       "      <td>inf</td>\n",
       "    </tr>\n",
       "  </tbody>\n",
       "</table>\n",
       "<p>5 rows × 21 columns</p>\n",
       "</div>"
      ],
      "text/plain": [
       "     Player's Name  Runs  Balls   Strike Rate  Four  Six  Highest Runs Scored  \\\n",
       "2     Dwayne Bravo    64      53   120.754717     4    4                   23   \n",
       "3     Shane Watson   185     114   162.280702    18    9                   60   \n",
       "9   Kieron Pollard   273     147   185.714286    23   17                   45   \n",
       "19    Yusuf Pathan   333     201   165.671642    22   24                  100   \n",
       "22    Stuart Binny     8       5   160.000000     1    0                    8   \n",
       "\n",
       "    Balls Bowled  Runs Conceded  Wicket        ...         ct_st  Run Outs  \\\n",
       "2            157            228       4        ...             4       1.0   \n",
       "3            132            184       6        ...             3       0.0   \n",
       "9            222            274      15        ...             6       3.5   \n",
       "19           204            246       5        ...             9       1.0   \n",
       "22             6              9       0        ...             0       0.0   \n",
       "\n",
       "    Matches Played  Age  Type HardHitting2011  FastScoring2011  Running2011  \\\n",
       "2               10   26    AR        0.754717         1.207547     0.533333   \n",
       "3                6   28    AR        1.105263         1.622807     0.678161   \n",
       "9               14   23    AR        1.319728         1.857143     0.738318   \n",
       "19              14   27    AR        1.154229         1.656716     0.651613   \n",
       "22               1   27    AR        0.800000         1.600000     1.000000   \n",
       "\n",
       "    consistency2011  wickettaking2011  \n",
       "2         57.000000         39.250000  \n",
       "3         30.666667         22.000000  \n",
       "9         18.266667         14.800000  \n",
       "19        49.200000         40.800000  \n",
       "22              inf               inf  \n",
       "\n",
       "[5 rows x 21 columns]"
      ]
     },
     "execution_count": 614,
     "metadata": {},
     "output_type": "execute_result"
    }
   ],
   "source": [
    "AR11.head()"
   ]
  },
  {
   "cell_type": "code",
   "execution_count": 585,
   "metadata": {},
   "outputs": [
    {
     "name": "stderr",
     "output_type": "stream",
     "text": [
      "C:\\Users\\samde\\Miniconda3\\envs\\AI\\lib\\site-packages\\ipykernel_launcher.py:2: SettingWithCopyWarning: \n",
      "A value is trying to be set on a copy of a slice from a DataFrame.\n",
      "Try using .loc[row_indexer,col_indexer] = value instead\n",
      "\n",
      "See the caveats in the documentation: http://pandas.pydata.org/pandas-docs/stable/indexing.html#indexing-view-versus-copy\n",
      "  \n",
      "C:\\Users\\samde\\Miniconda3\\envs\\AI\\lib\\site-packages\\ipykernel_launcher.py:3: SettingWithCopyWarning: \n",
      "A value is trying to be set on a copy of a slice from a DataFrame.\n",
      "Try using .loc[row_indexer,col_indexer] = value instead\n",
      "\n",
      "See the caveats in the documentation: http://pandas.pydata.org/pandas-docs/stable/indexing.html#indexing-view-versus-copy\n",
      "  This is separate from the ipykernel package so we can avoid doing imports until\n",
      "C:\\Users\\samde\\Miniconda3\\envs\\AI\\lib\\site-packages\\ipykernel_launcher.py:4: SettingWithCopyWarning: \n",
      "A value is trying to be set on a copy of a slice from a DataFrame.\n",
      "Try using .loc[row_indexer,col_indexer] = value instead\n",
      "\n",
      "See the caveats in the documentation: http://pandas.pydata.org/pandas-docs/stable/indexing.html#indexing-view-versus-copy\n",
      "  after removing the cwd from sys.path.\n",
      "C:\\Users\\samde\\Miniconda3\\envs\\AI\\lib\\site-packages\\ipykernel_launcher.py:5: SettingWithCopyWarning: \n",
      "A value is trying to be set on a copy of a slice from a DataFrame.\n",
      "Try using .loc[row_indexer,col_indexer] = value instead\n",
      "\n",
      "See the caveats in the documentation: http://pandas.pydata.org/pandas-docs/stable/indexing.html#indexing-view-versus-copy\n",
      "  \"\"\"\n",
      "C:\\Users\\samde\\Miniconda3\\envs\\AI\\lib\\site-packages\\ipykernel_launcher.py:6: SettingWithCopyWarning: \n",
      "A value is trying to be set on a copy of a slice from a DataFrame.\n",
      "Try using .loc[row_indexer,col_indexer] = value instead\n",
      "\n",
      "See the caveats in the documentation: http://pandas.pydata.org/pandas-docs/stable/indexing.html#indexing-view-versus-copy\n",
      "  \n"
     ]
    }
   ],
   "source": [
    "#AR11.drop(['Team','Sl No','From'],axis=1,inplace=True)\n",
    "AR11[\"HardHitting2011\"]=(4*AR11[\"Four\"]+6*AR11[\"Six\"])/AR11[\"Balls \"]\n",
    "AR11[\"FastScoring2011\"]=AR11[\"Runs\"]/AR11[\"Balls \"]\n",
    "AR11[\"Running2011\"]=(AR11[\"Runs\"]-(4*AR11[\"Four\"]+6*AR11[\"Six\"]))/(AR11[\"Balls \"]-(AR11[\"Four\"]+AR11[\"Six\"]))\n",
    "AR11[\"consistency2011\"]=AR11[\"Runs Conceded\"]/AR11[\"Wicket\"]\n",
    "AR11[\"wickettaking2011\"]=AR11[\"Balls Bowled\"]/AR11[\"Wicket\"]"
   ]
  },
  {
   "cell_type": "markdown",
   "metadata": {},
   "source": [
    "<h2>2012</h2>"
   ]
  },
  {
   "cell_type": "code",
   "execution_count": 116,
   "metadata": {},
   "outputs": [],
   "source": [
    "two_012=pd.read_csv(\"C:/Users/samde/Desktop/Data Science/Datasets/IPL/IPL(2012-19).csv\")"
   ]
  },
  {
   "cell_type": "code",
   "execution_count": 117,
   "metadata": {},
   "outputs": [
    {
     "data": {
      "text/plain": [
       "BAT     14\n",
       "Bowl    11\n",
       "AR       7\n",
       "WK       5\n",
       "Name: Type, dtype: int64"
      ]
     },
     "execution_count": 117,
     "metadata": {},
     "output_type": "execute_result"
    }
   ],
   "source": [
    "two_012['Type'].value_counts()"
   ]
  },
  {
   "cell_type": "code",
   "execution_count": 119,
   "metadata": {},
   "outputs": [],
   "source": [
    "bat12=two_012[two_012['Type']=='BAT']\n",
    "ball12=two_012[two_012['Type']=='Bowl']\n",
    "AR12=two_012[two_012['Type']=='AR']\n",
    "wk12=two_012[two_012['Type']=='WK']"
   ]
  },
  {
   "cell_type": "code",
   "execution_count": 133,
   "metadata": {},
   "outputs": [
    {
     "data": {
      "text/html": [
       "<div>\n",
       "<style scoped>\n",
       "    .dataframe tbody tr th:only-of-type {\n",
       "        vertical-align: middle;\n",
       "    }\n",
       "\n",
       "    .dataframe tbody tr th {\n",
       "        vertical-align: top;\n",
       "    }\n",
       "\n",
       "    .dataframe thead th {\n",
       "        text-align: right;\n",
       "    }\n",
       "</style>\n",
       "<table border=\"1\" class=\"dataframe\">\n",
       "  <thead>\n",
       "    <tr style=\"text-align: right;\">\n",
       "      <th></th>\n",
       "      <th>Player's Name</th>\n",
       "      <th>Sl No</th>\n",
       "      <th>Team</th>\n",
       "      <th>From</th>\n",
       "      <th>Balls Bowled</th>\n",
       "      <th>Runs Concede</th>\n",
       "      <th>Economy</th>\n",
       "      <th>Wickets</th>\n",
       "      <th>Ct_St</th>\n",
       "      <th>Matches Played</th>\n",
       "      <th>Age</th>\n",
       "      <th>Type</th>\n",
       "    </tr>\n",
       "  </thead>\n",
       "  <tbody>\n",
       "    <tr>\n",
       "      <th>1</th>\n",
       "      <td>Deepak Chahar</td>\n",
       "      <td>76</td>\n",
       "      <td>RR</td>\n",
       "      <td>IND</td>\n",
       "      <td>0</td>\n",
       "      <td>0</td>\n",
       "      <td>-</td>\n",
       "      <td>0</td>\n",
       "      <td>0</td>\n",
       "      <td>0</td>\n",
       "      <td>19</td>\n",
       "      <td>Bowl</td>\n",
       "    </tr>\n",
       "    <tr>\n",
       "      <th>6</th>\n",
       "      <td>Harbhajan Singh</td>\n",
       "      <td>100</td>\n",
       "      <td>MI</td>\n",
       "      <td>IND</td>\n",
       "      <td>324</td>\n",
       "      <td>384</td>\n",
       "      <td>7.111111111</td>\n",
       "      <td>6</td>\n",
       "      <td>7</td>\n",
       "      <td>17</td>\n",
       "      <td>31</td>\n",
       "      <td>Bowl</td>\n",
       "    </tr>\n",
       "    <tr>\n",
       "      <th>10</th>\n",
       "      <td>Lasith Malinga</td>\n",
       "      <td>136</td>\n",
       "      <td>MI</td>\n",
       "      <td>SL</td>\n",
       "      <td>333</td>\n",
       "      <td>350</td>\n",
       "      <td>6.306306306</td>\n",
       "      <td>22</td>\n",
       "      <td>6</td>\n",
       "      <td>14</td>\n",
       "      <td>28</td>\n",
       "      <td>Bowl</td>\n",
       "    </tr>\n",
       "    <tr>\n",
       "      <th>15</th>\n",
       "      <td>Piyush Chawla</td>\n",
       "      <td>180</td>\n",
       "      <td>KXI</td>\n",
       "      <td>IND</td>\n",
       "      <td>342</td>\n",
       "      <td>419</td>\n",
       "      <td>7.350877193</td>\n",
       "      <td>16</td>\n",
       "      <td>3</td>\n",
       "      <td>16</td>\n",
       "      <td>23</td>\n",
       "      <td>Bowl</td>\n",
       "    </tr>\n",
       "    <tr>\n",
       "      <th>16</th>\n",
       "      <td>Kuldeep Yadav</td>\n",
       "      <td>132</td>\n",
       "      <td>MI</td>\n",
       "      <td>IND</td>\n",
       "      <td>0</td>\n",
       "      <td>0</td>\n",
       "      <td>-</td>\n",
       "      <td>0</td>\n",
       "      <td>0</td>\n",
       "      <td>1</td>\n",
       "      <td>17</td>\n",
       "      <td>Bowl</td>\n",
       "    </tr>\n",
       "  </tbody>\n",
       "</table>\n",
       "</div>"
      ],
      "text/plain": [
       "      Player's Name  Sl No Team From  Balls Bowled  Runs Concede      Economy  \\\n",
       "1     Deepak Chahar     76   RR  IND             0             0            -   \n",
       "6   Harbhajan Singh    100   MI  IND           324           384  7.111111111   \n",
       "10   Lasith Malinga    136   MI   SL           333           350  6.306306306   \n",
       "15    Piyush Chawla    180  KXI  IND           342           419  7.350877193   \n",
       "16    Kuldeep Yadav    132   MI  IND             0             0            -   \n",
       "\n",
       "    Wickets  Ct_St  Matches Played  Age  Type  \n",
       "1         0      0               0   19  Bowl  \n",
       "6         6      7              17   31  Bowl  \n",
       "10       22      6              14   28  Bowl  \n",
       "15       16      3              16   23  Bowl  \n",
       "16        0      0               1   17  Bowl  "
      ]
     },
     "execution_count": 133,
     "metadata": {},
     "output_type": "execute_result"
    }
   ],
   "source": [
    "ball12.head()"
   ]
  },
  {
   "cell_type": "code",
   "execution_count": 132,
   "metadata": {},
   "outputs": [
    {
     "name": "stderr",
     "output_type": "stream",
     "text": [
      "C:\\Users\\samde\\Miniconda3\\envs\\AI\\lib\\site-packages\\pandas\\core\\frame.py:3697: SettingWithCopyWarning: \n",
      "A value is trying to be set on a copy of a slice from a DataFrame\n",
      "\n",
      "See the caveats in the documentation: http://pandas.pydata.org/pandas-docs/stable/indexing.html#indexing-view-versus-copy\n",
      "  errors=errors)\n"
     ]
    }
   ],
   "source": [
    "ball12.drop([\"Run\",\"Ball\",\"Strike Rate\",\"Four\",\"Six\"],axis=1,inplace=True)"
   ]
  },
  {
   "cell_type": "code",
   "execution_count": 122,
   "metadata": {},
   "outputs": [
    {
     "name": "stderr",
     "output_type": "stream",
     "text": [
      "C:\\Users\\samde\\Miniconda3\\envs\\AI\\lib\\site-packages\\pandas\\core\\frame.py:3697: SettingWithCopyWarning: \n",
      "A value is trying to be set on a copy of a slice from a DataFrame\n",
      "\n",
      "See the caveats in the documentation: http://pandas.pydata.org/pandas-docs/stable/indexing.html#indexing-view-versus-copy\n",
      "  errors=errors)\n"
     ]
    }
   ],
   "source": [
    "bat12.drop(['Balls Bowled','Economy','Wickets','Runs Concede'],axis=1,inplace=True)"
   ]
  },
  {
   "cell_type": "code",
   "execution_count": 128,
   "metadata": {},
   "outputs": [
    {
     "data": {
      "text/html": [
       "<div>\n",
       "<style scoped>\n",
       "    .dataframe tbody tr th:only-of-type {\n",
       "        vertical-align: middle;\n",
       "    }\n",
       "\n",
       "    .dataframe tbody tr th {\n",
       "        vertical-align: top;\n",
       "    }\n",
       "\n",
       "    .dataframe thead th {\n",
       "        text-align: right;\n",
       "    }\n",
       "</style>\n",
       "<table border=\"1\" class=\"dataframe\">\n",
       "  <thead>\n",
       "    <tr style=\"text-align: right;\">\n",
       "      <th></th>\n",
       "      <th>Player's Name</th>\n",
       "      <th>Sl No</th>\n",
       "      <th>Team</th>\n",
       "      <th>From</th>\n",
       "      <th>Run</th>\n",
       "      <th>Ball</th>\n",
       "      <th>Strike Rate</th>\n",
       "      <th>Four</th>\n",
       "      <th>Six</th>\n",
       "      <th>Ct_St</th>\n",
       "      <th>Matches Played</th>\n",
       "      <th>Age</th>\n",
       "      <th>Type</th>\n",
       "      <th>HardHitting2012</th>\n",
       "      <th>FastScoring2012</th>\n",
       "      <th>Running2012</th>\n",
       "    </tr>\n",
       "  </thead>\n",
       "  <tbody>\n",
       "    <tr>\n",
       "      <th>2</th>\n",
       "      <td>Faf du Plessis</td>\n",
       "      <td>91</td>\n",
       "      <td>CSK</td>\n",
       "      <td>SA</td>\n",
       "      <td>398</td>\n",
       "      <td>304</td>\n",
       "      <td>130.9210526</td>\n",
       "      <td>29</td>\n",
       "      <td>17</td>\n",
       "      <td>4</td>\n",
       "      <td>12</td>\n",
       "      <td>27</td>\n",
       "      <td>BAT</td>\n",
       "      <td>0.717105</td>\n",
       "      <td>1.309211</td>\n",
       "      <td>0.697674</td>\n",
       "    </tr>\n",
       "    <tr>\n",
       "      <th>5</th>\n",
       "      <td>Ambati Rayudu</td>\n",
       "      <td>24</td>\n",
       "      <td>MI</td>\n",
       "      <td>IND</td>\n",
       "      <td>333</td>\n",
       "      <td>252</td>\n",
       "      <td>132.1428571</td>\n",
       "      <td>21</td>\n",
       "      <td>14</td>\n",
       "      <td>2</td>\n",
       "      <td>17</td>\n",
       "      <td>26</td>\n",
       "      <td>BAT</td>\n",
       "      <td>0.666667</td>\n",
       "      <td>1.321429</td>\n",
       "      <td>0.760369</td>\n",
       "    </tr>\n",
       "    <tr>\n",
       "      <th>7</th>\n",
       "      <td>Rohit Sharma</td>\n",
       "      <td>202</td>\n",
       "      <td>MI</td>\n",
       "      <td>IND</td>\n",
       "      <td>433</td>\n",
       "      <td>342</td>\n",
       "      <td>126.6081871</td>\n",
       "      <td>39</td>\n",
       "      <td>18</td>\n",
       "      <td>13</td>\n",
       "      <td>17</td>\n",
       "      <td>24</td>\n",
       "      <td>BAT</td>\n",
       "      <td>0.771930</td>\n",
       "      <td>1.266082</td>\n",
       "      <td>0.592982</td>\n",
       "    </tr>\n",
       "    <tr>\n",
       "      <th>13</th>\n",
       "      <td>Chris Lynn</td>\n",
       "      <td>63</td>\n",
       "      <td>DC</td>\n",
       "      <td>AUS</td>\n",
       "      <td>6</td>\n",
       "      <td>9</td>\n",
       "      <td>66.66666667</td>\n",
       "      <td>1</td>\n",
       "      <td>0</td>\n",
       "      <td>1</td>\n",
       "      <td>1</td>\n",
       "      <td>21</td>\n",
       "      <td>BAT</td>\n",
       "      <td>0.444444</td>\n",
       "      <td>0.666667</td>\n",
       "      <td>0.250000</td>\n",
       "    </tr>\n",
       "    <tr>\n",
       "      <th>20</th>\n",
       "      <td>Colin Ingram</td>\n",
       "      <td>65</td>\n",
       "      <td>DD</td>\n",
       "      <td>SA</td>\n",
       "      <td>0</td>\n",
       "      <td>0</td>\n",
       "      <td>-</td>\n",
       "      <td>0</td>\n",
       "      <td>0</td>\n",
       "      <td>0</td>\n",
       "      <td>0</td>\n",
       "      <td>26</td>\n",
       "      <td>BAT</td>\n",
       "      <td>NaN</td>\n",
       "      <td>NaN</td>\n",
       "      <td>NaN</td>\n",
       "    </tr>\n",
       "  </tbody>\n",
       "</table>\n",
       "</div>"
      ],
      "text/plain": [
       "     Player's Name  Sl No Team From  Run  Ball  Strike Rate  Four  Six  Ct_St  \\\n",
       "2   Faf du Plessis     91  CSK   SA  398   304  130.9210526    29   17      4   \n",
       "5    Ambati Rayudu     24   MI  IND  333   252  132.1428571    21   14      2   \n",
       "7     Rohit Sharma    202   MI  IND  433   342  126.6081871    39   18     13   \n",
       "13      Chris Lynn     63   DC  AUS    6     9  66.66666667     1    0      1   \n",
       "20    Colin Ingram     65   DD   SA    0     0            -     0    0      0   \n",
       "\n",
       "    Matches Played  Age Type  HardHitting2012  FastScoring2012  Running2012  \n",
       "2               12   27  BAT         0.717105         1.309211     0.697674  \n",
       "5               17   26  BAT         0.666667         1.321429     0.760369  \n",
       "7               17   24  BAT         0.771930         1.266082     0.592982  \n",
       "13               1   21  BAT         0.444444         0.666667     0.250000  \n",
       "20               0   26  BAT              NaN              NaN          NaN  "
      ]
     },
     "execution_count": 128,
     "metadata": {},
     "output_type": "execute_result"
    }
   ],
   "source": [
    "bat12.head()"
   ]
  },
  {
   "cell_type": "code",
   "execution_count": 124,
   "metadata": {},
   "outputs": [
    {
     "name": "stderr",
     "output_type": "stream",
     "text": [
      "C:\\Users\\samde\\Miniconda3\\envs\\AI\\lib\\site-packages\\ipykernel_launcher.py:1: SettingWithCopyWarning: \n",
      "A value is trying to be set on a copy of a slice from a DataFrame.\n",
      "Try using .loc[row_indexer,col_indexer] = value instead\n",
      "\n",
      "See the caveats in the documentation: http://pandas.pydata.org/pandas-docs/stable/indexing.html#indexing-view-versus-copy\n",
      "  \"\"\"Entry point for launching an IPython kernel.\n"
     ]
    }
   ],
   "source": [
    "bat12[\"HardHitting2012\"]=(4*bat12[\"Four\"]+6*bat12[\"Six\"])/bat12[\"Ball\"]"
   ]
  },
  {
   "cell_type": "code",
   "execution_count": 126,
   "metadata": {},
   "outputs": [
    {
     "name": "stderr",
     "output_type": "stream",
     "text": [
      "C:\\Users\\samde\\Miniconda3\\envs\\AI\\lib\\site-packages\\ipykernel_launcher.py:1: SettingWithCopyWarning: \n",
      "A value is trying to be set on a copy of a slice from a DataFrame.\n",
      "Try using .loc[row_indexer,col_indexer] = value instead\n",
      "\n",
      "See the caveats in the documentation: http://pandas.pydata.org/pandas-docs/stable/indexing.html#indexing-view-versus-copy\n",
      "  \"\"\"Entry point for launching an IPython kernel.\n"
     ]
    }
   ],
   "source": [
    "bat12[\"FastScoring2012\"]=bat12[\"Run\"]/bat12[\"Ball\"]"
   ]
  },
  {
   "cell_type": "code",
   "execution_count": 127,
   "metadata": {},
   "outputs": [
    {
     "name": "stderr",
     "output_type": "stream",
     "text": [
      "C:\\Users\\samde\\Miniconda3\\envs\\AI\\lib\\site-packages\\ipykernel_launcher.py:1: SettingWithCopyWarning: \n",
      "A value is trying to be set on a copy of a slice from a DataFrame.\n",
      "Try using .loc[row_indexer,col_indexer] = value instead\n",
      "\n",
      "See the caveats in the documentation: http://pandas.pydata.org/pandas-docs/stable/indexing.html#indexing-view-versus-copy\n",
      "  \"\"\"Entry point for launching an IPython kernel.\n"
     ]
    }
   ],
   "source": [
    "bat12[\"Running2012\"]=(bat12[\"Run\"]-(4*bat12[\"Four\"]+6*bat12[\"Six\"]))/(bat12[\"Ball\"]-(bat12[\"Four\"]+bat12[\"Six\"]))"
   ]
  },
  {
   "cell_type": "markdown",
   "metadata": {},
   "source": [
    "<h2>2015</h2>"
   ]
  },
  {
   "cell_type": "code",
   "execution_count": 64,
   "metadata": {},
   "outputs": [],
   "source": [
    "two_015=pd.read_csv(\"C:/Users/samde/Desktop/Data Science/Datasets/IPL/IPL(2015-19).csv\")"
   ]
  },
  {
   "cell_type": "code",
   "execution_count": 65,
   "metadata": {},
   "outputs": [
    {
     "data": {
      "text/plain": [
       "BAT     24\n",
       "Bowl    24\n",
       "AR      17\n",
       "WK       8\n",
       "Name: Type, dtype: int64"
      ]
     },
     "execution_count": 65,
     "metadata": {},
     "output_type": "execute_result"
    }
   ],
   "source": [
    "two_015['Type'].value_counts()"
   ]
  },
  {
   "cell_type": "code",
   "execution_count": 66,
   "metadata": {},
   "outputs": [],
   "source": [
    "bat15=two_015[two_015['Type']=='BAT']"
   ]
  },
  {
   "cell_type": "code",
   "execution_count": 99,
   "metadata": {},
   "outputs": [
    {
     "name": "stderr",
     "output_type": "stream",
     "text": [
      "C:\\Users\\samde\\Miniconda3\\envs\\AI\\lib\\site-packages\\pandas\\core\\frame.py:3697: SettingWithCopyWarning: \n",
      "A value is trying to be set on a copy of a slice from a DataFrame\n",
      "\n",
      "See the caveats in the documentation: http://pandas.pydata.org/pandas-docs/stable/indexing.html#indexing-view-versus-copy\n",
      "  errors=errors)\n"
     ]
    }
   ],
   "source": [
    "bat15.drop(['Balls Bowled','Economy','Wickets','Runs Conceded'],axis=1,inplace=True)"
   ]
  },
  {
   "cell_type": "code",
   "execution_count": 100,
   "metadata": {},
   "outputs": [
    {
     "data": {
      "text/html": [
       "<div>\n",
       "<style scoped>\n",
       "    .dataframe tbody tr th:only-of-type {\n",
       "        vertical-align: middle;\n",
       "    }\n",
       "\n",
       "    .dataframe tbody tr th {\n",
       "        vertical-align: top;\n",
       "    }\n",
       "\n",
       "    .dataframe thead th {\n",
       "        text-align: right;\n",
       "    }\n",
       "</style>\n",
       "<table border=\"1\" class=\"dataframe\">\n",
       "  <thead>\n",
       "    <tr style=\"text-align: right;\">\n",
       "      <th></th>\n",
       "      <th>Player's Name</th>\n",
       "      <th>Sl.No</th>\n",
       "      <th>Team</th>\n",
       "      <th>From</th>\n",
       "      <th>Run</th>\n",
       "      <th>Ball</th>\n",
       "      <th>Strike Rate</th>\n",
       "      <th>Four</th>\n",
       "      <th>Six</th>\n",
       "      <th>Highest Run Scored</th>\n",
       "      <th>Ct_St</th>\n",
       "      <th>Run Outs</th>\n",
       "      <th>Matches Played</th>\n",
       "      <th>Type</th>\n",
       "      <th>HardHitting2015</th>\n",
       "      <th>FastScoring2015</th>\n",
       "      <th>Running2015</th>\n",
       "    </tr>\n",
       "  </thead>\n",
       "  <tbody>\n",
       "    <tr>\n",
       "      <th>1</th>\n",
       "      <td>Suresh Raina</td>\n",
       "      <td>130</td>\n",
       "      <td>CSK</td>\n",
       "      <td>IND</td>\n",
       "      <td>374</td>\n",
       "      <td>305</td>\n",
       "      <td>122.6</td>\n",
       "      <td>31</td>\n",
       "      <td>16</td>\n",
       "      <td>62</td>\n",
       "      <td>11</td>\n",
       "      <td>0.0</td>\n",
       "      <td>17</td>\n",
       "      <td>BAT</td>\n",
       "      <td>0.721311</td>\n",
       "      <td>1.226230</td>\n",
       "      <td>0.596899</td>\n",
       "    </tr>\n",
       "    <tr>\n",
       "      <th>3</th>\n",
       "      <td>Faf du Plessis</td>\n",
       "      <td>40</td>\n",
       "      <td>CSK</td>\n",
       "      <td>SA</td>\n",
       "      <td>380</td>\n",
       "      <td>304</td>\n",
       "      <td>125</td>\n",
       "      <td>37</td>\n",
       "      <td>5</td>\n",
       "      <td>55</td>\n",
       "      <td>8</td>\n",
       "      <td>1.0</td>\n",
       "      <td>17</td>\n",
       "      <td>BAT</td>\n",
       "      <td>0.585526</td>\n",
       "      <td>1.250000</td>\n",
       "      <td>0.770992</td>\n",
       "    </tr>\n",
       "    <tr>\n",
       "      <th>8</th>\n",
       "      <td>Kedar Jadhav</td>\n",
       "      <td>66</td>\n",
       "      <td>DD</td>\n",
       "      <td>IND</td>\n",
       "      <td>189</td>\n",
       "      <td>140</td>\n",
       "      <td>135</td>\n",
       "      <td>16</td>\n",
       "      <td>7</td>\n",
       "      <td>63</td>\n",
       "      <td>9</td>\n",
       "      <td>0.5</td>\n",
       "      <td>14</td>\n",
       "      <td>BAT</td>\n",
       "      <td>0.757143</td>\n",
       "      <td>1.350000</td>\n",
       "      <td>0.709402</td>\n",
       "    </tr>\n",
       "    <tr>\n",
       "      <th>9</th>\n",
       "      <td>Ambati Rayudu</td>\n",
       "      <td>7</td>\n",
       "      <td>MI</td>\n",
       "      <td>IND</td>\n",
       "      <td>281</td>\n",
       "      <td>193</td>\n",
       "      <td>145.6</td>\n",
       "      <td>18</td>\n",
       "      <td>16</td>\n",
       "      <td>53</td>\n",
       "      <td>9</td>\n",
       "      <td>0.0</td>\n",
       "      <td>15</td>\n",
       "      <td>BAT</td>\n",
       "      <td>0.870466</td>\n",
       "      <td>1.455959</td>\n",
       "      <td>0.710692</td>\n",
       "    </tr>\n",
       "    <tr>\n",
       "      <th>13</th>\n",
       "      <td>Rohit Sharma</td>\n",
       "      <td>108</td>\n",
       "      <td>MI</td>\n",
       "      <td>IND</td>\n",
       "      <td>482</td>\n",
       "      <td>333</td>\n",
       "      <td>144.7</td>\n",
       "      <td>41</td>\n",
       "      <td>21</td>\n",
       "      <td>98</td>\n",
       "      <td>5</td>\n",
       "      <td>0.5</td>\n",
       "      <td>16</td>\n",
       "      <td>BAT</td>\n",
       "      <td>0.870871</td>\n",
       "      <td>1.447447</td>\n",
       "      <td>0.708487</td>\n",
       "    </tr>\n",
       "  </tbody>\n",
       "</table>\n",
       "</div>"
      ],
      "text/plain": [
       "     Player's Name  Sl.No Team From  Run  Ball Strike Rate  Four  Six  \\\n",
       "1     Suresh Raina    130  CSK  IND  374   305       122.6    31   16   \n",
       "3   Faf du Plessis     40  CSK   SA  380   304         125    37    5   \n",
       "8     Kedar Jadhav     66   DD  IND  189   140         135    16    7   \n",
       "9    Ambati Rayudu      7   MI  IND  281   193       145.6    18   16   \n",
       "13    Rohit Sharma    108   MI  IND  482   333       144.7    41   21   \n",
       "\n",
       "    Highest Run Scored  Ct_St  Run Outs  Matches Played Type  HardHitting2015  \\\n",
       "1                   62     11       0.0              17  BAT         0.721311   \n",
       "3                   55      8       1.0              17  BAT         0.585526   \n",
       "8                   63      9       0.5              14  BAT         0.757143   \n",
       "9                   53      9       0.0              15  BAT         0.870466   \n",
       "13                  98      5       0.5              16  BAT         0.870871   \n",
       "\n",
       "    FastScoring2015  Running2015  \n",
       "1          1.226230     0.596899  \n",
       "3          1.250000     0.770992  \n",
       "8          1.350000     0.709402  \n",
       "9          1.455959     0.710692  \n",
       "13         1.447447     0.708487  "
      ]
     },
     "execution_count": 100,
     "metadata": {},
     "output_type": "execute_result"
    }
   ],
   "source": [
    "bat15.head()"
   ]
  },
  {
   "cell_type": "code",
   "execution_count": 68,
   "metadata": {},
   "outputs": [
    {
     "name": "stderr",
     "output_type": "stream",
     "text": [
      "C:\\Users\\samde\\Miniconda3\\envs\\AI\\lib\\site-packages\\ipykernel_launcher.py:1: SettingWithCopyWarning: \n",
      "A value is trying to be set on a copy of a slice from a DataFrame.\n",
      "Try using .loc[row_indexer,col_indexer] = value instead\n",
      "\n",
      "See the caveats in the documentation: http://pandas.pydata.org/pandas-docs/stable/indexing.html#indexing-view-versus-copy\n",
      "  \"\"\"Entry point for launching an IPython kernel.\n"
     ]
    }
   ],
   "source": [
    "bat15[\"HardHitting2015\"]=(4*bat15[\"Four\"]+6*bat15[\"Six\"])/bat15[\"Ball\"]"
   ]
  },
  {
   "cell_type": "code",
   "execution_count": 69,
   "metadata": {},
   "outputs": [
    {
     "name": "stderr",
     "output_type": "stream",
     "text": [
      "C:\\Users\\samde\\Miniconda3\\envs\\AI\\lib\\site-packages\\ipykernel_launcher.py:1: SettingWithCopyWarning: \n",
      "A value is trying to be set on a copy of a slice from a DataFrame.\n",
      "Try using .loc[row_indexer,col_indexer] = value instead\n",
      "\n",
      "See the caveats in the documentation: http://pandas.pydata.org/pandas-docs/stable/indexing.html#indexing-view-versus-copy\n",
      "  \"\"\"Entry point for launching an IPython kernel.\n"
     ]
    }
   ],
   "source": [
    "bat15[\"FastScoring2015\"]=bat15[\"Run\"]/bat15[\"Ball\"]"
   ]
  },
  {
   "cell_type": "code",
   "execution_count": 70,
   "metadata": {},
   "outputs": [
    {
     "name": "stderr",
     "output_type": "stream",
     "text": [
      "C:\\Users\\samde\\Miniconda3\\envs\\AI\\lib\\site-packages\\ipykernel_launcher.py:1: SettingWithCopyWarning: \n",
      "A value is trying to be set on a copy of a slice from a DataFrame.\n",
      "Try using .loc[row_indexer,col_indexer] = value instead\n",
      "\n",
      "See the caveats in the documentation: http://pandas.pydata.org/pandas-docs/stable/indexing.html#indexing-view-versus-copy\n",
      "  \"\"\"Entry point for launching an IPython kernel.\n"
     ]
    }
   ],
   "source": [
    "bat15[\"Running2015\"]=(bat15[\"Run\"]-(4*bat15[\"Four\"]+6*bat15[\"Six\"]))/(bat15[\"Ball\"]-(bat15[\"Four\"]+bat15[\"Six\"]))"
   ]
  },
  {
   "cell_type": "code",
   "execution_count": 71,
   "metadata": {},
   "outputs": [],
   "source": [
    "ball15=two_015[two_015['Type']=='Bowl']"
   ]
  },
  {
   "cell_type": "code",
   "execution_count": 103,
   "metadata": {},
   "outputs": [
    {
     "name": "stderr",
     "output_type": "stream",
     "text": [
      "C:\\Users\\samde\\Miniconda3\\envs\\AI\\lib\\site-packages\\pandas\\core\\frame.py:3697: SettingWithCopyWarning: \n",
      "A value is trying to be set on a copy of a slice from a DataFrame\n",
      "\n",
      "See the caveats in the documentation: http://pandas.pydata.org/pandas-docs/stable/indexing.html#indexing-view-versus-copy\n",
      "  errors=errors)\n"
     ]
    }
   ],
   "source": [
    "ball15.drop([\"Run\",\"Ball\",\"Strike Rate\",\"Four\",\"Six\",\"Highest Run Scored\",\"Run Outs\"],axis=1,inplace=True)"
   ]
  },
  {
   "cell_type": "code",
   "execution_count": 274,
   "metadata": {},
   "outputs": [
    {
     "data": {
      "text/html": [
       "<div>\n",
       "<style scoped>\n",
       "    .dataframe tbody tr th:only-of-type {\n",
       "        vertical-align: middle;\n",
       "    }\n",
       "\n",
       "    .dataframe tbody tr th {\n",
       "        vertical-align: top;\n",
       "    }\n",
       "\n",
       "    .dataframe thead th {\n",
       "        text-align: right;\n",
       "    }\n",
       "</style>\n",
       "<table border=\"1\" class=\"dataframe\">\n",
       "  <thead>\n",
       "    <tr style=\"text-align: right;\">\n",
       "      <th></th>\n",
       "      <th>Player's Name</th>\n",
       "      <th>Sl.No</th>\n",
       "      <th>Team</th>\n",
       "      <th>From</th>\n",
       "      <th>Balls Bowled</th>\n",
       "      <th>Runs Conceded</th>\n",
       "      <th>Economy</th>\n",
       "      <th>Wickets</th>\n",
       "      <th>Ct_St</th>\n",
       "      <th>Matches Played</th>\n",
       "      <th>Type</th>\n",
       "    </tr>\n",
       "  </thead>\n",
       "  <tbody>\n",
       "    <tr>\n",
       "      <th>7</th>\n",
       "      <td>Imran Tahir</td>\n",
       "      <td>50</td>\n",
       "      <td>DD</td>\n",
       "      <td>SA</td>\n",
       "      <td>213</td>\n",
       "      <td>314</td>\n",
       "      <td>8.8</td>\n",
       "      <td>15</td>\n",
       "      <td>3</td>\n",
       "      <td>10</td>\n",
       "      <td>Bowl</td>\n",
       "    </tr>\n",
       "    <tr>\n",
       "      <th>10</th>\n",
       "      <td>Harbhajan Singh</td>\n",
       "      <td>47</td>\n",
       "      <td>MI</td>\n",
       "      <td>IND</td>\n",
       "      <td>342</td>\n",
       "      <td>446</td>\n",
       "      <td>7.8</td>\n",
       "      <td>18</td>\n",
       "      <td>3</td>\n",
       "      <td>15</td>\n",
       "      <td>Bowl</td>\n",
       "    </tr>\n",
       "    <tr>\n",
       "      <th>11</th>\n",
       "      <td>Shardul Thakur</td>\n",
       "      <td>120</td>\n",
       "      <td>KXI</td>\n",
       "      <td>IND</td>\n",
       "      <td>18</td>\n",
       "      <td>38</td>\n",
       "      <td>12.7</td>\n",
       "      <td>1</td>\n",
       "      <td>0</td>\n",
       "      <td>1</td>\n",
       "      <td>Bowl</td>\n",
       "    </tr>\n",
       "    <tr>\n",
       "      <th>12</th>\n",
       "      <td>Mohit Sharma</td>\n",
       "      <td>82</td>\n",
       "      <td>CSK</td>\n",
       "      <td>IND</td>\n",
       "      <td>342</td>\n",
       "      <td>481</td>\n",
       "      <td>8.4</td>\n",
       "      <td>14</td>\n",
       "      <td>5</td>\n",
       "      <td>16</td>\n",
       "      <td>Bowl</td>\n",
       "    </tr>\n",
       "    <tr>\n",
       "      <th>15</th>\n",
       "      <td>Jasprit Bumrah</td>\n",
       "      <td>56</td>\n",
       "      <td>MI</td>\n",
       "      <td>IND</td>\n",
       "      <td>90</td>\n",
       "      <td>184</td>\n",
       "      <td>12.3</td>\n",
       "      <td>3</td>\n",
       "      <td>0</td>\n",
       "      <td>4</td>\n",
       "      <td>Bowl</td>\n",
       "    </tr>\n",
       "  </tbody>\n",
       "</table>\n",
       "</div>"
      ],
      "text/plain": [
       "      Player's Name  Sl.No Team From  Balls Bowled  Runs Conceded Economy  \\\n",
       "7       Imran Tahir     50   DD   SA           213            314     8.8   \n",
       "10  Harbhajan Singh     47   MI  IND           342            446     7.8   \n",
       "11   Shardul Thakur    120  KXI  IND            18             38    12.7   \n",
       "12     Mohit Sharma     82  CSK  IND           342            481     8.4   \n",
       "15   Jasprit Bumrah     56   MI  IND            90            184    12.3   \n",
       "\n",
       "    Wickets  Ct_St  Matches Played  Type  \n",
       "7        15      3              10  Bowl  \n",
       "10       18      3              15  Bowl  \n",
       "11        1      0               1  Bowl  \n",
       "12       14      5              16  Bowl  \n",
       "15        3      0               4  Bowl  "
      ]
     },
     "execution_count": 274,
     "metadata": {},
     "output_type": "execute_result"
    }
   ],
   "source": [
    "ball15.head()"
   ]
  },
  {
   "cell_type": "code",
   "execution_count": 275,
   "metadata": {},
   "outputs": [
    {
     "name": "stderr",
     "output_type": "stream",
     "text": [
      "C:\\Users\\samde\\Miniconda3\\envs\\AI\\lib\\site-packages\\ipykernel_launcher.py:1: SettingWithCopyWarning: \n",
      "A value is trying to be set on a copy of a slice from a DataFrame.\n",
      "Try using .loc[row_indexer,col_indexer] = value instead\n",
      "\n",
      "See the caveats in the documentation: http://pandas.pydata.org/pandas-docs/stable/indexing.html#indexing-view-versus-copy\n",
      "  \"\"\"Entry point for launching an IPython kernel.\n"
     ]
    }
   ],
   "source": [
    "ball15[\"consistency2015\"]=ball15[\"Runs Conceded\"]/ball15[\"Wickets\"]\n",
    "ball15[\"wickettaking2015\"]=ball15[\"Balls Bowled\"]/ball15[\"Wickets\"]"
   ]
  },
  {
   "cell_type": "code",
   "execution_count": 293,
   "metadata": {},
   "outputs": [
    {
     "name": "stderr",
     "output_type": "stream",
     "text": [
      "C:\\Users\\samde\\Miniconda3\\envs\\AI\\lib\\site-packages\\pandas\\core\\frame.py:3697: SettingWithCopyWarning: \n",
      "A value is trying to be set on a copy of a slice from a DataFrame\n",
      "\n",
      "See the caveats in the documentation: http://pandas.pydata.org/pandas-docs/stable/indexing.html#indexing-view-versus-copy\n",
      "  errors=errors)\n"
     ]
    }
   ],
   "source": [
    "ball15.drop(['Team','Sl.No','Ct_St'],axis=1,inplace=True)"
   ]
  },
  {
   "cell_type": "code",
   "execution_count": 294,
   "metadata": {},
   "outputs": [
    {
     "data": {
      "text/html": [
       "<div>\n",
       "<style scoped>\n",
       "    .dataframe tbody tr th:only-of-type {\n",
       "        vertical-align: middle;\n",
       "    }\n",
       "\n",
       "    .dataframe tbody tr th {\n",
       "        vertical-align: top;\n",
       "    }\n",
       "\n",
       "    .dataframe thead th {\n",
       "        text-align: right;\n",
       "    }\n",
       "</style>\n",
       "<table border=\"1\" class=\"dataframe\">\n",
       "  <thead>\n",
       "    <tr style=\"text-align: right;\">\n",
       "      <th></th>\n",
       "      <th>Player's Name</th>\n",
       "      <th>From</th>\n",
       "      <th>Balls Bowled</th>\n",
       "      <th>Runs Conceded</th>\n",
       "      <th>Economy</th>\n",
       "      <th>Wickets</th>\n",
       "      <th>Matches Played</th>\n",
       "      <th>Type</th>\n",
       "      <th>consistency2015</th>\n",
       "      <th>wickettaking2015</th>\n",
       "    </tr>\n",
       "  </thead>\n",
       "  <tbody>\n",
       "    <tr>\n",
       "      <th>7</th>\n",
       "      <td>Imran Tahir</td>\n",
       "      <td>SA</td>\n",
       "      <td>213</td>\n",
       "      <td>314</td>\n",
       "      <td>8.8</td>\n",
       "      <td>15</td>\n",
       "      <td>10</td>\n",
       "      <td>Bowl</td>\n",
       "      <td>20.933333</td>\n",
       "      <td>14.200000</td>\n",
       "    </tr>\n",
       "    <tr>\n",
       "      <th>10</th>\n",
       "      <td>Harbhajan Singh</td>\n",
       "      <td>IND</td>\n",
       "      <td>342</td>\n",
       "      <td>446</td>\n",
       "      <td>7.8</td>\n",
       "      <td>18</td>\n",
       "      <td>15</td>\n",
       "      <td>Bowl</td>\n",
       "      <td>24.777778</td>\n",
       "      <td>19.000000</td>\n",
       "    </tr>\n",
       "    <tr>\n",
       "      <th>11</th>\n",
       "      <td>Shardul Thakur</td>\n",
       "      <td>IND</td>\n",
       "      <td>18</td>\n",
       "      <td>38</td>\n",
       "      <td>12.7</td>\n",
       "      <td>1</td>\n",
       "      <td>1</td>\n",
       "      <td>Bowl</td>\n",
       "      <td>38.000000</td>\n",
       "      <td>18.000000</td>\n",
       "    </tr>\n",
       "    <tr>\n",
       "      <th>12</th>\n",
       "      <td>Mohit Sharma</td>\n",
       "      <td>IND</td>\n",
       "      <td>342</td>\n",
       "      <td>481</td>\n",
       "      <td>8.4</td>\n",
       "      <td>14</td>\n",
       "      <td>16</td>\n",
       "      <td>Bowl</td>\n",
       "      <td>34.357143</td>\n",
       "      <td>24.428571</td>\n",
       "    </tr>\n",
       "    <tr>\n",
       "      <th>15</th>\n",
       "      <td>Jasprit Bumrah</td>\n",
       "      <td>IND</td>\n",
       "      <td>90</td>\n",
       "      <td>184</td>\n",
       "      <td>12.3</td>\n",
       "      <td>3</td>\n",
       "      <td>4</td>\n",
       "      <td>Bowl</td>\n",
       "      <td>61.333333</td>\n",
       "      <td>30.000000</td>\n",
       "    </tr>\n",
       "  </tbody>\n",
       "</table>\n",
       "</div>"
      ],
      "text/plain": [
       "      Player's Name From  Balls Bowled  Runs Conceded Economy  Wickets  \\\n",
       "7       Imran Tahir   SA           213            314     8.8       15   \n",
       "10  Harbhajan Singh  IND           342            446     7.8       18   \n",
       "11   Shardul Thakur  IND            18             38    12.7        1   \n",
       "12     Mohit Sharma  IND           342            481     8.4       14   \n",
       "15   Jasprit Bumrah  IND            90            184    12.3        3   \n",
       "\n",
       "    Matches Played  Type  consistency2015  wickettaking2015  \n",
       "7               10  Bowl        20.933333         14.200000  \n",
       "10              15  Bowl        24.777778         19.000000  \n",
       "11               1  Bowl        38.000000         18.000000  \n",
       "12              16  Bowl        34.357143         24.428571  \n",
       "15               4  Bowl        61.333333         30.000000  "
      ]
     },
     "execution_count": 294,
     "metadata": {},
     "output_type": "execute_result"
    }
   ],
   "source": [
    "ball15.head()"
   ]
  },
  {
   "cell_type": "code",
   "execution_count": 72,
   "metadata": {
    "scrolled": true
   },
   "outputs": [],
   "source": [
    "AR15=two_015[two_015['Type']=='AR']"
   ]
  },
  {
   "cell_type": "code",
   "execution_count": 286,
   "metadata": {},
   "outputs": [
    {
     "name": "stderr",
     "output_type": "stream",
     "text": [
      "C:\\Users\\samde\\Miniconda3\\envs\\AI\\lib\\site-packages\\pandas\\core\\frame.py:3697: SettingWithCopyWarning: \n",
      "A value is trying to be set on a copy of a slice from a DataFrame\n",
      "\n",
      "See the caveats in the documentation: http://pandas.pydata.org/pandas-docs/stable/indexing.html#indexing-view-versus-copy\n",
      "  errors=errors)\n"
     ]
    }
   ],
   "source": [
    "AR15.drop(['Team','Sl.No','From'],axis=1,inplace=True)"
   ]
  },
  {
   "cell_type": "code",
   "execution_count": 456,
   "metadata": {},
   "outputs": [
    {
     "name": "stderr",
     "output_type": "stream",
     "text": [
      "C:\\Users\\samde\\Miniconda3\\envs\\AI\\lib\\site-packages\\ipykernel_launcher.py:1: SettingWithCopyWarning: \n",
      "A value is trying to be set on a copy of a slice from a DataFrame.\n",
      "Try using .loc[row_indexer,col_indexer] = value instead\n",
      "\n",
      "See the caveats in the documentation: http://pandas.pydata.org/pandas-docs/stable/indexing.html#indexing-view-versus-copy\n",
      "  \"\"\"Entry point for launching an IPython kernel.\n",
      "C:\\Users\\samde\\Miniconda3\\envs\\AI\\lib\\site-packages\\ipykernel_launcher.py:2: SettingWithCopyWarning: \n",
      "A value is trying to be set on a copy of a slice from a DataFrame.\n",
      "Try using .loc[row_indexer,col_indexer] = value instead\n",
      "\n",
      "See the caveats in the documentation: http://pandas.pydata.org/pandas-docs/stable/indexing.html#indexing-view-versus-copy\n",
      "  \n",
      "C:\\Users\\samde\\Miniconda3\\envs\\AI\\lib\\site-packages\\ipykernel_launcher.py:3: SettingWithCopyWarning: \n",
      "A value is trying to be set on a copy of a slice from a DataFrame.\n",
      "Try using .loc[row_indexer,col_indexer] = value instead\n",
      "\n",
      "See the caveats in the documentation: http://pandas.pydata.org/pandas-docs/stable/indexing.html#indexing-view-versus-copy\n",
      "  This is separate from the ipykernel package so we can avoid doing imports until\n"
     ]
    }
   ],
   "source": [
    "AR15[\"HardHitting2015\"]=(4*AR15[\"Four\"]+6*AR15[\"Six\"])/AR15[\"Ball\"]\n",
    "AR15[\"FastScoring2015\"]=AR15[\"Run\"]/AR15[\"Ball\"]\n",
    "AR15[\"Running2015\"]=(AR15[\"Run\"]-(4*AR15[\"Four\"]+6*AR15[\"Six\"]))/(AR15[\"Ball\"]-(AR15[\"Four\"]+AR15[\"Six\"]))"
   ]
  },
  {
   "cell_type": "code",
   "execution_count": 457,
   "metadata": {},
   "outputs": [
    {
     "name": "stderr",
     "output_type": "stream",
     "text": [
      "C:\\Users\\samde\\Miniconda3\\envs\\AI\\lib\\site-packages\\ipykernel_launcher.py:1: SettingWithCopyWarning: \n",
      "A value is trying to be set on a copy of a slice from a DataFrame.\n",
      "Try using .loc[row_indexer,col_indexer] = value instead\n",
      "\n",
      "See the caveats in the documentation: http://pandas.pydata.org/pandas-docs/stable/indexing.html#indexing-view-versus-copy\n",
      "  \"\"\"Entry point for launching an IPython kernel.\n",
      "C:\\Users\\samde\\Miniconda3\\envs\\AI\\lib\\site-packages\\ipykernel_launcher.py:2: SettingWithCopyWarning: \n",
      "A value is trying to be set on a copy of a slice from a DataFrame.\n",
      "Try using .loc[row_indexer,col_indexer] = value instead\n",
      "\n",
      "See the caveats in the documentation: http://pandas.pydata.org/pandas-docs/stable/indexing.html#indexing-view-versus-copy\n",
      "  \n"
     ]
    }
   ],
   "source": [
    "AR15[\"consistency2015\"]=AR15[\"Runs Conceded\"]/AR15[\"Wickets\"]\n",
    "AR15[\"wickettaking2015\"]=AR15[\"Balls Bowled\"]/AR15[\"Wickets\"]"
   ]
  },
  {
   "cell_type": "code",
   "execution_count": 458,
   "metadata": {},
   "outputs": [
    {
     "data": {
      "text/html": [
       "<div>\n",
       "<style scoped>\n",
       "    .dataframe tbody tr th:only-of-type {\n",
       "        vertical-align: middle;\n",
       "    }\n",
       "\n",
       "    .dataframe tbody tr th {\n",
       "        vertical-align: top;\n",
       "    }\n",
       "\n",
       "    .dataframe thead th {\n",
       "        text-align: right;\n",
       "    }\n",
       "</style>\n",
       "<table border=\"1\" class=\"dataframe\">\n",
       "  <thead>\n",
       "    <tr style=\"text-align: right;\">\n",
       "      <th></th>\n",
       "      <th>Player's Name</th>\n",
       "      <th>Run</th>\n",
       "      <th>Ball</th>\n",
       "      <th>Strike Rate</th>\n",
       "      <th>Four</th>\n",
       "      <th>Six</th>\n",
       "      <th>Highest Run Scored</th>\n",
       "      <th>Balls Bowled</th>\n",
       "      <th>Runs Conceded</th>\n",
       "      <th>Economy</th>\n",
       "      <th>Wickets</th>\n",
       "      <th>Ct_St</th>\n",
       "      <th>Run Outs</th>\n",
       "      <th>Matches Played</th>\n",
       "      <th>Type</th>\n",
       "      <th>HardHitting2015</th>\n",
       "      <th>FastScoring2015</th>\n",
       "      <th>Running2015</th>\n",
       "      <th>consistency2015</th>\n",
       "      <th>wickettaking2015</th>\n",
       "    </tr>\n",
       "  </thead>\n",
       "  <tbody>\n",
       "    <tr>\n",
       "      <th>2</th>\n",
       "      <td>Karn Sharma</td>\n",
       "      <td>104</td>\n",
       "      <td>85</td>\n",
       "      <td>122.4</td>\n",
       "      <td>3</td>\n",
       "      <td>6</td>\n",
       "      <td>32</td>\n",
       "      <td>239</td>\n",
       "      <td>332</td>\n",
       "      <td>8.3</td>\n",
       "      <td>10</td>\n",
       "      <td>4</td>\n",
       "      <td>0.0</td>\n",
       "      <td>14</td>\n",
       "      <td>AR</td>\n",
       "      <td>0.564706</td>\n",
       "      <td>1.223529</td>\n",
       "      <td>0.736842</td>\n",
       "      <td>33.200000</td>\n",
       "      <td>23.900000</td>\n",
       "    </tr>\n",
       "    <tr>\n",
       "      <th>4</th>\n",
       "      <td>Ravindra Jadeja</td>\n",
       "      <td>132</td>\n",
       "      <td>126</td>\n",
       "      <td>104.8</td>\n",
       "      <td>7</td>\n",
       "      <td>3</td>\n",
       "      <td>24</td>\n",
       "      <td>256</td>\n",
       "      <td>330</td>\n",
       "      <td>7.7</td>\n",
       "      <td>11</td>\n",
       "      <td>13</td>\n",
       "      <td>1.0</td>\n",
       "      <td>17</td>\n",
       "      <td>AR</td>\n",
       "      <td>0.365079</td>\n",
       "      <td>1.047619</td>\n",
       "      <td>0.741379</td>\n",
       "      <td>30.000000</td>\n",
       "      <td>23.272727</td>\n",
       "    </tr>\n",
       "    <tr>\n",
       "      <th>5</th>\n",
       "      <td>Dwayne Bravo</td>\n",
       "      <td>195</td>\n",
       "      <td>148</td>\n",
       "      <td>131.8</td>\n",
       "      <td>22</td>\n",
       "      <td>5</td>\n",
       "      <td>62</td>\n",
       "      <td>314</td>\n",
       "      <td>426</td>\n",
       "      <td>8.1</td>\n",
       "      <td>26</td>\n",
       "      <td>13</td>\n",
       "      <td>2.0</td>\n",
       "      <td>17</td>\n",
       "      <td>AR</td>\n",
       "      <td>0.797297</td>\n",
       "      <td>1.317568</td>\n",
       "      <td>0.636364</td>\n",
       "      <td>16.384615</td>\n",
       "      <td>12.076923</td>\n",
       "    </tr>\n",
       "    <tr>\n",
       "      <th>6</th>\n",
       "      <td>Shane Watson</td>\n",
       "      <td>347</td>\n",
       "      <td>257</td>\n",
       "      <td>135</td>\n",
       "      <td>37</td>\n",
       "      <td>14</td>\n",
       "      <td>104</td>\n",
       "      <td>174</td>\n",
       "      <td>269</td>\n",
       "      <td>9.3</td>\n",
       "      <td>6</td>\n",
       "      <td>1</td>\n",
       "      <td>1.0</td>\n",
       "      <td>10</td>\n",
       "      <td>AR</td>\n",
       "      <td>0.902724</td>\n",
       "      <td>1.350195</td>\n",
       "      <td>0.558252</td>\n",
       "      <td>44.833333</td>\n",
       "      <td>29.000000</td>\n",
       "    </tr>\n",
       "    <tr>\n",
       "      <th>14</th>\n",
       "      <td>Hardik Pandya</td>\n",
       "      <td>112</td>\n",
       "      <td>62</td>\n",
       "      <td>180.6</td>\n",
       "      <td>9</td>\n",
       "      <td>8</td>\n",
       "      <td>61</td>\n",
       "      <td>102</td>\n",
       "      <td>176</td>\n",
       "      <td>10.4</td>\n",
       "      <td>1</td>\n",
       "      <td>7</td>\n",
       "      <td>0.5</td>\n",
       "      <td>9</td>\n",
       "      <td>AR</td>\n",
       "      <td>1.354839</td>\n",
       "      <td>1.806452</td>\n",
       "      <td>0.622222</td>\n",
       "      <td>176.000000</td>\n",
       "      <td>102.000000</td>\n",
       "    </tr>\n",
       "  </tbody>\n",
       "</table>\n",
       "</div>"
      ],
      "text/plain": [
       "      Player's Name  Run  Ball Strike Rate  Four  Six  Highest Run Scored  \\\n",
       "2       Karn Sharma  104    85       122.4     3    6                  32   \n",
       "4   Ravindra Jadeja  132   126       104.8     7    3                  24   \n",
       "5      Dwayne Bravo  195   148       131.8    22    5                  62   \n",
       "6      Shane Watson  347   257         135    37   14                 104   \n",
       "14    Hardik Pandya  112    62       180.6     9    8                  61   \n",
       "\n",
       "    Balls Bowled  Runs Conceded Economy  Wickets  Ct_St  Run Outs  \\\n",
       "2            239            332     8.3       10      4       0.0   \n",
       "4            256            330     7.7       11     13       1.0   \n",
       "5            314            426     8.1       26     13       2.0   \n",
       "6            174            269     9.3        6      1       1.0   \n",
       "14           102            176    10.4        1      7       0.5   \n",
       "\n",
       "    Matches Played Type  HardHitting2015  FastScoring2015  Running2015  \\\n",
       "2               14   AR         0.564706         1.223529     0.736842   \n",
       "4               17   AR         0.365079         1.047619     0.741379   \n",
       "5               17   AR         0.797297         1.317568     0.636364   \n",
       "6               10   AR         0.902724         1.350195     0.558252   \n",
       "14               9   AR         1.354839         1.806452     0.622222   \n",
       "\n",
       "    consistency2015  wickettaking2015  \n",
       "2         33.200000         23.900000  \n",
       "4         30.000000         23.272727  \n",
       "5         16.384615         12.076923  \n",
       "6         44.833333         29.000000  \n",
       "14       176.000000        102.000000  "
      ]
     },
     "execution_count": 458,
     "metadata": {},
     "output_type": "execute_result"
    }
   ],
   "source": [
    "AR15.head()"
   ]
  },
  {
   "cell_type": "code",
   "execution_count": 73,
   "metadata": {},
   "outputs": [],
   "source": [
    "wk15=two_015[two_015['Type']=='WK']"
   ]
  },
  {
   "cell_type": "markdown",
   "metadata": {},
   "source": [
    "<h2>2013</h2>"
   ]
  },
  {
   "cell_type": "code",
   "execution_count": 74,
   "metadata": {},
   "outputs": [],
   "source": [
    "two_013=pd.read_csv(\"C:/Users/samde/Desktop/Data Science/Datasets/IPL/IPL(2013-19).csv\")"
   ]
  },
  {
   "cell_type": "code",
   "execution_count": 75,
   "metadata": {},
   "outputs": [
    {
     "data": {
      "text/plain": [
       "BAT     20\n",
       "Bowl    20\n",
       "AR      17\n",
       "WK       8\n",
       "Name: Type, dtype: int64"
      ]
     },
     "execution_count": 75,
     "metadata": {},
     "output_type": "execute_result"
    }
   ],
   "source": [
    "two_013['Type'].value_counts()"
   ]
  },
  {
   "cell_type": "code",
   "execution_count": 76,
   "metadata": {},
   "outputs": [],
   "source": [
    "bat13=two_013[two_013['Type']=='BAT']\n",
    "ball13=two_013[two_013['Type']=='Bowl']\n",
    "AR13=two_013[two_013['Type']=='AR']\n",
    "wk13=two_013[two_013['Type']=='WK']"
   ]
  },
  {
   "cell_type": "code",
   "execution_count": 104,
   "metadata": {},
   "outputs": [
    {
     "name": "stderr",
     "output_type": "stream",
     "text": [
      "C:\\Users\\samde\\Miniconda3\\envs\\AI\\lib\\site-packages\\pandas\\core\\frame.py:3697: SettingWithCopyWarning: \n",
      "A value is trying to be set on a copy of a slice from a DataFrame\n",
      "\n",
      "See the caveats in the documentation: http://pandas.pydata.org/pandas-docs/stable/indexing.html#indexing-view-versus-copy\n",
      "  errors=errors)\n"
     ]
    }
   ],
   "source": [
    "ball13.drop([\"Run\",\"Ball\",\"Strike Rate\",\"Four\",\"Six\",\"Highest Run Scored\",\"Run Outs\"],axis=1,inplace=True)"
   ]
  },
  {
   "cell_type": "code",
   "execution_count": 97,
   "metadata": {},
   "outputs": [
    {
     "name": "stderr",
     "output_type": "stream",
     "text": [
      "C:\\Users\\samde\\Miniconda3\\envs\\AI\\lib\\site-packages\\pandas\\core\\frame.py:3697: SettingWithCopyWarning: \n",
      "A value is trying to be set on a copy of a slice from a DataFrame\n",
      "\n",
      "See the caveats in the documentation: http://pandas.pydata.org/pandas-docs/stable/indexing.html#indexing-view-versus-copy\n",
      "  errors=errors)\n"
     ]
    }
   ],
   "source": [
    "bat13.drop(['Balls Bowled','Economy','Wickets','RunsConceded'],axis=1,inplace=True)"
   ]
  },
  {
   "cell_type": "code",
   "execution_count": 98,
   "metadata": {},
   "outputs": [
    {
     "data": {
      "text/html": [
       "<div>\n",
       "<style scoped>\n",
       "    .dataframe tbody tr th:only-of-type {\n",
       "        vertical-align: middle;\n",
       "    }\n",
       "\n",
       "    .dataframe tbody tr th {\n",
       "        vertical-align: top;\n",
       "    }\n",
       "\n",
       "    .dataframe thead th {\n",
       "        text-align: right;\n",
       "    }\n",
       "</style>\n",
       "<table border=\"1\" class=\"dataframe\">\n",
       "  <thead>\n",
       "    <tr style=\"text-align: right;\">\n",
       "      <th></th>\n",
       "      <th>Player's Name</th>\n",
       "      <th>Sl.No</th>\n",
       "      <th>Team</th>\n",
       "      <th>From</th>\n",
       "      <th>Run</th>\n",
       "      <th>Ball</th>\n",
       "      <th>Strike Rate</th>\n",
       "      <th>Four</th>\n",
       "      <th>Six</th>\n",
       "      <th>Highest Run Scored</th>\n",
       "      <th>Ct_St</th>\n",
       "      <th>Run Outs</th>\n",
       "      <th>Matches Played</th>\n",
       "      <th>Age</th>\n",
       "      <th>Type</th>\n",
       "      <th>HardHitting2013</th>\n",
       "      <th>FastScoring2013</th>\n",
       "      <th>Running2013</th>\n",
       "    </tr>\n",
       "  </thead>\n",
       "  <tbody>\n",
       "    <tr>\n",
       "      <th>1</th>\n",
       "      <td>Suresh Raina</td>\n",
       "      <td>236</td>\n",
       "      <td>CSK</td>\n",
       "      <td>IND</td>\n",
       "      <td>548</td>\n",
       "      <td>364</td>\n",
       "      <td>150.5</td>\n",
       "      <td>50</td>\n",
       "      <td>18</td>\n",
       "      <td>100</td>\n",
       "      <td>10</td>\n",
       "      <td>2.5</td>\n",
       "      <td>17</td>\n",
       "      <td>26</td>\n",
       "      <td>BAT</td>\n",
       "      <td>0.846154</td>\n",
       "      <td>1.505495</td>\n",
       "      <td>0.810811</td>\n",
       "    </tr>\n",
       "    <tr>\n",
       "      <th>2</th>\n",
       "      <td>Faf du Plessis</td>\n",
       "      <td>79</td>\n",
       "      <td>CSK</td>\n",
       "      <td>SA</td>\n",
       "      <td>0</td>\n",
       "      <td>0</td>\n",
       "      <td>-</td>\n",
       "      <td>0</td>\n",
       "      <td>0</td>\n",
       "      <td>0</td>\n",
       "      <td>0</td>\n",
       "      <td>0.0</td>\n",
       "      <td>0</td>\n",
       "      <td>28</td>\n",
       "      <td>BAT</td>\n",
       "      <td>NaN</td>\n",
       "      <td>NaN</td>\n",
       "      <td>NaN</td>\n",
       "    </tr>\n",
       "    <tr>\n",
       "      <th>6</th>\n",
       "      <td>Kedar Jadhav</td>\n",
       "      <td>114</td>\n",
       "      <td>DD</td>\n",
       "      <td>IND</td>\n",
       "      <td>152</td>\n",
       "      <td>124</td>\n",
       "      <td>122.6</td>\n",
       "      <td>8</td>\n",
       "      <td>5</td>\n",
       "      <td>31</td>\n",
       "      <td>6</td>\n",
       "      <td>1.0</td>\n",
       "      <td>12</td>\n",
       "      <td>28</td>\n",
       "      <td>BAT</td>\n",
       "      <td>0.500000</td>\n",
       "      <td>1.225806</td>\n",
       "      <td>0.810811</td>\n",
       "    </tr>\n",
       "    <tr>\n",
       "      <th>7</th>\n",
       "      <td>Ambati Rayudu</td>\n",
       "      <td>19</td>\n",
       "      <td>MI</td>\n",
       "      <td>IND</td>\n",
       "      <td>228</td>\n",
       "      <td>195</td>\n",
       "      <td>116.9</td>\n",
       "      <td>18</td>\n",
       "      <td>4</td>\n",
       "      <td>34</td>\n",
       "      <td>8</td>\n",
       "      <td>0.5</td>\n",
       "      <td>18</td>\n",
       "      <td>27</td>\n",
       "      <td>BAT</td>\n",
       "      <td>0.492308</td>\n",
       "      <td>1.169231</td>\n",
       "      <td>0.763006</td>\n",
       "    </tr>\n",
       "    <tr>\n",
       "      <th>10</th>\n",
       "      <td>Rohit Sharma</td>\n",
       "      <td>192</td>\n",
       "      <td>MI</td>\n",
       "      <td>IND</td>\n",
       "      <td>536</td>\n",
       "      <td>404</td>\n",
       "      <td>132.7</td>\n",
       "      <td>35</td>\n",
       "      <td>28</td>\n",
       "      <td>79</td>\n",
       "      <td>6</td>\n",
       "      <td>0.5</td>\n",
       "      <td>18</td>\n",
       "      <td>25</td>\n",
       "      <td>BAT</td>\n",
       "      <td>0.762376</td>\n",
       "      <td>1.326733</td>\n",
       "      <td>0.668622</td>\n",
       "    </tr>\n",
       "  </tbody>\n",
       "</table>\n",
       "</div>"
      ],
      "text/plain": [
       "     Player's Name  Sl.No Team From  Run  Ball Strike Rate  Four  Six  \\\n",
       "1     Suresh Raina    236  CSK  IND  548   364       150.5    50   18   \n",
       "2   Faf du Plessis     79  CSK   SA    0     0           -     0    0   \n",
       "6     Kedar Jadhav    114   DD  IND  152   124       122.6     8    5   \n",
       "7    Ambati Rayudu     19   MI  IND  228   195       116.9    18    4   \n",
       "10    Rohit Sharma    192   MI  IND  536   404       132.7    35   28   \n",
       "\n",
       "    Highest Run Scored  Ct_St  Run Outs  Matches Played  Age Type  \\\n",
       "1                  100     10       2.5              17   26  BAT   \n",
       "2                    0      0       0.0               0   28  BAT   \n",
       "6                   31      6       1.0              12   28  BAT   \n",
       "7                   34      8       0.5              18   27  BAT   \n",
       "10                  79      6       0.5              18   25  BAT   \n",
       "\n",
       "    HardHitting2013  FastScoring2013  Running2013  \n",
       "1          0.846154         1.505495     0.810811  \n",
       "2               NaN              NaN          NaN  \n",
       "6          0.500000         1.225806     0.810811  \n",
       "7          0.492308         1.169231     0.763006  \n",
       "10         0.762376         1.326733     0.668622  "
      ]
     },
     "execution_count": 98,
     "metadata": {},
     "output_type": "execute_result"
    }
   ],
   "source": [
    "bat13.head()"
   ]
  },
  {
   "cell_type": "code",
   "execution_count": 78,
   "metadata": {},
   "outputs": [
    {
     "name": "stderr",
     "output_type": "stream",
     "text": [
      "C:\\Users\\samde\\Miniconda3\\envs\\AI\\lib\\site-packages\\ipykernel_launcher.py:1: SettingWithCopyWarning: \n",
      "A value is trying to be set on a copy of a slice from a DataFrame.\n",
      "Try using .loc[row_indexer,col_indexer] = value instead\n",
      "\n",
      "See the caveats in the documentation: http://pandas.pydata.org/pandas-docs/stable/indexing.html#indexing-view-versus-copy\n",
      "  \"\"\"Entry point for launching an IPython kernel.\n"
     ]
    }
   ],
   "source": [
    "bat13[\"HardHitting2013\"]=(4*bat13[\"Four\"]+6*bat13[\"Six\"])/bat13[\"Ball\"]"
   ]
  },
  {
   "cell_type": "code",
   "execution_count": 79,
   "metadata": {
    "scrolled": true
   },
   "outputs": [
    {
     "name": "stderr",
     "output_type": "stream",
     "text": [
      "C:\\Users\\samde\\Miniconda3\\envs\\AI\\lib\\site-packages\\ipykernel_launcher.py:1: SettingWithCopyWarning: \n",
      "A value is trying to be set on a copy of a slice from a DataFrame.\n",
      "Try using .loc[row_indexer,col_indexer] = value instead\n",
      "\n",
      "See the caveats in the documentation: http://pandas.pydata.org/pandas-docs/stable/indexing.html#indexing-view-versus-copy\n",
      "  \"\"\"Entry point for launching an IPython kernel.\n"
     ]
    }
   ],
   "source": [
    "bat13[\"FastScoring2013\"]=bat13[\"Run\"]/bat13[\"Ball\"]"
   ]
  },
  {
   "cell_type": "code",
   "execution_count": 80,
   "metadata": {},
   "outputs": [
    {
     "name": "stderr",
     "output_type": "stream",
     "text": [
      "C:\\Users\\samde\\Miniconda3\\envs\\AI\\lib\\site-packages\\ipykernel_launcher.py:1: SettingWithCopyWarning: \n",
      "A value is trying to be set on a copy of a slice from a DataFrame.\n",
      "Try using .loc[row_indexer,col_indexer] = value instead\n",
      "\n",
      "See the caveats in the documentation: http://pandas.pydata.org/pandas-docs/stable/indexing.html#indexing-view-versus-copy\n",
      "  \"\"\"Entry point for launching an IPython kernel.\n"
     ]
    }
   ],
   "source": [
    "bat13[\"Running2013\"]=(bat13[\"Run\"]-(4*bat13[\"Four\"]+6*bat13[\"Six\"]))/(bat13[\"Ball\"]-(bat13[\"Four\"]+bat13[\"Six\"]))"
   ]
  },
  {
   "cell_type": "markdown",
   "metadata": {},
   "source": [
    "<h2>2016</h2>"
   ]
  },
  {
   "cell_type": "code",
   "execution_count": 81,
   "metadata": {},
   "outputs": [],
   "source": [
    "two_016=pd.read_csv(\"C:/Users/samde/Desktop/Data Science/Datasets/IPL/IPL(2016-19).csv\")"
   ]
  },
  {
   "cell_type": "code",
   "execution_count": 82,
   "metadata": {},
   "outputs": [
    {
     "data": {
      "text/plain": [
       "Bowl    34\n",
       "BAT     28\n",
       "AR      23\n",
       "WK      13\n",
       "Name: Type, dtype: int64"
      ]
     },
     "execution_count": 82,
     "metadata": {},
     "output_type": "execute_result"
    }
   ],
   "source": [
    "two_016['Type'].value_counts()"
   ]
  },
  {
   "cell_type": "code",
   "execution_count": 83,
   "metadata": {},
   "outputs": [],
   "source": [
    "bat16=two_016[two_016['Type']=='BAT']\n",
    "ball16=two_016[two_016['Type']=='Bowl']\n",
    "AR16=two_016[two_016['Type']=='AR']\n",
    "wk16=two_016[two_016['Type']=='WK']"
   ]
  },
  {
   "cell_type": "code",
   "execution_count": 105,
   "metadata": {},
   "outputs": [
    {
     "name": "stderr",
     "output_type": "stream",
     "text": [
      "C:\\Users\\samde\\Miniconda3\\envs\\AI\\lib\\site-packages\\pandas\\core\\frame.py:3697: SettingWithCopyWarning: \n",
      "A value is trying to be set on a copy of a slice from a DataFrame\n",
      "\n",
      "See the caveats in the documentation: http://pandas.pydata.org/pandas-docs/stable/indexing.html#indexing-view-versus-copy\n",
      "  errors=errors)\n"
     ]
    }
   ],
   "source": [
    "ball16.drop([\"Run\",\"Ball\",\"Strike Rate\",\"Four\",\"Six\",\"Highest Run Scored\",\"Run Outs\"],axis=1,inplace=True)"
   ]
  },
  {
   "cell_type": "code",
   "execution_count": 107,
   "metadata": {},
   "outputs": [
    {
     "data": {
      "text/html": [
       "<div>\n",
       "<style scoped>\n",
       "    .dataframe tbody tr th:only-of-type {\n",
       "        vertical-align: middle;\n",
       "    }\n",
       "\n",
       "    .dataframe tbody tr th {\n",
       "        vertical-align: top;\n",
       "    }\n",
       "\n",
       "    .dataframe thead th {\n",
       "        text-align: right;\n",
       "    }\n",
       "</style>\n",
       "<table border=\"1\" class=\"dataframe\">\n",
       "  <thead>\n",
       "    <tr style=\"text-align: right;\">\n",
       "      <th></th>\n",
       "      <th>Player's Name</th>\n",
       "      <th>Sl.no</th>\n",
       "      <th>Team</th>\n",
       "      <th>From</th>\n",
       "      <th>Balls Bowled</th>\n",
       "      <th>Runs Conceded</th>\n",
       "      <th>Economy</th>\n",
       "      <th>Wickets</th>\n",
       "      <th>Ct_St</th>\n",
       "      <th>Matches Played</th>\n",
       "      <th>Age</th>\n",
       "      <th>Type</th>\n",
       "    </tr>\n",
       "  </thead>\n",
       "  <tbody>\n",
       "    <tr>\n",
       "      <th>2</th>\n",
       "      <td>Deepak Chahar</td>\n",
       "      <td>47</td>\n",
       "      <td>RPS</td>\n",
       "      <td>IND</td>\n",
       "      <td>30</td>\n",
       "      <td>41</td>\n",
       "      <td>8.2</td>\n",
       "      <td>0</td>\n",
       "      <td>1.0</td>\n",
       "      <td>2</td>\n",
       "      <td>24</td>\n",
       "      <td>Bowl</td>\n",
       "    </tr>\n",
       "    <tr>\n",
       "      <th>9</th>\n",
       "      <td>Imran Tahir</td>\n",
       "      <td>66</td>\n",
       "      <td>DD</td>\n",
       "      <td>SA</td>\n",
       "      <td>96</td>\n",
       "      <td>138</td>\n",
       "      <td>8.6</td>\n",
       "      <td>5</td>\n",
       "      <td>0.0</td>\n",
       "      <td>4</td>\n",
       "      <td>37</td>\n",
       "      <td>Bowl</td>\n",
       "    </tr>\n",
       "    <tr>\n",
       "      <th>12</th>\n",
       "      <td>Harbhajan Singh</td>\n",
       "      <td>62</td>\n",
       "      <td>MI</td>\n",
       "      <td>IND</td>\n",
       "      <td>294</td>\n",
       "      <td>392</td>\n",
       "      <td>8</td>\n",
       "      <td>9</td>\n",
       "      <td>4.0</td>\n",
       "      <td>14</td>\n",
       "      <td>36</td>\n",
       "      <td>Bowl</td>\n",
       "    </tr>\n",
       "    <tr>\n",
       "      <th>13</th>\n",
       "      <td>Shardul Thakur</td>\n",
       "      <td>164</td>\n",
       "      <td>KXI</td>\n",
       "      <td>IND</td>\n",
       "      <td>0</td>\n",
       "      <td>0</td>\n",
       "      <td>-</td>\n",
       "      <td>0</td>\n",
       "      <td>0.0</td>\n",
       "      <td>0</td>\n",
       "      <td>24</td>\n",
       "      <td>Bowl</td>\n",
       "    </tr>\n",
       "    <tr>\n",
       "      <th>14</th>\n",
       "      <td>Mohit Sharma</td>\n",
       "      <td>115</td>\n",
       "      <td>KXI</td>\n",
       "      <td>IND</td>\n",
       "      <td>291</td>\n",
       "      <td>407</td>\n",
       "      <td>8.4</td>\n",
       "      <td>13</td>\n",
       "      <td>3.0</td>\n",
       "      <td>14</td>\n",
       "      <td>28</td>\n",
       "      <td>Bowl</td>\n",
       "    </tr>\n",
       "  </tbody>\n",
       "</table>\n",
       "</div>"
      ],
      "text/plain": [
       "      Player's Name  Sl.no Team From  Balls Bowled  Runs Conceded Economy  \\\n",
       "2     Deepak Chahar     47  RPS  IND            30             41     8.2   \n",
       "9       Imran Tahir     66   DD   SA            96            138     8.6   \n",
       "12  Harbhajan Singh     62   MI  IND           294            392       8   \n",
       "13   Shardul Thakur    164  KXI  IND             0              0       -   \n",
       "14     Mohit Sharma    115  KXI  IND           291            407     8.4   \n",
       "\n",
       "    Wickets  Ct_St  Matches Played  Age  Type  \n",
       "2         0    1.0               2   24  Bowl  \n",
       "9         5    0.0               4   37  Bowl  \n",
       "12        9    4.0              14   36  Bowl  \n",
       "13        0    0.0               0   24  Bowl  \n",
       "14       13    3.0              14   28  Bowl  "
      ]
     },
     "execution_count": 107,
     "metadata": {},
     "output_type": "execute_result"
    }
   ],
   "source": [
    "ball16.head()"
   ]
  },
  {
   "cell_type": "code",
   "execution_count": 95,
   "metadata": {},
   "outputs": [
    {
     "name": "stderr",
     "output_type": "stream",
     "text": [
      "C:\\Users\\samde\\Miniconda3\\envs\\AI\\lib\\site-packages\\pandas\\core\\frame.py:3697: SettingWithCopyWarning: \n",
      "A value is trying to be set on a copy of a slice from a DataFrame\n",
      "\n",
      "See the caveats in the documentation: http://pandas.pydata.org/pandas-docs/stable/indexing.html#indexing-view-versus-copy\n",
      "  errors=errors)\n"
     ]
    }
   ],
   "source": [
    "bat16.drop(['Balls Bowled','Economy','Wickets','Runs Conceded'],axis=1,inplace=True)"
   ]
  },
  {
   "cell_type": "code",
   "execution_count": 101,
   "metadata": {},
   "outputs": [
    {
     "data": {
      "text/html": [
       "<div>\n",
       "<style scoped>\n",
       "    .dataframe tbody tr th:only-of-type {\n",
       "        vertical-align: middle;\n",
       "    }\n",
       "\n",
       "    .dataframe tbody tr th {\n",
       "        vertical-align: top;\n",
       "    }\n",
       "\n",
       "    .dataframe thead th {\n",
       "        text-align: right;\n",
       "    }\n",
       "</style>\n",
       "<table border=\"1\" class=\"dataframe\">\n",
       "  <thead>\n",
       "    <tr style=\"text-align: right;\">\n",
       "      <th></th>\n",
       "      <th>Player's Name</th>\n",
       "      <th>Sl.no</th>\n",
       "      <th>Team</th>\n",
       "      <th>From</th>\n",
       "      <th>Run</th>\n",
       "      <th>Ball</th>\n",
       "      <th>Strike Rate</th>\n",
       "      <th>Four</th>\n",
       "      <th>Six</th>\n",
       "      <th>Highest Run Scored</th>\n",
       "      <th>Ct_St</th>\n",
       "      <th>Run Outs</th>\n",
       "      <th>Matches Played</th>\n",
       "      <th>Age</th>\n",
       "      <th>Type</th>\n",
       "      <th>HardHitting2016</th>\n",
       "      <th>FastScoring2016</th>\n",
       "      <th>Running2016</th>\n",
       "    </tr>\n",
       "  </thead>\n",
       "  <tbody>\n",
       "    <tr>\n",
       "      <th>1</th>\n",
       "      <td>Suresh Raina</td>\n",
       "      <td>177</td>\n",
       "      <td>GL</td>\n",
       "      <td>IND</td>\n",
       "      <td>399</td>\n",
       "      <td>312</td>\n",
       "      <td>127.9</td>\n",
       "      <td>39</td>\n",
       "      <td>10</td>\n",
       "      <td>75</td>\n",
       "      <td>7.0</td>\n",
       "      <td>1.0</td>\n",
       "      <td>15</td>\n",
       "      <td>29</td>\n",
       "      <td>BAT</td>\n",
       "      <td>0.692308</td>\n",
       "      <td>1.278846</td>\n",
       "      <td>0.695817</td>\n",
       "    </tr>\n",
       "    <tr>\n",
       "      <th>4</th>\n",
       "      <td>Faf du Plessis</td>\n",
       "      <td>56</td>\n",
       "      <td>RPS</td>\n",
       "      <td>SA</td>\n",
       "      <td>206</td>\n",
       "      <td>162</td>\n",
       "      <td>127.2</td>\n",
       "      <td>17</td>\n",
       "      <td>9</td>\n",
       "      <td>69</td>\n",
       "      <td>4.0</td>\n",
       "      <td>0.0</td>\n",
       "      <td>6</td>\n",
       "      <td>32</td>\n",
       "      <td>BAT</td>\n",
       "      <td>0.753086</td>\n",
       "      <td>1.271605</td>\n",
       "      <td>0.617647</td>\n",
       "    </tr>\n",
       "    <tr>\n",
       "      <th>10</th>\n",
       "      <td>Kedar Jadhav</td>\n",
       "      <td>90</td>\n",
       "      <td>RCB</td>\n",
       "      <td>IND</td>\n",
       "      <td>42</td>\n",
       "      <td>32</td>\n",
       "      <td>131.3</td>\n",
       "      <td>2</td>\n",
       "      <td>2</td>\n",
       "      <td>25</td>\n",
       "      <td>1.0</td>\n",
       "      <td>0.0</td>\n",
       "      <td>4</td>\n",
       "      <td>31</td>\n",
       "      <td>BAT</td>\n",
       "      <td>0.625000</td>\n",
       "      <td>1.312500</td>\n",
       "      <td>0.785714</td>\n",
       "    </tr>\n",
       "    <tr>\n",
       "      <th>11</th>\n",
       "      <td>Ambati Rayudu</td>\n",
       "      <td>14</td>\n",
       "      <td>MI</td>\n",
       "      <td>IND</td>\n",
       "      <td>334</td>\n",
       "      <td>278</td>\n",
       "      <td>120.1</td>\n",
       "      <td>28</td>\n",
       "      <td>12</td>\n",
       "      <td>65</td>\n",
       "      <td>4.0</td>\n",
       "      <td>0.5</td>\n",
       "      <td>13</td>\n",
       "      <td>31</td>\n",
       "      <td>BAT</td>\n",
       "      <td>0.661871</td>\n",
       "      <td>1.201439</td>\n",
       "      <td>0.630252</td>\n",
       "    </tr>\n",
       "    <tr>\n",
       "      <th>15</th>\n",
       "      <td>Rohit Sharma</td>\n",
       "      <td>149</td>\n",
       "      <td>MI</td>\n",
       "      <td>IND</td>\n",
       "      <td>489</td>\n",
       "      <td>368</td>\n",
       "      <td>132.9</td>\n",
       "      <td>49</td>\n",
       "      <td>16</td>\n",
       "      <td>85</td>\n",
       "      <td>2.0</td>\n",
       "      <td>1.0</td>\n",
       "      <td>14</td>\n",
       "      <td>29</td>\n",
       "      <td>BAT</td>\n",
       "      <td>0.793478</td>\n",
       "      <td>1.328804</td>\n",
       "      <td>0.650165</td>\n",
       "    </tr>\n",
       "  </tbody>\n",
       "</table>\n",
       "</div>"
      ],
      "text/plain": [
       "     Player's Name  Sl.no Team From  Run  Ball Strike Rate  Four  Six  \\\n",
       "1     Suresh Raina    177   GL  IND  399   312       127.9    39   10   \n",
       "4   Faf du Plessis     56  RPS   SA  206   162       127.2    17    9   \n",
       "10    Kedar Jadhav     90  RCB  IND   42    32       131.3     2    2   \n",
       "11   Ambati Rayudu     14   MI  IND  334   278       120.1    28   12   \n",
       "15    Rohit Sharma    149   MI  IND  489   368       132.9    49   16   \n",
       "\n",
       "    Highest Run Scored  Ct_St  Run Outs  Matches Played  Age Type  \\\n",
       "1                   75    7.0       1.0              15   29  BAT   \n",
       "4                   69    4.0       0.0               6   32  BAT   \n",
       "10                  25    1.0       0.0               4   31  BAT   \n",
       "11                  65    4.0       0.5              13   31  BAT   \n",
       "15                  85    2.0       1.0              14   29  BAT   \n",
       "\n",
       "    HardHitting2016  FastScoring2016  Running2016  \n",
       "1          0.692308         1.278846     0.695817  \n",
       "4          0.753086         1.271605     0.617647  \n",
       "10         0.625000         1.312500     0.785714  \n",
       "11         0.661871         1.201439     0.630252  \n",
       "15         0.793478         1.328804     0.650165  "
      ]
     },
     "execution_count": 101,
     "metadata": {},
     "output_type": "execute_result"
    }
   ],
   "source": [
    "bat16.head()"
   ]
  },
  {
   "cell_type": "code",
   "execution_count": 88,
   "metadata": {},
   "outputs": [
    {
     "name": "stderr",
     "output_type": "stream",
     "text": [
      "C:\\Users\\samde\\Miniconda3\\envs\\AI\\lib\\site-packages\\ipykernel_launcher.py:1: SettingWithCopyWarning: \n",
      "A value is trying to be set on a copy of a slice from a DataFrame.\n",
      "Try using .loc[row_indexer,col_indexer] = value instead\n",
      "\n",
      "See the caveats in the documentation: http://pandas.pydata.org/pandas-docs/stable/indexing.html#indexing-view-versus-copy\n",
      "  \"\"\"Entry point for launching an IPython kernel.\n"
     ]
    }
   ],
   "source": [
    "bat16[\"HardHitting2016\"]=(4*bat16[\"Four\"]+6*bat16[\"Six\"])/bat16[\"Ball\"]"
   ]
  },
  {
   "cell_type": "code",
   "execution_count": 86,
   "metadata": {},
   "outputs": [
    {
     "name": "stderr",
     "output_type": "stream",
     "text": [
      "C:\\Users\\samde\\Miniconda3\\envs\\AI\\lib\\site-packages\\ipykernel_launcher.py:1: SettingWithCopyWarning: \n",
      "A value is trying to be set on a copy of a slice from a DataFrame.\n",
      "Try using .loc[row_indexer,col_indexer] = value instead\n",
      "\n",
      "See the caveats in the documentation: http://pandas.pydata.org/pandas-docs/stable/indexing.html#indexing-view-versus-copy\n",
      "  \"\"\"Entry point for launching an IPython kernel.\n"
     ]
    }
   ],
   "source": [
    "bat16[\"FastScoring2016\"]=bat16[\"Run\"]/bat16[\"Ball\"]"
   ]
  },
  {
   "cell_type": "code",
   "execution_count": 87,
   "metadata": {},
   "outputs": [
    {
     "name": "stderr",
     "output_type": "stream",
     "text": [
      "C:\\Users\\samde\\Miniconda3\\envs\\AI\\lib\\site-packages\\ipykernel_launcher.py:1: SettingWithCopyWarning: \n",
      "A value is trying to be set on a copy of a slice from a DataFrame.\n",
      "Try using .loc[row_indexer,col_indexer] = value instead\n",
      "\n",
      "See the caveats in the documentation: http://pandas.pydata.org/pandas-docs/stable/indexing.html#indexing-view-versus-copy\n",
      "  \"\"\"Entry point for launching an IPython kernel.\n"
     ]
    }
   ],
   "source": [
    "bat16[\"Running2016\"]=(bat16[\"Run\"]-(4*bat16[\"Four\"]+6*bat16[\"Six\"]))/(bat16[\"Ball\"]-(bat16[\"Four\"]+bat16[\"Six\"]))"
   ]
  },
  {
   "cell_type": "code",
   "execution_count": 454,
   "metadata": {},
   "outputs": [
    {
     "name": "stderr",
     "output_type": "stream",
     "text": [
      "C:\\Users\\samde\\Miniconda3\\envs\\AI\\lib\\site-packages\\ipykernel_launcher.py:1: SettingWithCopyWarning: \n",
      "A value is trying to be set on a copy of a slice from a DataFrame.\n",
      "Try using .loc[row_indexer,col_indexer] = value instead\n",
      "\n",
      "See the caveats in the documentation: http://pandas.pydata.org/pandas-docs/stable/indexing.html#indexing-view-versus-copy\n",
      "  \"\"\"Entry point for launching an IPython kernel.\n",
      "C:\\Users\\samde\\Miniconda3\\envs\\AI\\lib\\site-packages\\ipykernel_launcher.py:2: SettingWithCopyWarning: \n",
      "A value is trying to be set on a copy of a slice from a DataFrame.\n",
      "Try using .loc[row_indexer,col_indexer] = value instead\n",
      "\n",
      "See the caveats in the documentation: http://pandas.pydata.org/pandas-docs/stable/indexing.html#indexing-view-versus-copy\n",
      "  \n"
     ]
    }
   ],
   "source": [
    "ball16[\"consistency2016\"]=ball16[\"Runs Conceded\"]/ball16[\"Wickets\"]\n",
    "ball16[\"wickettaking2016\"]=ball16[\"Balls Bowled\"]/ball16[\"Wickets\"]"
   ]
  },
  {
   "cell_type": "code",
   "execution_count": 455,
   "metadata": {},
   "outputs": [
    {
     "data": {
      "text/html": [
       "<div>\n",
       "<style scoped>\n",
       "    .dataframe tbody tr th:only-of-type {\n",
       "        vertical-align: middle;\n",
       "    }\n",
       "\n",
       "    .dataframe tbody tr th {\n",
       "        vertical-align: top;\n",
       "    }\n",
       "\n",
       "    .dataframe thead th {\n",
       "        text-align: right;\n",
       "    }\n",
       "</style>\n",
       "<table border=\"1\" class=\"dataframe\">\n",
       "  <thead>\n",
       "    <tr style=\"text-align: right;\">\n",
       "      <th></th>\n",
       "      <th>Player's Name</th>\n",
       "      <th>Sl.no</th>\n",
       "      <th>Team</th>\n",
       "      <th>From</th>\n",
       "      <th>Balls Bowled</th>\n",
       "      <th>Runs Conceded</th>\n",
       "      <th>Economy</th>\n",
       "      <th>Wickets</th>\n",
       "      <th>Ct_St</th>\n",
       "      <th>Matches Played</th>\n",
       "      <th>Age</th>\n",
       "      <th>Type</th>\n",
       "      <th>consistency2016</th>\n",
       "      <th>wickettaking2016</th>\n",
       "    </tr>\n",
       "  </thead>\n",
       "  <tbody>\n",
       "    <tr>\n",
       "      <th>0</th>\n",
       "      <td>Deepak Chahar</td>\n",
       "      <td>47</td>\n",
       "      <td>RPS</td>\n",
       "      <td>IND</td>\n",
       "      <td>30</td>\n",
       "      <td>41</td>\n",
       "      <td>8.2</td>\n",
       "      <td>0</td>\n",
       "      <td>1.0</td>\n",
       "      <td>2</td>\n",
       "      <td>24</td>\n",
       "      <td>Bowl</td>\n",
       "      <td>inf</td>\n",
       "      <td>inf</td>\n",
       "    </tr>\n",
       "    <tr>\n",
       "      <th>1</th>\n",
       "      <td>Imran Tahir</td>\n",
       "      <td>66</td>\n",
       "      <td>DD</td>\n",
       "      <td>SA</td>\n",
       "      <td>96</td>\n",
       "      <td>138</td>\n",
       "      <td>8.6</td>\n",
       "      <td>5</td>\n",
       "      <td>0.0</td>\n",
       "      <td>4</td>\n",
       "      <td>37</td>\n",
       "      <td>Bowl</td>\n",
       "      <td>27.600000</td>\n",
       "      <td>19.200000</td>\n",
       "    </tr>\n",
       "    <tr>\n",
       "      <th>2</th>\n",
       "      <td>Harbhajan Singh</td>\n",
       "      <td>62</td>\n",
       "      <td>MI</td>\n",
       "      <td>IND</td>\n",
       "      <td>294</td>\n",
       "      <td>392</td>\n",
       "      <td>8</td>\n",
       "      <td>9</td>\n",
       "      <td>4.0</td>\n",
       "      <td>14</td>\n",
       "      <td>36</td>\n",
       "      <td>Bowl</td>\n",
       "      <td>43.555556</td>\n",
       "      <td>32.666667</td>\n",
       "    </tr>\n",
       "    <tr>\n",
       "      <th>3</th>\n",
       "      <td>Shardul Thakur</td>\n",
       "      <td>164</td>\n",
       "      <td>KXI</td>\n",
       "      <td>IND</td>\n",
       "      <td>0</td>\n",
       "      <td>0</td>\n",
       "      <td>-</td>\n",
       "      <td>0</td>\n",
       "      <td>0.0</td>\n",
       "      <td>0</td>\n",
       "      <td>24</td>\n",
       "      <td>Bowl</td>\n",
       "      <td>NaN</td>\n",
       "      <td>NaN</td>\n",
       "    </tr>\n",
       "    <tr>\n",
       "      <th>4</th>\n",
       "      <td>Mohit Sharma</td>\n",
       "      <td>115</td>\n",
       "      <td>KXI</td>\n",
       "      <td>IND</td>\n",
       "      <td>291</td>\n",
       "      <td>407</td>\n",
       "      <td>8.4</td>\n",
       "      <td>13</td>\n",
       "      <td>3.0</td>\n",
       "      <td>14</td>\n",
       "      <td>28</td>\n",
       "      <td>Bowl</td>\n",
       "      <td>31.307692</td>\n",
       "      <td>22.384615</td>\n",
       "    </tr>\n",
       "  </tbody>\n",
       "</table>\n",
       "</div>"
      ],
      "text/plain": [
       "     Player's Name  Sl.no Team From  Balls Bowled  Runs Conceded Economy  \\\n",
       "0    Deepak Chahar     47  RPS  IND            30             41     8.2   \n",
       "1      Imran Tahir     66   DD   SA            96            138     8.6   \n",
       "2  Harbhajan Singh     62   MI  IND           294            392       8   \n",
       "3   Shardul Thakur    164  KXI  IND             0              0       -   \n",
       "4     Mohit Sharma    115  KXI  IND           291            407     8.4   \n",
       "\n",
       "   Wickets  Ct_St  Matches Played  Age  Type  consistency2016  \\\n",
       "0        0    1.0               2   24  Bowl              inf   \n",
       "1        5    0.0               4   37  Bowl        27.600000   \n",
       "2        9    4.0              14   36  Bowl        43.555556   \n",
       "3        0    0.0               0   24  Bowl              NaN   \n",
       "4       13    3.0              14   28  Bowl        31.307692   \n",
       "\n",
       "   wickettaking2016  \n",
       "0               inf  \n",
       "1         19.200000  \n",
       "2         32.666667  \n",
       "3               NaN  \n",
       "4         22.384615  "
      ]
     },
     "execution_count": 455,
     "metadata": {},
     "output_type": "execute_result"
    }
   ],
   "source": [
    "ball16.head()"
   ]
  },
  {
   "cell_type": "code",
   "execution_count": 465,
   "metadata": {},
   "outputs": [
    {
     "data": {
      "text/html": [
       "<div>\n",
       "<style scoped>\n",
       "    .dataframe tbody tr th:only-of-type {\n",
       "        vertical-align: middle;\n",
       "    }\n",
       "\n",
       "    .dataframe tbody tr th {\n",
       "        vertical-align: top;\n",
       "    }\n",
       "\n",
       "    .dataframe thead th {\n",
       "        text-align: right;\n",
       "    }\n",
       "</style>\n",
       "<table border=\"1\" class=\"dataframe\">\n",
       "  <thead>\n",
       "    <tr style=\"text-align: right;\">\n",
       "      <th></th>\n",
       "      <th>Player's Name</th>\n",
       "      <th>Run</th>\n",
       "      <th>Ball</th>\n",
       "      <th>Strike Rate</th>\n",
       "      <th>Four</th>\n",
       "      <th>Six</th>\n",
       "      <th>Highest Run Scored</th>\n",
       "      <th>Balls Bowled</th>\n",
       "      <th>Runs Conceded</th>\n",
       "      <th>Economy</th>\n",
       "      <th>Wickets</th>\n",
       "      <th>Ct_St</th>\n",
       "      <th>Run Outs</th>\n",
       "      <th>Matches Played</th>\n",
       "      <th>Type</th>\n",
       "      <th>HardHitting2016</th>\n",
       "      <th>FastScoring2016</th>\n",
       "      <th>Running2016</th>\n",
       "    </tr>\n",
       "  </thead>\n",
       "  <tbody>\n",
       "    <tr>\n",
       "      <th>3</th>\n",
       "      <td>Karn Sharma</td>\n",
       "      <td>36</td>\n",
       "      <td>30</td>\n",
       "      <td>120</td>\n",
       "      <td>3</td>\n",
       "      <td>1</td>\n",
       "      <td>26</td>\n",
       "      <td>98</td>\n",
       "      <td>171</td>\n",
       "      <td>10.5</td>\n",
       "      <td>0</td>\n",
       "      <td>0.0</td>\n",
       "      <td>0.0</td>\n",
       "      <td>5</td>\n",
       "      <td>AR</td>\n",
       "      <td>0.600000</td>\n",
       "      <td>1.200000</td>\n",
       "      <td>0.692308</td>\n",
       "    </tr>\n",
       "    <tr>\n",
       "      <th>5</th>\n",
       "      <td>Ravindra Jadeja</td>\n",
       "      <td>191</td>\n",
       "      <td>177</td>\n",
       "      <td>107.9</td>\n",
       "      <td>14</td>\n",
       "      <td>4</td>\n",
       "      <td>36</td>\n",
       "      <td>241</td>\n",
       "      <td>311</td>\n",
       "      <td>7.7</td>\n",
       "      <td>8</td>\n",
       "      <td>4.0</td>\n",
       "      <td>0.0</td>\n",
       "      <td>15</td>\n",
       "      <td>AR</td>\n",
       "      <td>0.451977</td>\n",
       "      <td>1.079096</td>\n",
       "      <td>0.698113</td>\n",
       "    </tr>\n",
       "    <tr>\n",
       "      <th>7</th>\n",
       "      <td>Dwayne Bravo</td>\n",
       "      <td>99</td>\n",
       "      <td>82</td>\n",
       "      <td>120.7</td>\n",
       "      <td>11</td>\n",
       "      <td>1</td>\n",
       "      <td>22</td>\n",
       "      <td>336</td>\n",
       "      <td>494</td>\n",
       "      <td>8.8</td>\n",
       "      <td>17</td>\n",
       "      <td>6.0</td>\n",
       "      <td>1.5</td>\n",
       "      <td>15</td>\n",
       "      <td>AR</td>\n",
       "      <td>0.609756</td>\n",
       "      <td>1.207317</td>\n",
       "      <td>0.700000</td>\n",
       "    </tr>\n",
       "    <tr>\n",
       "      <th>8</th>\n",
       "      <td>Shane Watson</td>\n",
       "      <td>179</td>\n",
       "      <td>134</td>\n",
       "      <td>133.6</td>\n",
       "      <td>14</td>\n",
       "      <td>12</td>\n",
       "      <td>36</td>\n",
       "      <td>339</td>\n",
       "      <td>485</td>\n",
       "      <td>8.6</td>\n",
       "      <td>20</td>\n",
       "      <td>6.0</td>\n",
       "      <td>2.5</td>\n",
       "      <td>16</td>\n",
       "      <td>AR</td>\n",
       "      <td>0.955224</td>\n",
       "      <td>1.335821</td>\n",
       "      <td>0.472222</td>\n",
       "    </tr>\n",
       "    <tr>\n",
       "      <th>16</th>\n",
       "      <td>Hardik Pandya</td>\n",
       "      <td>44</td>\n",
       "      <td>63</td>\n",
       "      <td>69.8</td>\n",
       "      <td>4</td>\n",
       "      <td>0</td>\n",
       "      <td>9</td>\n",
       "      <td>100</td>\n",
       "      <td>153</td>\n",
       "      <td>9.2</td>\n",
       "      <td>3</td>\n",
       "      <td>6.0</td>\n",
       "      <td>0.0</td>\n",
       "      <td>11</td>\n",
       "      <td>AR</td>\n",
       "      <td>0.253968</td>\n",
       "      <td>0.698413</td>\n",
       "      <td>0.474576</td>\n",
       "    </tr>\n",
       "  </tbody>\n",
       "</table>\n",
       "</div>"
      ],
      "text/plain": [
       "      Player's Name  Run  Ball Strike Rate  Four  Six  Highest Run Scored  \\\n",
       "3       Karn Sharma   36    30         120     3    1                  26   \n",
       "5   Ravindra Jadeja  191   177       107.9    14    4                  36   \n",
       "7      Dwayne Bravo   99    82       120.7    11    1                  22   \n",
       "8      Shane Watson  179   134       133.6    14   12                  36   \n",
       "16    Hardik Pandya   44    63        69.8     4    0                   9   \n",
       "\n",
       "    Balls Bowled  Runs Conceded Economy  Wickets  Ct_St  Run Outs  \\\n",
       "3             98            171    10.5        0    0.0       0.0   \n",
       "5            241            311     7.7        8    4.0       0.0   \n",
       "7            336            494     8.8       17    6.0       1.5   \n",
       "8            339            485     8.6       20    6.0       2.5   \n",
       "16           100            153     9.2        3    6.0       0.0   \n",
       "\n",
       "    Matches Played Type  HardHitting2016  FastScoring2016  Running2016  \n",
       "3                5   AR         0.600000         1.200000     0.692308  \n",
       "5               15   AR         0.451977         1.079096     0.698113  \n",
       "7               15   AR         0.609756         1.207317     0.700000  \n",
       "8               16   AR         0.955224         1.335821     0.472222  \n",
       "16              11   AR         0.253968         0.698413     0.474576  "
      ]
     },
     "execution_count": 465,
     "metadata": {},
     "output_type": "execute_result"
    }
   ],
   "source": [
    "AR16.head()"
   ]
  },
  {
   "cell_type": "code",
   "execution_count": 464,
   "metadata": {},
   "outputs": [
    {
     "name": "stderr",
     "output_type": "stream",
     "text": [
      "C:\\Users\\samde\\Miniconda3\\envs\\AI\\lib\\site-packages\\pandas\\core\\frame.py:3697: SettingWithCopyWarning: \n",
      "A value is trying to be set on a copy of a slice from a DataFrame\n",
      "\n",
      "See the caveats in the documentation: http://pandas.pydata.org/pandas-docs/stable/indexing.html#indexing-view-versus-copy\n",
      "  errors=errors)\n",
      "C:\\Users\\samde\\Miniconda3\\envs\\AI\\lib\\site-packages\\ipykernel_launcher.py:2: SettingWithCopyWarning: \n",
      "A value is trying to be set on a copy of a slice from a DataFrame.\n",
      "Try using .loc[row_indexer,col_indexer] = value instead\n",
      "\n",
      "See the caveats in the documentation: http://pandas.pydata.org/pandas-docs/stable/indexing.html#indexing-view-versus-copy\n",
      "  \n",
      "C:\\Users\\samde\\Miniconda3\\envs\\AI\\lib\\site-packages\\ipykernel_launcher.py:3: SettingWithCopyWarning: \n",
      "A value is trying to be set on a copy of a slice from a DataFrame.\n",
      "Try using .loc[row_indexer,col_indexer] = value instead\n",
      "\n",
      "See the caveats in the documentation: http://pandas.pydata.org/pandas-docs/stable/indexing.html#indexing-view-versus-copy\n",
      "  This is separate from the ipykernel package so we can avoid doing imports until\n",
      "C:\\Users\\samde\\Miniconda3\\envs\\AI\\lib\\site-packages\\ipykernel_launcher.py:4: SettingWithCopyWarning: \n",
      "A value is trying to be set on a copy of a slice from a DataFrame.\n",
      "Try using .loc[row_indexer,col_indexer] = value instead\n",
      "\n",
      "See the caveats in the documentation: http://pandas.pydata.org/pandas-docs/stable/indexing.html#indexing-view-versus-copy\n",
      "  after removing the cwd from sys.path.\n"
     ]
    }
   ],
   "source": [
    "AR16.drop(['Team','Sl.no','From','Age'],axis=1,inplace=True)\n",
    "AR16[\"HardHitting2016\"]=(4*AR16[\"Four\"]+6*AR16[\"Six\"])/AR16[\"Ball\"]\n",
    "AR16[\"FastScoring2016\"]=AR16[\"Run\"]/AR16[\"Ball\"]\n",
    "AR16[\"Running2016\"]=(AR16[\"Run\"]-(4*AR16[\"Four\"]+6*AR16[\"Six\"]))/(AR16[\"Ball\"]-(AR16[\"Four\"]+AR16[\"Six\"]))"
   ]
  },
  {
   "cell_type": "code",
   "execution_count": 492,
   "metadata": {},
   "outputs": [
    {
     "name": "stderr",
     "output_type": "stream",
     "text": [
      "C:\\Users\\samde\\Miniconda3\\envs\\AI\\lib\\site-packages\\ipykernel_launcher.py:1: SettingWithCopyWarning: \n",
      "A value is trying to be set on a copy of a slice from a DataFrame.\n",
      "Try using .loc[row_indexer,col_indexer] = value instead\n",
      "\n",
      "See the caveats in the documentation: http://pandas.pydata.org/pandas-docs/stable/indexing.html#indexing-view-versus-copy\n",
      "  \"\"\"Entry point for launching an IPython kernel.\n",
      "C:\\Users\\samde\\Miniconda3\\envs\\AI\\lib\\site-packages\\ipykernel_launcher.py:2: SettingWithCopyWarning: \n",
      "A value is trying to be set on a copy of a slice from a DataFrame.\n",
      "Try using .loc[row_indexer,col_indexer] = value instead\n",
      "\n",
      "See the caveats in the documentation: http://pandas.pydata.org/pandas-docs/stable/indexing.html#indexing-view-versus-copy\n",
      "  \n"
     ]
    }
   ],
   "source": [
    "AR16[\"consistency2016\"]=AR16[\"Runs Conceded\"]/AR16[\"Wickets\"]\n",
    "AR16[\"wickettaking2016\"]=AR16[\"Balls Bowled\"]/AR16[\"Wickets\"]"
   ]
  },
  {
   "cell_type": "markdown",
   "metadata": {},
   "source": [
    "<h2>Finding PCA</h2>"
   ]
  },
  {
   "cell_type": "markdown",
   "metadata": {},
   "source": [
    "<h3>2010 BAT PCA</h3>"
   ]
  },
  {
   "cell_type": "code",
   "execution_count": 659,
   "metadata": {},
   "outputs": [
    {
     "data": {
      "text/html": [
       "<div>\n",
       "<style scoped>\n",
       "    .dataframe tbody tr th:only-of-type {\n",
       "        vertical-align: middle;\n",
       "    }\n",
       "\n",
       "    .dataframe tbody tr th {\n",
       "        vertical-align: top;\n",
       "    }\n",
       "\n",
       "    .dataframe thead th {\n",
       "        text-align: right;\n",
       "    }\n",
       "</style>\n",
       "<table border=\"1\" class=\"dataframe\">\n",
       "  <thead>\n",
       "    <tr style=\"text-align: right;\">\n",
       "      <th></th>\n",
       "      <th>Player's Name</th>\n",
       "      <th>Team</th>\n",
       "      <th>From</th>\n",
       "      <th>Runs</th>\n",
       "      <th>Balls</th>\n",
       "      <th>Four</th>\n",
       "      <th>Six</th>\n",
       "      <th>Highest Run Scored</th>\n",
       "      <th>Strike Rate</th>\n",
       "      <th>ct_st</th>\n",
       "      <th>Run Outs</th>\n",
       "      <th>Matches Played</th>\n",
       "      <th>Type</th>\n",
       "      <th>HardHitting2010</th>\n",
       "      <th>FastScoring2010</th>\n",
       "      <th>Running2010</th>\n",
       "    </tr>\n",
       "  </thead>\n",
       "  <tbody>\n",
       "    <tr>\n",
       "      <th>1</th>\n",
       "      <td>Suresh Raina</td>\n",
       "      <td>CSK</td>\n",
       "      <td>IND</td>\n",
       "      <td>524</td>\n",
       "      <td>365</td>\n",
       "      <td>46</td>\n",
       "      <td>22</td>\n",
       "      <td>83</td>\n",
       "      <td>143.561644</td>\n",
       "      <td>10</td>\n",
       "      <td>2.0</td>\n",
       "      <td>16</td>\n",
       "      <td>BAT</td>\n",
       "      <td>0.865753</td>\n",
       "      <td>1.435616</td>\n",
       "      <td>0.700337</td>\n",
       "    </tr>\n",
       "    <tr>\n",
       "      <th>4</th>\n",
       "      <td>Kedar Jadhav</td>\n",
       "      <td>DD</td>\n",
       "      <td>IND</td>\n",
       "      <td>76</td>\n",
       "      <td>56</td>\n",
       "      <td>7</td>\n",
       "      <td>2</td>\n",
       "      <td>50</td>\n",
       "      <td>135.714286</td>\n",
       "      <td>0</td>\n",
       "      <td>0.5</td>\n",
       "      <td>5</td>\n",
       "      <td>BAT</td>\n",
       "      <td>0.714286</td>\n",
       "      <td>1.357143</td>\n",
       "      <td>0.765957</td>\n",
       "    </tr>\n",
       "    <tr>\n",
       "      <th>5</th>\n",
       "      <td>Ambati Rayudu</td>\n",
       "      <td>MI</td>\n",
       "      <td>IND</td>\n",
       "      <td>356</td>\n",
       "      <td>246</td>\n",
       "      <td>34</td>\n",
       "      <td>13</td>\n",
       "      <td>55</td>\n",
       "      <td>144.715447</td>\n",
       "      <td>7</td>\n",
       "      <td>3.5</td>\n",
       "      <td>14</td>\n",
       "      <td>BAT</td>\n",
       "      <td>0.869919</td>\n",
       "      <td>1.447154</td>\n",
       "      <td>0.713568</td>\n",
       "    </tr>\n",
       "    <tr>\n",
       "      <th>7</th>\n",
       "      <td>Rohit Sharma</td>\n",
       "      <td>DC</td>\n",
       "      <td>IND</td>\n",
       "      <td>404</td>\n",
       "      <td>302</td>\n",
       "      <td>36</td>\n",
       "      <td>14</td>\n",
       "      <td>73</td>\n",
       "      <td>133.774834</td>\n",
       "      <td>9</td>\n",
       "      <td>0.5</td>\n",
       "      <td>16</td>\n",
       "      <td>BAT</td>\n",
       "      <td>0.754967</td>\n",
       "      <td>1.337748</td>\n",
       "      <td>0.698413</td>\n",
       "    </tr>\n",
       "    <tr>\n",
       "      <th>16</th>\n",
       "      <td>Shikhar Dhawan</td>\n",
       "      <td>MI</td>\n",
       "      <td>IND</td>\n",
       "      <td>191</td>\n",
       "      <td>170</td>\n",
       "      <td>23</td>\n",
       "      <td>3</td>\n",
       "      <td>56</td>\n",
       "      <td>112.352941</td>\n",
       "      <td>5</td>\n",
       "      <td>0.0</td>\n",
       "      <td>10</td>\n",
       "      <td>BAT</td>\n",
       "      <td>0.647059</td>\n",
       "      <td>1.123529</td>\n",
       "      <td>0.562500</td>\n",
       "    </tr>\n",
       "  </tbody>\n",
       "</table>\n",
       "</div>"
      ],
      "text/plain": [
       "     Player's Name Team From  Runs  Balls  Four  Six  Highest Run Scored  \\\n",
       "1     Suresh Raina  CSK  IND   524    365    46   22                  83   \n",
       "4     Kedar Jadhav   DD  IND    76     56     7    2                  50   \n",
       "5    Ambati Rayudu   MI  IND   356    246    34   13                  55   \n",
       "7     Rohit Sharma   DC  IND   404    302    36   14                  73   \n",
       "16  Shikhar Dhawan   MI  IND   191    170    23    3                  56   \n",
       "\n",
       "    Strike Rate  ct_st  Run Outs  Matches Played Type  HardHitting2010  \\\n",
       "1    143.561644     10       2.0              16  BAT         0.865753   \n",
       "4    135.714286      0       0.5               5  BAT         0.714286   \n",
       "5    144.715447      7       3.5              14  BAT         0.869919   \n",
       "7    133.774834      9       0.5              16  BAT         0.754967   \n",
       "16   112.352941      5       0.0              10  BAT         0.647059   \n",
       "\n",
       "    FastScoring2010  Running2010  \n",
       "1          1.435616     0.700337  \n",
       "4          1.357143     0.765957  \n",
       "5          1.447154     0.713568  \n",
       "7          1.337748     0.698413  \n",
       "16         1.123529     0.562500  "
      ]
     },
     "execution_count": 659,
     "metadata": {},
     "output_type": "execute_result"
    }
   ],
   "source": [
    "bat10.head()"
   ]
  },
  {
   "cell_type": "code",
   "execution_count": 660,
   "metadata": {},
   "outputs": [],
   "source": [
    "bat10.reset_index(drop=True, inplace=True)"
   ]
  },
  {
   "cell_type": "code",
   "execution_count": 661,
   "metadata": {},
   "outputs": [],
   "source": [
    "data7=bat10.drop([\"Type\",'From','Team'],axis=1)"
   ]
  },
  {
   "cell_type": "code",
   "execution_count": 662,
   "metadata": {},
   "outputs": [],
   "source": [
    "data7=data7[data7[\"Matches Played\"]!=0]\n",
    "data7=data7.dropna(how='any')\n",
    "data7=data7[data7[\"Runs\"]!=0]"
   ]
  },
  {
   "cell_type": "code",
   "execution_count": 669,
   "metadata": {},
   "outputs": [],
   "source": [
    "pca = PCA(n_components=2)"
   ]
  },
  {
   "cell_type": "code",
   "execution_count": 670,
   "metadata": {},
   "outputs": [
    {
     "data": {
      "text/plain": [
       "PCA(copy=True, iterated_power='auto', n_components=2, random_state=None,\n",
       "  svd_solver='auto', tol=0.0, whiten=False)"
      ]
     },
     "execution_count": 670,
     "metadata": {},
     "output_type": "execute_result"
    }
   ],
   "source": [
    "X5=data7.drop([\"Player's Name\"],axis=1)\n",
    "pca.fit(X5)"
   ]
  },
  {
   "cell_type": "code",
   "execution_count": 671,
   "metadata": {},
   "outputs": [],
   "source": [
    "lol7=pca.transform(X5)"
   ]
  },
  {
   "cell_type": "code",
   "execution_count": 673,
   "metadata": {},
   "outputs": [],
   "source": [
    "df7=pd.DataFrame(lol7)\n",
    "df7['Name']=data7[\"Player's Name\"]\n",
    "df7.to_csv('C:/Users/samde/Desktop/Data Science/Datasets/IPL/PCABat10.csv')"
   ]
  },
  {
   "cell_type": "markdown",
   "metadata": {},
   "source": [
    "<h2> PCA BAT 2011</h2>"
   ]
  },
  {
   "cell_type": "code",
   "execution_count": 674,
   "metadata": {},
   "outputs": [
    {
     "data": {
      "text/html": [
       "<div>\n",
       "<style scoped>\n",
       "    .dataframe tbody tr th:only-of-type {\n",
       "        vertical-align: middle;\n",
       "    }\n",
       "\n",
       "    .dataframe tbody tr th {\n",
       "        vertical-align: top;\n",
       "    }\n",
       "\n",
       "    .dataframe thead th {\n",
       "        text-align: right;\n",
       "    }\n",
       "</style>\n",
       "<table border=\"1\" class=\"dataframe\">\n",
       "  <thead>\n",
       "    <tr style=\"text-align: right;\">\n",
       "      <th></th>\n",
       "      <th>Player's Name</th>\n",
       "      <th>Team</th>\n",
       "      <th>From</th>\n",
       "      <th>Runs</th>\n",
       "      <th>Balls</th>\n",
       "      <th>Strike Rate</th>\n",
       "      <th>Four</th>\n",
       "      <th>Six</th>\n",
       "      <th>Highest Runs Scored</th>\n",
       "      <th>ct_st</th>\n",
       "      <th>Run Outs</th>\n",
       "      <th>Matches Played</th>\n",
       "      <th>Age</th>\n",
       "      <th>Type</th>\n",
       "      <th>HardHitting2011</th>\n",
       "      <th>FastScoring2011</th>\n",
       "      <th>Running2012</th>\n",
       "    </tr>\n",
       "  </thead>\n",
       "  <tbody>\n",
       "    <tr>\n",
       "      <th>0</th>\n",
       "      <td>Suresh Raina</td>\n",
       "      <td>CSK</td>\n",
       "      <td>IND</td>\n",
       "      <td>524</td>\n",
       "      <td>365</td>\n",
       "      <td>143.561644</td>\n",
       "      <td>46</td>\n",
       "      <td>22</td>\n",
       "      <td>83</td>\n",
       "      <td>10</td>\n",
       "      <td>2.0</td>\n",
       "      <td>16</td>\n",
       "      <td>23</td>\n",
       "      <td>BAT</td>\n",
       "      <td>0.865753</td>\n",
       "      <td>1.435616</td>\n",
       "      <td>0.700337</td>\n",
       "    </tr>\n",
       "    <tr>\n",
       "      <th>1</th>\n",
       "      <td>Kedar Jadhav</td>\n",
       "      <td>DD</td>\n",
       "      <td>IND</td>\n",
       "      <td>76</td>\n",
       "      <td>56</td>\n",
       "      <td>135.714286</td>\n",
       "      <td>7</td>\n",
       "      <td>2</td>\n",
       "      <td>50</td>\n",
       "      <td>0</td>\n",
       "      <td>0.5</td>\n",
       "      <td>5</td>\n",
       "      <td>25</td>\n",
       "      <td>BAT</td>\n",
       "      <td>0.714286</td>\n",
       "      <td>1.357143</td>\n",
       "      <td>0.765957</td>\n",
       "    </tr>\n",
       "    <tr>\n",
       "      <th>2</th>\n",
       "      <td>Ambati Rayudu</td>\n",
       "      <td>MI</td>\n",
       "      <td>IND</td>\n",
       "      <td>356</td>\n",
       "      <td>246</td>\n",
       "      <td>144.715447</td>\n",
       "      <td>34</td>\n",
       "      <td>13</td>\n",
       "      <td>55</td>\n",
       "      <td>7</td>\n",
       "      <td>3.5</td>\n",
       "      <td>14</td>\n",
       "      <td>24</td>\n",
       "      <td>BAT</td>\n",
       "      <td>0.869919</td>\n",
       "      <td>1.447154</td>\n",
       "      <td>0.713568</td>\n",
       "    </tr>\n",
       "    <tr>\n",
       "      <th>3</th>\n",
       "      <td>Rohit Sharma</td>\n",
       "      <td>DC</td>\n",
       "      <td>IND</td>\n",
       "      <td>404</td>\n",
       "      <td>302</td>\n",
       "      <td>133.774834</td>\n",
       "      <td>36</td>\n",
       "      <td>14</td>\n",
       "      <td>73</td>\n",
       "      <td>9</td>\n",
       "      <td>0.5</td>\n",
       "      <td>16</td>\n",
       "      <td>23</td>\n",
       "      <td>BAT</td>\n",
       "      <td>0.754967</td>\n",
       "      <td>1.337748</td>\n",
       "      <td>0.698413</td>\n",
       "    </tr>\n",
       "    <tr>\n",
       "      <th>4</th>\n",
       "      <td>Shikhar Dhawan</td>\n",
       "      <td>MI</td>\n",
       "      <td>IND</td>\n",
       "      <td>191</td>\n",
       "      <td>170</td>\n",
       "      <td>112.352941</td>\n",
       "      <td>23</td>\n",
       "      <td>3</td>\n",
       "      <td>56</td>\n",
       "      <td>5</td>\n",
       "      <td>0.0</td>\n",
       "      <td>10</td>\n",
       "      <td>24</td>\n",
       "      <td>BAT</td>\n",
       "      <td>0.647059</td>\n",
       "      <td>1.123529</td>\n",
       "      <td>0.562500</td>\n",
       "    </tr>\n",
       "  </tbody>\n",
       "</table>\n",
       "</div>"
      ],
      "text/plain": [
       "    Player's Name Team From  Runs  Balls   Strike Rate  Four  Six  \\\n",
       "0    Suresh Raina  CSK  IND   524     365   143.561644    46   22   \n",
       "1    Kedar Jadhav   DD  IND    76      56   135.714286     7    2   \n",
       "2   Ambati Rayudu   MI  IND   356     246   144.715447    34   13   \n",
       "3    Rohit Sharma   DC  IND   404     302   133.774834    36   14   \n",
       "4  Shikhar Dhawan   MI  IND   191     170   112.352941    23    3   \n",
       "\n",
       "   Highest Runs Scored  ct_st  Run Outs  Matches Played  Age Type  \\\n",
       "0                   83     10       2.0              16   23  BAT   \n",
       "1                   50      0       0.5               5   25  BAT   \n",
       "2                   55      7       3.5              14   24  BAT   \n",
       "3                   73      9       0.5              16   23  BAT   \n",
       "4                   56      5       0.0              10   24  BAT   \n",
       "\n",
       "   HardHitting2011  FastScoring2011  Running2012  \n",
       "0         0.865753         1.435616     0.700337  \n",
       "1         0.714286         1.357143     0.765957  \n",
       "2         0.869919         1.447154     0.713568  \n",
       "3         0.754967         1.337748     0.698413  \n",
       "4         0.647059         1.123529     0.562500  "
      ]
     },
     "execution_count": 674,
     "metadata": {},
     "output_type": "execute_result"
    }
   ],
   "source": [
    "bat11.head()"
   ]
  },
  {
   "cell_type": "code",
   "execution_count": 675,
   "metadata": {},
   "outputs": [],
   "source": [
    "bat11.reset_index(drop=True, inplace=True)"
   ]
  },
  {
   "cell_type": "code",
   "execution_count": 676,
   "metadata": {},
   "outputs": [],
   "source": [
    "data8=bat11.drop([\"Type\",'From','Team'],axis=1)"
   ]
  },
  {
   "cell_type": "code",
   "execution_count": 677,
   "metadata": {},
   "outputs": [],
   "source": [
    "data8=data8[data8[\"Matches Played\"]!=0]\n",
    "data8=data8.dropna(how='any')\n",
    "data8=data8[data7[\"Runs\"]!=0]"
   ]
  },
  {
   "cell_type": "code",
   "execution_count": 678,
   "metadata": {},
   "outputs": [],
   "source": [
    "pca = PCA(n_components=2)"
   ]
  },
  {
   "cell_type": "code",
   "execution_count": 679,
   "metadata": {},
   "outputs": [
    {
     "data": {
      "text/plain": [
       "PCA(copy=True, iterated_power='auto', n_components=2, random_state=None,\n",
       "  svd_solver='auto', tol=0.0, whiten=False)"
      ]
     },
     "execution_count": 679,
     "metadata": {},
     "output_type": "execute_result"
    }
   ],
   "source": [
    "X6=data8.drop([\"Player's Name\"],axis=1)\n",
    "pca.fit(X6)"
   ]
  },
  {
   "cell_type": "code",
   "execution_count": 680,
   "metadata": {},
   "outputs": [],
   "source": [
    "lol8=pca.transform(X6)"
   ]
  },
  {
   "cell_type": "code",
   "execution_count": 681,
   "metadata": {},
   "outputs": [],
   "source": [
    "df8=pd.DataFrame(lol8)\n",
    "df8['Name']=bat10[\"Player's Name\"]\n",
    "df8.to_csv('C:/Users/samde/Desktop/Data Science/Datasets/IPL/PCABat11.csv')"
   ]
  },
  {
   "cell_type": "markdown",
   "metadata": {},
   "source": [
    "<h3>PCA BALL 2010</h3>"
   ]
  },
  {
   "cell_type": "code",
   "execution_count": 615,
   "metadata": {},
   "outputs": [],
   "source": [
    "ball10.reset_index(drop=True, inplace=True)\n",
    "data9=ball10.drop([\"Type\",'From'],axis=1)"
   ]
  },
  {
   "cell_type": "code",
   "execution_count": 616,
   "metadata": {},
   "outputs": [
    {
     "data": {
      "text/html": [
       "<div>\n",
       "<style scoped>\n",
       "    .dataframe tbody tr th:only-of-type {\n",
       "        vertical-align: middle;\n",
       "    }\n",
       "\n",
       "    .dataframe tbody tr th {\n",
       "        vertical-align: top;\n",
       "    }\n",
       "\n",
       "    .dataframe thead th {\n",
       "        text-align: right;\n",
       "    }\n",
       "</style>\n",
       "<table border=\"1\" class=\"dataframe\">\n",
       "  <thead>\n",
       "    <tr style=\"text-align: right;\">\n",
       "      <th></th>\n",
       "      <th>Player's Name</th>\n",
       "      <th>Balls Bowled</th>\n",
       "      <th>Runs Conceded</th>\n",
       "      <th>Economy</th>\n",
       "      <th>Wickets</th>\n",
       "      <th>Matches Played</th>\n",
       "      <th>Age</th>\n",
       "      <th>consistency2010</th>\n",
       "      <th>wickettaking2010</th>\n",
       "    </tr>\n",
       "  </thead>\n",
       "  <tbody>\n",
       "    <tr>\n",
       "      <th>0</th>\n",
       "      <td>Harbhajan Singh</td>\n",
       "      <td>321</td>\n",
       "      <td>377</td>\n",
       "      <td>7.046729</td>\n",
       "      <td>17</td>\n",
       "      <td>15</td>\n",
       "      <td>29.0</td>\n",
       "      <td>22.176471</td>\n",
       "      <td>18.882353</td>\n",
       "    </tr>\n",
       "    <tr>\n",
       "      <th>1</th>\n",
       "      <td>Lasith Malinga</td>\n",
       "      <td>294</td>\n",
       "      <td>344</td>\n",
       "      <td>7.020408</td>\n",
       "      <td>15</td>\n",
       "      <td>13</td>\n",
       "      <td>26.0</td>\n",
       "      <td>22.933333</td>\n",
       "      <td>19.600000</td>\n",
       "    </tr>\n",
       "    <tr>\n",
       "      <th>2</th>\n",
       "      <td>Piyush Chawla</td>\n",
       "      <td>294</td>\n",
       "      <td>367</td>\n",
       "      <td>7.489796</td>\n",
       "      <td>12</td>\n",
       "      <td>14</td>\n",
       "      <td>21.0</td>\n",
       "      <td>30.583333</td>\n",
       "      <td>24.500000</td>\n",
       "    </tr>\n",
       "    <tr>\n",
       "      <th>3</th>\n",
       "      <td>Amit Mishra</td>\n",
       "      <td>318</td>\n",
       "      <td>363</td>\n",
       "      <td>6.849057</td>\n",
       "      <td>17</td>\n",
       "      <td>14</td>\n",
       "      <td>27.0</td>\n",
       "      <td>21.352941</td>\n",
       "      <td>18.705882</td>\n",
       "    </tr>\n",
       "    <tr>\n",
       "      <th>4</th>\n",
       "      <td>Ishant Sharma</td>\n",
       "      <td>150</td>\n",
       "      <td>236</td>\n",
       "      <td>9.440000</td>\n",
       "      <td>7</td>\n",
       "      <td>7</td>\n",
       "      <td>21.0</td>\n",
       "      <td>33.714286</td>\n",
       "      <td>21.428571</td>\n",
       "    </tr>\n",
       "  </tbody>\n",
       "</table>\n",
       "</div>"
      ],
      "text/plain": [
       "     Player's Name  Balls Bowled  Runs Conceded   Economy  Wickets  \\\n",
       "0  Harbhajan Singh           321            377  7.046729       17   \n",
       "1   Lasith Malinga           294            344  7.020408       15   \n",
       "2    Piyush Chawla           294            367  7.489796       12   \n",
       "3      Amit Mishra           318            363  6.849057       17   \n",
       "4    Ishant Sharma           150            236  9.440000        7   \n",
       "\n",
       "   Matches Played   Age  consistency2010  wickettaking2010  \n",
       "0              15  29.0        22.176471         18.882353  \n",
       "1              13  26.0        22.933333         19.600000  \n",
       "2              14  21.0        30.583333         24.500000  \n",
       "3              14  27.0        21.352941         18.705882  \n",
       "4               7  21.0        33.714286         21.428571  "
      ]
     },
     "execution_count": 616,
     "metadata": {},
     "output_type": "execute_result"
    }
   ],
   "source": [
    "data9.head()"
   ]
  },
  {
   "cell_type": "code",
   "execution_count": 617,
   "metadata": {},
   "outputs": [],
   "source": [
    "data9=data9.replace([np.inf, -np.inf], np.nan)\n",
    "data9=data9.dropna(how='any')\n",
    "data9.reset_index(drop=True, inplace=True)"
   ]
  },
  {
   "cell_type": "code",
   "execution_count": 618,
   "metadata": {
    "scrolled": true
   },
   "outputs": [
    {
     "data": {
      "text/plain": [
       "(7, 9)"
      ]
     },
     "execution_count": 618,
     "metadata": {},
     "output_type": "execute_result"
    }
   ],
   "source": [
    "data9.shape"
   ]
  },
  {
   "cell_type": "code",
   "execution_count": 619,
   "metadata": {},
   "outputs": [],
   "source": [
    "X7=data9.drop([\"Player's Name\"],axis=1)\n",
    "pca.fit(X7)\n",
    "lol9=pca.transform(X7)\n",
    "df9=pd.DataFrame(lol9)\n",
    "df9['Name']=data9[\"Player's Name\"]\n",
    "df9.to_csv('C:/Users/samde/Desktop/Data Science/Datasets/IPL/PCABall10.csv')"
   ]
  },
  {
   "cell_type": "markdown",
   "metadata": {},
   "source": [
    "<h3>PCA BALL 2011</h3>"
   ]
  },
  {
   "cell_type": "code",
   "execution_count": 627,
   "metadata": {},
   "outputs": [],
   "source": [
    "ball11.reset_index(drop=True, inplace=True)\n",
    "data10=ball11.drop([\"Type\",'Age'],axis=1)"
   ]
  },
  {
   "cell_type": "code",
   "execution_count": 628,
   "metadata": {},
   "outputs": [
    {
     "data": {
      "text/html": [
       "<div>\n",
       "<style scoped>\n",
       "    .dataframe tbody tr th:only-of-type {\n",
       "        vertical-align: middle;\n",
       "    }\n",
       "\n",
       "    .dataframe tbody tr th {\n",
       "        vertical-align: top;\n",
       "    }\n",
       "\n",
       "    .dataframe thead th {\n",
       "        text-align: right;\n",
       "    }\n",
       "</style>\n",
       "<table border=\"1\" class=\"dataframe\">\n",
       "  <thead>\n",
       "    <tr style=\"text-align: right;\">\n",
       "      <th></th>\n",
       "      <th>Player's Name</th>\n",
       "      <th>Balls Bowled</th>\n",
       "      <th>Runs Conceded</th>\n",
       "      <th>Wicket</th>\n",
       "      <th>Economy</th>\n",
       "      <th>ct_st</th>\n",
       "      <th>Matches Played</th>\n",
       "      <th>consistency2011</th>\n",
       "      <th>wickettaking2011</th>\n",
       "    </tr>\n",
       "  </thead>\n",
       "  <tbody>\n",
       "    <tr>\n",
       "      <th>0</th>\n",
       "      <td>Harbhajan Singh</td>\n",
       "      <td>321</td>\n",
       "      <td>377</td>\n",
       "      <td>17</td>\n",
       "      <td>7.046729</td>\n",
       "      <td>6</td>\n",
       "      <td>15</td>\n",
       "      <td>22.176471</td>\n",
       "      <td>18.882353</td>\n",
       "    </tr>\n",
       "    <tr>\n",
       "      <th>1</th>\n",
       "      <td>Lasith Malinga</td>\n",
       "      <td>294</td>\n",
       "      <td>344</td>\n",
       "      <td>15</td>\n",
       "      <td>7.020408</td>\n",
       "      <td>2</td>\n",
       "      <td>13</td>\n",
       "      <td>22.933333</td>\n",
       "      <td>19.600000</td>\n",
       "    </tr>\n",
       "    <tr>\n",
       "      <th>2</th>\n",
       "      <td>Piyush Chawla</td>\n",
       "      <td>294</td>\n",
       "      <td>367</td>\n",
       "      <td>12</td>\n",
       "      <td>7.489796</td>\n",
       "      <td>3</td>\n",
       "      <td>14</td>\n",
       "      <td>30.583333</td>\n",
       "      <td>24.500000</td>\n",
       "    </tr>\n",
       "    <tr>\n",
       "      <th>3</th>\n",
       "      <td>Amit Mishra</td>\n",
       "      <td>318</td>\n",
       "      <td>363</td>\n",
       "      <td>17</td>\n",
       "      <td>6.849057</td>\n",
       "      <td>4</td>\n",
       "      <td>14</td>\n",
       "      <td>21.352941</td>\n",
       "      <td>18.705882</td>\n",
       "    </tr>\n",
       "    <tr>\n",
       "      <th>4</th>\n",
       "      <td>Ishant Sharma</td>\n",
       "      <td>150</td>\n",
       "      <td>236</td>\n",
       "      <td>7</td>\n",
       "      <td>9.440000</td>\n",
       "      <td>1</td>\n",
       "      <td>7</td>\n",
       "      <td>33.714286</td>\n",
       "      <td>21.428571</td>\n",
       "    </tr>\n",
       "  </tbody>\n",
       "</table>\n",
       "</div>"
      ],
      "text/plain": [
       "     Player's Name  Balls Bowled  Runs Conceded  Wicket   Economy  ct_st  \\\n",
       "0  Harbhajan Singh           321            377      17  7.046729      6   \n",
       "1   Lasith Malinga           294            344      15  7.020408      2   \n",
       "2    Piyush Chawla           294            367      12  7.489796      3   \n",
       "3      Amit Mishra           318            363      17  6.849057      4   \n",
       "4    Ishant Sharma           150            236       7  9.440000      1   \n",
       "\n",
       "   Matches Played  consistency2011  wickettaking2011  \n",
       "0              15        22.176471         18.882353  \n",
       "1              13        22.933333         19.600000  \n",
       "2              14        30.583333         24.500000  \n",
       "3              14        21.352941         18.705882  \n",
       "4               7        33.714286         21.428571  "
      ]
     },
     "execution_count": 628,
     "metadata": {},
     "output_type": "execute_result"
    }
   ],
   "source": [
    "data10.head()"
   ]
  },
  {
   "cell_type": "code",
   "execution_count": 629,
   "metadata": {},
   "outputs": [],
   "source": [
    "data10=data10.replace([np.inf, -np.inf], np.nan)\n",
    "data10=data10.dropna(how='any')\n",
    "data10.reset_index(drop=True, inplace=True)"
   ]
  },
  {
   "cell_type": "code",
   "execution_count": 630,
   "metadata": {},
   "outputs": [
    {
     "data": {
      "text/plain": [
       "(8, 9)"
      ]
     },
     "execution_count": 630,
     "metadata": {},
     "output_type": "execute_result"
    }
   ],
   "source": [
    "data10.shape"
   ]
  },
  {
   "cell_type": "code",
   "execution_count": 631,
   "metadata": {},
   "outputs": [],
   "source": [
    "X8=data10.drop([\"Player's Name\"],axis=1)\n",
    "pca.fit(X8)\n",
    "lol10=pca.transform(X8)\n",
    "df10=pd.DataFrame(lol10)\n",
    "df10['Name']=data10[\"Player's Name\"]\n",
    "df10.to_csv('C:/Users/samde/Desktop/Data Science/Datasets/IPL/PCABall11.csv')"
   ]
  },
  {
   "cell_type": "markdown",
   "metadata": {},
   "source": [
    "<h3>PCA AR 2010</h3>"
   ]
  },
  {
   "cell_type": "code",
   "execution_count": 638,
   "metadata": {},
   "outputs": [
    {
     "data": {
      "text/html": [
       "<div>\n",
       "<style scoped>\n",
       "    .dataframe tbody tr th:only-of-type {\n",
       "        vertical-align: middle;\n",
       "    }\n",
       "\n",
       "    .dataframe tbody tr th {\n",
       "        vertical-align: top;\n",
       "    }\n",
       "\n",
       "    .dataframe thead th {\n",
       "        text-align: right;\n",
       "    }\n",
       "</style>\n",
       "<table border=\"1\" class=\"dataframe\">\n",
       "  <thead>\n",
       "    <tr style=\"text-align: right;\">\n",
       "      <th></th>\n",
       "      <th>Player's Name</th>\n",
       "      <th>Runs</th>\n",
       "      <th>Balls</th>\n",
       "      <th>Four</th>\n",
       "      <th>Six</th>\n",
       "      <th>Highest Run Scored</th>\n",
       "      <th>Strike Rate</th>\n",
       "      <th>Balls Bowled</th>\n",
       "      <th>Runs Conceded</th>\n",
       "      <th>Economy</th>\n",
       "      <th>Wickets</th>\n",
       "      <th>ct_st</th>\n",
       "      <th>Run Outs</th>\n",
       "      <th>Matches Played</th>\n",
       "      <th>HardHitting2010</th>\n",
       "      <th>FastScoring2010</th>\n",
       "      <th>Running2010</th>\n",
       "      <th>consistency2010</th>\n",
       "      <th>wickettaking2010</th>\n",
       "    </tr>\n",
       "  </thead>\n",
       "  <tbody>\n",
       "    <tr>\n",
       "      <th>0</th>\n",
       "      <td>Dwayne Bravo</td>\n",
       "      <td>64</td>\n",
       "      <td>53</td>\n",
       "      <td>4</td>\n",
       "      <td>4</td>\n",
       "      <td>23</td>\n",
       "      <td>120.754717</td>\n",
       "      <td>157</td>\n",
       "      <td>228</td>\n",
       "      <td>8.713376</td>\n",
       "      <td>4</td>\n",
       "      <td>4</td>\n",
       "      <td>1.0</td>\n",
       "      <td>10</td>\n",
       "      <td>0.754717</td>\n",
       "      <td>1.207547</td>\n",
       "      <td>0.533333</td>\n",
       "      <td>57.000000</td>\n",
       "      <td>39.25</td>\n",
       "    </tr>\n",
       "    <tr>\n",
       "      <th>1</th>\n",
       "      <td>Shane Watson</td>\n",
       "      <td>185</td>\n",
       "      <td>114</td>\n",
       "      <td>18</td>\n",
       "      <td>9</td>\n",
       "      <td>60</td>\n",
       "      <td>162.280702</td>\n",
       "      <td>132</td>\n",
       "      <td>184</td>\n",
       "      <td>8.363636</td>\n",
       "      <td>6</td>\n",
       "      <td>3</td>\n",
       "      <td>0.0</td>\n",
       "      <td>6</td>\n",
       "      <td>1.105263</td>\n",
       "      <td>1.622807</td>\n",
       "      <td>0.678161</td>\n",
       "      <td>30.666667</td>\n",
       "      <td>22.00</td>\n",
       "    </tr>\n",
       "    <tr>\n",
       "      <th>2</th>\n",
       "      <td>Kieron Pollard</td>\n",
       "      <td>273</td>\n",
       "      <td>147</td>\n",
       "      <td>23</td>\n",
       "      <td>17</td>\n",
       "      <td>45</td>\n",
       "      <td>185.714286</td>\n",
       "      <td>222</td>\n",
       "      <td>274</td>\n",
       "      <td>7.405405</td>\n",
       "      <td>15</td>\n",
       "      <td>6</td>\n",
       "      <td>3.5</td>\n",
       "      <td>14</td>\n",
       "      <td>1.319728</td>\n",
       "      <td>1.857143</td>\n",
       "      <td>0.738318</td>\n",
       "      <td>18.266667</td>\n",
       "      <td>14.80</td>\n",
       "    </tr>\n",
       "    <tr>\n",
       "      <th>3</th>\n",
       "      <td>Yuvraj Singh</td>\n",
       "      <td>255</td>\n",
       "      <td>199</td>\n",
       "      <td>20</td>\n",
       "      <td>14</td>\n",
       "      <td>43</td>\n",
       "      <td>128.140704</td>\n",
       "      <td>138</td>\n",
       "      <td>152</td>\n",
       "      <td>6.608696</td>\n",
       "      <td>5</td>\n",
       "      <td>2</td>\n",
       "      <td>0.0</td>\n",
       "      <td>14</td>\n",
       "      <td>0.824121</td>\n",
       "      <td>1.281407</td>\n",
       "      <td>0.551515</td>\n",
       "      <td>30.400000</td>\n",
       "      <td>27.60</td>\n",
       "    </tr>\n",
       "    <tr>\n",
       "      <th>4</th>\n",
       "      <td>Yusuf Pathan</td>\n",
       "      <td>333</td>\n",
       "      <td>201</td>\n",
       "      <td>22</td>\n",
       "      <td>24</td>\n",
       "      <td>100</td>\n",
       "      <td>165.671642</td>\n",
       "      <td>204</td>\n",
       "      <td>246</td>\n",
       "      <td>7.235294</td>\n",
       "      <td>5</td>\n",
       "      <td>9</td>\n",
       "      <td>1.0</td>\n",
       "      <td>14</td>\n",
       "      <td>1.154229</td>\n",
       "      <td>1.656716</td>\n",
       "      <td>0.651613</td>\n",
       "      <td>49.200000</td>\n",
       "      <td>40.80</td>\n",
       "    </tr>\n",
       "  </tbody>\n",
       "</table>\n",
       "</div>"
      ],
      "text/plain": [
       "    Player's Name  Runs  Balls  Four  Six  Highest Run Scored  Strike Rate  \\\n",
       "0    Dwayne Bravo    64     53     4    4                  23   120.754717   \n",
       "1    Shane Watson   185    114    18    9                  60   162.280702   \n",
       "2  Kieron Pollard   273    147    23   17                  45   185.714286   \n",
       "3    Yuvraj Singh   255    199    20   14                  43   128.140704   \n",
       "4    Yusuf Pathan   333    201    22   24                 100   165.671642   \n",
       "\n",
       "   Balls Bowled  Runs Conceded   Economy  Wickets  ct_st  Run Outs  \\\n",
       "0           157            228  8.713376        4      4       1.0   \n",
       "1           132            184  8.363636        6      3       0.0   \n",
       "2           222            274  7.405405       15      6       3.5   \n",
       "3           138            152  6.608696        5      2       0.0   \n",
       "4           204            246  7.235294        5      9       1.0   \n",
       "\n",
       "   Matches Played  HardHitting2010  FastScoring2010  Running2010  \\\n",
       "0              10         0.754717         1.207547     0.533333   \n",
       "1               6         1.105263         1.622807     0.678161   \n",
       "2              14         1.319728         1.857143     0.738318   \n",
       "3              14         0.824121         1.281407     0.551515   \n",
       "4              14         1.154229         1.656716     0.651613   \n",
       "\n",
       "   consistency2010  wickettaking2010  \n",
       "0        57.000000             39.25  \n",
       "1        30.666667             22.00  \n",
       "2        18.266667             14.80  \n",
       "3        30.400000             27.60  \n",
       "4        49.200000             40.80  "
      ]
     },
     "execution_count": 638,
     "metadata": {},
     "output_type": "execute_result"
    }
   ],
   "source": [
    "data11.head()"
   ]
  },
  {
   "cell_type": "code",
   "execution_count": 637,
   "metadata": {},
   "outputs": [],
   "source": [
    "data11=AR10.drop(['Type','Age'],axis=1)\n",
    "data11=data11.replace([np.inf, -np.inf], np.nan)\n",
    "data11=data11.dropna(how='any')\n",
    "data11=data11[data11[\"Matches Played\"]!=0]\n",
    "data11=data11[data11[\"Runs\"]!=0]\n",
    "data11.reset_index(drop=True, inplace=True)"
   ]
  },
  {
   "cell_type": "code",
   "execution_count": 639,
   "metadata": {},
   "outputs": [
    {
     "data": {
      "text/plain": [
       "(7, 19)"
      ]
     },
     "execution_count": 639,
     "metadata": {},
     "output_type": "execute_result"
    }
   ],
   "source": [
    "data11.shape"
   ]
  },
  {
   "cell_type": "code",
   "execution_count": 640,
   "metadata": {},
   "outputs": [],
   "source": [
    "X9=data11.drop([\"Player's Name\"],axis=1)\n",
    "pca.fit(X9)\n",
    "lol11=pca.transform(X9)\n",
    "df11=pd.DataFrame(lol11)\n",
    "df11['Name']=data11[\"Player's Name\"]\n",
    "df11.to_csv('C:/Users/samde/Desktop/Data Science/Datasets/IPL/PCAR10.csv')"
   ]
  },
  {
   "cell_type": "markdown",
   "metadata": {},
   "source": [
    "<h3>PCA AR 2011</h3>"
   ]
  },
  {
   "cell_type": "code",
   "execution_count": 648,
   "metadata": {},
   "outputs": [
    {
     "data": {
      "text/html": [
       "<div>\n",
       "<style scoped>\n",
       "    .dataframe tbody tr th:only-of-type {\n",
       "        vertical-align: middle;\n",
       "    }\n",
       "\n",
       "    .dataframe tbody tr th {\n",
       "        vertical-align: top;\n",
       "    }\n",
       "\n",
       "    .dataframe thead th {\n",
       "        text-align: right;\n",
       "    }\n",
       "</style>\n",
       "<table border=\"1\" class=\"dataframe\">\n",
       "  <thead>\n",
       "    <tr style=\"text-align: right;\">\n",
       "      <th></th>\n",
       "      <th>Player's Name</th>\n",
       "      <th>Runs</th>\n",
       "      <th>Balls</th>\n",
       "      <th>Strike Rate</th>\n",
       "      <th>Four</th>\n",
       "      <th>Six</th>\n",
       "      <th>Highest Runs Scored</th>\n",
       "      <th>Balls Bowled</th>\n",
       "      <th>Runs Conceded</th>\n",
       "      <th>Wicket</th>\n",
       "      <th>Economy</th>\n",
       "      <th>ct_st</th>\n",
       "      <th>Run Outs</th>\n",
       "      <th>Matches Played</th>\n",
       "      <th>HardHitting2011</th>\n",
       "      <th>FastScoring2011</th>\n",
       "      <th>Running2011</th>\n",
       "      <th>consistency2011</th>\n",
       "      <th>wickettaking2011</th>\n",
       "    </tr>\n",
       "  </thead>\n",
       "  <tbody>\n",
       "    <tr>\n",
       "      <th>0</th>\n",
       "      <td>Dwayne Bravo</td>\n",
       "      <td>64</td>\n",
       "      <td>53</td>\n",
       "      <td>120.754717</td>\n",
       "      <td>4</td>\n",
       "      <td>4</td>\n",
       "      <td>23</td>\n",
       "      <td>157</td>\n",
       "      <td>228</td>\n",
       "      <td>4</td>\n",
       "      <td>8.713376</td>\n",
       "      <td>4</td>\n",
       "      <td>1.0</td>\n",
       "      <td>10</td>\n",
       "      <td>0.754717</td>\n",
       "      <td>1.207547</td>\n",
       "      <td>0.533333</td>\n",
       "      <td>57.000000</td>\n",
       "      <td>39.250000</td>\n",
       "    </tr>\n",
       "    <tr>\n",
       "      <th>1</th>\n",
       "      <td>Shane Watson</td>\n",
       "      <td>185</td>\n",
       "      <td>114</td>\n",
       "      <td>162.280702</td>\n",
       "      <td>18</td>\n",
       "      <td>9</td>\n",
       "      <td>60</td>\n",
       "      <td>132</td>\n",
       "      <td>184</td>\n",
       "      <td>6</td>\n",
       "      <td>8.363636</td>\n",
       "      <td>3</td>\n",
       "      <td>0.0</td>\n",
       "      <td>6</td>\n",
       "      <td>1.105263</td>\n",
       "      <td>1.622807</td>\n",
       "      <td>0.678161</td>\n",
       "      <td>30.666667</td>\n",
       "      <td>22.000000</td>\n",
       "    </tr>\n",
       "    <tr>\n",
       "      <th>2</th>\n",
       "      <td>Kieron Pollard</td>\n",
       "      <td>273</td>\n",
       "      <td>147</td>\n",
       "      <td>185.714286</td>\n",
       "      <td>23</td>\n",
       "      <td>17</td>\n",
       "      <td>45</td>\n",
       "      <td>222</td>\n",
       "      <td>274</td>\n",
       "      <td>15</td>\n",
       "      <td>7.405405</td>\n",
       "      <td>6</td>\n",
       "      <td>3.5</td>\n",
       "      <td>14</td>\n",
       "      <td>1.319728</td>\n",
       "      <td>1.857143</td>\n",
       "      <td>0.738318</td>\n",
       "      <td>18.266667</td>\n",
       "      <td>14.800000</td>\n",
       "    </tr>\n",
       "    <tr>\n",
       "      <th>3</th>\n",
       "      <td>Yusuf Pathan</td>\n",
       "      <td>333</td>\n",
       "      <td>201</td>\n",
       "      <td>165.671642</td>\n",
       "      <td>22</td>\n",
       "      <td>24</td>\n",
       "      <td>100</td>\n",
       "      <td>204</td>\n",
       "      <td>246</td>\n",
       "      <td>5</td>\n",
       "      <td>7.235294</td>\n",
       "      <td>9</td>\n",
       "      <td>1.0</td>\n",
       "      <td>14</td>\n",
       "      <td>1.154229</td>\n",
       "      <td>1.656716</td>\n",
       "      <td>0.651613</td>\n",
       "      <td>49.200000</td>\n",
       "      <td>40.800000</td>\n",
       "    </tr>\n",
       "    <tr>\n",
       "      <th>4</th>\n",
       "      <td>Ravichandran Ashwin</td>\n",
       "      <td>30</td>\n",
       "      <td>40</td>\n",
       "      <td>75.000000</td>\n",
       "      <td>2</td>\n",
       "      <td>0</td>\n",
       "      <td>11</td>\n",
       "      <td>288</td>\n",
       "      <td>293</td>\n",
       "      <td>13</td>\n",
       "      <td>6.104167</td>\n",
       "      <td>1</td>\n",
       "      <td>0.5</td>\n",
       "      <td>12</td>\n",
       "      <td>0.200000</td>\n",
       "      <td>0.750000</td>\n",
       "      <td>0.578947</td>\n",
       "      <td>22.538462</td>\n",
       "      <td>22.153846</td>\n",
       "    </tr>\n",
       "  </tbody>\n",
       "</table>\n",
       "</div>"
      ],
      "text/plain": [
       "         Player's Name  Runs  Balls   Strike Rate  Four  Six  \\\n",
       "0         Dwayne Bravo    64      53   120.754717     4    4   \n",
       "1         Shane Watson   185     114   162.280702    18    9   \n",
       "2       Kieron Pollard   273     147   185.714286    23   17   \n",
       "3         Yusuf Pathan   333     201   165.671642    22   24   \n",
       "4  Ravichandran Ashwin    30      40    75.000000     2    0   \n",
       "\n",
       "   Highest Runs Scored  Balls Bowled  Runs Conceded  Wicket   Economy  ct_st  \\\n",
       "0                   23           157            228       4  8.713376      4   \n",
       "1                   60           132            184       6  8.363636      3   \n",
       "2                   45           222            274      15  7.405405      6   \n",
       "3                  100           204            246       5  7.235294      9   \n",
       "4                   11           288            293      13  6.104167      1   \n",
       "\n",
       "   Run Outs  Matches Played  HardHitting2011  FastScoring2011  Running2011  \\\n",
       "0       1.0              10         0.754717         1.207547     0.533333   \n",
       "1       0.0               6         1.105263         1.622807     0.678161   \n",
       "2       3.5              14         1.319728         1.857143     0.738318   \n",
       "3       1.0              14         1.154229         1.656716     0.651613   \n",
       "4       0.5              12         0.200000         0.750000     0.578947   \n",
       "\n",
       "   consistency2011  wickettaking2011  \n",
       "0        57.000000         39.250000  \n",
       "1        30.666667         22.000000  \n",
       "2        18.266667         14.800000  \n",
       "3        49.200000         40.800000  \n",
       "4        22.538462         22.153846  "
      ]
     },
     "execution_count": 648,
     "metadata": {},
     "output_type": "execute_result"
    }
   ],
   "source": [
    "data12.head()"
   ]
  },
  {
   "cell_type": "code",
   "execution_count": 647,
   "metadata": {},
   "outputs": [],
   "source": [
    "data12=AR11.drop(['Type','Age'],axis=1)\n",
    "data12=data12.replace([np.inf, -np.inf], np.nan)\n",
    "data12=data12.dropna(how='any')\n",
    "data12=data12[data12[\"Matches Played\"]!=0]\n",
    "data12=data12[data12[\"Runs\"]!=0]\n",
    "data12.reset_index(drop=True, inplace=True)"
   ]
  },
  {
   "cell_type": "code",
   "execution_count": 649,
   "metadata": {},
   "outputs": [
    {
     "data": {
      "text/plain": [
       "(6, 19)"
      ]
     },
     "execution_count": 649,
     "metadata": {},
     "output_type": "execute_result"
    }
   ],
   "source": [
    "data12.shape"
   ]
  },
  {
   "cell_type": "code",
   "execution_count": 651,
   "metadata": {},
   "outputs": [],
   "source": [
    "X10=data12.drop([\"Player's Name\"],axis=1)\n",
    "pca.fit(X10)\n",
    "lol12=pca.transform(X10)\n",
    "df12=pd.DataFrame(lol12)\n",
    "df12['Name']=data12[\"Player's Name\"]\n",
    "df12.to_csv('C:/Users/samde/Desktop/Data Science/Datasets/IPL/PCAR11.csv')"
   ]
  },
  {
   "cell_type": "markdown",
   "metadata": {},
   "source": [
    "SOME DROPPED COLUMNS"
   ]
  },
  {
   "cell_type": "code",
   "execution_count": 185,
   "metadata": {},
   "outputs": [],
   "source": [
    "bat16.reset_index(drop=True, inplace=True)"
   ]
  },
  {
   "cell_type": "code",
   "execution_count": 198,
   "metadata": {},
   "outputs": [
    {
     "name": "stderr",
     "output_type": "stream",
     "text": [
      "C:\\Users\\samde\\Miniconda3\\envs\\AI\\lib\\site-packages\\pandas\\core\\frame.py:3697: SettingWithCopyWarning: \n",
      "A value is trying to be set on a copy of a slice from a DataFrame\n",
      "\n",
      "See the caveats in the documentation: http://pandas.pydata.org/pandas-docs/stable/indexing.html#indexing-view-versus-copy\n",
      "  errors=errors)\n"
     ]
    }
   ],
   "source": [
    "bat16.drop(['Team'],axis=1,inplace=True)"
   ]
  },
  {
   "cell_type": "code",
   "execution_count": 201,
   "metadata": {},
   "outputs": [
    {
     "name": "stderr",
     "output_type": "stream",
     "text": [
      "C:\\Users\\samde\\Miniconda3\\envs\\AI\\lib\\site-packages\\pandas\\core\\frame.py:3697: SettingWithCopyWarning: \n",
      "A value is trying to be set on a copy of a slice from a DataFrame\n",
      "\n",
      "See the caveats in the documentation: http://pandas.pydata.org/pandas-docs/stable/indexing.html#indexing-view-versus-copy\n",
      "  errors=errors)\n"
     ]
    }
   ],
   "source": [
    "bat16.drop(['From'],axis=1,inplace=True)"
   ]
  },
  {
   "cell_type": "code",
   "execution_count": 188,
   "metadata": {},
   "outputs": [],
   "source": [
    "bat15.reset_index(drop=True, inplace=True)"
   ]
  },
  {
   "cell_type": "code",
   "execution_count": 199,
   "metadata": {},
   "outputs": [
    {
     "name": "stderr",
     "output_type": "stream",
     "text": [
      "C:\\Users\\samde\\Miniconda3\\envs\\AI\\lib\\site-packages\\pandas\\core\\frame.py:3697: SettingWithCopyWarning: \n",
      "A value is trying to be set on a copy of a slice from a DataFrame\n",
      "\n",
      "See the caveats in the documentation: http://pandas.pydata.org/pandas-docs/stable/indexing.html#indexing-view-versus-copy\n",
      "  errors=errors)\n"
     ]
    }
   ],
   "source": [
    "bat15.drop(['Team'],axis=1,inplace=True)"
   ]
  },
  {
   "cell_type": "code",
   "execution_count": 203,
   "metadata": {},
   "outputs": [
    {
     "name": "stderr",
     "output_type": "stream",
     "text": [
      "C:\\Users\\samde\\Miniconda3\\envs\\AI\\lib\\site-packages\\pandas\\core\\frame.py:3697: SettingWithCopyWarning: \n",
      "A value is trying to be set on a copy of a slice from a DataFrame\n",
      "\n",
      "See the caveats in the documentation: http://pandas.pydata.org/pandas-docs/stable/indexing.html#indexing-view-versus-copy\n",
      "  errors=errors)\n"
     ]
    }
   ],
   "source": [
    "bat15.drop(['From'],axis=1,inplace=True)"
   ]
  },
  {
   "cell_type": "code",
   "execution_count": 204,
   "metadata": {},
   "outputs": [
    {
     "data": {
      "text/html": [
       "<div>\n",
       "<style scoped>\n",
       "    .dataframe tbody tr th:only-of-type {\n",
       "        vertical-align: middle;\n",
       "    }\n",
       "\n",
       "    .dataframe tbody tr th {\n",
       "        vertical-align: top;\n",
       "    }\n",
       "\n",
       "    .dataframe thead th {\n",
       "        text-align: right;\n",
       "    }\n",
       "</style>\n",
       "<table border=\"1\" class=\"dataframe\">\n",
       "  <thead>\n",
       "    <tr style=\"text-align: right;\">\n",
       "      <th></th>\n",
       "      <th>Player's Name</th>\n",
       "      <th>Run</th>\n",
       "      <th>Ball</th>\n",
       "      <th>Strike Rate</th>\n",
       "      <th>Four</th>\n",
       "      <th>Six</th>\n",
       "      <th>Highest Run Scored</th>\n",
       "      <th>Ct_St</th>\n",
       "      <th>Run Outs</th>\n",
       "      <th>Matches Played</th>\n",
       "      <th>Type</th>\n",
       "      <th>HardHitting2015</th>\n",
       "      <th>FastScoring2015</th>\n",
       "      <th>Running2015</th>\n",
       "    </tr>\n",
       "  </thead>\n",
       "  <tbody>\n",
       "    <tr>\n",
       "      <th>0</th>\n",
       "      <td>Suresh Raina</td>\n",
       "      <td>374</td>\n",
       "      <td>305</td>\n",
       "      <td>122.6</td>\n",
       "      <td>31</td>\n",
       "      <td>16</td>\n",
       "      <td>62</td>\n",
       "      <td>11</td>\n",
       "      <td>0.0</td>\n",
       "      <td>17</td>\n",
       "      <td>BAT</td>\n",
       "      <td>0.721311</td>\n",
       "      <td>1.226230</td>\n",
       "      <td>0.596899</td>\n",
       "    </tr>\n",
       "    <tr>\n",
       "      <th>1</th>\n",
       "      <td>Faf du Plessis</td>\n",
       "      <td>380</td>\n",
       "      <td>304</td>\n",
       "      <td>125</td>\n",
       "      <td>37</td>\n",
       "      <td>5</td>\n",
       "      <td>55</td>\n",
       "      <td>8</td>\n",
       "      <td>1.0</td>\n",
       "      <td>17</td>\n",
       "      <td>BAT</td>\n",
       "      <td>0.585526</td>\n",
       "      <td>1.250000</td>\n",
       "      <td>0.770992</td>\n",
       "    </tr>\n",
       "    <tr>\n",
       "      <th>2</th>\n",
       "      <td>Kedar Jadhav</td>\n",
       "      <td>189</td>\n",
       "      <td>140</td>\n",
       "      <td>135</td>\n",
       "      <td>16</td>\n",
       "      <td>7</td>\n",
       "      <td>63</td>\n",
       "      <td>9</td>\n",
       "      <td>0.5</td>\n",
       "      <td>14</td>\n",
       "      <td>BAT</td>\n",
       "      <td>0.757143</td>\n",
       "      <td>1.350000</td>\n",
       "      <td>0.709402</td>\n",
       "    </tr>\n",
       "    <tr>\n",
       "      <th>3</th>\n",
       "      <td>Ambati Rayudu</td>\n",
       "      <td>281</td>\n",
       "      <td>193</td>\n",
       "      <td>145.6</td>\n",
       "      <td>18</td>\n",
       "      <td>16</td>\n",
       "      <td>53</td>\n",
       "      <td>9</td>\n",
       "      <td>0.0</td>\n",
       "      <td>15</td>\n",
       "      <td>BAT</td>\n",
       "      <td>0.870466</td>\n",
       "      <td>1.455959</td>\n",
       "      <td>0.710692</td>\n",
       "    </tr>\n",
       "    <tr>\n",
       "      <th>4</th>\n",
       "      <td>Rohit Sharma</td>\n",
       "      <td>482</td>\n",
       "      <td>333</td>\n",
       "      <td>144.7</td>\n",
       "      <td>41</td>\n",
       "      <td>21</td>\n",
       "      <td>98</td>\n",
       "      <td>5</td>\n",
       "      <td>0.5</td>\n",
       "      <td>16</td>\n",
       "      <td>BAT</td>\n",
       "      <td>0.870871</td>\n",
       "      <td>1.447447</td>\n",
       "      <td>0.708487</td>\n",
       "    </tr>\n",
       "  </tbody>\n",
       "</table>\n",
       "</div>"
      ],
      "text/plain": [
       "    Player's Name  Run  Ball Strike Rate  Four  Six  Highest Run Scored  \\\n",
       "0    Suresh Raina  374   305       122.6    31   16                  62   \n",
       "1  Faf du Plessis  380   304         125    37    5                  55   \n",
       "2    Kedar Jadhav  189   140         135    16    7                  63   \n",
       "3   Ambati Rayudu  281   193       145.6    18   16                  53   \n",
       "4    Rohit Sharma  482   333       144.7    41   21                  98   \n",
       "\n",
       "   Ct_St  Run Outs  Matches Played Type  HardHitting2015  FastScoring2015  \\\n",
       "0     11       0.0              17  BAT         0.721311         1.226230   \n",
       "1      8       1.0              17  BAT         0.585526         1.250000   \n",
       "2      9       0.5              14  BAT         0.757143         1.350000   \n",
       "3      9       0.0              15  BAT         0.870466         1.455959   \n",
       "4      5       0.5              16  BAT         0.870871         1.447447   \n",
       "\n",
       "   Running2015  \n",
       "0     0.596899  \n",
       "1     0.770992  \n",
       "2     0.709402  \n",
       "3     0.710692  \n",
       "4     0.708487  "
      ]
     },
     "execution_count": 204,
     "metadata": {},
     "output_type": "execute_result"
    }
   ],
   "source": [
    "bat15.head()"
   ]
  },
  {
   "cell_type": "markdown",
   "metadata": {},
   "source": [
    "PCA BAT 2015"
   ]
  },
  {
   "cell_type": "code",
   "execution_count": 700,
   "metadata": {},
   "outputs": [],
   "source": [
    "from sklearn.decomposition import PCA"
   ]
  },
  {
   "cell_type": "code",
   "execution_count": 702,
   "metadata": {},
   "outputs": [],
   "source": [
    "bat15.reset_index(drop=True, inplace=True)"
   ]
  },
  {
   "cell_type": "code",
   "execution_count": 704,
   "metadata": {},
   "outputs": [],
   "source": [
    "data=bat15.drop([\"Player's Name\",\"Type\"],axis=1)"
   ]
  },
  {
   "cell_type": "code",
   "execution_count": 705,
   "metadata": {},
   "outputs": [
    {
     "data": {
      "text/html": [
       "<div>\n",
       "<style scoped>\n",
       "    .dataframe tbody tr th:only-of-type {\n",
       "        vertical-align: middle;\n",
       "    }\n",
       "\n",
       "    .dataframe tbody tr th {\n",
       "        vertical-align: top;\n",
       "    }\n",
       "\n",
       "    .dataframe thead th {\n",
       "        text-align: right;\n",
       "    }\n",
       "</style>\n",
       "<table border=\"1\" class=\"dataframe\">\n",
       "  <thead>\n",
       "    <tr style=\"text-align: right;\">\n",
       "      <th></th>\n",
       "      <th>Run</th>\n",
       "      <th>Ball</th>\n",
       "      <th>Strike Rate</th>\n",
       "      <th>Four</th>\n",
       "      <th>Six</th>\n",
       "      <th>Highest Run Scored</th>\n",
       "      <th>Ct_St</th>\n",
       "      <th>Run Outs</th>\n",
       "      <th>Matches Played</th>\n",
       "      <th>HardHitting2015</th>\n",
       "      <th>FastScoring2015</th>\n",
       "      <th>Running2015</th>\n",
       "    </tr>\n",
       "  </thead>\n",
       "  <tbody>\n",
       "    <tr>\n",
       "      <th>0</th>\n",
       "      <td>374</td>\n",
       "      <td>305</td>\n",
       "      <td>122.6</td>\n",
       "      <td>31</td>\n",
       "      <td>16</td>\n",
       "      <td>62</td>\n",
       "      <td>11</td>\n",
       "      <td>0.0</td>\n",
       "      <td>17</td>\n",
       "      <td>0.721311</td>\n",
       "      <td>1.226230</td>\n",
       "      <td>0.596899</td>\n",
       "    </tr>\n",
       "    <tr>\n",
       "      <th>1</th>\n",
       "      <td>380</td>\n",
       "      <td>304</td>\n",
       "      <td>125</td>\n",
       "      <td>37</td>\n",
       "      <td>5</td>\n",
       "      <td>55</td>\n",
       "      <td>8</td>\n",
       "      <td>1.0</td>\n",
       "      <td>17</td>\n",
       "      <td>0.585526</td>\n",
       "      <td>1.250000</td>\n",
       "      <td>0.770992</td>\n",
       "    </tr>\n",
       "    <tr>\n",
       "      <th>2</th>\n",
       "      <td>189</td>\n",
       "      <td>140</td>\n",
       "      <td>135</td>\n",
       "      <td>16</td>\n",
       "      <td>7</td>\n",
       "      <td>63</td>\n",
       "      <td>9</td>\n",
       "      <td>0.5</td>\n",
       "      <td>14</td>\n",
       "      <td>0.757143</td>\n",
       "      <td>1.350000</td>\n",
       "      <td>0.709402</td>\n",
       "    </tr>\n",
       "    <tr>\n",
       "      <th>3</th>\n",
       "      <td>281</td>\n",
       "      <td>193</td>\n",
       "      <td>145.6</td>\n",
       "      <td>18</td>\n",
       "      <td>16</td>\n",
       "      <td>53</td>\n",
       "      <td>9</td>\n",
       "      <td>0.0</td>\n",
       "      <td>15</td>\n",
       "      <td>0.870466</td>\n",
       "      <td>1.455959</td>\n",
       "      <td>0.710692</td>\n",
       "    </tr>\n",
       "    <tr>\n",
       "      <th>4</th>\n",
       "      <td>482</td>\n",
       "      <td>333</td>\n",
       "      <td>144.7</td>\n",
       "      <td>41</td>\n",
       "      <td>21</td>\n",
       "      <td>98</td>\n",
       "      <td>5</td>\n",
       "      <td>0.5</td>\n",
       "      <td>16</td>\n",
       "      <td>0.870871</td>\n",
       "      <td>1.447447</td>\n",
       "      <td>0.708487</td>\n",
       "    </tr>\n",
       "  </tbody>\n",
       "</table>\n",
       "</div>"
      ],
      "text/plain": [
       "   Run  Ball Strike Rate  Four  Six  Highest Run Scored  Ct_St  Run Outs  \\\n",
       "0  374   305       122.6    31   16                  62     11       0.0   \n",
       "1  380   304         125    37    5                  55      8       1.0   \n",
       "2  189   140         135    16    7                  63      9       0.5   \n",
       "3  281   193       145.6    18   16                  53      9       0.0   \n",
       "4  482   333       144.7    41   21                  98      5       0.5   \n",
       "\n",
       "   Matches Played  HardHitting2015  FastScoring2015  Running2015  \n",
       "0              17         0.721311         1.226230     0.596899  \n",
       "1              17         0.585526         1.250000     0.770992  \n",
       "2              14         0.757143         1.350000     0.709402  \n",
       "3              15         0.870466         1.455959     0.710692  \n",
       "4              16         0.870871         1.447447     0.708487  "
      ]
     },
     "execution_count": 705,
     "metadata": {},
     "output_type": "execute_result"
    }
   ],
   "source": [
    "data.head()"
   ]
  },
  {
   "cell_type": "code",
   "execution_count": 706,
   "metadata": {},
   "outputs": [],
   "source": [
    "pca = PCA(n_components=2)"
   ]
  },
  {
   "cell_type": "code",
   "execution_count": 707,
   "metadata": {},
   "outputs": [
    {
     "data": {
      "text/plain": [
       "PCA(copy=True, iterated_power='auto', n_components=2, random_state=None,\n",
       "  svd_solver='auto', tol=0.0, whiten=False)"
      ]
     },
     "execution_count": 707,
     "metadata": {},
     "output_type": "execute_result"
    }
   ],
   "source": [
    "pca.fit(data)"
   ]
  },
  {
   "cell_type": "code",
   "execution_count": 708,
   "metadata": {},
   "outputs": [],
   "source": [
    "lol=pca.transform(data)"
   ]
  },
  {
   "cell_type": "code",
   "execution_count": 709,
   "metadata": {},
   "outputs": [],
   "source": [
    "df=pd.DataFrame(lol)"
   ]
  },
  {
   "cell_type": "code",
   "execution_count": 710,
   "metadata": {},
   "outputs": [],
   "source": [
    "bat15.reset_index(drop=True, inplace=True)"
   ]
  },
  {
   "cell_type": "code",
   "execution_count": 712,
   "metadata": {},
   "outputs": [],
   "source": [
    "df['Name']=bat15[\"Player's Name\"]"
   ]
  },
  {
   "cell_type": "code",
   "execution_count": 713,
   "metadata": {},
   "outputs": [],
   "source": [
    "df.to_csv('C:/Users/samde/Desktop/Data Science/Datasets/IPL/PCABat15.csv')"
   ]
  },
  {
   "cell_type": "markdown",
   "metadata": {},
   "source": [
    "PCA BALL 2015"
   ]
  },
  {
   "cell_type": "code",
   "execution_count": 715,
   "metadata": {},
   "outputs": [],
   "source": [
    "ball15.reset_index(drop=True, inplace=True)"
   ]
  },
  {
   "cell_type": "code",
   "execution_count": 716,
   "metadata": {},
   "outputs": [],
   "source": [
    "data3=ball15.drop([\"Type\",'From'],axis=1)"
   ]
  },
  {
   "cell_type": "code",
   "execution_count": 717,
   "metadata": {},
   "outputs": [
    {
     "data": {
      "text/html": [
       "<div>\n",
       "<style scoped>\n",
       "    .dataframe tbody tr th:only-of-type {\n",
       "        vertical-align: middle;\n",
       "    }\n",
       "\n",
       "    .dataframe tbody tr th {\n",
       "        vertical-align: top;\n",
       "    }\n",
       "\n",
       "    .dataframe thead th {\n",
       "        text-align: right;\n",
       "    }\n",
       "</style>\n",
       "<table border=\"1\" class=\"dataframe\">\n",
       "  <thead>\n",
       "    <tr style=\"text-align: right;\">\n",
       "      <th></th>\n",
       "      <th>Player's Name</th>\n",
       "      <th>Balls Bowled</th>\n",
       "      <th>Runs Conceded</th>\n",
       "      <th>Economy</th>\n",
       "      <th>Wickets</th>\n",
       "      <th>Matches Played</th>\n",
       "      <th>consistency2015</th>\n",
       "      <th>wickettaking2015</th>\n",
       "    </tr>\n",
       "  </thead>\n",
       "  <tbody>\n",
       "    <tr>\n",
       "      <th>0</th>\n",
       "      <td>Imran Tahir</td>\n",
       "      <td>213</td>\n",
       "      <td>314</td>\n",
       "      <td>8.8</td>\n",
       "      <td>15</td>\n",
       "      <td>10</td>\n",
       "      <td>20.933333</td>\n",
       "      <td>14.200000</td>\n",
       "    </tr>\n",
       "    <tr>\n",
       "      <th>1</th>\n",
       "      <td>Harbhajan Singh</td>\n",
       "      <td>342</td>\n",
       "      <td>446</td>\n",
       "      <td>7.8</td>\n",
       "      <td>18</td>\n",
       "      <td>15</td>\n",
       "      <td>24.777778</td>\n",
       "      <td>19.000000</td>\n",
       "    </tr>\n",
       "    <tr>\n",
       "      <th>2</th>\n",
       "      <td>Shardul Thakur</td>\n",
       "      <td>18</td>\n",
       "      <td>38</td>\n",
       "      <td>12.7</td>\n",
       "      <td>1</td>\n",
       "      <td>1</td>\n",
       "      <td>38.000000</td>\n",
       "      <td>18.000000</td>\n",
       "    </tr>\n",
       "    <tr>\n",
       "      <th>3</th>\n",
       "      <td>Mohit Sharma</td>\n",
       "      <td>342</td>\n",
       "      <td>481</td>\n",
       "      <td>8.4</td>\n",
       "      <td>14</td>\n",
       "      <td>16</td>\n",
       "      <td>34.357143</td>\n",
       "      <td>24.428571</td>\n",
       "    </tr>\n",
       "    <tr>\n",
       "      <th>4</th>\n",
       "      <td>Jasprit Bumrah</td>\n",
       "      <td>90</td>\n",
       "      <td>184</td>\n",
       "      <td>12.3</td>\n",
       "      <td>3</td>\n",
       "      <td>4</td>\n",
       "      <td>61.333333</td>\n",
       "      <td>30.000000</td>\n",
       "    </tr>\n",
       "  </tbody>\n",
       "</table>\n",
       "</div>"
      ],
      "text/plain": [
       "     Player's Name  Balls Bowled  Runs Conceded Economy  Wickets  \\\n",
       "0      Imran Tahir           213            314     8.8       15   \n",
       "1  Harbhajan Singh           342            446     7.8       18   \n",
       "2   Shardul Thakur            18             38    12.7        1   \n",
       "3     Mohit Sharma           342            481     8.4       14   \n",
       "4   Jasprit Bumrah            90            184    12.3        3   \n",
       "\n",
       "   Matches Played  consistency2015  wickettaking2015  \n",
       "0              10        20.933333         14.200000  \n",
       "1              15        24.777778         19.000000  \n",
       "2               1        38.000000         18.000000  \n",
       "3              16        34.357143         24.428571  \n",
       "4               4        61.333333         30.000000  "
      ]
     },
     "execution_count": 717,
     "metadata": {},
     "output_type": "execute_result"
    }
   ],
   "source": [
    "data3.head()"
   ]
  },
  {
   "cell_type": "code",
   "execution_count": 718,
   "metadata": {},
   "outputs": [],
   "source": [
    "data3=data3.replace([np.inf, -np.inf], np.nan)"
   ]
  },
  {
   "cell_type": "code",
   "execution_count": 719,
   "metadata": {},
   "outputs": [],
   "source": [
    "data3=data3.dropna(how='any')"
   ]
  },
  {
   "cell_type": "code",
   "execution_count": 720,
   "metadata": {},
   "outputs": [],
   "source": [
    "data3.reset_index(drop=True, inplace=True)"
   ]
  },
  {
   "cell_type": "code",
   "execution_count": 721,
   "metadata": {},
   "outputs": [
    {
     "data": {
      "text/plain": [
       "(22, 8)"
      ]
     },
     "execution_count": 721,
     "metadata": {},
     "output_type": "execute_result"
    }
   ],
   "source": [
    "data3.shape"
   ]
  },
  {
   "cell_type": "code",
   "execution_count": 722,
   "metadata": {},
   "outputs": [],
   "source": [
    "X1=data3.drop([\"Player's Name\"],axis=1)"
   ]
  },
  {
   "cell_type": "code",
   "execution_count": 723,
   "metadata": {},
   "outputs": [],
   "source": [
    "pca = PCA(n_components=2)"
   ]
  },
  {
   "cell_type": "code",
   "execution_count": 724,
   "metadata": {},
   "outputs": [
    {
     "data": {
      "text/plain": [
       "PCA(copy=True, iterated_power='auto', n_components=2, random_state=None,\n",
       "  svd_solver='auto', tol=0.0, whiten=False)"
      ]
     },
     "execution_count": 724,
     "metadata": {},
     "output_type": "execute_result"
    }
   ],
   "source": [
    "pca.fit(X1)"
   ]
  },
  {
   "cell_type": "code",
   "execution_count": 725,
   "metadata": {},
   "outputs": [],
   "source": [
    "lol3=pca.transform(X1)"
   ]
  },
  {
   "cell_type": "code",
   "execution_count": 726,
   "metadata": {},
   "outputs": [],
   "source": [
    "df3=pd.DataFrame(lol3)"
   ]
  },
  {
   "cell_type": "code",
   "execution_count": 727,
   "metadata": {},
   "outputs": [],
   "source": [
    "df3['Name']=data3[\"Player's Name\"]"
   ]
  },
  {
   "cell_type": "code",
   "execution_count": 728,
   "metadata": {},
   "outputs": [],
   "source": [
    "df3.to_csv('C:/Users/samde/Desktop/Data Science/Datasets/IPL/PCABall15.csv')"
   ]
  },
  {
   "cell_type": "markdown",
   "metadata": {},
   "source": [
    "2016 PCA BAT"
   ]
  },
  {
   "cell_type": "code",
   "execution_count": 729,
   "metadata": {},
   "outputs": [],
   "source": [
    "ball16.reset_index(drop=True, inplace=True)"
   ]
  },
  {
   "cell_type": "code",
   "execution_count": 730,
   "metadata": {},
   "outputs": [],
   "source": [
    "data2=bat16.drop([\"Type\",'Age','Type'],axis=1)"
   ]
  },
  {
   "cell_type": "code",
   "execution_count": 731,
   "metadata": {},
   "outputs": [
    {
     "data": {
      "text/html": [
       "<div>\n",
       "<style scoped>\n",
       "    .dataframe tbody tr th:only-of-type {\n",
       "        vertical-align: middle;\n",
       "    }\n",
       "\n",
       "    .dataframe tbody tr th {\n",
       "        vertical-align: top;\n",
       "    }\n",
       "\n",
       "    .dataframe thead th {\n",
       "        text-align: right;\n",
       "    }\n",
       "</style>\n",
       "<table border=\"1\" class=\"dataframe\">\n",
       "  <thead>\n",
       "    <tr style=\"text-align: right;\">\n",
       "      <th></th>\n",
       "      <th>Player's Name</th>\n",
       "      <th>Run</th>\n",
       "      <th>Ball</th>\n",
       "      <th>Strike Rate</th>\n",
       "      <th>Four</th>\n",
       "      <th>Six</th>\n",
       "      <th>Highest Run Scored</th>\n",
       "      <th>Ct_St</th>\n",
       "      <th>Run Outs</th>\n",
       "      <th>Matches Played</th>\n",
       "      <th>HardHitting2016</th>\n",
       "      <th>FastScoring2016</th>\n",
       "      <th>Running2016</th>\n",
       "    </tr>\n",
       "  </thead>\n",
       "  <tbody>\n",
       "    <tr>\n",
       "      <th>0</th>\n",
       "      <td>Suresh Raina</td>\n",
       "      <td>399</td>\n",
       "      <td>312</td>\n",
       "      <td>127.9</td>\n",
       "      <td>39</td>\n",
       "      <td>10</td>\n",
       "      <td>75</td>\n",
       "      <td>7.0</td>\n",
       "      <td>1.0</td>\n",
       "      <td>15</td>\n",
       "      <td>0.692308</td>\n",
       "      <td>1.278846</td>\n",
       "      <td>0.695817</td>\n",
       "    </tr>\n",
       "    <tr>\n",
       "      <th>1</th>\n",
       "      <td>Faf du Plessis</td>\n",
       "      <td>206</td>\n",
       "      <td>162</td>\n",
       "      <td>127.2</td>\n",
       "      <td>17</td>\n",
       "      <td>9</td>\n",
       "      <td>69</td>\n",
       "      <td>4.0</td>\n",
       "      <td>0.0</td>\n",
       "      <td>6</td>\n",
       "      <td>0.753086</td>\n",
       "      <td>1.271605</td>\n",
       "      <td>0.617647</td>\n",
       "    </tr>\n",
       "    <tr>\n",
       "      <th>2</th>\n",
       "      <td>Kedar Jadhav</td>\n",
       "      <td>42</td>\n",
       "      <td>32</td>\n",
       "      <td>131.3</td>\n",
       "      <td>2</td>\n",
       "      <td>2</td>\n",
       "      <td>25</td>\n",
       "      <td>1.0</td>\n",
       "      <td>0.0</td>\n",
       "      <td>4</td>\n",
       "      <td>0.625000</td>\n",
       "      <td>1.312500</td>\n",
       "      <td>0.785714</td>\n",
       "    </tr>\n",
       "    <tr>\n",
       "      <th>3</th>\n",
       "      <td>Ambati Rayudu</td>\n",
       "      <td>334</td>\n",
       "      <td>278</td>\n",
       "      <td>120.1</td>\n",
       "      <td>28</td>\n",
       "      <td>12</td>\n",
       "      <td>65</td>\n",
       "      <td>4.0</td>\n",
       "      <td>0.5</td>\n",
       "      <td>13</td>\n",
       "      <td>0.661871</td>\n",
       "      <td>1.201439</td>\n",
       "      <td>0.630252</td>\n",
       "    </tr>\n",
       "    <tr>\n",
       "      <th>4</th>\n",
       "      <td>Rohit Sharma</td>\n",
       "      <td>489</td>\n",
       "      <td>368</td>\n",
       "      <td>132.9</td>\n",
       "      <td>49</td>\n",
       "      <td>16</td>\n",
       "      <td>85</td>\n",
       "      <td>2.0</td>\n",
       "      <td>1.0</td>\n",
       "      <td>14</td>\n",
       "      <td>0.793478</td>\n",
       "      <td>1.328804</td>\n",
       "      <td>0.650165</td>\n",
       "    </tr>\n",
       "  </tbody>\n",
       "</table>\n",
       "</div>"
      ],
      "text/plain": [
       "    Player's Name  Run  Ball Strike Rate  Four  Six  Highest Run Scored  \\\n",
       "0    Suresh Raina  399   312       127.9    39   10                  75   \n",
       "1  Faf du Plessis  206   162       127.2    17    9                  69   \n",
       "2    Kedar Jadhav   42    32       131.3     2    2                  25   \n",
       "3   Ambati Rayudu  334   278       120.1    28   12                  65   \n",
       "4    Rohit Sharma  489   368       132.9    49   16                  85   \n",
       "\n",
       "   Ct_St  Run Outs  Matches Played  HardHitting2016  FastScoring2016  \\\n",
       "0    7.0       1.0              15         0.692308         1.278846   \n",
       "1    4.0       0.0               6         0.753086         1.271605   \n",
       "2    1.0       0.0               4         0.625000         1.312500   \n",
       "3    4.0       0.5              13         0.661871         1.201439   \n",
       "4    2.0       1.0              14         0.793478         1.328804   \n",
       "\n",
       "   Running2016  \n",
       "0     0.695817  \n",
       "1     0.617647  \n",
       "2     0.785714  \n",
       "3     0.630252  \n",
       "4     0.650165  "
      ]
     },
     "execution_count": 731,
     "metadata": {},
     "output_type": "execute_result"
    }
   ],
   "source": [
    "data2.head()"
   ]
  },
  {
   "cell_type": "code",
   "execution_count": 732,
   "metadata": {},
   "outputs": [],
   "source": [
    "data2=data2[data2[\"Matches Played\"]!=0]"
   ]
  },
  {
   "cell_type": "code",
   "execution_count": 733,
   "metadata": {},
   "outputs": [],
   "source": [
    "data2=data2.dropna(how='any')"
   ]
  },
  {
   "cell_type": "code",
   "execution_count": 734,
   "metadata": {},
   "outputs": [],
   "source": [
    "data2=data2[data2[\"Run\"]!=0]"
   ]
  },
  {
   "cell_type": "code",
   "execution_count": 735,
   "metadata": {},
   "outputs": [
    {
     "data": {
      "text/plain": [
       "(23, 13)"
      ]
     },
     "execution_count": 735,
     "metadata": {},
     "output_type": "execute_result"
    }
   ],
   "source": [
    "data2.shape"
   ]
  },
  {
   "cell_type": "code",
   "execution_count": 736,
   "metadata": {},
   "outputs": [],
   "source": [
    "data2.reset_index(drop=True, inplace=True)"
   ]
  },
  {
   "cell_type": "code",
   "execution_count": 737,
   "metadata": {},
   "outputs": [],
   "source": [
    "X=data2.drop([\"Player's Name\"],axis=1)"
   ]
  },
  {
   "cell_type": "code",
   "execution_count": 739,
   "metadata": {},
   "outputs": [],
   "source": [
    "pca = PCA(n_components=2)"
   ]
  },
  {
   "cell_type": "code",
   "execution_count": 740,
   "metadata": {},
   "outputs": [
    {
     "data": {
      "text/plain": [
       "PCA(copy=True, iterated_power='auto', n_components=2, random_state=None,\n",
       "  svd_solver='auto', tol=0.0, whiten=False)"
      ]
     },
     "execution_count": 740,
     "metadata": {},
     "output_type": "execute_result"
    }
   ],
   "source": [
    "pca.fit(X)"
   ]
  },
  {
   "cell_type": "code",
   "execution_count": 691,
   "metadata": {},
   "outputs": [],
   "source": [
    "lol2=pca.transform(X)"
   ]
  },
  {
   "cell_type": "code",
   "execution_count": 692,
   "metadata": {},
   "outputs": [],
   "source": [
    "df2=pd.DataFrame(lol2)"
   ]
  },
  {
   "cell_type": "code",
   "execution_count": 693,
   "metadata": {},
   "outputs": [],
   "source": [
    "df2['Name']=data2[\"Player's Name\"]"
   ]
  },
  {
   "cell_type": "code",
   "execution_count": 696,
   "metadata": {},
   "outputs": [],
   "source": [
    "df2.to_csv('C:/Users/samde/Desktop/Data Science/Datasets/IPL/PCABat16.csv')"
   ]
  },
  {
   "cell_type": "code",
   "execution_count": 362,
   "metadata": {},
   "outputs": [
    {
     "data": {
      "text/plain": [
       "(23, 3)"
      ]
     },
     "execution_count": 362,
     "metadata": {},
     "output_type": "execute_result"
    }
   ],
   "source": [
    "df2.shape"
   ]
  },
  {
   "cell_type": "markdown",
   "metadata": {},
   "source": [
    "2016 BALL PCA"
   ]
  },
  {
   "cell_type": "code",
   "execution_count": 741,
   "metadata": {},
   "outputs": [],
   "source": [
    "ball16.reset_index(drop=True, inplace=True)"
   ]
  },
  {
   "cell_type": "code",
   "execution_count": 742,
   "metadata": {},
   "outputs": [],
   "source": [
    "data4=ball16.drop(['Type','From','Age','Team','Sl.no'],axis=1)"
   ]
  },
  {
   "cell_type": "code",
   "execution_count": 743,
   "metadata": {},
   "outputs": [
    {
     "data": {
      "text/html": [
       "<div>\n",
       "<style scoped>\n",
       "    .dataframe tbody tr th:only-of-type {\n",
       "        vertical-align: middle;\n",
       "    }\n",
       "\n",
       "    .dataframe tbody tr th {\n",
       "        vertical-align: top;\n",
       "    }\n",
       "\n",
       "    .dataframe thead th {\n",
       "        text-align: right;\n",
       "    }\n",
       "</style>\n",
       "<table border=\"1\" class=\"dataframe\">\n",
       "  <thead>\n",
       "    <tr style=\"text-align: right;\">\n",
       "      <th></th>\n",
       "      <th>Player's Name</th>\n",
       "      <th>Balls Bowled</th>\n",
       "      <th>Runs Conceded</th>\n",
       "      <th>Economy</th>\n",
       "      <th>Wickets</th>\n",
       "      <th>Ct_St</th>\n",
       "      <th>Matches Played</th>\n",
       "      <th>consistency2016</th>\n",
       "      <th>wickettaking2016</th>\n",
       "    </tr>\n",
       "  </thead>\n",
       "  <tbody>\n",
       "    <tr>\n",
       "      <th>0</th>\n",
       "      <td>Deepak Chahar</td>\n",
       "      <td>30</td>\n",
       "      <td>41</td>\n",
       "      <td>8.2</td>\n",
       "      <td>0</td>\n",
       "      <td>1.0</td>\n",
       "      <td>2</td>\n",
       "      <td>inf</td>\n",
       "      <td>inf</td>\n",
       "    </tr>\n",
       "    <tr>\n",
       "      <th>1</th>\n",
       "      <td>Imran Tahir</td>\n",
       "      <td>96</td>\n",
       "      <td>138</td>\n",
       "      <td>8.6</td>\n",
       "      <td>5</td>\n",
       "      <td>0.0</td>\n",
       "      <td>4</td>\n",
       "      <td>27.600000</td>\n",
       "      <td>19.200000</td>\n",
       "    </tr>\n",
       "    <tr>\n",
       "      <th>2</th>\n",
       "      <td>Harbhajan Singh</td>\n",
       "      <td>294</td>\n",
       "      <td>392</td>\n",
       "      <td>8</td>\n",
       "      <td>9</td>\n",
       "      <td>4.0</td>\n",
       "      <td>14</td>\n",
       "      <td>43.555556</td>\n",
       "      <td>32.666667</td>\n",
       "    </tr>\n",
       "    <tr>\n",
       "      <th>3</th>\n",
       "      <td>Shardul Thakur</td>\n",
       "      <td>0</td>\n",
       "      <td>0</td>\n",
       "      <td>-</td>\n",
       "      <td>0</td>\n",
       "      <td>0.0</td>\n",
       "      <td>0</td>\n",
       "      <td>NaN</td>\n",
       "      <td>NaN</td>\n",
       "    </tr>\n",
       "    <tr>\n",
       "      <th>4</th>\n",
       "      <td>Mohit Sharma</td>\n",
       "      <td>291</td>\n",
       "      <td>407</td>\n",
       "      <td>8.4</td>\n",
       "      <td>13</td>\n",
       "      <td>3.0</td>\n",
       "      <td>14</td>\n",
       "      <td>31.307692</td>\n",
       "      <td>22.384615</td>\n",
       "    </tr>\n",
       "  </tbody>\n",
       "</table>\n",
       "</div>"
      ],
      "text/plain": [
       "     Player's Name  Balls Bowled  Runs Conceded Economy  Wickets  Ct_St  \\\n",
       "0    Deepak Chahar            30             41     8.2        0    1.0   \n",
       "1      Imran Tahir            96            138     8.6        5    0.0   \n",
       "2  Harbhajan Singh           294            392       8        9    4.0   \n",
       "3   Shardul Thakur             0              0       -        0    0.0   \n",
       "4     Mohit Sharma           291            407     8.4       13    3.0   \n",
       "\n",
       "   Matches Played  consistency2016  wickettaking2016  \n",
       "0               2              inf               inf  \n",
       "1               4        27.600000         19.200000  \n",
       "2              14        43.555556         32.666667  \n",
       "3               0              NaN               NaN  \n",
       "4              14        31.307692         22.384615  "
      ]
     },
     "execution_count": 743,
     "metadata": {},
     "output_type": "execute_result"
    }
   ],
   "source": [
    "data4.head()"
   ]
  },
  {
   "cell_type": "code",
   "execution_count": 744,
   "metadata": {},
   "outputs": [],
   "source": [
    "data4=data4.replace([np.inf, -np.inf], np.nan)"
   ]
  },
  {
   "cell_type": "code",
   "execution_count": 745,
   "metadata": {},
   "outputs": [],
   "source": [
    "data4=data4.dropna(how='any')"
   ]
  },
  {
   "cell_type": "code",
   "execution_count": 746,
   "metadata": {},
   "outputs": [
    {
     "data": {
      "text/plain": [
       "(25, 9)"
      ]
     },
     "execution_count": 746,
     "metadata": {},
     "output_type": "execute_result"
    }
   ],
   "source": [
    "data4.shape"
   ]
  },
  {
   "cell_type": "code",
   "execution_count": 747,
   "metadata": {},
   "outputs": [],
   "source": [
    "data4=data4[data4[\"Matches Played\"]!=0]"
   ]
  },
  {
   "cell_type": "code",
   "execution_count": 748,
   "metadata": {},
   "outputs": [],
   "source": [
    "data4.reset_index(drop=True, inplace=True)"
   ]
  },
  {
   "cell_type": "code",
   "execution_count": 749,
   "metadata": {},
   "outputs": [],
   "source": [
    "X2=data4.drop([\"Player's Name\"],axis=1)"
   ]
  },
  {
   "cell_type": "code",
   "execution_count": 750,
   "metadata": {},
   "outputs": [],
   "source": [
    "pca = PCA(n_components=2)"
   ]
  },
  {
   "cell_type": "code",
   "execution_count": 751,
   "metadata": {},
   "outputs": [
    {
     "data": {
      "text/plain": [
       "PCA(copy=True, iterated_power='auto', n_components=2, random_state=None,\n",
       "  svd_solver='auto', tol=0.0, whiten=False)"
      ]
     },
     "execution_count": 751,
     "metadata": {},
     "output_type": "execute_result"
    }
   ],
   "source": [
    "pca.fit(X2)"
   ]
  },
  {
   "cell_type": "code",
   "execution_count": 752,
   "metadata": {},
   "outputs": [],
   "source": [
    "lol4=pca.transform(X2)"
   ]
  },
  {
   "cell_type": "code",
   "execution_count": 753,
   "metadata": {},
   "outputs": [],
   "source": [
    "df4=pd.DataFrame(lol4)"
   ]
  },
  {
   "cell_type": "code",
   "execution_count": 755,
   "metadata": {},
   "outputs": [],
   "source": [
    "df4['Name']=data4[\"Player's Name\"]\n",
    "df4.to_csv('C:/Users/samde/Desktop/Data Science/Datasets/IPL/PCABall16.csv')"
   ]
  },
  {
   "cell_type": "markdown",
   "metadata": {},
   "source": [
    "2015 AR PCA"
   ]
  },
  {
   "cell_type": "code",
   "execution_count": 495,
   "metadata": {},
   "outputs": [],
   "source": [
    "data5=AR15.drop(['Type'],axis=1)"
   ]
  },
  {
   "cell_type": "code",
   "execution_count": null,
   "metadata": {},
   "outputs": [],
   "source": [
    "data5=data5.replace([np.inf, -np.inf], np.nan)\n",
    "data5=data5.dropna(how='any')"
   ]
  },
  {
   "cell_type": "code",
   "execution_count": 532,
   "metadata": {},
   "outputs": [],
   "source": [
    "data5=data5[data5[\"Matches Played\"]!=0]\n",
    "data5=data5[data5[\"Run\"]!=0]"
   ]
  },
  {
   "cell_type": "code",
   "execution_count": 533,
   "metadata": {},
   "outputs": [],
   "source": [
    "data5.reset_index(drop=True, inplace=True)"
   ]
  },
  {
   "cell_type": "code",
   "execution_count": 517,
   "metadata": {},
   "outputs": [
    {
     "data": {
      "text/plain": [
       "(17, 19)"
      ]
     },
     "execution_count": 517,
     "metadata": {},
     "output_type": "execute_result"
    }
   ],
   "source": [
    "data5.shape"
   ]
  },
  {
   "cell_type": "code",
   "execution_count": 535,
   "metadata": {},
   "outputs": [],
   "source": [
    "X3=data5.drop([\"Player's Name\"],axis=1)\n",
    "pca.fit(X3)\n",
    "lol5=pca.transform(X3)\n",
    "df5=pd.DataFrame(lol5)\n",
    "df5['Name']=data5[\"Player's Name\"]\n",
    "df5.to_csv('C:/Users/samde/Desktop/Data Science/Datasets/IPL/PCAR15.csv')"
   ]
  },
  {
   "cell_type": "markdown",
   "metadata": {},
   "source": [
    "2016 AR PCA"
   ]
  },
  {
   "cell_type": "code",
   "execution_count": 497,
   "metadata": {},
   "outputs": [],
   "source": [
    "data6=AR16.drop(['Type'],axis=1)"
   ]
  },
  {
   "cell_type": "code",
   "execution_count": 506,
   "metadata": {},
   "outputs": [],
   "source": [
    "data6=data6.replace([np.inf, -np.inf], np.nan)\n",
    "data6=data6.dropna(how='any')"
   ]
  },
  {
   "cell_type": "code",
   "execution_count": 518,
   "metadata": {},
   "outputs": [],
   "source": [
    "data6=data6[data6[\"Matches Played\"]!=0]"
   ]
  },
  {
   "cell_type": "code",
   "execution_count": 519,
   "metadata": {},
   "outputs": [],
   "source": [
    "data6.reset_index(drop=True, inplace=True)"
   ]
  },
  {
   "cell_type": "code",
   "execution_count": 520,
   "metadata": {},
   "outputs": [
    {
     "data": {
      "text/html": [
       "<div>\n",
       "<style scoped>\n",
       "    .dataframe tbody tr th:only-of-type {\n",
       "        vertical-align: middle;\n",
       "    }\n",
       "\n",
       "    .dataframe tbody tr th {\n",
       "        vertical-align: top;\n",
       "    }\n",
       "\n",
       "    .dataframe thead th {\n",
       "        text-align: right;\n",
       "    }\n",
       "</style>\n",
       "<table border=\"1\" class=\"dataframe\">\n",
       "  <thead>\n",
       "    <tr style=\"text-align: right;\">\n",
       "      <th></th>\n",
       "      <th>Player's Name</th>\n",
       "      <th>Run</th>\n",
       "      <th>Ball</th>\n",
       "      <th>Strike Rate</th>\n",
       "      <th>Four</th>\n",
       "      <th>Six</th>\n",
       "      <th>Highest Run Scored</th>\n",
       "      <th>Balls Bowled</th>\n",
       "      <th>Runs Conceded</th>\n",
       "      <th>Economy</th>\n",
       "      <th>Wickets</th>\n",
       "      <th>Ct_St</th>\n",
       "      <th>Run Outs</th>\n",
       "      <th>Matches Played</th>\n",
       "      <th>HardHitting2016</th>\n",
       "      <th>FastScoring2016</th>\n",
       "      <th>Running2016</th>\n",
       "      <th>consistency2016</th>\n",
       "      <th>wickettaking2016</th>\n",
       "    </tr>\n",
       "  </thead>\n",
       "  <tbody>\n",
       "    <tr>\n",
       "      <th>0</th>\n",
       "      <td>Ravindra Jadeja</td>\n",
       "      <td>191</td>\n",
       "      <td>177</td>\n",
       "      <td>107.9</td>\n",
       "      <td>14</td>\n",
       "      <td>4</td>\n",
       "      <td>36</td>\n",
       "      <td>241</td>\n",
       "      <td>311</td>\n",
       "      <td>7.7</td>\n",
       "      <td>8</td>\n",
       "      <td>4.0</td>\n",
       "      <td>0.0</td>\n",
       "      <td>15</td>\n",
       "      <td>0.451977</td>\n",
       "      <td>1.079096</td>\n",
       "      <td>0.698113</td>\n",
       "      <td>38.875000</td>\n",
       "      <td>30.125000</td>\n",
       "    </tr>\n",
       "    <tr>\n",
       "      <th>1</th>\n",
       "      <td>Dwayne Bravo</td>\n",
       "      <td>99</td>\n",
       "      <td>82</td>\n",
       "      <td>120.7</td>\n",
       "      <td>11</td>\n",
       "      <td>1</td>\n",
       "      <td>22</td>\n",
       "      <td>336</td>\n",
       "      <td>494</td>\n",
       "      <td>8.8</td>\n",
       "      <td>17</td>\n",
       "      <td>6.0</td>\n",
       "      <td>1.5</td>\n",
       "      <td>15</td>\n",
       "      <td>0.609756</td>\n",
       "      <td>1.207317</td>\n",
       "      <td>0.700000</td>\n",
       "      <td>29.058824</td>\n",
       "      <td>19.764706</td>\n",
       "    </tr>\n",
       "    <tr>\n",
       "      <th>2</th>\n",
       "      <td>Shane Watson</td>\n",
       "      <td>179</td>\n",
       "      <td>134</td>\n",
       "      <td>133.6</td>\n",
       "      <td>14</td>\n",
       "      <td>12</td>\n",
       "      <td>36</td>\n",
       "      <td>339</td>\n",
       "      <td>485</td>\n",
       "      <td>8.6</td>\n",
       "      <td>20</td>\n",
       "      <td>6.0</td>\n",
       "      <td>2.5</td>\n",
       "      <td>16</td>\n",
       "      <td>0.955224</td>\n",
       "      <td>1.335821</td>\n",
       "      <td>0.472222</td>\n",
       "      <td>24.250000</td>\n",
       "      <td>16.950000</td>\n",
       "    </tr>\n",
       "    <tr>\n",
       "      <th>3</th>\n",
       "      <td>Hardik Pandya</td>\n",
       "      <td>44</td>\n",
       "      <td>63</td>\n",
       "      <td>69.8</td>\n",
       "      <td>4</td>\n",
       "      <td>0</td>\n",
       "      <td>9</td>\n",
       "      <td>100</td>\n",
       "      <td>153</td>\n",
       "      <td>9.2</td>\n",
       "      <td>3</td>\n",
       "      <td>6.0</td>\n",
       "      <td>0.0</td>\n",
       "      <td>11</td>\n",
       "      <td>0.253968</td>\n",
       "      <td>0.698413</td>\n",
       "      <td>0.474576</td>\n",
       "      <td>51.000000</td>\n",
       "      <td>33.333333</td>\n",
       "    </tr>\n",
       "    <tr>\n",
       "      <th>4</th>\n",
       "      <td>Krunal Pandya</td>\n",
       "      <td>237</td>\n",
       "      <td>124</td>\n",
       "      <td>191.1</td>\n",
       "      <td>22</td>\n",
       "      <td>13</td>\n",
       "      <td>86</td>\n",
       "      <td>187</td>\n",
       "      <td>406</td>\n",
       "      <td>7.6</td>\n",
       "      <td>6</td>\n",
       "      <td>2.0</td>\n",
       "      <td>0.5</td>\n",
       "      <td>12</td>\n",
       "      <td>1.338710</td>\n",
       "      <td>1.911290</td>\n",
       "      <td>0.797753</td>\n",
       "      <td>67.666667</td>\n",
       "      <td>31.166667</td>\n",
       "    </tr>\n",
       "  </tbody>\n",
       "</table>\n",
       "</div>"
      ],
      "text/plain": [
       "     Player's Name  Run  Ball Strike Rate  Four  Six  Highest Run Scored  \\\n",
       "0  Ravindra Jadeja  191   177       107.9    14    4                  36   \n",
       "1     Dwayne Bravo   99    82       120.7    11    1                  22   \n",
       "2     Shane Watson  179   134       133.6    14   12                  36   \n",
       "3    Hardik Pandya   44    63        69.8     4    0                   9   \n",
       "4    Krunal Pandya  237   124       191.1    22   13                  86   \n",
       "\n",
       "   Balls Bowled  Runs Conceded Economy  Wickets  Ct_St  Run Outs  \\\n",
       "0           241            311     7.7        8    4.0       0.0   \n",
       "1           336            494     8.8       17    6.0       1.5   \n",
       "2           339            485     8.6       20    6.0       2.5   \n",
       "3           100            153     9.2        3    6.0       0.0   \n",
       "4           187            406     7.6        6    2.0       0.5   \n",
       "\n",
       "   Matches Played  HardHitting2016  FastScoring2016  Running2016  \\\n",
       "0              15         0.451977         1.079096     0.698113   \n",
       "1              15         0.609756         1.207317     0.700000   \n",
       "2              16         0.955224         1.335821     0.472222   \n",
       "3              11         0.253968         0.698413     0.474576   \n",
       "4              12         1.338710         1.911290     0.797753   \n",
       "\n",
       "   consistency2016  wickettaking2016  \n",
       "0        38.875000         30.125000  \n",
       "1        29.058824         19.764706  \n",
       "2        24.250000         16.950000  \n",
       "3        51.000000         33.333333  \n",
       "4        67.666667         31.166667  "
      ]
     },
     "execution_count": 520,
     "metadata": {},
     "output_type": "execute_result"
    }
   ],
   "source": [
    "data6.head()"
   ]
  },
  {
   "cell_type": "code",
   "execution_count": 521,
   "metadata": {},
   "outputs": [
    {
     "data": {
      "text/plain": [
       "(17, 19)"
      ]
     },
     "execution_count": 521,
     "metadata": {},
     "output_type": "execute_result"
    }
   ],
   "source": [
    "data6.shape"
   ]
  },
  {
   "cell_type": "code",
   "execution_count": 536,
   "metadata": {},
   "outputs": [],
   "source": [
    "X4=data6.drop([\"Player's Name\"],axis=1)\n",
    "pca.fit(X4)\n",
    "lol6=pca.transform(X4)\n",
    "df6=pd.DataFrame(lol6)\n",
    "df6['Name']=data6[\"Player's Name\"]\n",
    "df6.to_csv('C:/Users/samde/Desktop/Data Science/Datasets/IPL/PCAR16.csv')"
   ]
  },
  {
   "cell_type": "code",
   "execution_count": null,
   "metadata": {},
   "outputs": [],
   "source": []
  }
 ],
 "metadata": {
  "kernelspec": {
   "display_name": "Python 3",
   "language": "python",
   "name": "python3"
  },
  "language_info": {
   "codemirror_mode": {
    "name": "ipython",
    "version": 3
   },
   "file_extension": ".py",
   "mimetype": "text/x-python",
   "name": "python",
   "nbconvert_exporter": "python",
   "pygments_lexer": "ipython3",
   "version": "3.6.6"
  },
  "varInspector": {
   "cols": {
    "lenName": 16,
    "lenType": 16,
    "lenVar": 40
   },
   "kernels_config": {
    "python": {
     "delete_cmd_postfix": "",
     "delete_cmd_prefix": "del ",
     "library": "var_list.py",
     "varRefreshCmd": "print(var_dic_list())"
    },
    "r": {
     "delete_cmd_postfix": ") ",
     "delete_cmd_prefix": "rm(",
     "library": "var_list.r",
     "varRefreshCmd": "cat(var_dic_list()) "
    }
   },
   "types_to_exclude": [
    "module",
    "function",
    "builtin_function_or_method",
    "instance",
    "_Feature"
   ],
   "window_display": false
  }
 },
 "nbformat": 4,
 "nbformat_minor": 2
}
