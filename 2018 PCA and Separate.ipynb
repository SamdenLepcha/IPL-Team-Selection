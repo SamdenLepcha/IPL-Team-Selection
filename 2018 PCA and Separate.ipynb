{
 "cells": [
  {
   "cell_type": "markdown",
   "metadata": {},
   "source": [
    "<h2>Importing Libraries</h2>"
   ]
  },
  {
   "cell_type": "code",
   "execution_count": 1,
   "metadata": {},
   "outputs": [],
   "source": [
    "import numpy as np\n",
    "import pandas as pd\n",
    "import matplotlib.pyplot as plt\n",
    "import seaborn as sns\n",
    "from sklearn.decomposition import PCA"
   ]
  },
  {
   "cell_type": "code",
   "execution_count": 2,
   "metadata": {},
   "outputs": [],
   "source": [
    "two_018=pd.read_csv(\"C:/Users/samde/Desktop/Data Science/Datasets/IPL/IPL(2018-19).csv\")"
   ]
  },
  {
   "cell_type": "code",
   "execution_count": 3,
   "metadata": {},
   "outputs": [],
   "source": [
    "#Separating THE Types of players\n",
    "bat18=two_018[two_018['Type']=='BAT']\n",
    "ball18=two_018[two_018['Type']=='Bowl']\n",
    "AR18=two_018[two_018['Type']=='AR']\n",
    "wk18=two_018[two_018['Type']=='WK']"
   ]
  },
  {
   "cell_type": "markdown",
   "metadata": {},
   "source": [
    "<h3>BATSMAN</h3>"
   ]
  },
  {
   "cell_type": "code",
   "execution_count": null,
   "metadata": {},
   "outputs": [],
   "source": [
    "bat18.drop(['Age','Balls  Bowled','Economy','Wickets','Runs Scored',\"Sl.No\"],axis=1,inplace=True)"
   ]
  },
  {
   "cell_type": "code",
   "execution_count": 14,
   "metadata": {},
   "outputs": [
    {
     "data": {
      "text/html": [
       "<div>\n",
       "<style scoped>\n",
       "    .dataframe tbody tr th:only-of-type {\n",
       "        vertical-align: middle;\n",
       "    }\n",
       "\n",
       "    .dataframe tbody tr th {\n",
       "        vertical-align: top;\n",
       "    }\n",
       "\n",
       "    .dataframe thead th {\n",
       "        text-align: right;\n",
       "    }\n",
       "</style>\n",
       "<table border=\"1\" class=\"dataframe\">\n",
       "  <thead>\n",
       "    <tr style=\"text-align: right;\">\n",
       "      <th></th>\n",
       "      <th>Player's Name</th>\n",
       "      <th>Team</th>\n",
       "      <th>From</th>\n",
       "      <th>Run</th>\n",
       "      <th>Ball</th>\n",
       "      <th>Strike Rate</th>\n",
       "      <th>4's</th>\n",
       "      <th>6's</th>\n",
       "      <th>Highest Run Scored</th>\n",
       "      <th>Ct_St</th>\n",
       "      <th>Run Outs</th>\n",
       "      <th>Matches Played</th>\n",
       "      <th>Type</th>\n",
       "      <th>HardHitting2018</th>\n",
       "      <th>FastScoring2018</th>\n",
       "      <th>Running2018</th>\n",
       "    </tr>\n",
       "  </thead>\n",
       "  <tbody>\n",
       "    <tr>\n",
       "      <th>1</th>\n",
       "      <td>Suresh Raina</td>\n",
       "      <td>CSK</td>\n",
       "      <td>IND</td>\n",
       "      <td>445</td>\n",
       "      <td>336</td>\n",
       "      <td>132.4</td>\n",
       "      <td>46</td>\n",
       "      <td>12</td>\n",
       "      <td>75</td>\n",
       "      <td>9</td>\n",
       "      <td>1.5</td>\n",
       "      <td>15</td>\n",
       "      <td>BAT</td>\n",
       "      <td>0.761905</td>\n",
       "      <td>1.324405</td>\n",
       "      <td>0.679856</td>\n",
       "    </tr>\n",
       "    <tr>\n",
       "      <th>6</th>\n",
       "      <td>Faf du Plessis</td>\n",
       "      <td>CSK</td>\n",
       "      <td>SA</td>\n",
       "      <td>162</td>\n",
       "      <td>129</td>\n",
       "      <td>125.6</td>\n",
       "      <td>17</td>\n",
       "      <td>6</td>\n",
       "      <td>67</td>\n",
       "      <td>1</td>\n",
       "      <td>0.0</td>\n",
       "      <td>6</td>\n",
       "      <td>BAT</td>\n",
       "      <td>0.806202</td>\n",
       "      <td>1.255814</td>\n",
       "      <td>0.547170</td>\n",
       "    </tr>\n",
       "    <tr>\n",
       "      <th>7</th>\n",
       "      <td>M Vijay</td>\n",
       "      <td>CSK</td>\n",
       "      <td>IND</td>\n",
       "      <td>12</td>\n",
       "      <td>10</td>\n",
       "      <td>120</td>\n",
       "      <td>0</td>\n",
       "      <td>1</td>\n",
       "      <td>12</td>\n",
       "      <td>0</td>\n",
       "      <td>0.0</td>\n",
       "      <td>1</td>\n",
       "      <td>BAT</td>\n",
       "      <td>0.600000</td>\n",
       "      <td>1.200000</td>\n",
       "      <td>0.666667</td>\n",
       "    </tr>\n",
       "    <tr>\n",
       "      <th>16</th>\n",
       "      <td>Kedar Jadhav</td>\n",
       "      <td>CSK</td>\n",
       "      <td>IND</td>\n",
       "      <td>24</td>\n",
       "      <td>22</td>\n",
       "      <td>109.1</td>\n",
       "      <td>1</td>\n",
       "      <td>2</td>\n",
       "      <td>24</td>\n",
       "      <td>0</td>\n",
       "      <td>0.0</td>\n",
       "      <td>1</td>\n",
       "      <td>BAT</td>\n",
       "      <td>0.727273</td>\n",
       "      <td>1.090909</td>\n",
       "      <td>0.421053</td>\n",
       "    </tr>\n",
       "    <tr>\n",
       "      <th>17</th>\n",
       "      <td>Ambati Rayudu</td>\n",
       "      <td>CSK</td>\n",
       "      <td>IND</td>\n",
       "      <td>602</td>\n",
       "      <td>402</td>\n",
       "      <td>149.8</td>\n",
       "      <td>53</td>\n",
       "      <td>34</td>\n",
       "      <td>100</td>\n",
       "      <td>2</td>\n",
       "      <td>0.5</td>\n",
       "      <td>16</td>\n",
       "      <td>BAT</td>\n",
       "      <td>1.034826</td>\n",
       "      <td>1.497512</td>\n",
       "      <td>0.590476</td>\n",
       "    </tr>\n",
       "  </tbody>\n",
       "</table>\n",
       "</div>"
      ],
      "text/plain": [
       "     Player's Name Team From  Run  Ball Strike Rate  4's  6's  \\\n",
       "1     Suresh Raina  CSK  IND  445   336       132.4   46   12   \n",
       "6   Faf du Plessis  CSK   SA  162   129       125.6   17    6   \n",
       "7          M Vijay  CSK  IND   12    10         120    0    1   \n",
       "16    Kedar Jadhav  CSK  IND   24    22       109.1    1    2   \n",
       "17   Ambati Rayudu  CSK  IND  602   402       149.8   53   34   \n",
       "\n",
       "    Highest Run Scored  Ct_St  Run Outs  Matches Played Type  HardHitting2018  \\\n",
       "1                   75      9       1.5              15  BAT         0.761905   \n",
       "6                   67      1       0.0               6  BAT         0.806202   \n",
       "7                   12      0       0.0               1  BAT         0.600000   \n",
       "16                  24      0       0.0               1  BAT         0.727273   \n",
       "17                 100      2       0.5              16  BAT         1.034826   \n",
       "\n",
       "    FastScoring2018  Running2018  \n",
       "1          1.324405     0.679856  \n",
       "6          1.255814     0.547170  \n",
       "7          1.200000     0.666667  \n",
       "16         1.090909     0.421053  \n",
       "17         1.497512     0.590476  "
      ]
     },
     "execution_count": 14,
     "metadata": {},
     "output_type": "execute_result"
    }
   ],
   "source": [
    "bat18.head()"
   ]
  },
  {
   "cell_type": "code",
   "execution_count": 13,
   "metadata": {},
   "outputs": [
    {
     "name": "stderr",
     "output_type": "stream",
     "text": [
      "C:\\Users\\samde\\Miniconda3\\envs\\AI\\lib\\site-packages\\ipykernel_launcher.py:1: SettingWithCopyWarning: \n",
      "A value is trying to be set on a copy of a slice from a DataFrame.\n",
      "Try using .loc[row_indexer,col_indexer] = value instead\n",
      "\n",
      "See the caveats in the documentation: http://pandas.pydata.org/pandas-docs/stable/indexing.html#indexing-view-versus-copy\n",
      "  \"\"\"Entry point for launching an IPython kernel.\n",
      "C:\\Users\\samde\\Miniconda3\\envs\\AI\\lib\\site-packages\\ipykernel_launcher.py:2: SettingWithCopyWarning: \n",
      "A value is trying to be set on a copy of a slice from a DataFrame.\n",
      "Try using .loc[row_indexer,col_indexer] = value instead\n",
      "\n",
      "See the caveats in the documentation: http://pandas.pydata.org/pandas-docs/stable/indexing.html#indexing-view-versus-copy\n",
      "  \n",
      "C:\\Users\\samde\\Miniconda3\\envs\\AI\\lib\\site-packages\\ipykernel_launcher.py:3: SettingWithCopyWarning: \n",
      "A value is trying to be set on a copy of a slice from a DataFrame.\n",
      "Try using .loc[row_indexer,col_indexer] = value instead\n",
      "\n",
      "See the caveats in the documentation: http://pandas.pydata.org/pandas-docs/stable/indexing.html#indexing-view-versus-copy\n",
      "  This is separate from the ipykernel package so we can avoid doing imports until\n"
     ]
    }
   ],
   "source": [
    "bat18[\"HardHitting2018\"]=(4*bat18[\"4's\"]+6*bat18[\"6's\"])/bat18[\"Ball\"]\n",
    "bat18[\"FastScoring2018\"]=bat18[\"Run\"]/bat18[\"Ball\"]\n",
    "bat18[\"Running2018\"]=(bat18[\"Run\"]-(4*bat18[\"4's\"]+6*bat18[\"6's\"]))/(bat18[\"Ball\"]-(bat18[\"4's\"]+bat18[\"6's\"]))"
   ]
  },
  {
   "cell_type": "code",
   "execution_count": 16,
   "metadata": {},
   "outputs": [],
   "source": [
    "bat18.reset_index(drop=True, inplace=True)"
   ]
  },
  {
   "cell_type": "code",
   "execution_count": 17,
   "metadata": {},
   "outputs": [
    {
     "data": {
      "text/html": [
       "<div>\n",
       "<style scoped>\n",
       "    .dataframe tbody tr th:only-of-type {\n",
       "        vertical-align: middle;\n",
       "    }\n",
       "\n",
       "    .dataframe tbody tr th {\n",
       "        vertical-align: top;\n",
       "    }\n",
       "\n",
       "    .dataframe thead th {\n",
       "        text-align: right;\n",
       "    }\n",
       "</style>\n",
       "<table border=\"1\" class=\"dataframe\">\n",
       "  <thead>\n",
       "    <tr style=\"text-align: right;\">\n",
       "      <th></th>\n",
       "      <th>Player's Name</th>\n",
       "      <th>Team</th>\n",
       "      <th>From</th>\n",
       "      <th>Run</th>\n",
       "      <th>Ball</th>\n",
       "      <th>Strike Rate</th>\n",
       "      <th>4's</th>\n",
       "      <th>6's</th>\n",
       "      <th>Highest Run Scored</th>\n",
       "      <th>Ct_St</th>\n",
       "      <th>Run Outs</th>\n",
       "      <th>Matches Played</th>\n",
       "      <th>Type</th>\n",
       "      <th>HardHitting2018</th>\n",
       "      <th>FastScoring2018</th>\n",
       "      <th>Running2018</th>\n",
       "    </tr>\n",
       "  </thead>\n",
       "  <tbody>\n",
       "    <tr>\n",
       "      <th>0</th>\n",
       "      <td>Suresh Raina</td>\n",
       "      <td>CSK</td>\n",
       "      <td>IND</td>\n",
       "      <td>445</td>\n",
       "      <td>336</td>\n",
       "      <td>132.4</td>\n",
       "      <td>46</td>\n",
       "      <td>12</td>\n",
       "      <td>75</td>\n",
       "      <td>9</td>\n",
       "      <td>1.5</td>\n",
       "      <td>15</td>\n",
       "      <td>BAT</td>\n",
       "      <td>0.761905</td>\n",
       "      <td>1.324405</td>\n",
       "      <td>0.679856</td>\n",
       "    </tr>\n",
       "    <tr>\n",
       "      <th>1</th>\n",
       "      <td>Faf du Plessis</td>\n",
       "      <td>CSK</td>\n",
       "      <td>SA</td>\n",
       "      <td>162</td>\n",
       "      <td>129</td>\n",
       "      <td>125.6</td>\n",
       "      <td>17</td>\n",
       "      <td>6</td>\n",
       "      <td>67</td>\n",
       "      <td>1</td>\n",
       "      <td>0.0</td>\n",
       "      <td>6</td>\n",
       "      <td>BAT</td>\n",
       "      <td>0.806202</td>\n",
       "      <td>1.255814</td>\n",
       "      <td>0.547170</td>\n",
       "    </tr>\n",
       "    <tr>\n",
       "      <th>2</th>\n",
       "      <td>M Vijay</td>\n",
       "      <td>CSK</td>\n",
       "      <td>IND</td>\n",
       "      <td>12</td>\n",
       "      <td>10</td>\n",
       "      <td>120</td>\n",
       "      <td>0</td>\n",
       "      <td>1</td>\n",
       "      <td>12</td>\n",
       "      <td>0</td>\n",
       "      <td>0.0</td>\n",
       "      <td>1</td>\n",
       "      <td>BAT</td>\n",
       "      <td>0.600000</td>\n",
       "      <td>1.200000</td>\n",
       "      <td>0.666667</td>\n",
       "    </tr>\n",
       "    <tr>\n",
       "      <th>3</th>\n",
       "      <td>Kedar Jadhav</td>\n",
       "      <td>CSK</td>\n",
       "      <td>IND</td>\n",
       "      <td>24</td>\n",
       "      <td>22</td>\n",
       "      <td>109.1</td>\n",
       "      <td>1</td>\n",
       "      <td>2</td>\n",
       "      <td>24</td>\n",
       "      <td>0</td>\n",
       "      <td>0.0</td>\n",
       "      <td>1</td>\n",
       "      <td>BAT</td>\n",
       "      <td>0.727273</td>\n",
       "      <td>1.090909</td>\n",
       "      <td>0.421053</td>\n",
       "    </tr>\n",
       "    <tr>\n",
       "      <th>4</th>\n",
       "      <td>Ambati Rayudu</td>\n",
       "      <td>CSK</td>\n",
       "      <td>IND</td>\n",
       "      <td>602</td>\n",
       "      <td>402</td>\n",
       "      <td>149.8</td>\n",
       "      <td>53</td>\n",
       "      <td>34</td>\n",
       "      <td>100</td>\n",
       "      <td>2</td>\n",
       "      <td>0.5</td>\n",
       "      <td>16</td>\n",
       "      <td>BAT</td>\n",
       "      <td>1.034826</td>\n",
       "      <td>1.497512</td>\n",
       "      <td>0.590476</td>\n",
       "    </tr>\n",
       "  </tbody>\n",
       "</table>\n",
       "</div>"
      ],
      "text/plain": [
       "    Player's Name Team From  Run  Ball Strike Rate  4's  6's  \\\n",
       "0    Suresh Raina  CSK  IND  445   336       132.4   46   12   \n",
       "1  Faf du Plessis  CSK   SA  162   129       125.6   17    6   \n",
       "2         M Vijay  CSK  IND   12    10         120    0    1   \n",
       "3    Kedar Jadhav  CSK  IND   24    22       109.1    1    2   \n",
       "4   Ambati Rayudu  CSK  IND  602   402       149.8   53   34   \n",
       "\n",
       "   Highest Run Scored  Ct_St  Run Outs  Matches Played Type  HardHitting2018  \\\n",
       "0                  75      9       1.5              15  BAT         0.761905   \n",
       "1                  67      1       0.0               6  BAT         0.806202   \n",
       "2                  12      0       0.0               1  BAT         0.600000   \n",
       "3                  24      0       0.0               1  BAT         0.727273   \n",
       "4                 100      2       0.5              16  BAT         1.034826   \n",
       "\n",
       "   FastScoring2018  Running2018  \n",
       "0         1.324405     0.679856  \n",
       "1         1.255814     0.547170  \n",
       "2         1.200000     0.666667  \n",
       "3         1.090909     0.421053  \n",
       "4         1.497512     0.590476  "
      ]
     },
     "execution_count": 17,
     "metadata": {},
     "output_type": "execute_result"
    }
   ],
   "source": [
    "bat18.head()"
   ]
  },
  {
   "cell_type": "code",
   "execution_count": 18,
   "metadata": {},
   "outputs": [],
   "source": [
    "data=bat18.drop([\"Type\",'From','Team'],axis=1)"
   ]
  },
  {
   "cell_type": "code",
   "execution_count": 19,
   "metadata": {},
   "outputs": [
    {
     "data": {
      "text/html": [
       "<div>\n",
       "<style scoped>\n",
       "    .dataframe tbody tr th:only-of-type {\n",
       "        vertical-align: middle;\n",
       "    }\n",
       "\n",
       "    .dataframe tbody tr th {\n",
       "        vertical-align: top;\n",
       "    }\n",
       "\n",
       "    .dataframe thead th {\n",
       "        text-align: right;\n",
       "    }\n",
       "</style>\n",
       "<table border=\"1\" class=\"dataframe\">\n",
       "  <thead>\n",
       "    <tr style=\"text-align: right;\">\n",
       "      <th></th>\n",
       "      <th>Player's Name</th>\n",
       "      <th>Run</th>\n",
       "      <th>Ball</th>\n",
       "      <th>Strike Rate</th>\n",
       "      <th>4's</th>\n",
       "      <th>6's</th>\n",
       "      <th>Highest Run Scored</th>\n",
       "      <th>Ct_St</th>\n",
       "      <th>Run Outs</th>\n",
       "      <th>Matches Played</th>\n",
       "      <th>HardHitting2018</th>\n",
       "      <th>FastScoring2018</th>\n",
       "      <th>Running2018</th>\n",
       "    </tr>\n",
       "  </thead>\n",
       "  <tbody>\n",
       "    <tr>\n",
       "      <th>0</th>\n",
       "      <td>Suresh Raina</td>\n",
       "      <td>445</td>\n",
       "      <td>336</td>\n",
       "      <td>132.4</td>\n",
       "      <td>46</td>\n",
       "      <td>12</td>\n",
       "      <td>75</td>\n",
       "      <td>9</td>\n",
       "      <td>1.5</td>\n",
       "      <td>15</td>\n",
       "      <td>0.761905</td>\n",
       "      <td>1.324405</td>\n",
       "      <td>0.679856</td>\n",
       "    </tr>\n",
       "    <tr>\n",
       "      <th>1</th>\n",
       "      <td>Faf du Plessis</td>\n",
       "      <td>162</td>\n",
       "      <td>129</td>\n",
       "      <td>125.6</td>\n",
       "      <td>17</td>\n",
       "      <td>6</td>\n",
       "      <td>67</td>\n",
       "      <td>1</td>\n",
       "      <td>0.0</td>\n",
       "      <td>6</td>\n",
       "      <td>0.806202</td>\n",
       "      <td>1.255814</td>\n",
       "      <td>0.547170</td>\n",
       "    </tr>\n",
       "    <tr>\n",
       "      <th>2</th>\n",
       "      <td>M Vijay</td>\n",
       "      <td>12</td>\n",
       "      <td>10</td>\n",
       "      <td>120</td>\n",
       "      <td>0</td>\n",
       "      <td>1</td>\n",
       "      <td>12</td>\n",
       "      <td>0</td>\n",
       "      <td>0.0</td>\n",
       "      <td>1</td>\n",
       "      <td>0.600000</td>\n",
       "      <td>1.200000</td>\n",
       "      <td>0.666667</td>\n",
       "    </tr>\n",
       "    <tr>\n",
       "      <th>3</th>\n",
       "      <td>Kedar Jadhav</td>\n",
       "      <td>24</td>\n",
       "      <td>22</td>\n",
       "      <td>109.1</td>\n",
       "      <td>1</td>\n",
       "      <td>2</td>\n",
       "      <td>24</td>\n",
       "      <td>0</td>\n",
       "      <td>0.0</td>\n",
       "      <td>1</td>\n",
       "      <td>0.727273</td>\n",
       "      <td>1.090909</td>\n",
       "      <td>0.421053</td>\n",
       "    </tr>\n",
       "    <tr>\n",
       "      <th>4</th>\n",
       "      <td>Ambati Rayudu</td>\n",
       "      <td>602</td>\n",
       "      <td>402</td>\n",
       "      <td>149.8</td>\n",
       "      <td>53</td>\n",
       "      <td>34</td>\n",
       "      <td>100</td>\n",
       "      <td>2</td>\n",
       "      <td>0.5</td>\n",
       "      <td>16</td>\n",
       "      <td>1.034826</td>\n",
       "      <td>1.497512</td>\n",
       "      <td>0.590476</td>\n",
       "    </tr>\n",
       "  </tbody>\n",
       "</table>\n",
       "</div>"
      ],
      "text/plain": [
       "    Player's Name  Run  Ball Strike Rate  4's  6's  Highest Run Scored  Ct_St  \\\n",
       "0    Suresh Raina  445   336       132.4   46   12                  75      9   \n",
       "1  Faf du Plessis  162   129       125.6   17    6                  67      1   \n",
       "2         M Vijay   12    10         120    0    1                  12      0   \n",
       "3    Kedar Jadhav   24    22       109.1    1    2                  24      0   \n",
       "4   Ambati Rayudu  602   402       149.8   53   34                 100      2   \n",
       "\n",
       "   Run Outs  Matches Played  HardHitting2018  FastScoring2018  Running2018  \n",
       "0       1.5              15         0.761905         1.324405     0.679856  \n",
       "1       0.0               6         0.806202         1.255814     0.547170  \n",
       "2       0.0               1         0.600000         1.200000     0.666667  \n",
       "3       0.0               1         0.727273         1.090909     0.421053  \n",
       "4       0.5              16         1.034826         1.497512     0.590476  "
      ]
     },
     "execution_count": 19,
     "metadata": {},
     "output_type": "execute_result"
    }
   ],
   "source": [
    "data.head()"
   ]
  },
  {
   "cell_type": "code",
   "execution_count": 21,
   "metadata": {},
   "outputs": [],
   "source": [
    "data=data[data[\"Matches Played\"]!=0]\n",
    "data=data.dropna(how='any')\n",
    "data=data[data[\"Run\"]!=0]"
   ]
  },
  {
   "cell_type": "code",
   "execution_count": 22,
   "metadata": {},
   "outputs": [],
   "source": [
    "data.reset_index(drop=True, inplace=True)"
   ]
  },
  {
   "cell_type": "code",
   "execution_count": 25,
   "metadata": {},
   "outputs": [],
   "source": [
    "pca = PCA(n_components=2)"
   ]
  },
  {
   "cell_type": "code",
   "execution_count": 26,
   "metadata": {},
   "outputs": [],
   "source": [
    "from sklearn.preprocessing import StandardScaler"
   ]
  },
  {
   "cell_type": "code",
   "execution_count": 27,
   "metadata": {},
   "outputs": [],
   "source": [
    "scaler = StandardScaler()"
   ]
  },
  {
   "cell_type": "code",
   "execution_count": 29,
   "metadata": {},
   "outputs": [],
   "source": [
    "name=pd.DataFrame()\n",
    "name['Player\\'s Name']=data['Player\\'s Name']"
   ]
  },
  {
   "cell_type": "code",
   "execution_count": 30,
   "metadata": {},
   "outputs": [
    {
     "data": {
      "text/plain": [
       "StandardScaler(copy=True, with_mean=True, with_std=True)"
      ]
     },
     "execution_count": 30,
     "metadata": {},
     "output_type": "execute_result"
    }
   ],
   "source": [
    "scaler.fit(data.drop(['Player\\'s Name'],axis=1))"
   ]
  },
  {
   "cell_type": "code",
   "execution_count": 33,
   "metadata": {},
   "outputs": [],
   "source": [
    "data=scaler.transform(data.drop(['Player\\'s Name'],axis=1))"
   ]
  },
  {
   "cell_type": "code",
   "execution_count": 89,
   "metadata": {},
   "outputs": [
    {
     "data": {
      "text/plain": [
       "PCA(copy=True, iterated_power='auto', n_components=2, random_state=None,\n",
       "  svd_solver='auto', tol=0.0, whiten=False)"
      ]
     },
     "execution_count": 89,
     "metadata": {},
     "output_type": "execute_result"
    }
   ],
   "source": [
    "pca.fit(data)"
   ]
  },
  {
   "cell_type": "code",
   "execution_count": 97,
   "metadata": {},
   "outputs": [],
   "source": [
    "final=pca.transform(data)"
   ]
  },
  {
   "cell_type": "code",
   "execution_count": 98,
   "metadata": {},
   "outputs": [],
   "source": [
    "df=pd.DataFrame(final)"
   ]
  },
  {
   "cell_type": "code",
   "execution_count": 99,
   "metadata": {},
   "outputs": [],
   "source": [
    "df[\"Player's Name\"]=name['Player\\'s Name']"
   ]
  },
  {
   "cell_type": "code",
   "execution_count": 100,
   "metadata": {},
   "outputs": [
    {
     "data": {
      "text/html": [
       "<div>\n",
       "<style scoped>\n",
       "    .dataframe tbody tr th:only-of-type {\n",
       "        vertical-align: middle;\n",
       "    }\n",
       "\n",
       "    .dataframe tbody tr th {\n",
       "        vertical-align: top;\n",
       "    }\n",
       "\n",
       "    .dataframe thead th {\n",
       "        text-align: right;\n",
       "    }\n",
       "</style>\n",
       "<table border=\"1\" class=\"dataframe\">\n",
       "  <thead>\n",
       "    <tr style=\"text-align: right;\">\n",
       "      <th></th>\n",
       "      <th>0</th>\n",
       "      <th>1</th>\n",
       "      <th>Player's Name</th>\n",
       "    </tr>\n",
       "  </thead>\n",
       "  <tbody>\n",
       "    <tr>\n",
       "      <th>0</th>\n",
       "      <td>1.842562</td>\n",
       "      <td>-1.787245</td>\n",
       "      <td>Suresh Raina</td>\n",
       "    </tr>\n",
       "    <tr>\n",
       "      <th>1</th>\n",
       "      <td>-1.811535</td>\n",
       "      <td>1.309107</td>\n",
       "      <td>Faf du Plessis</td>\n",
       "    </tr>\n",
       "    <tr>\n",
       "      <th>2</th>\n",
       "      <td>-4.276258</td>\n",
       "      <td>0.592391</td>\n",
       "      <td>M Vijay</td>\n",
       "    </tr>\n",
       "    <tr>\n",
       "      <th>3</th>\n",
       "      <td>-4.314354</td>\n",
       "      <td>1.622132</td>\n",
       "      <td>Kedar Jadhav</td>\n",
       "    </tr>\n",
       "    <tr>\n",
       "      <th>4</th>\n",
       "      <td>3.575492</td>\n",
       "      <td>1.391325</td>\n",
       "      <td>Ambati Rayudu</td>\n",
       "    </tr>\n",
       "  </tbody>\n",
       "</table>\n",
       "</div>"
      ],
      "text/plain": [
       "          0         1   Player's Name\n",
       "0  1.842562 -1.787245    Suresh Raina\n",
       "1 -1.811535  1.309107  Faf du Plessis\n",
       "2 -4.276258  0.592391         M Vijay\n",
       "3 -4.314354  1.622132    Kedar Jadhav\n",
       "4  3.575492  1.391325   Ambati Rayudu"
      ]
     },
     "execution_count": 100,
     "metadata": {},
     "output_type": "execute_result"
    }
   ],
   "source": [
    "df.head()"
   ]
  },
  {
   "cell_type": "code",
   "execution_count": 109,
   "metadata": {},
   "outputs": [],
   "source": [
    "df.to_csv('C:/Users/samde/Desktop/Data Science/Datasets/IPL/FinalBatPCA18.csv')"
   ]
  },
  {
   "cell_type": "code",
   "execution_count": 101,
   "metadata": {},
   "outputs": [
    {
     "name": "stdout",
     "output_type": "stream",
     "text": [
      "[14.82703404  7.38806297]\n"
     ]
    }
   ],
   "source": [
    "print(pca.singular_values_)"
   ]
  },
  {
   "cell_type": "code",
   "execution_count": 102,
   "metadata": {},
   "outputs": [
    {
     "data": {
      "text/plain": [
       "array([[ 0.3512395 ,  0.33819729,  0.29703574,  0.33842021,  0.32415334,\n",
       "         0.32532342,  0.20050073,  0.24736597,  0.29660073,  0.26556567,\n",
       "         0.29710032,  0.02068923],\n",
       "       [-0.10582855, -0.17319912,  0.2771521 , -0.11264896,  0.17863409,\n",
       "         0.06367245, -0.41385748, -0.29857862, -0.23137381,  0.4736289 ,\n",
       "         0.27693362, -0.46728725]])"
      ]
     },
     "execution_count": 102,
     "metadata": {},
     "output_type": "execute_result"
    }
   ],
   "source": [
    "pca.components_"
   ]
  },
  {
   "cell_type": "markdown",
   "metadata": {},
   "source": [
    "<h2>BOWLER</h2>"
   ]
  },
  {
   "cell_type": "code",
   "execution_count": 44,
   "metadata": {},
   "outputs": [
    {
     "name": "stderr",
     "output_type": "stream",
     "text": [
      "C:\\Users\\samde\\Miniconda3\\envs\\AI\\lib\\site-packages\\pandas\\core\\frame.py:3697: SettingWithCopyWarning: \n",
      "A value is trying to be set on a copy of a slice from a DataFrame\n",
      "\n",
      "See the caveats in the documentation: http://pandas.pydata.org/pandas-docs/stable/indexing.html#indexing-view-versus-copy\n",
      "  errors=errors)\n"
     ]
    }
   ],
   "source": [
    "ball18.drop(['Team','From','Sl.No','Age',\"Run\",\"Ball\",\"Strike Rate\",\"4's\",\"6's\",\"Highest Run Scored\",\"Run Outs\"],axis=1,inplace=True)"
   ]
  },
  {
   "cell_type": "code",
   "execution_count": 62,
   "metadata": {},
   "outputs": [
    {
     "data": {
      "text/html": [
       "<div>\n",
       "<style scoped>\n",
       "    .dataframe tbody tr th:only-of-type {\n",
       "        vertical-align: middle;\n",
       "    }\n",
       "\n",
       "    .dataframe tbody tr th {\n",
       "        vertical-align: top;\n",
       "    }\n",
       "\n",
       "    .dataframe thead th {\n",
       "        text-align: right;\n",
       "    }\n",
       "</style>\n",
       "<table border=\"1\" class=\"dataframe\">\n",
       "  <thead>\n",
       "    <tr style=\"text-align: right;\">\n",
       "      <th></th>\n",
       "      <th>Player's Name</th>\n",
       "      <th>Balls  Bowled</th>\n",
       "      <th>Runs Scored</th>\n",
       "      <th>Economy</th>\n",
       "      <th>Wickets</th>\n",
       "      <th>Ct_St</th>\n",
       "      <th>Matches Played</th>\n",
       "      <th>Type</th>\n",
       "      <th>consistency2018</th>\n",
       "      <th>wickettaking2018</th>\n",
       "    </tr>\n",
       "  </thead>\n",
       "  <tbody>\n",
       "    <tr>\n",
       "      <th>0</th>\n",
       "      <td>Deepak Chahar</td>\n",
       "      <td>229</td>\n",
       "      <td>278</td>\n",
       "      <td>7.3</td>\n",
       "      <td>10</td>\n",
       "      <td>1</td>\n",
       "      <td>12</td>\n",
       "      <td>Bowl</td>\n",
       "      <td>27.800000</td>\n",
       "      <td>22.900000</td>\n",
       "    </tr>\n",
       "    <tr>\n",
       "      <th>1</th>\n",
       "      <td>KM Asif</td>\n",
       "      <td>36</td>\n",
       "      <td>75</td>\n",
       "      <td>12.5</td>\n",
       "      <td>3</td>\n",
       "      <td>0</td>\n",
       "      <td>2</td>\n",
       "      <td>Bowl</td>\n",
       "      <td>25.000000</td>\n",
       "      <td>12.000000</td>\n",
       "    </tr>\n",
       "    <tr>\n",
       "      <th>2</th>\n",
       "      <td>Lungi Ngidi</td>\n",
       "      <td>156</td>\n",
       "      <td>156</td>\n",
       "      <td>6</td>\n",
       "      <td>11</td>\n",
       "      <td>1</td>\n",
       "      <td>7</td>\n",
       "      <td>Bowl</td>\n",
       "      <td>14.181818</td>\n",
       "      <td>14.181818</td>\n",
       "    </tr>\n",
       "    <tr>\n",
       "      <th>3</th>\n",
       "      <td>Imran Tahir</td>\n",
       "      <td>124</td>\n",
       "      <td>188</td>\n",
       "      <td>9.1</td>\n",
       "      <td>6</td>\n",
       "      <td>2</td>\n",
       "      <td>6</td>\n",
       "      <td>Bowl</td>\n",
       "      <td>31.333333</td>\n",
       "      <td>20.666667</td>\n",
       "    </tr>\n",
       "    <tr>\n",
       "      <th>4</th>\n",
       "      <td>Harbhajan Singh</td>\n",
       "      <td>191</td>\n",
       "      <td>270</td>\n",
       "      <td>8.5</td>\n",
       "      <td>7</td>\n",
       "      <td>4</td>\n",
       "      <td>13</td>\n",
       "      <td>Bowl</td>\n",
       "      <td>38.571429</td>\n",
       "      <td>27.285714</td>\n",
       "    </tr>\n",
       "  </tbody>\n",
       "</table>\n",
       "</div>"
      ],
      "text/plain": [
       "     Player's Name  Balls  Bowled  Runs Scored Economy  Wickets  Ct_St  \\\n",
       "0    Deepak Chahar            229          278     7.3       10      1   \n",
       "1          KM Asif             36           75    12.5        3      0   \n",
       "2      Lungi Ngidi            156          156       6       11      1   \n",
       "3      Imran Tahir            124          188     9.1        6      2   \n",
       "4  Harbhajan Singh            191          270     8.5        7      4   \n",
       "\n",
       "   Matches Played  Type  consistency2018  wickettaking2018  \n",
       "0              12  Bowl        27.800000         22.900000  \n",
       "1               2  Bowl        25.000000         12.000000  \n",
       "2               7  Bowl        14.181818         14.181818  \n",
       "3               6  Bowl        31.333333         20.666667  \n",
       "4              13  Bowl        38.571429         27.285714  "
      ]
     },
     "execution_count": 62,
     "metadata": {},
     "output_type": "execute_result"
    }
   ],
   "source": [
    "ball18.head()"
   ]
  },
  {
   "cell_type": "code",
   "execution_count": 47,
   "metadata": {},
   "outputs": [
    {
     "name": "stderr",
     "output_type": "stream",
     "text": [
      "C:\\Users\\samde\\Miniconda3\\envs\\AI\\lib\\site-packages\\ipykernel_launcher.py:1: SettingWithCopyWarning: \n",
      "A value is trying to be set on a copy of a slice from a DataFrame.\n",
      "Try using .loc[row_indexer,col_indexer] = value instead\n",
      "\n",
      "See the caveats in the documentation: http://pandas.pydata.org/pandas-docs/stable/indexing.html#indexing-view-versus-copy\n",
      "  \"\"\"Entry point for launching an IPython kernel.\n",
      "C:\\Users\\samde\\Miniconda3\\envs\\AI\\lib\\site-packages\\ipykernel_launcher.py:2: SettingWithCopyWarning: \n",
      "A value is trying to be set on a copy of a slice from a DataFrame.\n",
      "Try using .loc[row_indexer,col_indexer] = value instead\n",
      "\n",
      "See the caveats in the documentation: http://pandas.pydata.org/pandas-docs/stable/indexing.html#indexing-view-versus-copy\n",
      "  \n"
     ]
    }
   ],
   "source": [
    "ball18[\"consistency2018\"]=ball18[\"Runs Scored\"]/ball18[\"Wickets\"]\n",
    "ball18[\"wickettaking2018\"]=ball18[\"Balls  Bowled\"]/ball18[\"Wickets\"]"
   ]
  },
  {
   "cell_type": "code",
   "execution_count": 61,
   "metadata": {},
   "outputs": [],
   "source": [
    "ball18.reset_index(drop=True, inplace=True)"
   ]
  },
  {
   "cell_type": "code",
   "execution_count": 76,
   "metadata": {},
   "outputs": [],
   "source": [
    "data2=ball18.drop(['Type'],axis=1)"
   ]
  },
  {
   "cell_type": "code",
   "execution_count": 77,
   "metadata": {},
   "outputs": [],
   "source": [
    "data2=data2[data2[\"Matches Played\"]!=0]\n",
    "data2=data2.dropna(how='any')\n",
    "data2=data2[data2[\"Balls  Bowled\"]!=0]"
   ]
  },
  {
   "cell_type": "code",
   "execution_count": 78,
   "metadata": {},
   "outputs": [],
   "source": [
    "data2.reset_index(drop=True, inplace=True)"
   ]
  },
  {
   "cell_type": "code",
   "execution_count": 79,
   "metadata": {},
   "outputs": [
    {
     "data": {
      "text/html": [
       "<div>\n",
       "<style scoped>\n",
       "    .dataframe tbody tr th:only-of-type {\n",
       "        vertical-align: middle;\n",
       "    }\n",
       "\n",
       "    .dataframe tbody tr th {\n",
       "        vertical-align: top;\n",
       "    }\n",
       "\n",
       "    .dataframe thead th {\n",
       "        text-align: right;\n",
       "    }\n",
       "</style>\n",
       "<table border=\"1\" class=\"dataframe\">\n",
       "  <thead>\n",
       "    <tr style=\"text-align: right;\">\n",
       "      <th></th>\n",
       "      <th>Player's Name</th>\n",
       "      <th>Balls  Bowled</th>\n",
       "      <th>Runs Scored</th>\n",
       "      <th>Economy</th>\n",
       "      <th>Wickets</th>\n",
       "      <th>Ct_St</th>\n",
       "      <th>Matches Played</th>\n",
       "      <th>consistency2018</th>\n",
       "      <th>wickettaking2018</th>\n",
       "    </tr>\n",
       "  </thead>\n",
       "  <tbody>\n",
       "    <tr>\n",
       "      <th>0</th>\n",
       "      <td>Deepak Chahar</td>\n",
       "      <td>229</td>\n",
       "      <td>278</td>\n",
       "      <td>7.3</td>\n",
       "      <td>10</td>\n",
       "      <td>1</td>\n",
       "      <td>12</td>\n",
       "      <td>27.800000</td>\n",
       "      <td>22.900000</td>\n",
       "    </tr>\n",
       "    <tr>\n",
       "      <th>1</th>\n",
       "      <td>KM Asif</td>\n",
       "      <td>36</td>\n",
       "      <td>75</td>\n",
       "      <td>12.5</td>\n",
       "      <td>3</td>\n",
       "      <td>0</td>\n",
       "      <td>2</td>\n",
       "      <td>25.000000</td>\n",
       "      <td>12.000000</td>\n",
       "    </tr>\n",
       "    <tr>\n",
       "      <th>2</th>\n",
       "      <td>Lungi Ngidi</td>\n",
       "      <td>156</td>\n",
       "      <td>156</td>\n",
       "      <td>6</td>\n",
       "      <td>11</td>\n",
       "      <td>1</td>\n",
       "      <td>7</td>\n",
       "      <td>14.181818</td>\n",
       "      <td>14.181818</td>\n",
       "    </tr>\n",
       "    <tr>\n",
       "      <th>3</th>\n",
       "      <td>Imran Tahir</td>\n",
       "      <td>124</td>\n",
       "      <td>188</td>\n",
       "      <td>9.1</td>\n",
       "      <td>6</td>\n",
       "      <td>2</td>\n",
       "      <td>6</td>\n",
       "      <td>31.333333</td>\n",
       "      <td>20.666667</td>\n",
       "    </tr>\n",
       "    <tr>\n",
       "      <th>4</th>\n",
       "      <td>Harbhajan Singh</td>\n",
       "      <td>191</td>\n",
       "      <td>270</td>\n",
       "      <td>8.5</td>\n",
       "      <td>7</td>\n",
       "      <td>4</td>\n",
       "      <td>13</td>\n",
       "      <td>38.571429</td>\n",
       "      <td>27.285714</td>\n",
       "    </tr>\n",
       "  </tbody>\n",
       "</table>\n",
       "</div>"
      ],
      "text/plain": [
       "     Player's Name  Balls  Bowled  Runs Scored Economy  Wickets  Ct_St  \\\n",
       "0    Deepak Chahar            229          278     7.3       10      1   \n",
       "1          KM Asif             36           75    12.5        3      0   \n",
       "2      Lungi Ngidi            156          156       6       11      1   \n",
       "3      Imran Tahir            124          188     9.1        6      2   \n",
       "4  Harbhajan Singh            191          270     8.5        7      4   \n",
       "\n",
       "   Matches Played  consistency2018  wickettaking2018  \n",
       "0              12        27.800000         22.900000  \n",
       "1               2        25.000000         12.000000  \n",
       "2               7        14.181818         14.181818  \n",
       "3               6        31.333333         20.666667  \n",
       "4              13        38.571429         27.285714  "
      ]
     },
     "execution_count": 79,
     "metadata": {},
     "output_type": "execute_result"
    }
   ],
   "source": [
    "data2.head()"
   ]
  },
  {
   "cell_type": "code",
   "execution_count": 80,
   "metadata": {},
   "outputs": [],
   "source": [
    "pca2 = PCA(n_components=2)"
   ]
  },
  {
   "cell_type": "code",
   "execution_count": 81,
   "metadata": {},
   "outputs": [],
   "source": [
    "from sklearn.preprocessing import StandardScaler"
   ]
  },
  {
   "cell_type": "code",
   "execution_count": 82,
   "metadata": {},
   "outputs": [],
   "source": [
    "scaler = StandardScaler()"
   ]
  },
  {
   "cell_type": "code",
   "execution_count": 83,
   "metadata": {},
   "outputs": [],
   "source": [
    "name2=pd.DataFrame()\n",
    "name2['Player\\'s Name']=data2['Player\\'s Name']"
   ]
  },
  {
   "cell_type": "code",
   "execution_count": 84,
   "metadata": {},
   "outputs": [
    {
     "data": {
      "text/plain": [
       "StandardScaler(copy=True, with_mean=True, with_std=True)"
      ]
     },
     "execution_count": 84,
     "metadata": {},
     "output_type": "execute_result"
    }
   ],
   "source": [
    "scaler.fit(data2.drop(['Player\\'s Name'],axis=1))"
   ]
  },
  {
   "cell_type": "code",
   "execution_count": 85,
   "metadata": {},
   "outputs": [],
   "source": [
    "data2=scaler.transform(data2.drop(['Player\\'s Name'],axis=1))"
   ]
  },
  {
   "cell_type": "code",
   "execution_count": 86,
   "metadata": {},
   "outputs": [
    {
     "data": {
      "text/plain": [
       "PCA(copy=True, iterated_power='auto', n_components=2, random_state=None,\n",
       "  svd_solver='auto', tol=0.0, whiten=False)"
      ]
     },
     "execution_count": 86,
     "metadata": {},
     "output_type": "execute_result"
    }
   ],
   "source": [
    "pca2.fit(data2)"
   ]
  },
  {
   "cell_type": "code",
   "execution_count": 103,
   "metadata": {},
   "outputs": [],
   "source": [
    "final2=pca2.transform(data2)"
   ]
  },
  {
   "cell_type": "code",
   "execution_count": 104,
   "metadata": {},
   "outputs": [],
   "source": [
    "df2=pd.DataFrame(final2)"
   ]
  },
  {
   "cell_type": "code",
   "execution_count": 105,
   "metadata": {},
   "outputs": [],
   "source": [
    "df2[\"Player's Name\"]=name2['Player\\'s Name']"
   ]
  },
  {
   "cell_type": "code",
   "execution_count": 106,
   "metadata": {},
   "outputs": [
    {
     "data": {
      "text/html": [
       "<div>\n",
       "<style scoped>\n",
       "    .dataframe tbody tr th:only-of-type {\n",
       "        vertical-align: middle;\n",
       "    }\n",
       "\n",
       "    .dataframe tbody tr th {\n",
       "        vertical-align: top;\n",
       "    }\n",
       "\n",
       "    .dataframe thead th {\n",
       "        text-align: right;\n",
       "    }\n",
       "</style>\n",
       "<table border=\"1\" class=\"dataframe\">\n",
       "  <thead>\n",
       "    <tr style=\"text-align: right;\">\n",
       "      <th></th>\n",
       "      <th>0</th>\n",
       "      <th>1</th>\n",
       "      <th>Player's Name</th>\n",
       "    </tr>\n",
       "  </thead>\n",
       "  <tbody>\n",
       "    <tr>\n",
       "      <th>0</th>\n",
       "      <td>0.209825</td>\n",
       "      <td>0.322461</td>\n",
       "      <td>Deepak Chahar</td>\n",
       "    </tr>\n",
       "    <tr>\n",
       "      <th>1</th>\n",
       "      <td>-3.534512</td>\n",
       "      <td>1.296195</td>\n",
       "      <td>KM Asif</td>\n",
       "    </tr>\n",
       "    <tr>\n",
       "      <th>2</th>\n",
       "      <td>-0.337797</td>\n",
       "      <td>2.648114</td>\n",
       "      <td>Lungi Ngidi</td>\n",
       "    </tr>\n",
       "    <tr>\n",
       "      <th>3</th>\n",
       "      <td>-1.608396</td>\n",
       "      <td>0.249458</td>\n",
       "      <td>Imran Tahir</td>\n",
       "    </tr>\n",
       "    <tr>\n",
       "      <th>4</th>\n",
       "      <td>-0.135043</td>\n",
       "      <td>-1.338565</td>\n",
       "      <td>Harbhajan Singh</td>\n",
       "    </tr>\n",
       "  </tbody>\n",
       "</table>\n",
       "</div>"
      ],
      "text/plain": [
       "          0         1    Player's Name\n",
       "0  0.209825  0.322461    Deepak Chahar\n",
       "1 -3.534512  1.296195          KM Asif\n",
       "2 -0.337797  2.648114      Lungi Ngidi\n",
       "3 -1.608396  0.249458      Imran Tahir\n",
       "4 -0.135043 -1.338565  Harbhajan Singh"
      ]
     },
     "execution_count": 106,
     "metadata": {},
     "output_type": "execute_result"
    }
   ],
   "source": [
    "df2.head()"
   ]
  },
  {
   "cell_type": "code",
   "execution_count": 107,
   "metadata": {
    "scrolled": true
   },
   "outputs": [
    {
     "name": "stdout",
     "output_type": "stream",
     "text": [
      "[13.25160512  9.08744071]\n"
     ]
    }
   ],
   "source": [
    "print(pca2.singular_values_)"
   ]
  },
  {
   "cell_type": "code",
   "execution_count": 108,
   "metadata": {},
   "outputs": [
    {
     "data": {
      "text/plain": [
       "array([[ 0.45589429,  0.43463612, -0.22240624,  0.45347261,  0.30987845,\n",
       "         0.44498349, -0.19604465, -0.12522551],\n",
       "       [-0.11487864, -0.22659439, -0.32295337,  0.09217887, -0.27102737,\n",
       "        -0.16406722, -0.61817117, -0.583226  ]])"
      ]
     },
     "execution_count": 108,
     "metadata": {},
     "output_type": "execute_result"
    }
   ],
   "source": [
    "pca2.components_"
   ]
  },
  {
   "cell_type": "markdown",
   "metadata": {},
   "source": [
    "<h2> ALL Rounder</h2>"
   ]
  },
  {
   "cell_type": "code",
   "execution_count": 114,
   "metadata": {},
   "outputs": [
    {
     "data": {
      "text/html": [
       "<div>\n",
       "<style scoped>\n",
       "    .dataframe tbody tr th:only-of-type {\n",
       "        vertical-align: middle;\n",
       "    }\n",
       "\n",
       "    .dataframe tbody tr th {\n",
       "        vertical-align: top;\n",
       "    }\n",
       "\n",
       "    .dataframe thead th {\n",
       "        text-align: right;\n",
       "    }\n",
       "</style>\n",
       "<table border=\"1\" class=\"dataframe\">\n",
       "  <thead>\n",
       "    <tr style=\"text-align: right;\">\n",
       "      <th></th>\n",
       "      <th>Player's Name</th>\n",
       "      <th>Run</th>\n",
       "      <th>Ball</th>\n",
       "      <th>Strike Rate</th>\n",
       "      <th>4's</th>\n",
       "      <th>6's</th>\n",
       "      <th>Highest Run Scored</th>\n",
       "      <th>Balls  Bowled</th>\n",
       "      <th>Runs Scored</th>\n",
       "      <th>Economy</th>\n",
       "      <th>Wickets</th>\n",
       "      <th>Ct_St</th>\n",
       "      <th>Run Outs</th>\n",
       "      <th>Matches Played</th>\n",
       "      <th>Type</th>\n",
       "      <th>HardHitting2018</th>\n",
       "      <th>FastScoring2018</th>\n",
       "      <th>Running2018</th>\n",
       "      <th>consistency2018</th>\n",
       "      <th>wickettaking2018</th>\n",
       "    </tr>\n",
       "  </thead>\n",
       "  <tbody>\n",
       "    <tr>\n",
       "      <th>4</th>\n",
       "      <td>Karn Sharma</td>\n",
       "      <td>0</td>\n",
       "      <td>0</td>\n",
       "      <td>-</td>\n",
       "      <td>0</td>\n",
       "      <td>0</td>\n",
       "      <td>0</td>\n",
       "      <td>57</td>\n",
       "      <td>89</td>\n",
       "      <td>9.4</td>\n",
       "      <td>4</td>\n",
       "      <td>3</td>\n",
       "      <td>0.5</td>\n",
       "      <td>6</td>\n",
       "      <td>AR</td>\n",
       "      <td>NaN</td>\n",
       "      <td>NaN</td>\n",
       "      <td>NaN</td>\n",
       "      <td>22.250000</td>\n",
       "      <td>14.250000</td>\n",
       "    </tr>\n",
       "    <tr>\n",
       "      <th>5</th>\n",
       "      <td>Dhruv Shorey</td>\n",
       "      <td>8</td>\n",
       "      <td>9</td>\n",
       "      <td>88.9</td>\n",
       "      <td>0</td>\n",
       "      <td>1</td>\n",
       "      <td>8</td>\n",
       "      <td>0</td>\n",
       "      <td>0</td>\n",
       "      <td>-</td>\n",
       "      <td>0</td>\n",
       "      <td>1</td>\n",
       "      <td>0.0</td>\n",
       "      <td>1</td>\n",
       "      <td>AR</td>\n",
       "      <td>0.666667</td>\n",
       "      <td>0.888889</td>\n",
       "      <td>0.250000</td>\n",
       "      <td>NaN</td>\n",
       "      <td>NaN</td>\n",
       "    </tr>\n",
       "    <tr>\n",
       "      <th>8</th>\n",
       "      <td>Ravindra Jadeja</td>\n",
       "      <td>89</td>\n",
       "      <td>74</td>\n",
       "      <td>120.3</td>\n",
       "      <td>3</td>\n",
       "      <td>4</td>\n",
       "      <td>27</td>\n",
       "      <td>246</td>\n",
       "      <td>303</td>\n",
       "      <td>7.4</td>\n",
       "      <td>11</td>\n",
       "      <td>11</td>\n",
       "      <td>0.5</td>\n",
       "      <td>16</td>\n",
       "      <td>AR</td>\n",
       "      <td>0.486486</td>\n",
       "      <td>1.202703</td>\n",
       "      <td>0.791045</td>\n",
       "      <td>27.545455</td>\n",
       "      <td>22.363636</td>\n",
       "    </tr>\n",
       "    <tr>\n",
       "      <th>10</th>\n",
       "      <td>Mitchell Santner</td>\n",
       "      <td>0</td>\n",
       "      <td>0</td>\n",
       "      <td>-</td>\n",
       "      <td>0</td>\n",
       "      <td>0</td>\n",
       "      <td>0</td>\n",
       "      <td>0</td>\n",
       "      <td>0</td>\n",
       "      <td>-</td>\n",
       "      <td>0</td>\n",
       "      <td>0</td>\n",
       "      <td>0.0</td>\n",
       "      <td>0</td>\n",
       "      <td>AR</td>\n",
       "      <td>NaN</td>\n",
       "      <td>NaN</td>\n",
       "      <td>NaN</td>\n",
       "      <td>NaN</td>\n",
       "      <td>NaN</td>\n",
       "    </tr>\n",
       "    <tr>\n",
       "      <th>12</th>\n",
       "      <td>Dwayne Bravo</td>\n",
       "      <td>141</td>\n",
       "      <td>91</td>\n",
       "      <td>154.9</td>\n",
       "      <td>8</td>\n",
       "      <td>10</td>\n",
       "      <td>68</td>\n",
       "      <td>321</td>\n",
       "      <td>533</td>\n",
       "      <td>10</td>\n",
       "      <td>14</td>\n",
       "      <td>9</td>\n",
       "      <td>0.5</td>\n",
       "      <td>16</td>\n",
       "      <td>AR</td>\n",
       "      <td>1.010989</td>\n",
       "      <td>1.549451</td>\n",
       "      <td>0.671233</td>\n",
       "      <td>38.071429</td>\n",
       "      <td>22.928571</td>\n",
       "    </tr>\n",
       "  </tbody>\n",
       "</table>\n",
       "</div>"
      ],
      "text/plain": [
       "       Player's Name  Run  Ball Strike Rate  4's  6's  Highest Run Scored  \\\n",
       "4        Karn Sharma    0     0           -    0    0                   0   \n",
       "5       Dhruv Shorey    8     9        88.9    0    1                   8   \n",
       "8    Ravindra Jadeja   89    74       120.3    3    4                  27   \n",
       "10  Mitchell Santner    0     0           -    0    0                   0   \n",
       "12      Dwayne Bravo  141    91       154.9    8   10                  68   \n",
       "\n",
       "    Balls  Bowled  Runs Scored Economy  Wickets  Ct_St  Run Outs  \\\n",
       "4              57           89     9.4        4      3       0.5   \n",
       "5               0            0       -        0      1       0.0   \n",
       "8             246          303     7.4       11     11       0.5   \n",
       "10              0            0       -        0      0       0.0   \n",
       "12            321          533      10       14      9       0.5   \n",
       "\n",
       "    Matches Played Type  HardHitting2018  FastScoring2018  Running2018  \\\n",
       "4                6   AR              NaN              NaN          NaN   \n",
       "5                1   AR         0.666667         0.888889     0.250000   \n",
       "8               16   AR         0.486486         1.202703     0.791045   \n",
       "10               0   AR              NaN              NaN          NaN   \n",
       "12              16   AR         1.010989         1.549451     0.671233   \n",
       "\n",
       "    consistency2018  wickettaking2018  \n",
       "4         22.250000         14.250000  \n",
       "5               NaN               NaN  \n",
       "8         27.545455         22.363636  \n",
       "10              NaN               NaN  \n",
       "12        38.071429         22.928571  "
      ]
     },
     "execution_count": 114,
     "metadata": {},
     "output_type": "execute_result"
    }
   ],
   "source": [
    "AR18.head()"
   ]
  },
  {
   "cell_type": "code",
   "execution_count": 111,
   "metadata": {},
   "outputs": [
    {
     "name": "stderr",
     "output_type": "stream",
     "text": [
      "C:\\Users\\samde\\Miniconda3\\envs\\AI\\lib\\site-packages\\pandas\\core\\frame.py:3697: SettingWithCopyWarning: \n",
      "A value is trying to be set on a copy of a slice from a DataFrame\n",
      "\n",
      "See the caveats in the documentation: http://pandas.pydata.org/pandas-docs/stable/indexing.html#indexing-view-versus-copy\n",
      "  errors=errors)\n"
     ]
    }
   ],
   "source": [
    "AR18.drop(['Team','Sl.No','From','Age'],axis=1,inplace=True)"
   ]
  },
  {
   "cell_type": "code",
   "execution_count": 112,
   "metadata": {},
   "outputs": [
    {
     "name": "stderr",
     "output_type": "stream",
     "text": [
      "C:\\Users\\samde\\Miniconda3\\envs\\AI\\lib\\site-packages\\ipykernel_launcher.py:1: SettingWithCopyWarning: \n",
      "A value is trying to be set on a copy of a slice from a DataFrame.\n",
      "Try using .loc[row_indexer,col_indexer] = value instead\n",
      "\n",
      "See the caveats in the documentation: http://pandas.pydata.org/pandas-docs/stable/indexing.html#indexing-view-versus-copy\n",
      "  \"\"\"Entry point for launching an IPython kernel.\n",
      "C:\\Users\\samde\\Miniconda3\\envs\\AI\\lib\\site-packages\\ipykernel_launcher.py:2: SettingWithCopyWarning: \n",
      "A value is trying to be set on a copy of a slice from a DataFrame.\n",
      "Try using .loc[row_indexer,col_indexer] = value instead\n",
      "\n",
      "See the caveats in the documentation: http://pandas.pydata.org/pandas-docs/stable/indexing.html#indexing-view-versus-copy\n",
      "  \n",
      "C:\\Users\\samde\\Miniconda3\\envs\\AI\\lib\\site-packages\\ipykernel_launcher.py:3: SettingWithCopyWarning: \n",
      "A value is trying to be set on a copy of a slice from a DataFrame.\n",
      "Try using .loc[row_indexer,col_indexer] = value instead\n",
      "\n",
      "See the caveats in the documentation: http://pandas.pydata.org/pandas-docs/stable/indexing.html#indexing-view-versus-copy\n",
      "  This is separate from the ipykernel package so we can avoid doing imports until\n"
     ]
    }
   ],
   "source": [
    "AR18[\"HardHitting2018\"]=(4*AR18[\"4's\"]+6*AR18[\"6's\"])/AR18[\"Ball\"]\n",
    "AR18[\"FastScoring2018\"]=AR18[\"Run\"]/AR18[\"Ball\"]\n",
    "AR18[\"Running2018\"]=(AR18[\"Run\"]-(4*AR18[\"4's\"]+6*AR18[\"6's\"]))/(AR18[\"Ball\"]-(AR18[\"4's\"]+AR18[\"6's\"]))"
   ]
  },
  {
   "cell_type": "code",
   "execution_count": 113,
   "metadata": {},
   "outputs": [
    {
     "name": "stderr",
     "output_type": "stream",
     "text": [
      "C:\\Users\\samde\\Miniconda3\\envs\\AI\\lib\\site-packages\\ipykernel_launcher.py:1: SettingWithCopyWarning: \n",
      "A value is trying to be set on a copy of a slice from a DataFrame.\n",
      "Try using .loc[row_indexer,col_indexer] = value instead\n",
      "\n",
      "See the caveats in the documentation: http://pandas.pydata.org/pandas-docs/stable/indexing.html#indexing-view-versus-copy\n",
      "  \"\"\"Entry point for launching an IPython kernel.\n",
      "C:\\Users\\samde\\Miniconda3\\envs\\AI\\lib\\site-packages\\ipykernel_launcher.py:2: SettingWithCopyWarning: \n",
      "A value is trying to be set on a copy of a slice from a DataFrame.\n",
      "Try using .loc[row_indexer,col_indexer] = value instead\n",
      "\n",
      "See the caveats in the documentation: http://pandas.pydata.org/pandas-docs/stable/indexing.html#indexing-view-versus-copy\n",
      "  \n"
     ]
    }
   ],
   "source": [
    "AR18[\"consistency2018\"]=AR18[\"Runs Scored\"]/AR18[\"Wickets\"]\n",
    "AR18[\"wickettaking2018\"]=AR18[\"Balls  Bowled\"]/AR18[\"Wickets\"]"
   ]
  },
  {
   "cell_type": "code",
   "execution_count": 115,
   "metadata": {},
   "outputs": [],
   "source": [
    "data3=AR18.drop(['Type'],axis=1)"
   ]
  },
  {
   "cell_type": "code",
   "execution_count": 122,
   "metadata": {},
   "outputs": [],
   "source": [
    "data3=data3.replace([np.inf, -np.inf], np.nan)"
   ]
  },
  {
   "cell_type": "code",
   "execution_count": 123,
   "metadata": {},
   "outputs": [],
   "source": [
    "data3=data3[data3[\"Matches Played\"]!=0]"
   ]
  },
  {
   "cell_type": "code",
   "execution_count": 128,
   "metadata": {},
   "outputs": [],
   "source": [
    "data3=data3.dropna(how='any')\n",
    "data3=data3[data3[\"Run\"]!=0]\n",
    "data3=data3[data3[\"Balls  Bowled\"]!=0]"
   ]
  },
  {
   "cell_type": "code",
   "execution_count": 129,
   "metadata": {},
   "outputs": [],
   "source": [
    "data3.reset_index(drop=True, inplace=True)"
   ]
  },
  {
   "cell_type": "code",
   "execution_count": 130,
   "metadata": {},
   "outputs": [],
   "source": [
    "pca3 = PCA(n_components=2)\n",
    "from sklearn.preprocessing import StandardScaler\n",
    "scaler = StandardScaler()"
   ]
  },
  {
   "cell_type": "code",
   "execution_count": 135,
   "metadata": {},
   "outputs": [],
   "source": [
    "name3=pd.DataFrame()\n",
    "name3['Player\\'s Name']=data3['Player\\'s Name']"
   ]
  },
  {
   "cell_type": "code",
   "execution_count": 136,
   "metadata": {},
   "outputs": [
    {
     "data": {
      "text/plain": [
       "StandardScaler(copy=True, with_mean=True, with_std=True)"
      ]
     },
     "execution_count": 136,
     "metadata": {},
     "output_type": "execute_result"
    }
   ],
   "source": [
    "scaler.fit(data3.drop(['Player\\'s Name'],axis=1))"
   ]
  },
  {
   "cell_type": "code",
   "execution_count": 137,
   "metadata": {},
   "outputs": [],
   "source": [
    "data3=scaler.transform(data3.drop(['Player\\'s Name'],axis=1))"
   ]
  },
  {
   "cell_type": "code",
   "execution_count": 138,
   "metadata": {},
   "outputs": [
    {
     "data": {
      "text/plain": [
       "PCA(copy=True, iterated_power='auto', n_components=2, random_state=None,\n",
       "  svd_solver='auto', tol=0.0, whiten=False)"
      ]
     },
     "execution_count": 138,
     "metadata": {},
     "output_type": "execute_result"
    }
   ],
   "source": [
    "pca3.fit(data3)"
   ]
  },
  {
   "cell_type": "code",
   "execution_count": 139,
   "metadata": {},
   "outputs": [],
   "source": [
    "final3=pca3.transform(data3)"
   ]
  },
  {
   "cell_type": "code",
   "execution_count": 140,
   "metadata": {},
   "outputs": [
    {
     "data": {
      "text/html": [
       "<div>\n",
       "<style scoped>\n",
       "    .dataframe tbody tr th:only-of-type {\n",
       "        vertical-align: middle;\n",
       "    }\n",
       "\n",
       "    .dataframe tbody tr th {\n",
       "        vertical-align: top;\n",
       "    }\n",
       "\n",
       "    .dataframe thead th {\n",
       "        text-align: right;\n",
       "    }\n",
       "</style>\n",
       "<table border=\"1\" class=\"dataframe\">\n",
       "  <thead>\n",
       "    <tr style=\"text-align: right;\">\n",
       "      <th></th>\n",
       "      <th>0</th>\n",
       "      <th>1</th>\n",
       "      <th>Player's Name</th>\n",
       "    </tr>\n",
       "  </thead>\n",
       "  <tbody>\n",
       "    <tr>\n",
       "      <th>0</th>\n",
       "      <td>0.748961</td>\n",
       "      <td>2.409422</td>\n",
       "      <td>Ravindra Jadeja</td>\n",
       "    </tr>\n",
       "    <tr>\n",
       "      <th>1</th>\n",
       "      <td>2.648154</td>\n",
       "      <td>0.883321</td>\n",
       "      <td>Dwayne Bravo</td>\n",
       "    </tr>\n",
       "    <tr>\n",
       "      <th>2</th>\n",
       "      <td>5.477823</td>\n",
       "      <td>-2.781564</td>\n",
       "      <td>Shane Watson</td>\n",
       "    </tr>\n",
       "    <tr>\n",
       "      <th>3</th>\n",
       "      <td>3.388268</td>\n",
       "      <td>2.060473</td>\n",
       "      <td>Hardik Pandya</td>\n",
       "    </tr>\n",
       "    <tr>\n",
       "      <th>4</th>\n",
       "      <td>2.842431</td>\n",
       "      <td>1.082135</td>\n",
       "      <td>Krunal Pandya</td>\n",
       "    </tr>\n",
       "  </tbody>\n",
       "</table>\n",
       "</div>"
      ],
      "text/plain": [
       "          0         1    Player's Name\n",
       "0  0.748961  2.409422  Ravindra Jadeja\n",
       "1  2.648154  0.883321     Dwayne Bravo\n",
       "2  5.477823 -2.781564     Shane Watson\n",
       "3  3.388268  2.060473    Hardik Pandya\n",
       "4  2.842431  1.082135    Krunal Pandya"
      ]
     },
     "execution_count": 140,
     "metadata": {},
     "output_type": "execute_result"
    }
   ],
   "source": [
    "df3=pd.DataFrame(final3)\n",
    "df3[\"Player's Name\"]=name3['Player\\'s Name']\n",
    "df3.head()"
   ]
  },
  {
   "cell_type": "code",
   "execution_count": 141,
   "metadata": {},
   "outputs": [
    {
     "name": "stdout",
     "output_type": "stream",
     "text": [
      "[12.31900172  9.43282814]\n"
     ]
    }
   ],
   "source": [
    "print(pca3.singular_values_)"
   ]
  },
  {
   "cell_type": "code",
   "execution_count": 142,
   "metadata": {},
   "outputs": [
    {
     "data": {
      "text/plain": [
       "array([[ 0.33029444,  0.32620505,  0.14769724,  0.31454772,  0.2920165 ,\n",
       "         0.30825544,  0.25656941,  0.25589729, -0.13999694,  0.26004776,\n",
       "         0.23218872,  0.10918076,  0.31866785,  0.16950665,  0.14778481,\n",
       "        -0.04761652, -0.16500883, -0.13214177],\n",
       "       [-0.12710972, -0.0731054 , -0.38723432, -0.05623697, -0.22497318,\n",
       "        -0.23337938,  0.28826542,  0.25946945, -0.13786588,  0.31695796,\n",
       "         0.09408541,  0.12353242,  0.13543666, -0.36185155, -0.38721115,\n",
       "        -0.1278824 , -0.2481891 , -0.22167535]])"
      ]
     },
     "execution_count": 142,
     "metadata": {},
     "output_type": "execute_result"
    }
   ],
   "source": [
    "pca3.components_"
   ]
  },
  {
   "cell_type": "code",
   "execution_count": null,
   "metadata": {},
   "outputs": [],
   "source": []
  }
 ],
 "metadata": {
  "kernelspec": {
   "display_name": "Python 3",
   "language": "python",
   "name": "python3"
  },
  "language_info": {
   "codemirror_mode": {
    "name": "ipython",
    "version": 3
   },
   "file_extension": ".py",
   "mimetype": "text/x-python",
   "name": "python",
   "nbconvert_exporter": "python",
   "pygments_lexer": "ipython3",
   "version": "3.6.6"
  },
  "varInspector": {
   "cols": {
    "lenName": 16,
    "lenType": 16,
    "lenVar": 40
   },
   "kernels_config": {
    "python": {
     "delete_cmd_postfix": "",
     "delete_cmd_prefix": "del ",
     "library": "var_list.py",
     "varRefreshCmd": "print(var_dic_list())"
    },
    "r": {
     "delete_cmd_postfix": ") ",
     "delete_cmd_prefix": "rm(",
     "library": "var_list.r",
     "varRefreshCmd": "cat(var_dic_list()) "
    }
   },
   "types_to_exclude": [
    "module",
    "function",
    "builtin_function_or_method",
    "instance",
    "_Feature"
   ],
   "window_display": false
  }
 },
 "nbformat": 4,
 "nbformat_minor": 2
}
