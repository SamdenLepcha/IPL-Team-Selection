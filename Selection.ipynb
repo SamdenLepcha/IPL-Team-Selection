{
 "cells": [
  {
   "cell_type": "markdown",
   "metadata": {},
   "source": [
    "<h1>Greetings</h1>"
   ]
  },
  {
   "cell_type": "markdown",
   "metadata": {},
   "source": [
    "This IPython file showcases our approach to the \"Hackathon 2k19\" organised by Department of Big Data Analytics, St. Joseph's College (Autonomous). The task was to pick the best-performing eleven  players from 11 IPL seasons."
   ]
  },
  {
   "cell_type": "markdown",
   "metadata": {},
   "source": [
    "This is one of the part of the series of notebooks that we have used to pick our final team. In this notebook we have extracted players from the dataset who only are gonna play in 2019. Before this further correction and analysis of the names was done using Excel."
   ]
  },
  {
   "cell_type": "markdown",
   "metadata": {},
   "source": [
    "Importing the Libraries"
   ]
  },
  {
   "cell_type": "code",
   "execution_count": 2,
   "metadata": {},
   "outputs": [],
   "source": [
    "import numpy as np\n",
    "import pandas as pd\n",
    "import matplotlib.pyplot as plt\n",
    "import seaborn as sns"
   ]
  },
  {
   "cell_type": "markdown",
   "metadata": {},
   "source": [
    "<h3>Importing 2019</h3>"
   ]
  },
  {
   "cell_type": "markdown",
   "metadata": {},
   "source": [
    "We will be using only the Names from this dataset(2019) against all the other datasets(2010-18) to find all the players playing only in 2019. "
   ]
  },
  {
   "cell_type": "code",
   "execution_count": 25,
   "metadata": {},
   "outputs": [],
   "source": [
    "two_019=pd.read_csv(\"C:/Users/samde/Desktop/Data Science/Datasets/IPL/IPL2019.csv\")\n",
    "two_019['NAME']=two_019['NAME'].str.lstrip()\n",
    "two_019['NAME']=two_019['NAME'].str.rstrip()"
   ]
  },
  {
   "cell_type": "code",
   "execution_count": 26,
   "metadata": {},
   "outputs": [
    {
     "data": {
      "text/html": [
       "<div>\n",
       "<style scoped>\n",
       "    .dataframe tbody tr th:only-of-type {\n",
       "        vertical-align: middle;\n",
       "    }\n",
       "\n",
       "    .dataframe tbody tr th {\n",
       "        vertical-align: top;\n",
       "    }\n",
       "\n",
       "    .dataframe thead th {\n",
       "        text-align: right;\n",
       "    }\n",
       "</style>\n",
       "<table border=\"1\" class=\"dataframe\">\n",
       "  <thead>\n",
       "    <tr style=\"text-align: right;\">\n",
       "      <th></th>\n",
       "      <th>NAME</th>\n",
       "      <th>TEAM</th>\n",
       "      <th>COUNTRY</th>\n",
       "    </tr>\n",
       "  </thead>\n",
       "  <tbody>\n",
       "    <tr>\n",
       "      <th>0</th>\n",
       "      <td>MS Dhoni</td>\n",
       "      <td>CSK</td>\n",
       "      <td>IND</td>\n",
       "    </tr>\n",
       "    <tr>\n",
       "      <th>1</th>\n",
       "      <td>Suresh Raina</td>\n",
       "      <td>CSK</td>\n",
       "      <td>IND</td>\n",
       "    </tr>\n",
       "    <tr>\n",
       "      <th>2</th>\n",
       "      <td>Deepak Chahar</td>\n",
       "      <td>CSK</td>\n",
       "      <td>IND</td>\n",
       "    </tr>\n",
       "    <tr>\n",
       "      <th>3</th>\n",
       "      <td>KM Asif</td>\n",
       "      <td>CSK</td>\n",
       "      <td>IND</td>\n",
       "    </tr>\n",
       "    <tr>\n",
       "      <th>4</th>\n",
       "      <td>Karn Sharma</td>\n",
       "      <td>CSK</td>\n",
       "      <td>IND</td>\n",
       "    </tr>\n",
       "  </tbody>\n",
       "</table>\n",
       "</div>"
      ],
      "text/plain": [
       "            NAME TEAM COUNTRY\n",
       "0       MS Dhoni  CSK     IND\n",
       "1   Suresh Raina  CSK     IND\n",
       "2  Deepak Chahar  CSK     IND\n",
       "3        KM Asif  CSK     IND\n",
       "4    Karn Sharma  CSK     IND"
      ]
     },
     "execution_count": 26,
     "metadata": {},
     "output_type": "execute_result"
    }
   ],
   "source": [
    "two_019.head()"
   ]
  },
  {
   "cell_type": "code",
   "execution_count": 27,
   "metadata": {},
   "outputs": [
    {
     "data": {
      "text/plain": [
       "(187, 3)"
      ]
     },
     "execution_count": 27,
     "metadata": {},
     "output_type": "execute_result"
    }
   ],
   "source": [
    "two_019.shape"
   ]
  },
  {
   "cell_type": "code",
   "execution_count": 28,
   "metadata": {},
   "outputs": [],
   "source": [
    "new_key=pd.DataFrame()"
   ]
  },
  {
   "cell_type": "code",
   "execution_count": 29,
   "metadata": {},
   "outputs": [],
   "source": [
    "new_key['Player']=two_019['NAME']\n",
    "#new_key['Team']=two_019['TEAM']\n",
    "#new_key['From']=two_019['COUNTRY']"
   ]
  },
  {
   "cell_type": "code",
   "execution_count": 30,
   "metadata": {},
   "outputs": [
    {
     "data": {
      "text/plain": [
       "(187, 1)"
      ]
     },
     "execution_count": 30,
     "metadata": {},
     "output_type": "execute_result"
    }
   ],
   "source": [
    "new_key.shape"
   ]
  },
  {
   "cell_type": "markdown",
   "metadata": {},
   "source": [
    "SAME KEYS FOR 2008 and 2019"
   ]
  },
  {
   "cell_type": "code",
   "execution_count": 31,
   "metadata": {},
   "outputs": [],
   "source": [
    "two_008=pd.read_excel(\"C:/Users/samde/Desktop/Data Science/Datasets/IPL/IPL2008.xls\")"
   ]
  },
  {
   "cell_type": "code",
   "execution_count": 32,
   "metadata": {},
   "outputs": [
    {
     "data": {
      "text/plain": [
       "200"
      ]
     },
     "execution_count": 32,
     "metadata": {},
     "output_type": "execute_result"
    }
   ],
   "source": [
    "two_008['Player'].nunique()"
   ]
  },
  {
   "cell_type": "code",
   "execution_count": 33,
   "metadata": {},
   "outputs": [
    {
     "data": {
      "text/html": [
       "<div>\n",
       "<style scoped>\n",
       "    .dataframe tbody tr th:only-of-type {\n",
       "        vertical-align: middle;\n",
       "    }\n",
       "\n",
       "    .dataframe tbody tr th {\n",
       "        vertical-align: top;\n",
       "    }\n",
       "\n",
       "    .dataframe thead th {\n",
       "        text-align: right;\n",
       "    }\n",
       "</style>\n",
       "<table border=\"1\" class=\"dataframe\">\n",
       "  <thead>\n",
       "    <tr style=\"text-align: right;\">\n",
       "      <th></th>\n",
       "      <th>Sl. NO</th>\n",
       "      <th>Player</th>\n",
       "      <th>Team</th>\n",
       "      <th>From</th>\n",
       "      <th>Runs</th>\n",
       "      <th>Balls</th>\n",
       "      <th>Strike Rate</th>\n",
       "      <th>Balls Bowled</th>\n",
       "      <th>Runs Conceded</th>\n",
       "      <th>Wickets</th>\n",
       "      <th>Economy</th>\n",
       "      <th>Ct_St</th>\n",
       "      <th>Run Outs</th>\n",
       "      <th>Matches Played</th>\n",
       "      <th>Age</th>\n",
       "    </tr>\n",
       "  </thead>\n",
       "  <tbody>\n",
       "    <tr>\n",
       "      <th>0</th>\n",
       "      <td>1</td>\n",
       "      <td>Aakash Chopra</td>\n",
       "      <td>KKR</td>\n",
       "      <td>IND</td>\n",
       "      <td>42</td>\n",
       "      <td>52</td>\n",
       "      <td>80.769231</td>\n",
       "      <td>0</td>\n",
       "      <td>0</td>\n",
       "      <td>0</td>\n",
       "      <td>NaN</td>\n",
       "      <td>2</td>\n",
       "      <td>0.0</td>\n",
       "      <td>5</td>\n",
       "      <td>30</td>\n",
       "    </tr>\n",
       "    <tr>\n",
       "      <th>1</th>\n",
       "      <td>2</td>\n",
       "      <td>AB de Villiers</td>\n",
       "      <td>DD</td>\n",
       "      <td>SA</td>\n",
       "      <td>95</td>\n",
       "      <td>98</td>\n",
       "      <td>96.938776</td>\n",
       "      <td>0</td>\n",
       "      <td>0</td>\n",
       "      <td>0</td>\n",
       "      <td>NaN</td>\n",
       "      <td>5</td>\n",
       "      <td>1.5</td>\n",
       "      <td>6</td>\n",
       "      <td>24</td>\n",
       "    </tr>\n",
       "    <tr>\n",
       "      <th>2</th>\n",
       "      <td>3</td>\n",
       "      <td>Abdur Razzak</td>\n",
       "      <td>RCB</td>\n",
       "      <td>BAN</td>\n",
       "      <td>0</td>\n",
       "      <td>2</td>\n",
       "      <td>0.000000</td>\n",
       "      <td>12</td>\n",
       "      <td>29</td>\n",
       "      <td>0</td>\n",
       "      <td>14.500000</td>\n",
       "      <td>0</td>\n",
       "      <td>0.0</td>\n",
       "      <td>1</td>\n",
       "      <td>25</td>\n",
       "    </tr>\n",
       "    <tr>\n",
       "      <th>3</th>\n",
       "      <td>4</td>\n",
       "      <td>Abhinav Mukund</td>\n",
       "      <td>CSK</td>\n",
       "      <td>IND</td>\n",
       "      <td>0</td>\n",
       "      <td>1</td>\n",
       "      <td>0.000000</td>\n",
       "      <td>0</td>\n",
       "      <td>0</td>\n",
       "      <td>0</td>\n",
       "      <td>NaN</td>\n",
       "      <td>3</td>\n",
       "      <td>0.0</td>\n",
       "      <td>2</td>\n",
       "      <td>18</td>\n",
       "    </tr>\n",
       "    <tr>\n",
       "      <th>4</th>\n",
       "      <td>5</td>\n",
       "      <td>Abhishek Nayar</td>\n",
       "      <td>MI</td>\n",
       "      <td>IND</td>\n",
       "      <td>206</td>\n",
       "      <td>138</td>\n",
       "      <td>149.275362</td>\n",
       "      <td>42</td>\n",
       "      <td>68</td>\n",
       "      <td>1</td>\n",
       "      <td>9.714286</td>\n",
       "      <td>4</td>\n",
       "      <td>0.0</td>\n",
       "      <td>14</td>\n",
       "      <td>24</td>\n",
       "    </tr>\n",
       "  </tbody>\n",
       "</table>\n",
       "</div>"
      ],
      "text/plain": [
       "   Sl. NO          Player Team From  Runs  Balls  Strike Rate  Balls Bowled  \\\n",
       "0       1   Aakash Chopra  KKR  IND    42     52    80.769231             0   \n",
       "1       2  AB de Villiers   DD   SA    95     98    96.938776             0   \n",
       "2       3    Abdur Razzak  RCB  BAN     0      2     0.000000            12   \n",
       "3       4  Abhinav Mukund  CSK  IND     0      1     0.000000             0   \n",
       "4       5  Abhishek Nayar   MI  IND   206    138   149.275362            42   \n",
       "\n",
       "   Runs Conceded  Wickets    Economy  Ct_St  Run Outs  Matches Played   Age  \n",
       "0              0        0        NaN      2       0.0                5   30  \n",
       "1              0        0        NaN      5       1.5                6   24  \n",
       "2             29        0  14.500000      0       0.0                1   25  \n",
       "3              0        0        NaN      3       0.0                2   18  \n",
       "4             68        1   9.714286      4       0.0               14   24  "
      ]
     },
     "execution_count": 33,
     "metadata": {},
     "output_type": "execute_result"
    }
   ],
   "source": [
    "two_008.head()"
   ]
  },
  {
   "cell_type": "code",
   "execution_count": 34,
   "metadata": {},
   "outputs": [],
   "source": [
    "two_008['Player']=two_008['Player'].str.lstrip()\n",
    "two_008['Player']=two_008['Player'].str.rstrip()"
   ]
  },
  {
   "cell_type": "code",
   "execution_count": 37,
   "metadata": {},
   "outputs": [],
   "source": [
    "del old_key\n",
    "old_key=pd.DataFrame()"
   ]
  },
  {
   "cell_type": "code",
   "execution_count": 38,
   "metadata": {},
   "outputs": [],
   "source": [
    "old_key['Player']=two_008['Player']\n",
    "#old_key['Team']=two_008['Team']\n",
    "#old_key['From']=two_008['From']"
   ]
  },
  {
   "cell_type": "code",
   "execution_count": 39,
   "metadata": {},
   "outputs": [
    {
     "data": {
      "text/plain": [
       "{'AB de Villiers',\n",
       " 'Ajinkya Rahane',\n",
       " 'Amit Mishra',\n",
       " 'Chris Gayle',\n",
       " 'Dhawal Kulkarni',\n",
       " 'Dinesh Karthik',\n",
       " 'Dwayne Bravo',\n",
       " 'Harbhajan Singh',\n",
       " 'Ishant Sharma',\n",
       " 'Lasith Malinga',\n",
       " 'MS Dhoni',\n",
       " 'Manish Pandey',\n",
       " 'Parthiv Patel',\n",
       " 'Piyush Chawla',\n",
       " 'Ravichandran Ashwin',\n",
       " 'Ravindra Jadeja',\n",
       " 'Robin Uthappa',\n",
       " 'Rohit Sharma',\n",
       " 'Shane Watson',\n",
       " 'Shikhar Dhawan',\n",
       " 'Siddarth Kaul',\n",
       " 'Suresh Raina',\n",
       " 'Virat Kohli',\n",
       " 'Yusuf Pathan',\n",
       " 'Yuvraj Singh'}"
      ]
     },
     "execution_count": 39,
     "metadata": {},
     "output_type": "execute_result"
    }
   ],
   "source": [
    "set(new_key['Player']).intersection(set(old_key['Player']))"
   ]
  },
  {
   "cell_type": "code",
   "execution_count": 40,
   "metadata": {},
   "outputs": [],
   "source": [
    "same_key=pd.DataFrame()"
   ]
  },
  {
   "cell_type": "code",
   "execution_count": 41,
   "metadata": {},
   "outputs": [],
   "source": [
    "same_key=pd.merge(new_key,old_key ,on=['Player'], how='inner')"
   ]
  },
  {
   "cell_type": "code",
   "execution_count": 42,
   "metadata": {},
   "outputs": [
    {
     "data": {
      "text/plain": [
       "Player    25\n",
       "dtype: int64"
      ]
     },
     "execution_count": 42,
     "metadata": {},
     "output_type": "execute_result"
    }
   ],
   "source": [
    "same_key.nunique()"
   ]
  },
  {
   "cell_type": "markdown",
   "metadata": {},
   "source": [
    "SAME KEYS FOR 2009 and 2019"
   ]
  },
  {
   "cell_type": "code",
   "execution_count": null,
   "metadata": {},
   "outputs": [],
   "source": [
    "two_009=pd.read_excel(\"C:/Users/samde/Desktop/Data Science/Datasets/IPL/IPL2009.xls\")"
   ]
  },
  {
   "cell_type": "code",
   "execution_count": null,
   "metadata": {},
   "outputs": [],
   "source": [
    "two_009.head()"
   ]
  },
  {
   "cell_type": "code",
   "execution_count": null,
   "metadata": {},
   "outputs": [],
   "source": [
    "new_key[new_key['Player']=='MS Dhoni']"
   ]
  },
  {
   "cell_type": "code",
   "execution_count": null,
   "metadata": {},
   "outputs": [],
   "source": [
    "two_009[two_009['Player']=='MS Dhoni ']"
   ]
  },
  {
   "cell_type": "code",
   "execution_count": null,
   "metadata": {},
   "outputs": [],
   "source": [
    "two_009['Player']=two_009['Player'].str.lstrip()\n",
    "two_009['Player']=two_009['Player'].str.rstrip()"
   ]
  },
  {
   "cell_type": "code",
   "execution_count": null,
   "metadata": {},
   "outputs": [],
   "source": [
    "old_key['Player']=two_009['Player']"
   ]
  },
  {
   "cell_type": "code",
   "execution_count": null,
   "metadata": {},
   "outputs": [],
   "source": [
    "same_key1=pd.merge(new_key,old_key, on=['Player'], how='inner')"
   ]
  },
  {
   "cell_type": "code",
   "execution_count": null,
   "metadata": {},
   "outputs": [],
   "source": [
    "same_key1.nunique()"
   ]
  },
  {
   "cell_type": "markdown",
   "metadata": {},
   "source": [
    "SAME KEYS FOR 2010 and 2019"
   ]
  },
  {
   "cell_type": "code",
   "execution_count": 43,
   "metadata": {},
   "outputs": [],
   "source": [
    "two_010=pd.read_excel(\"C:/Users/samde/Desktop/Data Science/Datasets/IPL/IPL2010.xls\")"
   ]
  },
  {
   "cell_type": "code",
   "execution_count": 44,
   "metadata": {},
   "outputs": [
    {
     "data": {
      "text/html": [
       "<div>\n",
       "<style scoped>\n",
       "    .dataframe tbody tr th:only-of-type {\n",
       "        vertical-align: middle;\n",
       "    }\n",
       "\n",
       "    .dataframe tbody tr th {\n",
       "        vertical-align: top;\n",
       "    }\n",
       "\n",
       "    .dataframe thead th {\n",
       "        text-align: right;\n",
       "    }\n",
       "</style>\n",
       "<table border=\"1\" class=\"dataframe\">\n",
       "  <thead>\n",
       "    <tr style=\"text-align: right;\">\n",
       "      <th></th>\n",
       "      <th>Sl no</th>\n",
       "      <th>Player Name</th>\n",
       "      <th>Team</th>\n",
       "      <th>From</th>\n",
       "      <th>Runs</th>\n",
       "      <th>Balls</th>\n",
       "      <th>Four</th>\n",
       "      <th>Six</th>\n",
       "      <th>Highest Run Scored</th>\n",
       "      <th>Strike Rate</th>\n",
       "      <th>Balls Bowled</th>\n",
       "      <th>Runs Conceded</th>\n",
       "      <th>Economy</th>\n",
       "      <th>Wickets</th>\n",
       "      <th>ct_st</th>\n",
       "      <th>Run Outs</th>\n",
       "      <th>Matches Played</th>\n",
       "      <th>Age</th>\n",
       "    </tr>\n",
       "  </thead>\n",
       "  <tbody>\n",
       "    <tr>\n",
       "      <th>0</th>\n",
       "      <td>1</td>\n",
       "      <td>A Ahmed</td>\n",
       "      <td>MI</td>\n",
       "      <td>NaN</td>\n",
       "      <td>4</td>\n",
       "      <td>7</td>\n",
       "      <td>0</td>\n",
       "      <td>0</td>\n",
       "      <td>4</td>\n",
       "      <td>57.142857</td>\n",
       "      <td>12</td>\n",
       "      <td>26</td>\n",
       "      <td>13.0</td>\n",
       "      <td>0</td>\n",
       "      <td>0</td>\n",
       "      <td>0.0</td>\n",
       "      <td>1</td>\n",
       "      <td>NaN</td>\n",
       "    </tr>\n",
       "    <tr>\n",
       "      <th>1</th>\n",
       "      <td>2</td>\n",
       "      <td>A Uniyal</td>\n",
       "      <td>RR</td>\n",
       "      <td>IND</td>\n",
       "      <td>4</td>\n",
       "      <td>7</td>\n",
       "      <td>0</td>\n",
       "      <td>0</td>\n",
       "      <td>4</td>\n",
       "      <td>57.142857</td>\n",
       "      <td>36</td>\n",
       "      <td>66</td>\n",
       "      <td>11.0</td>\n",
       "      <td>2</td>\n",
       "      <td>0</td>\n",
       "      <td>1.0</td>\n",
       "      <td>3</td>\n",
       "      <td>28.0</td>\n",
       "    </tr>\n",
       "    <tr>\n",
       "      <th>2</th>\n",
       "      <td>3</td>\n",
       "      <td>Aavishkar Salvi</td>\n",
       "      <td>DD</td>\n",
       "      <td>IND</td>\n",
       "      <td>0</td>\n",
       "      <td>0</td>\n",
       "      <td>0</td>\n",
       "      <td>0</td>\n",
       "      <td>0</td>\n",
       "      <td>NaN</td>\n",
       "      <td>0</td>\n",
       "      <td>0</td>\n",
       "      <td>NaN</td>\n",
       "      <td>0</td>\n",
       "      <td>0</td>\n",
       "      <td>0.0</td>\n",
       "      <td>0</td>\n",
       "      <td>28.0</td>\n",
       "    </tr>\n",
       "    <tr>\n",
       "      <th>3</th>\n",
       "      <td>4</td>\n",
       "      <td>AB de Villiers</td>\n",
       "      <td>DD</td>\n",
       "      <td>SA</td>\n",
       "      <td>111</td>\n",
       "      <td>119</td>\n",
       "      <td>7</td>\n",
       "      <td>0</td>\n",
       "      <td>45</td>\n",
       "      <td>93.277311</td>\n",
       "      <td>0</td>\n",
       "      <td>0</td>\n",
       "      <td>NaN</td>\n",
       "      <td>0</td>\n",
       "      <td>6</td>\n",
       "      <td>2.0</td>\n",
       "      <td>7</td>\n",
       "      <td>26.0</td>\n",
       "    </tr>\n",
       "    <tr>\n",
       "      <th>4</th>\n",
       "      <td>5</td>\n",
       "      <td>Abhimanyu Mithun</td>\n",
       "      <td>RCB</td>\n",
       "      <td>IND</td>\n",
       "      <td>5</td>\n",
       "      <td>4</td>\n",
       "      <td>1</td>\n",
       "      <td>0</td>\n",
       "      <td>5</td>\n",
       "      <td>125.000000</td>\n",
       "      <td>18</td>\n",
       "      <td>39</td>\n",
       "      <td>13.0</td>\n",
       "      <td>1</td>\n",
       "      <td>0</td>\n",
       "      <td>0.0</td>\n",
       "      <td>1</td>\n",
       "      <td>20.0</td>\n",
       "    </tr>\n",
       "  </tbody>\n",
       "</table>\n",
       "</div>"
      ],
      "text/plain": [
       "   Sl no       Player Name Team From  Runs  Balls  Four  Six  \\\n",
       "0      1           A Ahmed   MI  NaN     4      7     0    0   \n",
       "1      2          A Uniyal   RR  IND     4      7     0    0   \n",
       "2      3   Aavishkar Salvi   DD  IND     0      0     0    0   \n",
       "3      4    AB de Villiers   DD   SA   111    119     7    0   \n",
       "4      5  Abhimanyu Mithun  RCB  IND     5      4     1    0   \n",
       "\n",
       "   Highest Run Scored  Strike Rate  Balls Bowled  Runs Conceded  Economy  \\\n",
       "0                   4    57.142857            12             26     13.0   \n",
       "1                   4    57.142857            36             66     11.0   \n",
       "2                   0          NaN             0              0      NaN   \n",
       "3                  45    93.277311             0              0      NaN   \n",
       "4                   5   125.000000            18             39     13.0   \n",
       "\n",
       "   Wickets  ct_st  Run Outs  Matches Played   Age  \n",
       "0        0      0       0.0               1   NaN  \n",
       "1        2      0       1.0               3  28.0  \n",
       "2        0      0       0.0               0  28.0  \n",
       "3        0      6       2.0               7  26.0  \n",
       "4        1      0       0.0               1  20.0  "
      ]
     },
     "execution_count": 44,
     "metadata": {},
     "output_type": "execute_result"
    }
   ],
   "source": [
    "two_010.head()"
   ]
  },
  {
   "cell_type": "code",
   "execution_count": 45,
   "metadata": {},
   "outputs": [],
   "source": [
    "two_010['Player Name']=two_010['Player Name'].str.lstrip()\n",
    "two_010['Player Name']=two_010['Player Name'].str.rstrip()"
   ]
  },
  {
   "cell_type": "code",
   "execution_count": 46,
   "metadata": {},
   "outputs": [],
   "source": [
    "del old_key\n",
    "old_key=pd.DataFrame()"
   ]
  },
  {
   "cell_type": "code",
   "execution_count": 47,
   "metadata": {},
   "outputs": [],
   "source": [
    "old_key['Player']=two_010['Player Name']"
   ]
  },
  {
   "cell_type": "code",
   "execution_count": 48,
   "metadata": {},
   "outputs": [],
   "source": [
    "same_key2=pd.merge(new_key,old_key, on=['Player'], how='inner')"
   ]
  },
  {
   "cell_type": "code",
   "execution_count": 50,
   "metadata": {},
   "outputs": [
    {
     "data": {
      "text/plain": [
       "Player    35\n",
       "dtype: int64"
      ]
     },
     "execution_count": 50,
     "metadata": {},
     "output_type": "execute_result"
    }
   ],
   "source": [
    "same_key2.nunique()"
   ]
  },
  {
   "cell_type": "code",
   "execution_count": 55,
   "metadata": {},
   "outputs": [],
   "source": [
    "two_010[\"Player's Name\"]=two_010['Player Name']\n",
    "two_010.drop(['Player Name'],axis=1,inplace=True)"
   ]
  },
  {
   "cell_type": "code",
   "execution_count": 51,
   "metadata": {},
   "outputs": [],
   "source": [
    "same_key2[\"Player's Name\"]=same_key2['Player']\n",
    "same_key2.drop(['Player'],axis=1,inplace=True)"
   ]
  },
  {
   "cell_type": "code",
   "execution_count": 56,
   "metadata": {},
   "outputs": [],
   "source": [
    "two_010_2=pd.merge(same_key2,two_010,how='left',on=[\"Player's Name\"])"
   ]
  },
  {
   "cell_type": "code",
   "execution_count": 57,
   "metadata": {},
   "outputs": [],
   "source": [
    "two_010_2.to_csv('C:/Users/samde/Desktop/Data Science/Datasets/IPL/IPL(2010-19).csv', index=False)"
   ]
  },
  {
   "cell_type": "markdown",
   "metadata": {},
   "source": [
    "SAME KEYS FOR 2011 and 2019"
   ]
  },
  {
   "cell_type": "code",
   "execution_count": 58,
   "metadata": {},
   "outputs": [],
   "source": [
    "two_011=pd.read_excel(\"C:/Users/samde/Desktop/Data Science/Datasets/IPL/IPL2011.xls\")"
   ]
  },
  {
   "cell_type": "code",
   "execution_count": 59,
   "metadata": {},
   "outputs": [
    {
     "data": {
      "text/html": [
       "<div>\n",
       "<style scoped>\n",
       "    .dataframe tbody tr th:only-of-type {\n",
       "        vertical-align: middle;\n",
       "    }\n",
       "\n",
       "    .dataframe tbody tr th {\n",
       "        vertical-align: top;\n",
       "    }\n",
       "\n",
       "    .dataframe thead th {\n",
       "        text-align: right;\n",
       "    }\n",
       "</style>\n",
       "<table border=\"1\" class=\"dataframe\">\n",
       "  <thead>\n",
       "    <tr style=\"text-align: right;\">\n",
       "      <th></th>\n",
       "      <th>Sl No</th>\n",
       "      <th>Player Name</th>\n",
       "      <th>Team</th>\n",
       "      <th>From</th>\n",
       "      <th>Runs</th>\n",
       "      <th>Balls</th>\n",
       "      <th>Strike Rate</th>\n",
       "      <th>Four</th>\n",
       "      <th>Six</th>\n",
       "      <th>Highest Runs Scored</th>\n",
       "      <th>Balls Bowled</th>\n",
       "      <th>Runs Conceded</th>\n",
       "      <th>Wicket</th>\n",
       "      <th>Economy</th>\n",
       "      <th>ct_st</th>\n",
       "      <th>Run Outs</th>\n",
       "      <th>Matches Played</th>\n",
       "      <th>Age</th>\n",
       "    </tr>\n",
       "  </thead>\n",
       "  <tbody>\n",
       "    <tr>\n",
       "      <th>0</th>\n",
       "      <td>1</td>\n",
       "      <td>A Ahmed</td>\n",
       "      <td>MI</td>\n",
       "      <td>NaN</td>\n",
       "      <td>4.0</td>\n",
       "      <td>7.0</td>\n",
       "      <td>57.142857</td>\n",
       "      <td>0.0</td>\n",
       "      <td>0.0</td>\n",
       "      <td>4</td>\n",
       "      <td>12.0</td>\n",
       "      <td>26.0</td>\n",
       "      <td>0.0</td>\n",
       "      <td>13.0</td>\n",
       "      <td>0</td>\n",
       "      <td>0.0</td>\n",
       "      <td>1</td>\n",
       "      <td>NaN</td>\n",
       "    </tr>\n",
       "    <tr>\n",
       "      <th>1</th>\n",
       "      <td>2</td>\n",
       "      <td>A Uniyal</td>\n",
       "      <td>RR</td>\n",
       "      <td>IND</td>\n",
       "      <td>4.0</td>\n",
       "      <td>7.0</td>\n",
       "      <td>57.142857</td>\n",
       "      <td>0.0</td>\n",
       "      <td>0.0</td>\n",
       "      <td>4</td>\n",
       "      <td>36.0</td>\n",
       "      <td>66.0</td>\n",
       "      <td>2.0</td>\n",
       "      <td>11.0</td>\n",
       "      <td>0</td>\n",
       "      <td>1.0</td>\n",
       "      <td>3</td>\n",
       "      <td>28.0</td>\n",
       "    </tr>\n",
       "    <tr>\n",
       "      <th>2</th>\n",
       "      <td>3</td>\n",
       "      <td>Aavishkar Salvi</td>\n",
       "      <td>DD</td>\n",
       "      <td>IND</td>\n",
       "      <td>0.0</td>\n",
       "      <td>0.0</td>\n",
       "      <td>NaN</td>\n",
       "      <td>0.0</td>\n",
       "      <td>0.0</td>\n",
       "      <td>0</td>\n",
       "      <td>0.0</td>\n",
       "      <td>0.0</td>\n",
       "      <td>0.0</td>\n",
       "      <td>NaN</td>\n",
       "      <td>0</td>\n",
       "      <td>0.0</td>\n",
       "      <td>0</td>\n",
       "      <td>28.0</td>\n",
       "    </tr>\n",
       "    <tr>\n",
       "      <th>3</th>\n",
       "      <td>4</td>\n",
       "      <td>AB de Villiers</td>\n",
       "      <td>DD</td>\n",
       "      <td>SA</td>\n",
       "      <td>111.0</td>\n",
       "      <td>119.0</td>\n",
       "      <td>93.277311</td>\n",
       "      <td>7.0</td>\n",
       "      <td>0.0</td>\n",
       "      <td>45</td>\n",
       "      <td>0.0</td>\n",
       "      <td>0.0</td>\n",
       "      <td>0.0</td>\n",
       "      <td>NaN</td>\n",
       "      <td>6</td>\n",
       "      <td>2.0</td>\n",
       "      <td>7</td>\n",
       "      <td>26.0</td>\n",
       "    </tr>\n",
       "    <tr>\n",
       "      <th>4</th>\n",
       "      <td>5</td>\n",
       "      <td>Abhimanyu Mithun</td>\n",
       "      <td>RCB</td>\n",
       "      <td>IND</td>\n",
       "      <td>5.0</td>\n",
       "      <td>4.0</td>\n",
       "      <td>125.000000</td>\n",
       "      <td>1.0</td>\n",
       "      <td>0.0</td>\n",
       "      <td>5</td>\n",
       "      <td>18.0</td>\n",
       "      <td>39.0</td>\n",
       "      <td>1.0</td>\n",
       "      <td>13.0</td>\n",
       "      <td>0</td>\n",
       "      <td>0.0</td>\n",
       "      <td>1</td>\n",
       "      <td>20.0</td>\n",
       "    </tr>\n",
       "  </tbody>\n",
       "</table>\n",
       "</div>"
      ],
      "text/plain": [
       "   Sl No       Player Name Team From   Runs  Balls   Strike Rate  Four  Six  \\\n",
       "0      1           A Ahmed   MI  NaN    4.0     7.0    57.142857   0.0  0.0   \n",
       "1      2          A Uniyal   RR  IND    4.0     7.0    57.142857   0.0  0.0   \n",
       "2      3   Aavishkar Salvi   DD  IND    0.0     0.0          NaN   0.0  0.0   \n",
       "3      4    AB de Villiers   DD   SA  111.0   119.0    93.277311   7.0  0.0   \n",
       "4      5  Abhimanyu Mithun  RCB  IND    5.0     4.0   125.000000   1.0  0.0   \n",
       "\n",
       "   Highest Runs Scored  Balls Bowled  Runs Conceded  Wicket  Economy  ct_st  \\\n",
       "0                    4          12.0           26.0     0.0     13.0      0   \n",
       "1                    4          36.0           66.0     2.0     11.0      0   \n",
       "2                    0           0.0            0.0     0.0      NaN      0   \n",
       "3                   45           0.0            0.0     0.0      NaN      6   \n",
       "4                    5          18.0           39.0     1.0     13.0      0   \n",
       "\n",
       "   Run Outs  Matches Played   Age  \n",
       "0       0.0               1   NaN  \n",
       "1       1.0               3  28.0  \n",
       "2       0.0               0  28.0  \n",
       "3       2.0               7  26.0  \n",
       "4       0.0               1  20.0  "
      ]
     },
     "execution_count": 59,
     "metadata": {},
     "output_type": "execute_result"
    }
   ],
   "source": [
    "two_011.head()"
   ]
  },
  {
   "cell_type": "code",
   "execution_count": 60,
   "metadata": {},
   "outputs": [],
   "source": [
    "two_011['Player Name']=two_011['Player Name'].str.lstrip()\n",
    "two_011['Player Name']=two_011['Player Name'].str.rstrip()"
   ]
  },
  {
   "cell_type": "code",
   "execution_count": 61,
   "metadata": {},
   "outputs": [],
   "source": [
    "old_key['Player']=two_011['Player Name']"
   ]
  },
  {
   "cell_type": "code",
   "execution_count": 62,
   "metadata": {},
   "outputs": [],
   "source": [
    "same_key3=pd.merge(new_key,old_key, on=['Player'], how='inner')"
   ]
  },
  {
   "cell_type": "code",
   "execution_count": 63,
   "metadata": {},
   "outputs": [
    {
     "data": {
      "text/plain": [
       "Player    34\n",
       "dtype: int64"
      ]
     },
     "execution_count": 63,
     "metadata": {},
     "output_type": "execute_result"
    }
   ],
   "source": [
    "same_key3.nunique()"
   ]
  },
  {
   "cell_type": "code",
   "execution_count": 64,
   "metadata": {},
   "outputs": [],
   "source": [
    "two_011[\"Player's Name\"]=two_011['Player Name']\n",
    "two_011.drop(['Player Name'],axis=1,inplace=True)"
   ]
  },
  {
   "cell_type": "code",
   "execution_count": 65,
   "metadata": {},
   "outputs": [],
   "source": [
    "same_key3[\"Player's Name\"]=same_key3['Player']\n",
    "same_key3.drop(['Player'],axis=1,inplace=True)"
   ]
  },
  {
   "cell_type": "code",
   "execution_count": 66,
   "metadata": {},
   "outputs": [],
   "source": [
    "two_011_2=pd.merge(same_key3,two_011,how='left',on=[\"Player's Name\"])"
   ]
  },
  {
   "cell_type": "code",
   "execution_count": 67,
   "metadata": {},
   "outputs": [
    {
     "data": {
      "text/plain": [
       "(34, 18)"
      ]
     },
     "execution_count": 67,
     "metadata": {},
     "output_type": "execute_result"
    }
   ],
   "source": [
    "two_011_2.shape"
   ]
  },
  {
   "cell_type": "code",
   "execution_count": 68,
   "metadata": {},
   "outputs": [],
   "source": [
    "two_011_2.to_csv('C:/Users/samde/Desktop/Data Science/Datasets/IPL/IPL(2011-19).csv', index=False)"
   ]
  },
  {
   "cell_type": "markdown",
   "metadata": {},
   "source": [
    "SAME KEYS FOR 2012 and 2019"
   ]
  },
  {
   "cell_type": "code",
   "execution_count": 69,
   "metadata": {},
   "outputs": [],
   "source": [
    "two_012=pd.read_excel(\"C:/Users/samde/Desktop/Data Science/Datasets/IPL/IPL2012.xlsx\")"
   ]
  },
  {
   "cell_type": "code",
   "execution_count": 70,
   "metadata": {},
   "outputs": [
    {
     "data": {
      "text/html": [
       "<div>\n",
       "<style scoped>\n",
       "    .dataframe tbody tr th:only-of-type {\n",
       "        vertical-align: middle;\n",
       "    }\n",
       "\n",
       "    .dataframe tbody tr th {\n",
       "        vertical-align: top;\n",
       "    }\n",
       "\n",
       "    .dataframe thead th {\n",
       "        text-align: right;\n",
       "    }\n",
       "</style>\n",
       "<table border=\"1\" class=\"dataframe\">\n",
       "  <thead>\n",
       "    <tr style=\"text-align: right;\">\n",
       "      <th></th>\n",
       "      <th>Sl No</th>\n",
       "      <th>Player's Name</th>\n",
       "      <th>Team</th>\n",
       "      <th>From</th>\n",
       "      <th>Run</th>\n",
       "      <th>Ball</th>\n",
       "      <th>Strike Rate</th>\n",
       "      <th>Four</th>\n",
       "      <th>Six</th>\n",
       "      <th>Balls Bowled</th>\n",
       "      <th>Runs Concede</th>\n",
       "      <th>Economy</th>\n",
       "      <th>Wickets</th>\n",
       "      <th>Ct_St</th>\n",
       "      <th>Matches Played</th>\n",
       "      <th>Age</th>\n",
       "    </tr>\n",
       "  </thead>\n",
       "  <tbody>\n",
       "    <tr>\n",
       "      <th>0</th>\n",
       "      <td>1</td>\n",
       "      <td>A Chandila</td>\n",
       "      <td>RR</td>\n",
       "      <td>IND</td>\n",
       "      <td>0</td>\n",
       "      <td>1</td>\n",
       "      <td>0</td>\n",
       "      <td>0</td>\n",
       "      <td>0</td>\n",
       "      <td>84</td>\n",
       "      <td>86</td>\n",
       "      <td>6.14286</td>\n",
       "      <td>5</td>\n",
       "      <td>3</td>\n",
       "      <td>4</td>\n",
       "      <td>28</td>\n",
       "    </tr>\n",
       "    <tr>\n",
       "      <th>1</th>\n",
       "      <td>2</td>\n",
       "      <td>Aakash Chopra</td>\n",
       "      <td>RR</td>\n",
       "      <td>IND</td>\n",
       "      <td>0</td>\n",
       "      <td>0</td>\n",
       "      <td>-</td>\n",
       "      <td>0</td>\n",
       "      <td>0</td>\n",
       "      <td>0</td>\n",
       "      <td>0</td>\n",
       "      <td>-</td>\n",
       "      <td>0</td>\n",
       "      <td>0</td>\n",
       "      <td>0</td>\n",
       "      <td>34</td>\n",
       "    </tr>\n",
       "    <tr>\n",
       "      <th>2</th>\n",
       "      <td>3</td>\n",
       "      <td>Aaron Finch</td>\n",
       "      <td>DD</td>\n",
       "      <td>AUS</td>\n",
       "      <td>55</td>\n",
       "      <td>51</td>\n",
       "      <td>107.843</td>\n",
       "      <td>8</td>\n",
       "      <td>0</td>\n",
       "      <td>0</td>\n",
       "      <td>0</td>\n",
       "      <td>-</td>\n",
       "      <td>0</td>\n",
       "      <td>0</td>\n",
       "      <td>2</td>\n",
       "      <td>25</td>\n",
       "    </tr>\n",
       "    <tr>\n",
       "      <th>3</th>\n",
       "      <td>4</td>\n",
       "      <td>Aavishkar Salvi</td>\n",
       "      <td>DD</td>\n",
       "      <td>IND</td>\n",
       "      <td>0</td>\n",
       "      <td>0</td>\n",
       "      <td>-</td>\n",
       "      <td>0</td>\n",
       "      <td>0</td>\n",
       "      <td>0</td>\n",
       "      <td>0</td>\n",
       "      <td>-</td>\n",
       "      <td>0</td>\n",
       "      <td>0</td>\n",
       "      <td>0</td>\n",
       "      <td>30</td>\n",
       "    </tr>\n",
       "    <tr>\n",
       "      <th>4</th>\n",
       "      <td>5</td>\n",
       "      <td>AB de Villiers</td>\n",
       "      <td>RCB</td>\n",
       "      <td>SA</td>\n",
       "      <td>317</td>\n",
       "      <td>198</td>\n",
       "      <td>160.101</td>\n",
       "      <td>26</td>\n",
       "      <td>15</td>\n",
       "      <td>0</td>\n",
       "      <td>0</td>\n",
       "      <td>-</td>\n",
       "      <td>0</td>\n",
       "      <td>9</td>\n",
       "      <td>15</td>\n",
       "      <td>28</td>\n",
       "    </tr>\n",
       "  </tbody>\n",
       "</table>\n",
       "</div>"
      ],
      "text/plain": [
       "   Sl No    Player's Name Team From  Run  Ball Strike Rate  Four  Six  \\\n",
       "0      1       A Chandila   RR  IND    0     1           0     0    0   \n",
       "1      2    Aakash Chopra   RR  IND    0     0           -     0    0   \n",
       "2      3      Aaron Finch   DD  AUS   55    51     107.843     8    0   \n",
       "3      4  Aavishkar Salvi   DD  IND    0     0           -     0    0   \n",
       "4      5   AB de Villiers  RCB   SA  317   198     160.101    26   15   \n",
       "\n",
       "   Balls Bowled  Runs Concede  Economy  Wickets  Ct_St  Matches Played  Age  \n",
       "0            84            86  6.14286        5      3               4   28  \n",
       "1             0             0        -        0      0               0   34  \n",
       "2             0             0        -        0      0               2   25  \n",
       "3             0             0        -        0      0               0   30  \n",
       "4             0             0        -        0      9              15   28  "
      ]
     },
     "execution_count": 70,
     "metadata": {},
     "output_type": "execute_result"
    }
   ],
   "source": [
    "two_012.head()"
   ]
  },
  {
   "cell_type": "code",
   "execution_count": 71,
   "metadata": {},
   "outputs": [],
   "source": [
    "two_012[\"Player's Name\"]=two_012[\"Player's Name\"].str.lstrip()\n",
    "two_012[\"Player's Name\"]=two_012[\"Player's Name\"].str.rstrip()"
   ]
  },
  {
   "cell_type": "code",
   "execution_count": 72,
   "metadata": {},
   "outputs": [],
   "source": [
    "old_key['Player']=two_012[\"Player's Name\"]"
   ]
  },
  {
   "cell_type": "code",
   "execution_count": 75,
   "metadata": {},
   "outputs": [],
   "source": [
    "same_key_3=pd.merge(new_key,old_key, on=['Player'], how='inner')"
   ]
  },
  {
   "cell_type": "code",
   "execution_count": 76,
   "metadata": {},
   "outputs": [
    {
     "data": {
      "text/plain": [
       "Player    37\n",
       "dtype: int64"
      ]
     },
     "execution_count": 76,
     "metadata": {},
     "output_type": "execute_result"
    }
   ],
   "source": [
    "same_key_3.nunique()"
   ]
  },
  {
   "cell_type": "code",
   "execution_count": 78,
   "metadata": {},
   "outputs": [],
   "source": [
    "same_key_3[\"Player's Name\"]=same_key_3['Player']\n",
    "same_key_3.drop(['Player'],axis=1,inplace=True)"
   ]
  },
  {
   "cell_type": "code",
   "execution_count": 80,
   "metadata": {},
   "outputs": [],
   "source": [
    "two_012_2=pd.merge(same_key_3,two_012,how='left',on=[\"Player's Name\"])"
   ]
  },
  {
   "cell_type": "code",
   "execution_count": 81,
   "metadata": {},
   "outputs": [
    {
     "data": {
      "text/plain": [
       "(37, 16)"
      ]
     },
     "execution_count": 81,
     "metadata": {},
     "output_type": "execute_result"
    }
   ],
   "source": [
    "two_012_2.shape"
   ]
  },
  {
   "cell_type": "code",
   "execution_count": 82,
   "metadata": {},
   "outputs": [],
   "source": [
    "two_012_2.to_csv('C:/Users/samde/Desktop/Data Science/Datasets/IPL/IPL(2012-19).csv', index=False)"
   ]
  },
  {
   "cell_type": "markdown",
   "metadata": {},
   "source": [
    "SAME KEYS FOR 2013 and 2019"
   ]
  },
  {
   "cell_type": "code",
   "execution_count": 9,
   "metadata": {},
   "outputs": [],
   "source": [
    "two_013=pd.read_csv(\"C:/Users/samde/Desktop/Data Science/Datasets/IPL/IPL2013.csv\")"
   ]
  },
  {
   "cell_type": "code",
   "execution_count": 10,
   "metadata": {},
   "outputs": [
    {
     "data": {
      "text/html": [
       "<div>\n",
       "<style scoped>\n",
       "    .dataframe tbody tr th:only-of-type {\n",
       "        vertical-align: middle;\n",
       "    }\n",
       "\n",
       "    .dataframe tbody tr th {\n",
       "        vertical-align: top;\n",
       "    }\n",
       "\n",
       "    .dataframe thead th {\n",
       "        text-align: right;\n",
       "    }\n",
       "</style>\n",
       "<table border=\"1\" class=\"dataframe\">\n",
       "  <thead>\n",
       "    <tr style=\"text-align: right;\">\n",
       "      <th></th>\n",
       "      <th>Sl.No</th>\n",
       "      <th>Player's Name</th>\n",
       "      <th>Team</th>\n",
       "      <th>From</th>\n",
       "      <th>Run</th>\n",
       "      <th>Ball</th>\n",
       "      <th>Strike Rate</th>\n",
       "      <th>Four</th>\n",
       "      <th>Six</th>\n",
       "      <th>Highest Run Scored</th>\n",
       "      <th>BallsBowled</th>\n",
       "      <th>RunsConceded</th>\n",
       "      <th>Economy</th>\n",
       "      <th>Wickets</th>\n",
       "      <th>Ct_St</th>\n",
       "      <th>Run Outs</th>\n",
       "      <th>Matches Played</th>\n",
       "      <th>Age</th>\n",
       "    </tr>\n",
       "  </thead>\n",
       "  <tbody>\n",
       "    <tr>\n",
       "      <th>0</th>\n",
       "      <td>1</td>\n",
       "      <td>Aaron Finch</td>\n",
       "      <td>PWI</td>\n",
       "      <td>IND</td>\n",
       "      <td>456</td>\n",
       "      <td>336</td>\n",
       "      <td>135.7</td>\n",
       "      <td>54</td>\n",
       "      <td>16</td>\n",
       "      <td>67</td>\n",
       "      <td>24</td>\n",
       "      <td>49</td>\n",
       "      <td>12.3</td>\n",
       "      <td>1</td>\n",
       "      <td>2</td>\n",
       "      <td>0.0</td>\n",
       "      <td>14</td>\n",
       "      <td>26.0</td>\n",
       "    </tr>\n",
       "    <tr>\n",
       "      <th>1</th>\n",
       "      <td>2</td>\n",
       "      <td>AB de Villiers</td>\n",
       "      <td>BRC</td>\n",
       "      <td>SA</td>\n",
       "      <td>360</td>\n",
       "      <td>219</td>\n",
       "      <td>164.4</td>\n",
       "      <td>34</td>\n",
       "      <td>15</td>\n",
       "      <td>64</td>\n",
       "      <td>0</td>\n",
       "      <td>0</td>\n",
       "      <td>-</td>\n",
       "      <td>0</td>\n",
       "      <td>8</td>\n",
       "      <td>1.0</td>\n",
       "      <td>14</td>\n",
       "      <td>29.0</td>\n",
       "    </tr>\n",
       "    <tr>\n",
       "      <th>2</th>\n",
       "      <td>3</td>\n",
       "      <td>Abhimanyu Mithun</td>\n",
       "      <td>BRC</td>\n",
       "      <td>IND</td>\n",
       "      <td>2</td>\n",
       "      <td>2</td>\n",
       "      <td>100</td>\n",
       "      <td>0</td>\n",
       "      <td>0</td>\n",
       "      <td>2</td>\n",
       "      <td>24</td>\n",
       "      <td>37</td>\n",
       "      <td>9.3</td>\n",
       "      <td>1</td>\n",
       "      <td>0</td>\n",
       "      <td>0.0</td>\n",
       "      <td>1</td>\n",
       "      <td>23.0</td>\n",
       "    </tr>\n",
       "    <tr>\n",
       "      <th>3</th>\n",
       "      <td>4</td>\n",
       "      <td>Abhinav Mukund</td>\n",
       "      <td>BRC</td>\n",
       "      <td>IND</td>\n",
       "      <td>19</td>\n",
       "      <td>21</td>\n",
       "      <td>90.5</td>\n",
       "      <td>1</td>\n",
       "      <td>0</td>\n",
       "      <td>19</td>\n",
       "      <td>0</td>\n",
       "      <td>0</td>\n",
       "      <td>-</td>\n",
       "      <td>0</td>\n",
       "      <td>0</td>\n",
       "      <td>0.0</td>\n",
       "      <td>1</td>\n",
       "      <td>23.0</td>\n",
       "    </tr>\n",
       "    <tr>\n",
       "      <th>4</th>\n",
       "      <td>5</td>\n",
       "      <td>Abhishek Nayar</td>\n",
       "      <td>PWI</td>\n",
       "      <td>IND</td>\n",
       "      <td>66</td>\n",
       "      <td>73</td>\n",
       "      <td>90.4</td>\n",
       "      <td>5</td>\n",
       "      <td>0</td>\n",
       "      <td>25</td>\n",
       "      <td>48</td>\n",
       "      <td>59</td>\n",
       "      <td>7.4</td>\n",
       "      <td>2</td>\n",
       "      <td>1</td>\n",
       "      <td>0.5</td>\n",
       "      <td>11</td>\n",
       "      <td>29.0</td>\n",
       "    </tr>\n",
       "  </tbody>\n",
       "</table>\n",
       "</div>"
      ],
      "text/plain": [
       "   Sl.No     Player's Name Team From  Run  Ball Strike Rate  Four  Six  \\\n",
       "0      1       Aaron Finch  PWI  IND  456   336       135.7    54   16   \n",
       "1      2    AB de Villiers  BRC   SA  360   219       164.4    34   15   \n",
       "2      3  Abhimanyu Mithun  BRC  IND    2     2         100     0    0   \n",
       "3      4    Abhinav Mukund  BRC  IND   19    21        90.5     1    0   \n",
       "4      5    Abhishek Nayar  PWI  IND   66    73        90.4     5    0   \n",
       "\n",
       "   Highest Run Scored  BallsBowled  RunsConceded Economy  Wickets  Ct_St  \\\n",
       "0                  67           24            49    12.3        1      2   \n",
       "1                  64            0             0       -        0      8   \n",
       "2                   2           24            37     9.3        1      0   \n",
       "3                  19            0             0       -        0      0   \n",
       "4                  25           48            59     7.4        2      1   \n",
       "\n",
       "   Run Outs  Matches Played   Age  \n",
       "0       0.0              14  26.0  \n",
       "1       1.0              14  29.0  \n",
       "2       0.0               1  23.0  \n",
       "3       0.0               1  23.0  \n",
       "4       0.5              11  29.0  "
      ]
     },
     "execution_count": 10,
     "metadata": {},
     "output_type": "execute_result"
    }
   ],
   "source": [
    "two_013.head()"
   ]
  },
  {
   "cell_type": "code",
   "execution_count": 11,
   "metadata": {},
   "outputs": [],
   "source": [
    "two_013[\"Player's Name\"]=two_013[\"Player's Name\"].str.lstrip()\n",
    "two_013[\"Player's Name\"]=two_013[\"Player's Name\"].str.rstrip()"
   ]
  },
  {
   "cell_type": "code",
   "execution_count": 14,
   "metadata": {},
   "outputs": [],
   "source": [
    "del old_key\n",
    "old_key=pd.DataFrame()"
   ]
  },
  {
   "cell_type": "code",
   "execution_count": 15,
   "metadata": {},
   "outputs": [],
   "source": [
    "old_key['Player']=two_013[\"Player's Name\"]"
   ]
  },
  {
   "cell_type": "code",
   "execution_count": 16,
   "metadata": {},
   "outputs": [],
   "source": [
    "same_key4=pd.merge(new_key,old_key, on=['Player'], how='inner')"
   ]
  },
  {
   "cell_type": "code",
   "execution_count": 17,
   "metadata": {},
   "outputs": [
    {
     "data": {
      "text/plain": [
       "Player    65\n",
       "dtype: int64"
      ]
     },
     "execution_count": 17,
     "metadata": {},
     "output_type": "execute_result"
    }
   ],
   "source": [
    "same_key4.nunique()"
   ]
  },
  {
   "cell_type": "code",
   "execution_count": 20,
   "metadata": {},
   "outputs": [],
   "source": [
    "same_key4[\"Player's Name\"]=same_key4['Player']\n",
    "same_key4.drop(['Player'],axis=1,inplace=True)"
   ]
  },
  {
   "cell_type": "code",
   "execution_count": 21,
   "metadata": {},
   "outputs": [],
   "source": [
    "two_013_2=pd.merge(same_key4,two_013,how='left',on=[\"Player's Name\"])"
   ]
  },
  {
   "cell_type": "code",
   "execution_count": 23,
   "metadata": {},
   "outputs": [],
   "source": [
    "two_013_2.to_csv('C:/Users/samde/Desktop/Data Science/Datasets/IPL/IPL(2013-19).csv', index=False)"
   ]
  },
  {
   "cell_type": "markdown",
   "metadata": {},
   "source": [
    "SAME KEYS FOR 2014 and 2019"
   ]
  },
  {
   "cell_type": "code",
   "execution_count": null,
   "metadata": {},
   "outputs": [],
   "source": [
    "two_014=pd.read_excel(\"C:/Users/samde/Desktop/Data Science/Datasets/IPL/IPL2014.xlsx\")"
   ]
  },
  {
   "cell_type": "code",
   "execution_count": null,
   "metadata": {},
   "outputs": [],
   "source": [
    "two_014.head()"
   ]
  },
  {
   "cell_type": "code",
   "execution_count": null,
   "metadata": {},
   "outputs": [],
   "source": [
    "two_014[\"Player's Name\"]=two_014[\"Player's Name\"].str.lstrip()\n",
    "two_014[\"Player's Name\"]=two_014[\"Player's Name\"].str.rstrip()"
   ]
  },
  {
   "cell_type": "code",
   "execution_count": null,
   "metadata": {},
   "outputs": [],
   "source": [
    "old_key['Player']=two_014[\"Player's Name\"]"
   ]
  },
  {
   "cell_type": "code",
   "execution_count": null,
   "metadata": {},
   "outputs": [],
   "source": [
    "same_key5=pd.merge(new_key,old_key, on=['Player'], how='inner')"
   ]
  },
  {
   "cell_type": "code",
   "execution_count": null,
   "metadata": {},
   "outputs": [],
   "source": [
    "same_key5.nunique()"
   ]
  },
  {
   "cell_type": "markdown",
   "metadata": {},
   "source": [
    "SAME KEYS FOR 2015 and 2019"
   ]
  },
  {
   "cell_type": "code",
   "execution_count": 205,
   "metadata": {},
   "outputs": [],
   "source": [
    "two_015=pd.read_csv(\"C:/Users/samde/Desktop/Data Science/Datasets/IPL/IPL2015.csv\")"
   ]
  },
  {
   "cell_type": "code",
   "execution_count": 206,
   "metadata": {},
   "outputs": [
    {
     "data": {
      "text/html": [
       "<div>\n",
       "<style scoped>\n",
       "    .dataframe tbody tr th:only-of-type {\n",
       "        vertical-align: middle;\n",
       "    }\n",
       "\n",
       "    .dataframe tbody tr th {\n",
       "        vertical-align: top;\n",
       "    }\n",
       "\n",
       "    .dataframe thead th {\n",
       "        text-align: right;\n",
       "    }\n",
       "</style>\n",
       "<table border=\"1\" class=\"dataframe\">\n",
       "  <thead>\n",
       "    <tr style=\"text-align: right;\">\n",
       "      <th></th>\n",
       "      <th>Sl.No</th>\n",
       "      <th>Player's Name</th>\n",
       "      <th>Team</th>\n",
       "      <th>From</th>\n",
       "      <th>Run</th>\n",
       "      <th>Ball</th>\n",
       "      <th>Strike Rate</th>\n",
       "      <th>Four</th>\n",
       "      <th>Six</th>\n",
       "      <th>Highest Run Scored</th>\n",
       "      <th>Balls Bowled</th>\n",
       "      <th>Runs Conceded</th>\n",
       "      <th>Economy</th>\n",
       "      <th>Wickets</th>\n",
       "      <th>Ct_St</th>\n",
       "      <th>Run Outs</th>\n",
       "      <th>Matches Played</th>\n",
       "    </tr>\n",
       "  </thead>\n",
       "  <tbody>\n",
       "    <tr>\n",
       "      <th>0</th>\n",
       "      <td>1</td>\n",
       "      <td>Aaron Finch</td>\n",
       "      <td>MI</td>\n",
       "      <td>AUS</td>\n",
       "      <td>23</td>\n",
       "      <td>33</td>\n",
       "      <td>69.7</td>\n",
       "      <td>4</td>\n",
       "      <td>0</td>\n",
       "      <td>10</td>\n",
       "      <td>0</td>\n",
       "      <td>0</td>\n",
       "      <td>-</td>\n",
       "      <td>0</td>\n",
       "      <td>0</td>\n",
       "      <td>0.0</td>\n",
       "      <td>3</td>\n",
       "    </tr>\n",
       "    <tr>\n",
       "      <th>1</th>\n",
       "      <td>2</td>\n",
       "      <td>AB de Villiers</td>\n",
       "      <td>RCB</td>\n",
       "      <td>SA</td>\n",
       "      <td>513</td>\n",
       "      <td>293</td>\n",
       "      <td>175.1</td>\n",
       "      <td>60</td>\n",
       "      <td>22</td>\n",
       "      <td>133</td>\n",
       "      <td>0</td>\n",
       "      <td>0</td>\n",
       "      <td>-</td>\n",
       "      <td>0</td>\n",
       "      <td>8</td>\n",
       "      <td>1.0</td>\n",
       "      <td>16</td>\n",
       "    </tr>\n",
       "    <tr>\n",
       "      <th>2</th>\n",
       "      <td>3</td>\n",
       "      <td>Abu Nechim</td>\n",
       "      <td>RCB</td>\n",
       "      <td>IND</td>\n",
       "      <td>10</td>\n",
       "      <td>5</td>\n",
       "      <td>200</td>\n",
       "      <td>2</td>\n",
       "      <td>0</td>\n",
       "      <td>5</td>\n",
       "      <td>72</td>\n",
       "      <td>128</td>\n",
       "      <td>10.7</td>\n",
       "      <td>1</td>\n",
       "      <td>0</td>\n",
       "      <td>0.5</td>\n",
       "      <td>3</td>\n",
       "    </tr>\n",
       "    <tr>\n",
       "      <th>3</th>\n",
       "      <td>4</td>\n",
       "      <td>Aditya Tare</td>\n",
       "      <td>MI</td>\n",
       "      <td>IND</td>\n",
       "      <td>14</td>\n",
       "      <td>17</td>\n",
       "      <td>82.4</td>\n",
       "      <td>1</td>\n",
       "      <td>0</td>\n",
       "      <td>7</td>\n",
       "      <td>0</td>\n",
       "      <td>0</td>\n",
       "      <td>-</td>\n",
       "      <td>0</td>\n",
       "      <td>1</td>\n",
       "      <td>0.0</td>\n",
       "      <td>2</td>\n",
       "    </tr>\n",
       "    <tr>\n",
       "      <th>4</th>\n",
       "      <td>5</td>\n",
       "      <td>Ajinkya Rahane</td>\n",
       "      <td>RR</td>\n",
       "      <td>IND</td>\n",
       "      <td>540</td>\n",
       "      <td>413</td>\n",
       "      <td>130.8</td>\n",
       "      <td>53</td>\n",
       "      <td>13</td>\n",
       "      <td>91</td>\n",
       "      <td>0</td>\n",
       "      <td>0</td>\n",
       "      <td>-</td>\n",
       "      <td>0</td>\n",
       "      <td>3</td>\n",
       "      <td>1.5</td>\n",
       "      <td>14</td>\n",
       "    </tr>\n",
       "  </tbody>\n",
       "</table>\n",
       "</div>"
      ],
      "text/plain": [
       "   Sl.No   Player's Name Team From  Run  Ball Strike Rate  Four  Six  \\\n",
       "0      1     Aaron Finch   MI  AUS   23    33        69.7     4    0   \n",
       "1      2  AB de Villiers  RCB   SA  513   293       175.1    60   22   \n",
       "2      3      Abu Nechim  RCB  IND   10     5         200     2    0   \n",
       "3      4    Aditya Tare    MI  IND   14    17        82.4     1    0   \n",
       "4      5  Ajinkya Rahane   RR  IND  540   413       130.8    53   13   \n",
       "\n",
       "   Highest Run Scored  Balls Bowled  Runs Conceded Economy  Wickets  Ct_St  \\\n",
       "0                  10             0              0       -        0      0   \n",
       "1                 133             0              0       -        0      8   \n",
       "2                   5            72            128    10.7        1      0   \n",
       "3                   7             0              0       -        0      1   \n",
       "4                  91             0              0       -        0      3   \n",
       "\n",
       "   Run Outs  Matches Played  \n",
       "0       0.0               3  \n",
       "1       1.0              16  \n",
       "2       0.5               3  \n",
       "3       0.0               2  \n",
       "4       1.5              14  "
      ]
     },
     "execution_count": 206,
     "metadata": {},
     "output_type": "execute_result"
    }
   ],
   "source": [
    "two_015.head()"
   ]
  },
  {
   "cell_type": "code",
   "execution_count": 207,
   "metadata": {},
   "outputs": [],
   "source": [
    "two_015[\"Player's Name\"]=two_015[\"Player's Name\"].str.lstrip()\n",
    "two_015[\"Player's Name\"]=two_015[\"Player's Name\"].str.rstrip()"
   ]
  },
  {
   "cell_type": "code",
   "execution_count": 209,
   "metadata": {},
   "outputs": [],
   "source": [
    "del old_key\n",
    "old_key=pd.DataFrame()"
   ]
  },
  {
   "cell_type": "code",
   "execution_count": 210,
   "metadata": {},
   "outputs": [],
   "source": [
    "old_key['Player']=two_015[\"Player's Name\"]"
   ]
  },
  {
   "cell_type": "code",
   "execution_count": 211,
   "metadata": {},
   "outputs": [],
   "source": [
    "same_key6=pd.merge(new_key,old_key, on=['Player'], how='inner')"
   ]
  },
  {
   "cell_type": "code",
   "execution_count": 212,
   "metadata": {},
   "outputs": [],
   "source": [
    "same_key6[\"Player's Name\"]=same_key6['Player']"
   ]
  },
  {
   "cell_type": "code",
   "execution_count": 213,
   "metadata": {},
   "outputs": [],
   "source": [
    "same_key6.drop(['Player'],axis=1,inplace=True)"
   ]
  },
  {
   "cell_type": "code",
   "execution_count": 215,
   "metadata": {},
   "outputs": [
    {
     "data": {
      "text/plain": [
       "(73, 1)"
      ]
     },
     "execution_count": 215,
     "metadata": {},
     "output_type": "execute_result"
    }
   ],
   "source": [
    "same_key6.shape"
   ]
  },
  {
   "cell_type": "code",
   "execution_count": 216,
   "metadata": {},
   "outputs": [],
   "source": [
    "two_015_2=pd.merge(same_key6,two_015,how='left',on=[\"Player's Name\"])"
   ]
  },
  {
   "cell_type": "code",
   "execution_count": 218,
   "metadata": {},
   "outputs": [
    {
     "data": {
      "text/plain": [
       "(73, 17)"
      ]
     },
     "execution_count": 218,
     "metadata": {},
     "output_type": "execute_result"
    }
   ],
   "source": [
    "two_015_2.shape"
   ]
  },
  {
   "cell_type": "code",
   "execution_count": 219,
   "metadata": {},
   "outputs": [],
   "source": [
    "two_015_2.to_csv('C:/Users/samde/Desktop/Data Science/Datasets/IPL/IPL(2015-19).csv', index=False)"
   ]
  },
  {
   "cell_type": "markdown",
   "metadata": {},
   "source": [
    "SAME KEYS FOR 2016 and 2019"
   ]
  },
  {
   "cell_type": "code",
   "execution_count": 192,
   "metadata": {},
   "outputs": [],
   "source": [
    "two_016=pd.read_csv(\"C:/Users/samde/Desktop/Data Science/Datasets/IPL/IPL2016.csv\")"
   ]
  },
  {
   "cell_type": "code",
   "execution_count": 193,
   "metadata": {},
   "outputs": [
    {
     "data": {
      "text/html": [
       "<div>\n",
       "<style scoped>\n",
       "    .dataframe tbody tr th:only-of-type {\n",
       "        vertical-align: middle;\n",
       "    }\n",
       "\n",
       "    .dataframe tbody tr th {\n",
       "        vertical-align: top;\n",
       "    }\n",
       "\n",
       "    .dataframe thead th {\n",
       "        text-align: right;\n",
       "    }\n",
       "</style>\n",
       "<table border=\"1\" class=\"dataframe\">\n",
       "  <thead>\n",
       "    <tr style=\"text-align: right;\">\n",
       "      <th></th>\n",
       "      <th>Sl.no</th>\n",
       "      <th>Player's Name</th>\n",
       "      <th>Team</th>\n",
       "      <th>From</th>\n",
       "      <th>Run</th>\n",
       "      <th>Ball</th>\n",
       "      <th>Strike Rate</th>\n",
       "      <th>Four</th>\n",
       "      <th>Six</th>\n",
       "      <th>Highest Run Scored</th>\n",
       "      <th>Balls Bowled</th>\n",
       "      <th>Runs Conceded</th>\n",
       "      <th>Economy</th>\n",
       "      <th>Wickets</th>\n",
       "      <th>Ct_St</th>\n",
       "      <th>Run Outs</th>\n",
       "      <th>Matches Played</th>\n",
       "      <th>Age</th>\n",
       "    </tr>\n",
       "  </thead>\n",
       "  <tbody>\n",
       "    <tr>\n",
       "      <th>0</th>\n",
       "      <td>1</td>\n",
       "      <td>Aaron Finch</td>\n",
       "      <td>GL</td>\n",
       "      <td>AUS</td>\n",
       "      <td>393</td>\n",
       "      <td>299</td>\n",
       "      <td>131.4</td>\n",
       "      <td>45</td>\n",
       "      <td>11</td>\n",
       "      <td>74</td>\n",
       "      <td>0</td>\n",
       "      <td>0</td>\n",
       "      <td>-</td>\n",
       "      <td>0</td>\n",
       "      <td>3.0</td>\n",
       "      <td>0.0</td>\n",
       "      <td>13</td>\n",
       "      <td>29</td>\n",
       "    </tr>\n",
       "    <tr>\n",
       "      <th>1</th>\n",
       "      <td>2</td>\n",
       "      <td>AB de Villiers</td>\n",
       "      <td>RCB</td>\n",
       "      <td>SA</td>\n",
       "      <td>687</td>\n",
       "      <td>407</td>\n",
       "      <td>168.8</td>\n",
       "      <td>57</td>\n",
       "      <td>37</td>\n",
       "      <td>129</td>\n",
       "      <td>0</td>\n",
       "      <td>0</td>\n",
       "      <td>-</td>\n",
       "      <td>0</td>\n",
       "      <td>19.0</td>\n",
       "      <td>0.0</td>\n",
       "      <td>16</td>\n",
       "      <td>32</td>\n",
       "    </tr>\n",
       "    <tr>\n",
       "      <th>2</th>\n",
       "      <td>3</td>\n",
       "      <td>Abhimanyu Mithun</td>\n",
       "      <td>SH</td>\n",
       "      <td>IND</td>\n",
       "      <td>0</td>\n",
       "      <td>0</td>\n",
       "      <td>-</td>\n",
       "      <td>0</td>\n",
       "      <td>0</td>\n",
       "      <td>0</td>\n",
       "      <td>0</td>\n",
       "      <td>0</td>\n",
       "      <td>-</td>\n",
       "      <td>0</td>\n",
       "      <td>0.0</td>\n",
       "      <td>0.0</td>\n",
       "      <td>0</td>\n",
       "      <td>26</td>\n",
       "    </tr>\n",
       "    <tr>\n",
       "      <th>3</th>\n",
       "      <td>4</td>\n",
       "      <td>Abu Nechim</td>\n",
       "      <td>RCB</td>\n",
       "      <td>IND</td>\n",
       "      <td>0</td>\n",
       "      <td>0</td>\n",
       "      <td>-</td>\n",
       "      <td>0</td>\n",
       "      <td>0</td>\n",
       "      <td>0</td>\n",
       "      <td>0</td>\n",
       "      <td>0</td>\n",
       "      <td>-</td>\n",
       "      <td>0</td>\n",
       "      <td>0.0</td>\n",
       "      <td>0.0</td>\n",
       "      <td>0</td>\n",
       "      <td>27</td>\n",
       "    </tr>\n",
       "    <tr>\n",
       "      <th>4</th>\n",
       "      <td>5</td>\n",
       "      <td>Adam Milne</td>\n",
       "      <td>RCB</td>\n",
       "      <td>NZ</td>\n",
       "      <td>0</td>\n",
       "      <td>0</td>\n",
       "      <td>-</td>\n",
       "      <td>0</td>\n",
       "      <td>0</td>\n",
       "      <td>0</td>\n",
       "      <td>24</td>\n",
       "      <td>43</td>\n",
       "      <td>10.8</td>\n",
       "      <td>1</td>\n",
       "      <td>1.0</td>\n",
       "      <td>0.0</td>\n",
       "      <td>1</td>\n",
       "      <td>24</td>\n",
       "    </tr>\n",
       "  </tbody>\n",
       "</table>\n",
       "</div>"
      ],
      "text/plain": [
       "   Sl.no     Player's Name Team From  Run  Ball Strike Rate  Four  Six  \\\n",
       "0      1       Aaron Finch   GL  AUS  393   299       131.4    45   11   \n",
       "1      2    AB de Villiers  RCB   SA  687   407       168.8    57   37   \n",
       "2      3  Abhimanyu Mithun   SH  IND    0     0           -     0    0   \n",
       "3      4        Abu Nechim  RCB  IND    0     0           -     0    0   \n",
       "4      5        Adam Milne  RCB   NZ    0     0           -     0    0   \n",
       "\n",
       "   Highest Run Scored  Balls Bowled  Runs Conceded Economy  Wickets  Ct_St  \\\n",
       "0                  74             0              0       -        0    3.0   \n",
       "1                 129             0              0       -        0   19.0   \n",
       "2                   0             0              0       -        0    0.0   \n",
       "3                   0             0              0       -        0    0.0   \n",
       "4                   0            24             43    10.8        1    1.0   \n",
       "\n",
       "   Run Outs  Matches Played  Age  \n",
       "0       0.0              13   29  \n",
       "1       0.0              16   32  \n",
       "2       0.0               0   26  \n",
       "3       0.0               0   27  \n",
       "4       0.0               1   24  "
      ]
     },
     "execution_count": 193,
     "metadata": {},
     "output_type": "execute_result"
    }
   ],
   "source": [
    "two_016.head()"
   ]
  },
  {
   "cell_type": "code",
   "execution_count": 194,
   "metadata": {},
   "outputs": [],
   "source": [
    "two_016[\"Player's Name\"]=two_016[\"Player's Name\"].str.lstrip()\n",
    "two_016[\"Player's Name\"]=two_016[\"Player's Name\"].str.rstrip()"
   ]
  },
  {
   "cell_type": "code",
   "execution_count": 195,
   "metadata": {},
   "outputs": [],
   "source": [
    "del old_key\n",
    "old_key=pd.DataFrame()"
   ]
  },
  {
   "cell_type": "code",
   "execution_count": 196,
   "metadata": {},
   "outputs": [],
   "source": [
    "old_key['Player']=two_016[\"Player's Name\"]"
   ]
  },
  {
   "cell_type": "code",
   "execution_count": 197,
   "metadata": {},
   "outputs": [],
   "source": [
    "same_key7=pd.merge(new_key,old_key, on=['Player'], how='inner')"
   ]
  },
  {
   "cell_type": "code",
   "execution_count": 198,
   "metadata": {},
   "outputs": [
    {
     "data": {
      "text/plain": [
       "Player    98\n",
       "dtype: int64"
      ]
     },
     "execution_count": 198,
     "metadata": {},
     "output_type": "execute_result"
    }
   ],
   "source": [
    "same_key7.nunique()"
   ]
  },
  {
   "cell_type": "code",
   "execution_count": 199,
   "metadata": {},
   "outputs": [],
   "source": [
    "same_key7[\"Player's Name\"]=same_key7['Player']\n",
    "same_key7.drop(['Player'],axis=1,inplace=True)\n",
    "two_016_2=pd.merge(same_key7,two_016,how='left',on=[\"Player's Name\"])"
   ]
  },
  {
   "cell_type": "code",
   "execution_count": 200,
   "metadata": {},
   "outputs": [
    {
     "data": {
      "text/plain": [
       "(98, 18)"
      ]
     },
     "execution_count": 200,
     "metadata": {},
     "output_type": "execute_result"
    }
   ],
   "source": [
    "two_016_2.shape"
   ]
  },
  {
   "cell_type": "code",
   "execution_count": 203,
   "metadata": {},
   "outputs": [],
   "source": [
    "two_016_2.to_csv('C:/Users/samde/Desktop/Data Science/Datasets/IPL/IPL(2016-19).csv', index=False)"
   ]
  },
  {
   "cell_type": "markdown",
   "metadata": {},
   "source": [
    "SAME KEYS FOR 2017 and 2019"
   ]
  },
  {
   "cell_type": "code",
   "execution_count": 177,
   "metadata": {},
   "outputs": [],
   "source": [
    "two_017=pd.read_csv(\"C:/Users/samde/Desktop/Data Science/Datasets/IPL/IPL2017.csv\")"
   ]
  },
  {
   "cell_type": "code",
   "execution_count": 178,
   "metadata": {},
   "outputs": [
    {
     "data": {
      "text/html": [
       "<div>\n",
       "<style scoped>\n",
       "    .dataframe tbody tr th:only-of-type {\n",
       "        vertical-align: middle;\n",
       "    }\n",
       "\n",
       "    .dataframe tbody tr th {\n",
       "        vertical-align: top;\n",
       "    }\n",
       "\n",
       "    .dataframe thead th {\n",
       "        text-align: right;\n",
       "    }\n",
       "</style>\n",
       "<table border=\"1\" class=\"dataframe\">\n",
       "  <thead>\n",
       "    <tr style=\"text-align: right;\">\n",
       "      <th></th>\n",
       "      <th>Sl.no</th>\n",
       "      <th>Player's Name</th>\n",
       "      <th>Team</th>\n",
       "      <th>From</th>\n",
       "      <th>Run</th>\n",
       "      <th>Ball</th>\n",
       "      <th>Strike Rate</th>\n",
       "      <th>Four</th>\n",
       "      <th>Six</th>\n",
       "      <th>Highest Run Scored</th>\n",
       "      <th>Balls Bowled</th>\n",
       "      <th>Runs Conceded</th>\n",
       "      <th>Economy</th>\n",
       "      <th>Wickets</th>\n",
       "      <th>Ct_St</th>\n",
       "      <th>Run Outs</th>\n",
       "      <th>Matches Played</th>\n",
       "      <th>Age</th>\n",
       "      <th>Type</th>\n",
       "    </tr>\n",
       "  </thead>\n",
       "  <tbody>\n",
       "    <tr>\n",
       "      <th>0</th>\n",
       "      <td>1</td>\n",
       "      <td>Aaron Finch</td>\n",
       "      <td>GL</td>\n",
       "      <td>AUS</td>\n",
       "      <td>299</td>\n",
       "      <td>180</td>\n",
       "      <td>166.1</td>\n",
       "      <td>25</td>\n",
       "      <td>19.0</td>\n",
       "      <td>72</td>\n",
       "      <td>0</td>\n",
       "      <td>0</td>\n",
       "      <td>-</td>\n",
       "      <td>0</td>\n",
       "      <td>5</td>\n",
       "      <td>1.0</td>\n",
       "      <td>13</td>\n",
       "      <td>30.0</td>\n",
       "      <td>BAT</td>\n",
       "    </tr>\n",
       "    <tr>\n",
       "      <th>1</th>\n",
       "      <td>2</td>\n",
       "      <td>AB de Villiers</td>\n",
       "      <td>RCB</td>\n",
       "      <td>SA</td>\n",
       "      <td>216</td>\n",
       "      <td>163</td>\n",
       "      <td>132.5</td>\n",
       "      <td>12</td>\n",
       "      <td>16.0</td>\n",
       "      <td>89</td>\n",
       "      <td>0</td>\n",
       "      <td>0</td>\n",
       "      <td>-</td>\n",
       "      <td>0</td>\n",
       "      <td>6</td>\n",
       "      <td>0.0</td>\n",
       "      <td>9</td>\n",
       "      <td>33.0</td>\n",
       "      <td>BAT</td>\n",
       "    </tr>\n",
       "    <tr>\n",
       "      <th>2</th>\n",
       "      <td>3</td>\n",
       "      <td>Abhimanyu Mithun</td>\n",
       "      <td>SH</td>\n",
       "      <td>IND</td>\n",
       "      <td>0</td>\n",
       "      <td>0</td>\n",
       "      <td>-</td>\n",
       "      <td>0</td>\n",
       "      <td>0.0</td>\n",
       "      <td>0</td>\n",
       "      <td>0</td>\n",
       "      <td>0</td>\n",
       "      <td>-</td>\n",
       "      <td>0</td>\n",
       "      <td>0</td>\n",
       "      <td>0.0</td>\n",
       "      <td>0</td>\n",
       "      <td>27.0</td>\n",
       "      <td>Bowl</td>\n",
       "    </tr>\n",
       "    <tr>\n",
       "      <th>3</th>\n",
       "      <td>4</td>\n",
       "      <td>Adam Milne</td>\n",
       "      <td>RCB</td>\n",
       "      <td>NZ</td>\n",
       "      <td>7</td>\n",
       "      <td>12</td>\n",
       "      <td>58.3</td>\n",
       "      <td>0</td>\n",
       "      <td>0.0</td>\n",
       "      <td>5</td>\n",
       "      <td>84</td>\n",
       "      <td>134</td>\n",
       "      <td>9.6</td>\n",
       "      <td>3</td>\n",
       "      <td>4</td>\n",
       "      <td>0.0</td>\n",
       "      <td>4</td>\n",
       "      <td>25.0</td>\n",
       "      <td>Bowl</td>\n",
       "    </tr>\n",
       "    <tr>\n",
       "      <th>4</th>\n",
       "      <td>5</td>\n",
       "      <td>Adam Zampa</td>\n",
       "      <td>RPS</td>\n",
       "      <td>AUS</td>\n",
       "      <td>5</td>\n",
       "      <td>7</td>\n",
       "      <td>71.4</td>\n",
       "      <td>1</td>\n",
       "      <td>0.0</td>\n",
       "      <td>5</td>\n",
       "      <td>119</td>\n",
       "      <td>163</td>\n",
       "      <td>8.2</td>\n",
       "      <td>7</td>\n",
       "      <td>0</td>\n",
       "      <td>0.0</td>\n",
       "      <td>6</td>\n",
       "      <td>25.0</td>\n",
       "      <td>Bowl</td>\n",
       "    </tr>\n",
       "  </tbody>\n",
       "</table>\n",
       "</div>"
      ],
      "text/plain": [
       "   Sl.no     Player's Name Team From  Run  Ball Strike Rate  Four   Six  \\\n",
       "0      1       Aaron Finch   GL  AUS  299   180       166.1    25  19.0   \n",
       "1      2    AB de Villiers  RCB   SA  216   163       132.5    12  16.0   \n",
       "2      3  Abhimanyu Mithun   SH  IND    0     0           -     0   0.0   \n",
       "3      4        Adam Milne  RCB   NZ    7    12        58.3     0   0.0   \n",
       "4      5        Adam Zampa  RPS  AUS    5     7        71.4     1   0.0   \n",
       "\n",
       "   Highest Run Scored  Balls Bowled  Runs Conceded Economy  Wickets  Ct_St  \\\n",
       "0                  72             0              0       -        0      5   \n",
       "1                  89             0              0       -        0      6   \n",
       "2                   0             0              0       -        0      0   \n",
       "3                   5            84            134     9.6        3      4   \n",
       "4                   5           119            163     8.2        7      0   \n",
       "\n",
       "   Run Outs  Matches Played   Age  Type  \n",
       "0       1.0              13  30.0   BAT  \n",
       "1       0.0               9  33.0   BAT  \n",
       "2       0.0               0  27.0  Bowl  \n",
       "3       0.0               4  25.0  Bowl  \n",
       "4       0.0               6  25.0  Bowl  "
      ]
     },
     "execution_count": 178,
     "metadata": {},
     "output_type": "execute_result"
    }
   ],
   "source": [
    "two_017.head()"
   ]
  },
  {
   "cell_type": "code",
   "execution_count": 179,
   "metadata": {},
   "outputs": [],
   "source": [
    "two_017[\"Player's Name\"]=two_017[\"Player's Name\"].str.lstrip()\n",
    "two_017[\"Player's Name\"]=two_017[\"Player's Name\"].str.rstrip()"
   ]
  },
  {
   "cell_type": "code",
   "execution_count": 180,
   "metadata": {},
   "outputs": [],
   "source": [
    "del old_key\n",
    "old_key=pd.DataFrame()"
   ]
  },
  {
   "cell_type": "code",
   "execution_count": 181,
   "metadata": {},
   "outputs": [],
   "source": [
    "old_key['Player']=two_017[\"Player's Name\"]"
   ]
  },
  {
   "cell_type": "code",
   "execution_count": 182,
   "metadata": {},
   "outputs": [],
   "source": [
    "same_key8=pd.merge(new_key,old_key, on=['Player'], how='inner')"
   ]
  },
  {
   "cell_type": "code",
   "execution_count": 183,
   "metadata": {},
   "outputs": [
    {
     "data": {
      "text/plain": [
       "(116, 1)"
      ]
     },
     "execution_count": 183,
     "metadata": {},
     "output_type": "execute_result"
    }
   ],
   "source": [
    "same_key8.shape"
   ]
  },
  {
   "cell_type": "code",
   "execution_count": 185,
   "metadata": {},
   "outputs": [],
   "source": [
    "same_key8[\"Player's Name\"]=same_key8['Player']"
   ]
  },
  {
   "cell_type": "code",
   "execution_count": 186,
   "metadata": {},
   "outputs": [],
   "source": [
    "same_key8.drop(['Player'],axis=1,inplace=True)"
   ]
  },
  {
   "cell_type": "code",
   "execution_count": 188,
   "metadata": {},
   "outputs": [],
   "source": [
    "two_017_2=pd.merge(same_key8,two_017,how='left',on=[\"Player's Name\"])"
   ]
  },
  {
   "cell_type": "code",
   "execution_count": 189,
   "metadata": {},
   "outputs": [
    {
     "data": {
      "text/plain": [
       "(116, 19)"
      ]
     },
     "execution_count": 189,
     "metadata": {},
     "output_type": "execute_result"
    }
   ],
   "source": [
    "two_017_2.shape"
   ]
  },
  {
   "cell_type": "code",
   "execution_count": 190,
   "metadata": {},
   "outputs": [],
   "source": [
    "two_017_2.to_csv('C:/Users/samde/Desktop/Data Science/Datasets/IPL/IPL(2017-19).csv', index=False)"
   ]
  },
  {
   "cell_type": "markdown",
   "metadata": {},
   "source": [
    "SAME KEYS FOR 2018 and 2019"
   ]
  },
  {
   "cell_type": "code",
   "execution_count": 143,
   "metadata": {},
   "outputs": [],
   "source": [
    "two_018=pd.read_csv(\"C:/Users/samde/Desktop/Data Science/Datasets/IPL/IPL2018.csv\")"
   ]
  },
  {
   "cell_type": "code",
   "execution_count": 144,
   "metadata": {},
   "outputs": [
    {
     "data": {
      "text/plain": [
       "(197, 19)"
      ]
     },
     "execution_count": 144,
     "metadata": {},
     "output_type": "execute_result"
    }
   ],
   "source": [
    "two_018.shape"
   ]
  },
  {
   "cell_type": "code",
   "execution_count": 145,
   "metadata": {},
   "outputs": [
    {
     "data": {
      "text/html": [
       "<div>\n",
       "<style scoped>\n",
       "    .dataframe tbody tr th:only-of-type {\n",
       "        vertical-align: middle;\n",
       "    }\n",
       "\n",
       "    .dataframe tbody tr th {\n",
       "        vertical-align: top;\n",
       "    }\n",
       "\n",
       "    .dataframe thead th {\n",
       "        text-align: right;\n",
       "    }\n",
       "</style>\n",
       "<table border=\"1\" class=\"dataframe\">\n",
       "  <thead>\n",
       "    <tr style=\"text-align: right;\">\n",
       "      <th></th>\n",
       "      <th>Sl.No</th>\n",
       "      <th>Player's Name</th>\n",
       "      <th>Team</th>\n",
       "      <th>From</th>\n",
       "      <th>Run</th>\n",
       "      <th>Ball</th>\n",
       "      <th>Strike Rate</th>\n",
       "      <th>4's</th>\n",
       "      <th>6's</th>\n",
       "      <th>Highest Run Scored</th>\n",
       "      <th>Balls  Bowled</th>\n",
       "      <th>Runs Scored</th>\n",
       "      <th>Economy</th>\n",
       "      <th>Wickets</th>\n",
       "      <th>Ct_St</th>\n",
       "      <th>Run Outs</th>\n",
       "      <th>Matches Played</th>\n",
       "      <th>Age</th>\n",
       "      <th>Type</th>\n",
       "    </tr>\n",
       "  </thead>\n",
       "  <tbody>\n",
       "    <tr>\n",
       "      <th>186</th>\n",
       "      <td>187</td>\n",
       "      <td>Trent Boult</td>\n",
       "      <td>DD</td>\n",
       "      <td>NZ</td>\n",
       "      <td>0</td>\n",
       "      <td>2</td>\n",
       "      <td>0</td>\n",
       "      <td>0</td>\n",
       "      <td>0</td>\n",
       "      <td>0</td>\n",
       "      <td>316</td>\n",
       "      <td>466</td>\n",
       "      <td>8.8</td>\n",
       "      <td>18</td>\n",
       "      <td>9</td>\n",
       "      <td>1.0</td>\n",
       "      <td>14</td>\n",
       "      <td>29.0</td>\n",
       "      <td>Bowl</td>\n",
       "    </tr>\n",
       "  </tbody>\n",
       "</table>\n",
       "</div>"
      ],
      "text/plain": [
       "     Sl.No Player's Name Team From  Run  Ball Strike Rate  4's  6's  \\\n",
       "186    187   Trent Boult   DD   NZ    0     2           0    0    0   \n",
       "\n",
       "     Highest Run Scored  Balls  Bowled  Runs Scored Economy  Wickets  Ct_St  \\\n",
       "186                   0            316          466     8.8       18      9   \n",
       "\n",
       "     Run Outs  Matches Played   Age  Type  \n",
       "186       1.0              14  29.0  Bowl  "
      ]
     },
     "execution_count": 145,
     "metadata": {},
     "output_type": "execute_result"
    }
   ],
   "source": [
    "two_018[two_018['Player\\'s Name']=='Trent Boult']"
   ]
  },
  {
   "cell_type": "code",
   "execution_count": 146,
   "metadata": {},
   "outputs": [],
   "source": [
    "two_018[\"Player's Name\"]=two_018[\"Player's Name\"].str.lstrip()\n",
    "two_018[\"Player's Name\"]=two_018[\"Player's Name\"].str.rstrip()"
   ]
  },
  {
   "cell_type": "code",
   "execution_count": 147,
   "metadata": {},
   "outputs": [],
   "source": [
    "del old_key\n",
    "old_key=pd.DataFrame()"
   ]
  },
  {
   "cell_type": "code",
   "execution_count": 148,
   "metadata": {},
   "outputs": [],
   "source": [
    "old_key['Player']=two_018[\"Player's Name\"]"
   ]
  },
  {
   "cell_type": "code",
   "execution_count": 149,
   "metadata": {},
   "outputs": [],
   "source": [
    "same_key9=pd.merge(new_key,old_key, on=['Player'], how='inner')"
   ]
  },
  {
   "cell_type": "code",
   "execution_count": 150,
   "metadata": {},
   "outputs": [
    {
     "data": {
      "text/plain": [
       "Player    130\n",
       "dtype: int64"
      ]
     },
     "execution_count": 150,
     "metadata": {},
     "output_type": "execute_result"
    }
   ],
   "source": [
    "same_key9.nunique()"
   ]
  },
  {
   "cell_type": "code",
   "execution_count": 151,
   "metadata": {},
   "outputs": [],
   "source": [
    "same_key9[\"Player's Name\"]=same_key9['Player']"
   ]
  },
  {
   "cell_type": "code",
   "execution_count": 152,
   "metadata": {},
   "outputs": [],
   "source": [
    "same_key9.drop(['Player'],axis=1,inplace=True)"
   ]
  },
  {
   "cell_type": "code",
   "execution_count": 153,
   "metadata": {},
   "outputs": [],
   "source": [
    "two_018_2=pd.merge(same_key9,two_018,how='left',on=[\"Player's Name\"])"
   ]
  },
  {
   "cell_type": "code",
   "execution_count": 154,
   "metadata": {},
   "outputs": [],
   "source": [
    "two_018_2.to_csv('C:/Users/samde/Desktop/Data Science/Datasets/IPL/IPL(2018-19).csv', index=False)"
   ]
  },
  {
   "cell_type": "code",
   "execution_count": 155,
   "metadata": {},
   "outputs": [
    {
     "data": {
      "text/plain": [
       "(130, 19)"
      ]
     },
     "execution_count": 155,
     "metadata": {},
     "output_type": "execute_result"
    }
   ],
   "source": [
    "two_018_2.shape"
   ]
  },
  {
   "cell_type": "code",
   "execution_count": null,
   "metadata": {},
   "outputs": [],
   "source": []
  }
 ],
 "metadata": {
  "kernelspec": {
   "display_name": "Python 3",
   "language": "python",
   "name": "python3"
  },
  "language_info": {
   "codemirror_mode": {
    "name": "ipython",
    "version": 3
   },
   "file_extension": ".py",
   "mimetype": "text/x-python",
   "name": "python",
   "nbconvert_exporter": "python",
   "pygments_lexer": "ipython3",
   "version": "3.6.6"
  },
  "varInspector": {
   "cols": {
    "lenName": 16,
    "lenType": 16,
    "lenVar": 40
   },
   "kernels_config": {
    "python": {
     "delete_cmd_postfix": "",
     "delete_cmd_prefix": "del ",
     "library": "var_list.py",
     "varRefreshCmd": "print(var_dic_list())"
    },
    "r": {
     "delete_cmd_postfix": ") ",
     "delete_cmd_prefix": "rm(",
     "library": "var_list.r",
     "varRefreshCmd": "cat(var_dic_list()) "
    }
   },
   "types_to_exclude": [
    "module",
    "function",
    "builtin_function_or_method",
    "instance",
    "_Feature"
   ],
   "window_display": false
  }
 },
 "nbformat": 4,
 "nbformat_minor": 2
}
